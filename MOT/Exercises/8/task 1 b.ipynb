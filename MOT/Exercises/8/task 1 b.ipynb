{
 "cells": [
  {
   "cell_type": "code",
   "execution_count": 36,
   "metadata": {},
   "outputs": [
    {
     "data": {
      "text/plain": [
       "839402977.53125"
      ]
     },
     "execution_count": 36,
     "metadata": {},
     "output_type": "execute_result"
    }
   ],
   "source": [
    "import numpy as np\n",
    "import pandas as pd\n",
    "from matplotlib import pyplot as plt\n",
    "from mpl_toolkits.mplot3d import Axes3D\n",
    "from mpl_toolkits import mplot3d\n",
    "from matplotlib import animation\n",
    "from IPython.display import HTML, Image\n",
    "\n",
    "def costfunction(X,y,theta):\n",
    "    #Initialisation of useful values \n",
    "    return np.sum(np.square(X@theta.T - y))\n",
    "\n",
    "def coordinate_descent(theta,X,y,alpha = .01, num_iters=2):\n",
    "    for i in range(num_iters):\n",
    "        \n",
    "        for j in range(X.shape[1]):\n",
    "            #Coordinate descent in vectorized form\n",
    "            h = X @ theta.T\n",
    "            gradient =  (X[:,j] @ (h-y))\n",
    "            theta[j] = theta[j] - alpha * gradient\n",
    "\n",
    "    return theta\n",
    "\n",
    "\n",
    "\n",
    "x = np.array(\n",
    "    [\n",
    "        [1, 1.5, 2],\n",
    "        [1, 3, 2.5],\n",
    "        [1, 4.5, 3]\n",
    "    ]\n",
    ")\n",
    "y = np.array([10, 15.5, 21])\n",
    "\n",
    "theta0 = np.array([1, 1, 1])\n",
    "\n",
    "betha0 = x[:,:1].T@(y-x[:,1:]@theta0[1:])\n",
    "\n",
    "betha1 = x[:,1].T@(y-x[:,(0,2)]@theta0[[0,2]])\n",
    "\n",
    "betha2 = x[:,2].T@(y-x[:,(0,1)]@theta0[[0,1]])\n",
    "\n",
    "theta1 = np.vstack((betha0, betha1, betha2))\n",
    "\n",
    "theta0 = theta1.reshape(3)\n",
    "\n",
    "loss = (x[0]@theta0 - y[0])**2 + (x[1]@theta0 - y[1])**2 + (x[2]@theta0 - y[2])**2\n",
    "\n",
    "betha0 = x[:,:1].T@(y-x[:,1:]@theta0[1:])\n",
    "\n",
    "betha1 = x[:,1].T@(y-x[:,(0,2)]@theta0[[0,2]])\n",
    "\n",
    "betha2 = x[:,2].T@(y-x[:,(0,1)]@theta0[[0,1]])\n",
    "\n",
    "theta2 = np.vstack((betha0, betha1, betha2))\n",
    "\n",
    "theta0 = theta2.reshape(3)\n",
    "\n",
    "(x[0]@theta0 - y[0])**2 + (x[1]@theta0 - y[1])**2 + (x[2]@theta0 - y[2])**2\n"
   ]
  },
  {
   "cell_type": "code",
   "execution_count": null,
   "metadata": {},
   "outputs": [],
   "source": []
  }
 ],
 "metadata": {
  "kernelspec": {
   "display_name": "ml_lab_venv",
   "language": "python",
   "name": "python3"
  },
  "language_info": {
   "codemirror_mode": {
    "name": "ipython",
    "version": 3
   },
   "file_extension": ".py",
   "mimetype": "text/x-python",
   "name": "python",
   "nbconvert_exporter": "python",
   "pygments_lexer": "ipython3",
   "version": "3.11.3"
  }
 },
 "nbformat": 4,
 "nbformat_minor": 2
}
