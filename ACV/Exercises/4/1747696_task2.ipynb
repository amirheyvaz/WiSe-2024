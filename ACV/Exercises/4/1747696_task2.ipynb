{
 "cells": [
  {
   "cell_type": "markdown",
   "metadata": {},
   "source": [
    "<h2>Task 2 and 3</h2>\n",
    "<p>\n",
    "    The thing is, I solved the task 2 by implementing the general case. So, basically the answer to both questions are given below:\n",
    "</p>"
   ]
  },
  {
   "cell_type": "code",
   "execution_count": 16,
   "metadata": {},
   "outputs": [],
   "source": [
    "import numpy as np\n",
    "\n",
    "# derived from previous part\n",
    "# used for calculating Y \n",
    "def conv2d(X,kernel):\n",
    "    m, l, d = X.shape\n",
    "    k, k, d = kernel.shape\n",
    "    output_size_m = m - k + 1\n",
    "    output_size_l = l - k + 1\n",
    "    output_size_d = d - d + 1\n",
    "    output = np.zeros((output_size_m, output_size_l, output_size_d))\n",
    "    for i in range(output_size_m):\n",
    "        for j in range(output_size_l):\n",
    "            for r in range(output_size_d):\n",
    "                region = X[i:i+k, j:j+k, r:r+d]\n",
    "                output[i, j] = np.sum(region * kernel)\n",
    "    return output"
   ]
  },
  {
   "cell_type": "code",
   "execution_count": 29,
   "metadata": {},
   "outputs": [
    {
     "name": "stdout",
     "output_type": "stream",
     "text": [
      "A is : [[11. 27. 12. 28. 15. 31. 16. 32.]\n",
      " [12. 28. 13. 29. 16. 32. 17. 33.]\n",
      " [13. 29. 14. 30. 17. 33. 18. 34.]\n",
      " [15. 31. 16. 32. 19. 35. 20. 36.]\n",
      " [16. 32. 17. 33. 20. 36. 21. 37.]\n",
      " [17. 33. 18. 34. 21. 37. 22. 38.]\n",
      " [19. 35. 20. 36. 23. 39. 24. 40.]\n",
      " [20. 36. 21. 37. 24. 40. 25. 41.]\n",
      " [21. 37. 22. 38. 25. 41. 26. 42.]]\n",
      "b is : [1. 5. 2. 6. 3. 7. 4. 8.]\n",
      "Y is : [[[ 920.]\n",
      "  [ 956.]\n",
      "  [ 992.]]\n",
      "\n",
      " [[1064.]\n",
      "  [1100.]\n",
      "  [1136.]]\n",
      "\n",
      " [[1208.]\n",
      "  [1244.]\n",
      "  [1280.]]]\n",
      "Y_prime is : [[[ 920.]\n",
      "  [ 956.]\n",
      "  [ 992.]]\n",
      "\n",
      " [[1064.]\n",
      "  [1100.]\n",
      "  [1136.]]\n",
      "\n",
      " [[1208.]\n",
      "  [1244.]\n",
      "  [1280.]]]\n",
      "These were the same\n",
      "The general algorithm is also implemented by the function \"equivalent_matrix_vector_conv\"\n"
     ]
    }
   ],
   "source": [
    "m = 4\n",
    "l = 4\n",
    "d = 2\n",
    "k = 2\n",
    "# creating the matrixes and initializing them\n",
    "X = np.zeros((m, l, d))\n",
    "K = np.zeros((k,k,d))\n",
    "counter = 1\n",
    "for r in range(d):\n",
    "    for i in range(k):\n",
    "        for j in range(k):\n",
    "            K[i,j,r] = counter\n",
    "            counter+=1\n",
    "counter+=2\n",
    "for r in range(d):\n",
    "    for i in range(m):\n",
    "        for j in range(l):\n",
    "            X[i,j,r] = counter\n",
    "            counter+=1\n",
    "Y = conv2d(X, K)\n",
    "\n",
    "# this is the function for the general case - which also does the job for task 2\n",
    "def equivalent_matrix_vector_conv(X,kernel):\n",
    "    m, l, d = X.shape\n",
    "    k, k, d = kernel.shape\n",
    "    output_size_m = m - k + 1\n",
    "    output_size_l = l - k + 1\n",
    "    output_size_d = d - d + 1\n",
    "    # creating the vector b\n",
    "    b = kernel.reshape((-1,))\n",
    "    A = np.zeros((\n",
    "        output_size_m * output_size_l, b.shape[0]\n",
    "    ))\n",
    "    index = 0\n",
    "    # creating the matrix A\n",
    "    for i in range(output_size_m):\n",
    "        for j in range(output_size_l):\n",
    "            for r in range(output_size_d):\n",
    "                region = X[i:i+k, j:j+k, r:r+d].reshape((-1,))\n",
    "                A[index] = region\n",
    "                index+=1\n",
    "    # the linear multiplication \n",
    "    output = A@b\n",
    "    print(f'A is : {A}')\n",
    "    print(f'b is : {b}')\n",
    "    return output.reshape((output_size_m, output_size_l, output_size_d))\n",
    "\n",
    "Y_prime = equivalent_matrix_vector_conv(X,K)\n",
    "\n",
    "print(f'Y is : {Y}')\n",
    "print(f'Y_prime is : {Y_prime}')\n",
    "\n",
    "print(f'These were the same\\nThe general algorithm is also implemented by the function \"equivalent_matrix_vector_conv\"')\n"
   ]
  },
  {
   "cell_type": "markdown",
   "metadata": {},
   "source": [
    "the matrix A has the dimentions: (m - k + 1)\\*(l - k + 1) times (k\\*k\\*d) </br>\n",
    "the vecor b has the dimentions: k\\*k\\*d"
   ]
  },
  {
   "cell_type": "code",
   "execution_count": null,
   "metadata": {},
   "outputs": [],
   "source": []
  }
 ],
 "metadata": {
  "kernelspec": {
   "display_name": "ml_lab_venv",
   "language": "python",
   "name": "python3"
  },
  "language_info": {
   "codemirror_mode": {
    "name": "ipython",
    "version": 3
   },
   "file_extension": ".py",
   "mimetype": "text/x-python",
   "name": "python",
   "nbconvert_exporter": "python",
   "pygments_lexer": "ipython3",
   "version": "3.11.3"
  }
 },
 "nbformat": 4,
 "nbformat_minor": 2
}
