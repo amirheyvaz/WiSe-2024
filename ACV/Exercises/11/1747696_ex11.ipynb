{
 "cells": [
  {
   "cell_type": "markdown",
   "metadata": {},
   "source": [
    "Task 1"
   ]
  },
  {
   "cell_type": "code",
   "execution_count": 1,
   "metadata": {},
   "outputs": [],
   "source": [
    "import numpy as np"
   ]
  },
  {
   "cell_type": "code",
   "execution_count": 19,
   "metadata": {},
   "outputs": [
    {
     "name": "stdout",
     "output_type": "stream",
     "text": [
      "A [1.67922990e-02 9.27371713e-01 2.32892836e-06]\n",
      "B [0.99949153 0.99999998 0.99411765]\n",
      "C [4.05524069e-01 1.00000000e+00 3.22201627e-06]\n",
      "D [9.99963654e-01 1.96340601e-08 9.99999990e-01]\n",
      "E [0.69425757 0.01233382 0.09448181]\n"
     ]
    }
   ],
   "source": [
    "h_0 = {\n",
    "    'A': np.array([2, 1], dtype='float'),\n",
    "    'B': np.array([0.03, 2], dtype='float'),\n",
    "    'C': np.array([4, 1.75], dtype='float'),\n",
    "    'D': np.array([-6.78, 1.02], dtype='float'),\n",
    "    'E': np.array([-1, 1], dtype='float')\n",
    "}\n",
    "\n",
    "h_1 = {\n",
    "}\n",
    "\n",
    "w_0 = np.array([[1, 2.01], [2.3, 3.4], [1.7, -0.91]], dtype='float')\n",
    "b_0 = np.array([[-1.13, 0.05], [3.46, 1.14], [-2.72, 0.002]], dtype='float')\n",
    "\n",
    "def sigmoid(z):\n",
    "    return np.exp(z) / (1 + np.exp(z))\n",
    "\n",
    "def calculate_embedings(W, B, node, neighbours):\n",
    "    ts = ()\n",
    "    for x in neighbours:\n",
    "        ts += (h_0[x],)\n",
    "    sum = np.mean(np.vstack(ts), axis=0)\n",
    "    h_1[node] = sigmoid(W@sum + B@h_0[node])\n",
    "\n",
    "calculate_embedings(w_0, b_0, 'A', ['D', 'E'])\n",
    "calculate_embedings(w_0, b_0, 'B', ['C'])\n",
    "calculate_embedings(w_0, b_0, 'C', ['B'])\n",
    "calculate_embedings(w_0, b_0, 'D', ['E', 'A'])\n",
    "calculate_embedings(w_0, b_0, 'E', ['D', 'A'])\n",
    "\n",
    "for k,v in h_1.items():\n",
    "    print(k, v)"
   ]
  },
  {
   "cell_type": "markdown",
   "metadata": {},
   "source": [
    "Task 2"
   ]
  },
  {
   "cell_type": "code",
   "execution_count": 33,
   "metadata": {},
   "outputs": [
    {
     "name": "stdout",
     "output_type": "stream",
     "text": [
      "layer 1\n",
      "A [2.65196213e-03 4.89857317e-02 1.24740555e-09]\n",
      "B [0.99949153 0.99999998 0.99411765]\n",
      "C [4.05524069e-01 1.00000000e+00 3.22201627e-06]\n",
      "D [9.99997046e-01 1.85801497e-06 9.99999989e-01]\n",
      "E [0.61306162 0.00158434 0.00071522]\n",
      "layer 2\n",
      "A [0.8271639  0.26963464 0.34044109]\n",
      "B [0.60001416 0.95228443 0.39857572]\n",
      "C [0.73095859 0.60142583 0.2678868 ]\n",
      "D [0.66067009 0.88593265 0.59507842]\n",
      "E [0.74078493 0.41648115 0.49912047]\n",
      "layer 3\n",
      "A [0.98491315 0.97794241 0.77940626]\n",
      "B [0.94235324 0.98145922 0.82532342]\n",
      "C [0.94005903 0.97279429 0.75269   ]\n",
      "D [0.98577182 0.98865494 0.89676798]\n",
      "E [0.98829102 0.98516079 0.79949559]\n",
      "layer 4\n",
      "A [0.99999999 1.         0.87880212]\n",
      "B [0.99999435 0.99999988 0.99871628]\n",
      "C [0.99999032 0.99999977 0.99858664]\n",
      "D [1.         1.         0.88937937]\n",
      "E [0.99999999 1.         0.88826336]\n",
      "layer 5\n",
      "A [1.00000000e+00 1.00000000e+00 3.86289486e-26]\n",
      "B [1. 1. 1.]\n",
      "C [1. 1. 1.]\n",
      "D [1.0000000e+00 1.0000000e+00 2.9653241e-26]\n",
      "E [1.00000000e+00 1.00000000e+00 3.04922104e-26]\n"
     ]
    },
    {
     "name": "stderr",
     "output_type": "stream",
     "text": [
      "C:\\Users\\Amir Hossein\\AppData\\Local\\Temp\\ipykernel_9172\\3086761627.py:20: RuntimeWarning: overflow encountered in exp\n",
      "  return np.exp(z) / (1 + np.exp(z))\n",
      "C:\\Users\\Amir Hossein\\AppData\\Local\\Temp\\ipykernel_9172\\3086761627.py:20: RuntimeWarning: invalid value encountered in divide\n",
      "  return np.exp(z) / (1 + np.exp(z))\n"
     ]
    }
   ],
   "source": [
    "Hs = [\n",
    "    {\n",
    "        'A': np.array([2, 1], dtype='float'),\n",
    "        'B': np.array([0.03, 2], dtype='float'),\n",
    "        'C': np.array([4, 1.75], dtype='float'),\n",
    "        'D': np.array([-6.78, 1.02], dtype='float'),\n",
    "        'E': np.array([-1, 1], dtype='float')\n",
    "    }\n",
    "]\n",
    "\n",
    "Ws = [\n",
    "    np.array([[1, 2.01], [2.3, 3.4], [1.7, -0.91]], dtype='float')\n",
    "]\n",
    "\n",
    "Bs = [\n",
    "    np.array([[-1.13, 0.05], [3.46, 1.14], [-2.72, 0.002]], dtype='float')\n",
    "]\n",
    "\n",
    "def sigmoid(z):\n",
    "    return np.exp(z) / (1 + np.exp(z))\n",
    "\n",
    "def calculate_embedings(W, B, node, neighbours, h):\n",
    "    ts = ()\n",
    "    for x in neighbours:\n",
    "        ts += (h[x],)\n",
    "    sum = np.sum(np.vstack(ts), axis=0)\n",
    "    return sigmoid(W@sum + B@h[node])\n",
    "\n",
    "neighbourhood_info = {\n",
    "    'A': ['D', 'E'],\n",
    "    'B': ['C'],\n",
    "    'C': ['B'],\n",
    "    'D': ['E', 'A'],\n",
    "    'E': ['D', 'A']\n",
    "}\n",
    "\n",
    "for l in range(0, 6):\n",
    "    if l == 1:\n",
    "        Ws.append(np.array([[1, 1, 0], [0, 1, -1], [-1, 0, 1]], dtype='float'))\n",
    "        Bs.append(np.array([[0, -1, 0], [1, 0, 1], [0, -1, 1]], dtype='float'))\n",
    "    elif l>1:\n",
    "        Ws.append(Ws[l-1]@Ws[l-1].T) \n",
    "        Bs.append(Bs[l-1]@Bs[l-1].T) \n",
    "    layer = {}\n",
    "    for node in neighbourhood_info:\n",
    "        layer[node] = calculate_embedings(Ws[l], Bs[l], node, neighbourhood_info[node], Hs[l])\n",
    "    Hs.append(layer)\n",
    "\n",
    "for l in range(1, 6):\n",
    "    print('layer', l)\n",
    "    for k,v in Hs[l].items():\n",
    "        print(k, v)"
   ]
  },
  {
   "cell_type": "code",
   "execution_count": null,
   "metadata": {},
   "outputs": [],
   "source": []
  }
 ],
 "metadata": {
  "kernelspec": {
   "display_name": "ml_lab_venv",
   "language": "python",
   "name": "python3"
  },
  "language_info": {
   "codemirror_mode": {
    "name": "ipython",
    "version": 3
   },
   "file_extension": ".py",
   "mimetype": "text/x-python",
   "name": "python",
   "nbconvert_exporter": "python",
   "pygments_lexer": "ipython3",
   "version": "3.11.3"
  }
 },
 "nbformat": 4,
 "nbformat_minor": 2
}
