{
 "cells": [
  {
   "cell_type": "markdown",
   "metadata": {},
   "source": [
    "# Programming Machine Learning Lab\n",
    "## Exercise 01"
   ]
  },
  {
   "cell_type": "markdown",
   "metadata": {},
   "source": [
    "### INSTRUCTIONS\n",
    "\n",
    "1. You need to submit the pdf as well as the filled notebook file.\n",
    "2. Name your submissions by prefixing your matriculation number to the filename. Example, if your MR is 12345 then rename the files as **\"12345_Exercise_1.xxx\"**\n",
    "3. Complete all your tasks and then do a clean run before generating the final pdf. (_Clear All Ouputs_ and _Run All_ commands in Jupyter notebook)"
   ]
  },
  {
   "cell_type": "markdown",
   "metadata": {},
   "source": [
    "#### Exercise 1.1"
   ]
  },
  {
   "cell_type": "markdown",
   "metadata": {},
   "source": [
    "\n",
    "In this part of the assignment, you have to write a word count program. Your program should read the provided text document on learnweb named __random text.txt__ and then output the following stats:\n",
    "\n",
    "1. The number of unique non-stop words. (Hint: you can use ”nltk” library to get a list of English language stop words.)\n",
    "1. The top 5 most frequent non-stop words (along with the number of occurances).\n",
    "1. Compute the letter frequency (number of times each letter is present) from the whole document and plot it.\n",
    "\n"
   ]
  },
  {
   "cell_type": "code",
   "execution_count": 17,
   "metadata": {},
   "outputs": [
    {
     "name": "stdout",
     "output_type": "stream",
     "text": [
      "The number of unique non-stop words:\t393\n",
      "        word  count\n",
      "0      Harry     30\n",
      "1  Voldemort     13\n",
      "2       also      8\n",
      "3         He      8\n",
      "4       Dark      7\n"
     ]
    },
    {
     "data": {
      "image/png": "[encoded data removed]",
      "text/plain": [
       "<Figure size 640x480 with 1 Axes>"
      ]
     },
     "metadata": {},
     "output_type": "display_data"
    }
   ],
   "source": [
    "### Write your code here\n",
    "import nltk\n",
    "from nltk.corpus import stopwords\n",
    "import string \n",
    "import pandas as pd\n",
    "import matplotlib.pyplot as plt\n",
    "\n",
    "# run this to download the neccessary packages for NLTK\n",
    "# nltk.download()\n",
    "# storing punctuations and stop words\n",
    "stops = set(stopwords.words('english'))\n",
    "puncs = string.punctuation \n",
    "\n",
    "# variable initialization\n",
    "word_dict = {}\n",
    "letter_dict = {}\n",
    "\n",
    "def count(file):\n",
    "    for line in file:\n",
    "        # removing empty spaces left and right\n",
    "        line = line.strip()\n",
    "        # removing punctuation\n",
    "        for p in puncs:\n",
    "            if p in line:\n",
    "                line = line.replace(p, \" \")\n",
    "        line = line.replace(\"  \", \" \")\n",
    "        # computing leeter frequency\n",
    "        for letter in line:\n",
    "            if len(letter.strip()) > 0:\n",
    "                if letter in letter_dict:\n",
    "                    letter_dict[letter] += 1\n",
    "                else:\n",
    "                    letter_dict[letter] = 1\n",
    "        # spliting the words\n",
    "        words = line.split(\" \")\n",
    "        # excluding stop words\n",
    "        words = [word.strip() for word in words if word not in stops and len(word.strip()) > 0]\n",
    "        # updating our dictionary\n",
    "        for word in words:\n",
    "            if word in word_dict:\n",
    "                word_dict[word] += 1\n",
    "            else:\n",
    "                word_dict[word] = 1\n",
    "\n",
    "with open('random_text.txt', 'r') as file:\n",
    "    count(file)\n",
    "    df = pd.DataFrame({'word': word_dict.keys(), 'count': word_dict.values()}) \n",
    "    df = df.sort_values(by='count', ascending=False, ignore_index=True)\n",
    "    letter_df = pd.DataFrame({'letter': letter_dict.keys(), 'count': letter_dict.values()}) \n",
    "    letter_df = letter_df.sort_values(by='letter', ascending=True, ignore_index=True)\n",
    "\n",
    "print(f'The number of unique non-stop words:\\t{df.shape[0]}')\n",
    "\n",
    "print(df.head())\n",
    "\n",
    "fig, ax = plt.subplots()\n",
    "ax.bar(letter_df['letter'], letter_df['count'])\n",
    "plt.show()"
   ]
  },
  {
   "cell_type": "markdown",
   "metadata": {},
   "source": [
    "#### Exercise 1.2"
   ]
  },
  {
   "cell_type": "markdown",
   "metadata": {},
   "source": [
    "\n",
    "In a simple regression problem we fit a straight line $y = mx+b$ to a given data. However, not all problems in nature are by default linear. Given the data below see if a straight line is a good fit.\n",
    "\n",
    "\n",
    "| x | 0.0 | 0.5  | 1.0 | 1.5  | 2.0  | 2.5  | 3.0  | 3.5  | 4.0  | 4.5  | 5.0  |\n",
    "|---|-----|------|-----|------|------|------|------|------|------|------|------|\n",
    "| y | 6.0 | 4.83 | 3.7 | 3.15 | 2.41 | 1.83 | 1.49 | 1.21 | 0.96 | 0.73 | 0.64 |\n",
    "\n",
    "In cases where the data does not follow a linear trend, one can transform the variables and then apply the  linear regression technique to better fit the data. \n",
    "\n",
    "Generate a 2 x 2 subplot with the following techniques, plot, semilogx, semilogy, loglog. Read about these plotting techniques. These plots will let you understand which of the below 5 choices will be the best fit. Plot the data points and the best fit curve in a well-formatted plot with axis labels, title and the legend. From the given choices, try which function would be a better representation for the data.\n",
    "\n",
    "1.  Linear : $y=mx+b$\n",
    "1.  Power : $y = bx^m$\n",
    "1.  Exponential : $y = be^{mx}$\n",
    "1.  Logarithmic : $y = m \\times \\text{log}x + b$\n",
    "1.  Reciprocal : $y = \\frac{1}{mx+b}$\n",
    "\n",
    "**(Hint: you can use the polyfit function from numpy for this part.)**"
   ]
  },
  {
   "cell_type": "code",
   "execution_count": 20,
   "metadata": {},
   "outputs": [
    {
     "data": {
      "image/png": "[encoded data removed]",
      "text/plain": [
       "<Figure size 640x480 with 4 Axes>"
      ]
     },
     "metadata": {},
     "output_type": "display_data"
    }
   ],
   "source": [
    "#### Write your code here\n",
    "import matplotlib.pyplot as plt\n",
    "import numpy as np\n",
    "\n",
    "x = np.array([ 0.0 , 0.5  , 1.0 , 1.5 , 2.0 , 2.5 , 3.0  , 3.5 , 4.0 , 4.5 , 5.0  ])\n",
    "y = np.array([6.0, 4.83 , 3.7 , 3.15, 2.41 , 1.83 , 1.49 , 1.21 ,0.96 , 0.73 , 0.64])\n",
    "fig, ax = plt.subplots(nrows=2, ncols=2, layout='constrained')\n",
    "# plot\n",
    "ax[0][0].set_title(\"plot\")\n",
    "# semilogx\n",
    "ax[0][1].set_title(\"semilogx\")\n",
    "# semilogy\n",
    "ax[1][0].set_title(\"semilogy\")\n",
    "# loglog\n",
    "ax[1][1].set_title(\"loglog\")\n",
    "plt.title(\"Linear\")\n",
    "plt.show()"
   ]
  },
  {
   "cell_type": "markdown",
   "metadata": {},
   "source": [
    "#### Exercise 1.3\n"
   ]
  },
  {
   "cell_type": "markdown",
   "metadata": {},
   "source": [
    "\n",
    "In this part of the task, you will implement the linear regression from scratch. The task is to have a user-defined function that will fit data points to a linear function of the form $y=mx+b$. The function will be named ${liner\\_fit(x,y)}$. It accepts 2 arguments $x$ and $y$ and must return the coefficients $b,m$ which are the constants of the fitted equation. Use your function on the data below and generate a plot that shows the data points and also the fitted function.\n",
    "\n",
    "| x | -0.1 | 0.7  | 1.6  | 3.2  | 4.1  | 5.2 | 6.4  | 6.6 | 7.7 | 8.5 | 10.2 | 10.7 | 12.2 | 12.8 |\n",
    "|---|------|------|------|------|------|-----|------|-----|-----|-----|------|------|------|------|\n",
    "| y | -0.9 | -1.4 | -1.1 | -0.7 | -0.2 | 0.0 | -0.2 | 0.1 | 0.9 | 1.0 | 0.9  | 1.4  | 1.3  | 1.6  |\n",
    "\n",
    "You are required to implement the algorithm below for the task.\n",
    "\n",
    "**Inputs** $x$ and $y$ as 1-D vectors\n",
    "\n",
    "**Output** Compute $b,m$ for fitted equation\n",
    "\n",
    "learn-simple-linreg($x, y$): <br>\n",
    "1. $\\bar x := \\frac{1}{N} \\sum_{n=1}^N x_n$  <br>\n",
    "1. $\\bar y := \\frac{1}{N} \\sum_{n=1}^N y_n$  <br>\n",
    "1. $\\hat\\beta_1 := \\frac{ \\sum_{n=1}^N (x_n-\\bar x)(y_n-\\bar y) }{ \\sum_{n=1}^N (x_n-\\bar x)^2 }$  <br>\n",
    "1. $\\hat\\beta_0 := \\bar y - \\hat\\beta_1 \\bar x $  <br>\n",
    "1. $return (\\hat\\beta_0, \\hat\\beta_1)$  <br>\n",
    "\n",
    "\n"
   ]
  },
  {
   "cell_type": "code",
   "execution_count": 5,
   "metadata": {},
   "outputs": [
    {
     "data": {
      "text/plain": [
       "([-0.1, 0.7, 1.6, 3.2, 4.1, 5.2, 6.4, 6.6, 7.7, 8.5, 10.2, 10.7, 12.2, 12.8],\n",
       " [-0.9, -1.4, -1.1, -0.7, -0.2, 0.0, -0.2, 0.1, 0.9, 1.0, 0.9, 1.4, 1.3, 1.6])"
      ]
     },
     "execution_count": 5,
     "metadata": {},
     "output_type": "execute_result"
    }
   ],
   "source": [
    "#### Write your code here\n",
    "\n",
    "x = [-0.1,0.7,1.6,3.2,4.1,5.2,6.4,6.6,7.7,8.5,10.2, 10.7, 12.2, 12.8]\n",
    "y = [-0.9,-1.4,-1.1,-0.7,-0.2,0.0,-0.2,0.1,0.9,1.0,0.9,1.4,1.3,1.6]\n",
    "\n",
    "x, y"
   ]
  },
  {
   "cell_type": "markdown",
   "metadata": {},
   "source": [
    "#### Exercise 1.4\n"
   ]
  },
  {
   "cell_type": "markdown",
   "metadata": {},
   "source": [
    "\n",
    "In this part of the assignment, we will explore the 3D plotting capabilities in Python. Specifically, we will generate a 3D plot of an ice cream cone. The cone is 8 inches tall and has a base diameter of 4 inch. Furthermore, the top of the ice-cream is a hemisphere of 4-inch diameter. We define the following parametric equations for the cone: $$x = r\\:cos\\theta, y = r\\: sin\\theta, z = 4r$$ \n",
    "with $\\theta \\in [0, 2\\pi]$ and $r \\in [0, 2]$\n",
    "  \n",
    "  \n",
    "Also, for the top of ice-cream which is hemisphere, the equations are: $$x = r\\: cos\\theta\\: sin\\phi, y = r\\: sin\\theta \\:sin\\phi, z = 8+r\\: cos\\phi$$  with $\\theta \\in [0, 2\\pi]$ and $\\phi \\in [0, \\pi]$ \n",
    "\n",
    "Generate the 3D mesh plot for the ice-cream cone described by the equations. You are required to properly format the plot with axis labels, titles and grid. Specifically, you are required to learn how to produce well-formatted plots with symbols and latex formatting in the title and label. A poor formatting of plot will be penalized. Use __numpy__ for all computations."
   ]
  },
  {
   "cell_type": "code",
   "execution_count": 6,
   "metadata": {},
   "outputs": [],
   "source": [
    "#### Write your code here\n"
   ]
  },
  {
   "cell_type": "markdown",
   "metadata": {},
   "source": [
    "#### Exercise 1.5"
   ]
  },
  {
   "cell_type": "markdown",
   "metadata": {},
   "source": [
    "In this task you are required to explore a real-world dataset from the airport dataset named __task1.txt__. You are required to the following:\n",
    "- Load the dataset using pandas and display all necessary information contained in the file.\n",
    "- You are tasked as a data scientist to create a story that is visually appealing from this data. Create plots using __matplotlib/seaborn__ that will depict such interesting stories from flights that depart from and arrive in the Austin region. The figures should be annotated properly and also easily understandable on the first glance. A list of questions that can be explored/answered as reference are given below. Of course, you are free to explore any other possibilities.\n",
    "    - Investigate what time of the day it is best to fly so as to have the least possible delays. Does this change with airlines?\n",
    "    - Investigate what time of the year it is more suited to fly so as to have the delays minimum and does the destination affect this? You can lay insights on some popular destinations for the task.\n",
    "    - Explore some airports that are bad to fly to. Does the time of day or year affect this?\n",
    "    - Investigate on how the pattern of flights to various destinations alter over the course of year."
   ]
  },
  {
   "cell_type": "code",
   "execution_count": 7,
   "metadata": {},
   "outputs": [],
   "source": [
    "#### Write your code here\n"
   ]
  },
  {
   "cell_type": "markdown",
   "metadata": {},
   "source": [
    "#### Exercise 1.6"
   ]
  },
  {
   "cell_type": "markdown",
   "metadata": {},
   "source": [
    "In this part we will examine the data containing information on every Olympic medallist that is listed by participant count in top 20 sports, dating back to 1896. Load the dataset __task2.txt__ and perform statistical analysis on the dataset. Specifically, do the following:\n",
    "- Compute the $95^{\\text{th}}$ percentile of heights for the competitors in all Athletic events for gender Female. Note that sport refers to the broad sports (Athletics) and event is the specific event (100-meter sprint).\n",
    "- Find the single woman’s event that depicts the highest variability in the height of the competitor across the entire history of Olympics. Use the standard deviation as the yardstick for this.\n",
    "- We wish to know how the average age of swimmers in Olympic has evolved with time. How has this changed over time? Does the trend for this differs from male to female? It will be easy to create a data frame that will allow one to visualise these trends with time. Plot a line graph that depicts separate line for male and female competitors. The plot must have a caption that is informative enough to answer the 2 questions that have been asked in this part.\n",
    "- Feel free to explore any other interesting statistic/visualization from the data"
   ]
  },
  {
   "cell_type": "code",
   "execution_count": 8,
   "metadata": {},
   "outputs": [],
   "source": [
    "#### Write your code here\n"
   ]
  }
 ],
 "metadata": {
  "kernelspec": {
   "display_name": "Python 3",
   "language": "python",
   "name": "python3"
  },
  "language_info": {
   "codemirror_mode": {
    "name": "ipython",
    "version": 3
   },
   "file_extension": ".py",
   "mimetype": "text/x-python",
   "name": "python",
   "nbconvert_exporter": "python",
   "pygments_lexer": "ipython3",
   "version": "3.11.3"
  }
 },
 "nbformat": 4,
 "nbformat_minor": 2
}
