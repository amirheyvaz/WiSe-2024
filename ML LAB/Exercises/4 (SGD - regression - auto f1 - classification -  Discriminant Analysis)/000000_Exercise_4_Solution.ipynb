{
 "cells": [
  {
   "cell_type": "markdown",
   "metadata": {},
   "source": [
    "# Programming Machine Learning Lab\n",
    "# Exercise 4"
   ]
  },
  {
   "cell_type": "markdown",
   "metadata": {},
   "source": [
    "**General Instructions:**\n",
    "\n",
    "1. You need to submit the PDF as well as the filled notebook file.\n",
    "1. Name your submissions by prefixing your matriculation number to the filename. Example, if your MR is 12345 then rename the files as **\"12345_Exercise_4.xxx\"**\n",
    "1. Complete all your tasks and then do a clean run before generating the final pdf. (_Clear All Ouputs_ and _Run All_ commands in Jupyter notebook)\n",
    "\n",
    "**Exercise Specific instructions::**\n",
    "\n",
    "1. You are allowed to use only NumPy and Pandas (unless stated otherwise). You can use any library for visualizations.\n"
   ]
  },
  {
   "cell_type": "code",
   "execution_count": 1,
   "metadata": {},
   "outputs": [],
   "source": [
    "import numpy as np\n",
    "import pandas as pd\n",
    "import matplotlib.pyplot as plt\n",
    "import seaborn as sns\n",
    "import warnings\n",
    "warnings.filterwarnings(\"ignore\")"
   ]
  },
  {
   "cell_type": "markdown",
   "metadata": {},
   "source": [
    "### Part 1"
   ]
  },
  {
   "cell_type": "markdown",
   "metadata": {},
   "source": [
    "**Optimization Routines and Loss Functions**\n",
    "\n",
    "In this part of the assignment we learn how to write modular programs and make our code reusable. For this, declare a class named $\\textbf{Optimization}$ which has 2 inputs X and y as the class variables. Next, implement the following optimization algorithms in this class. \n",
    "\n",
    "- Stochastic Gradient Descent (For Mean Square Loss)\n",
    "- Newton’s Method (For Cross Entropy Loss) \n",
    "\n",
    "You will need loss functions and their gradients for the optimization process. So implement a class $\\textbf{Loss}$ which also takes in X and y and computes the following losses and their gradients.\n",
    "\n",
    "- Mean Square Loss (for Regression)\n",
    "- Cross Entropy Loss (for Classification)\n",
    "    \n",
    "Make the $\\textbf{Loss}$ class such that you can access it from the $\\textbf{Optimization}$ class.\n",
    "\n",
    "*Note : You can use np.linalg.solve for solving linear equations*"
   ]
  },
  {
   "cell_type": "code",
   "execution_count": 2,
   "metadata": {},
   "outputs": [],
   "source": [
    "#Helper Functions\n",
    "class Functions:\n",
    "    \n",
    "    ## function for random sampling of data\n",
    "    def random_sampler(self, perc=0.1):\n",
    "        prop = int(len(self.X)*perc) #proportion of the data to be used for each iteration, here we have set it to 10% of the data\n",
    "        ind = np.random.choice(range(len(self.X)), prop, replace=False)\n",
    "        test_ind = list(set(range(len(self.X))) - set(ind)) #for using the rest sample as test set\n",
    "        return self.X[ind],self.y[ind], self.X[test_ind], self.y[test_ind]\n",
    "    \n",
    "    ## funtion for normalizing the features\n",
    "    def normalize_features(self,X,append=True):\n",
    "        X = (X - np.mean(X, 0)) / np.std(X, 0) #normalize the features\n",
    "        if append:\n",
    "            X = np.append(np.ones(X.shape[0]).reshape(-1,1),X,1) #append column of ones for intercept\n",
    "        return X\n",
    "    \n",
    "    ## for calculating the metrics\n",
    "    def calculate_metrics(self, y, preds):\n",
    "        \n",
    "        ## accuracy is given by\n",
    "        accuracy = 1-np.sum(np.abs(np.subtract(preds,y)))/len(preds)\n",
    "        \n",
    "        ## calculate the True Positives TP\n",
    "        Tp = np.sum((y == True) & (preds == True))\n",
    "        \n",
    "        ## calculate the True Negatives TN\n",
    "        Tn = np.sum((y == False) & (preds == False))\n",
    "        \n",
    "        ## calculate the False Positives FP\n",
    "        Fp = np.sum((y == False) & (preds == True))\n",
    "        \n",
    "        ## calculate the False Negatives FN\n",
    "        Fn = np.sum((y == True) & (preds == False))\n",
    "        \n",
    "        ## calculate the Precision P\n",
    "        P = Tp/(Tp+Fp)\n",
    "        \n",
    "        ## calculate the Recall\n",
    "        R = Tp/(Tp+Fn)\n",
    "        \n",
    "        ## calculate the F1 score\n",
    "        F = 2/(1/P+1/R)\n",
    "        \n",
    "        ## making confusion matrix\n",
    "        c = np.ones(4)\n",
    "        c[0],c[1],c[2],c[3] = Tn, Fp, Fn, Tp\n",
    "        c = c.reshape(2,2)\n",
    "        \n",
    "        return accuracy,P,R,F,c"
   ]
  },
  {
   "cell_type": "code",
   "execution_count": 3,
   "metadata": {},
   "outputs": [],
   "source": [
    "### Write your code here\n",
    "class Optimization(Functions):\n",
    "    \n",
    "    ## initializing class\n",
    "    def __init__(self, X, y, loss):\n",
    "        self.X = X\n",
    "        self.y = y\n",
    "        self.loss = loss\n",
    "    \n",
    "    ## stochastic gradient descent function\n",
    "    def SGD(self, B, max_iter=1000,tolerance=1e-6,lr=0.001):\n",
    "        #function for updating parameters using SGD\n",
    "        loss_list = []\n",
    "        test_loss_list=[]\n",
    "        for it in range(max_iter):\n",
    "            #sample a random x and y batch for training and validation\n",
    "            x, y, x_test,y_test = self.random_sampler()\n",
    "            \n",
    "            #calculating the loss\n",
    "            curr_loss, derv_loss, _ = self.loss(self, x, y, B)\n",
    "            loss_list.append(curr_loss)\n",
    "            \n",
    "            curr_loss_test, _, _ = self.loss(self, x_test, y_test, B)\n",
    "            test_loss_list.append(curr_loss_test)\n",
    "            \n",
    "            #update the betas\n",
    "            e = lr*derv_loss\n",
    "            B = B - e\n",
    "            \n",
    "            #stop loop once updation becomes insignificant\n",
    "            if np.all(np.abs(e) < tolerance):\n",
    "                break\n",
    "        return B,loss_list,test_loss_list\n",
    "    \n",
    "    ## Newton Method for Optimization\n",
    "    def newton_optimization(self, B, max_iter=100, tolerance = 1e-4, lr=0.001):\n",
    "        ## function for updating parameters using newton's method\n",
    "        loss_list = []\n",
    "        test_loss_list=[]\n",
    "        x, y, x_test, y_test = self.random_sampler(perc = 0.80) # use 80-20 in the training too\n",
    "        \n",
    "        for it in range(max_iter):\n",
    "            #calculate training loss\n",
    "            curr_loss, gradient, hessian = self.loss(self, x, y, B)\n",
    "            loss_list.append(curr_loss)\n",
    "            \n",
    "            #calculate test loss\n",
    "            curr_loss_test, _, _ = self.loss(self, x_test, y_test, B)\n",
    "            test_loss_list.append(curr_loss_test)\n",
    "            \n",
    "            ## newton method\n",
    "            e = -np.linalg.solve(hessian,gradient)\n",
    "            B = B + lr*e\n",
    "            \n",
    "            #stop loop once updation becomes insignificant\n",
    "            if np.all(np.abs(e) < tolerance):\n",
    "                break\n",
    "                \n",
    "        return B,loss_list,test_loss_list\n",
    "    \n",
    "#Loss Class: It returns both the loss and the gradient\n",
    "class Loss():\n",
    "    ## mean square error loss which returns loss, first derivative and hessian\n",
    "    def mean_square_loss(self, X, y, betas):\n",
    "        N = len(X)\n",
    "        pred = np.dot(X,betas)\n",
    "        return (np.square(y-pred)).mean(), (-2.0 /N) * X.T.dot(y - X.dot(betas)), 1/N * np.matmul(X.T,X)\n",
    "    \n",
    "    ## cross entropy loss\n",
    "    def cross_entropy_loss(self, X, y, B):\n",
    "        N = len(X)\n",
    "        p = 1./(1+np.exp(-np.dot(X,B)))\n",
    "        W = np.diag((p*(1-p)).reshape(-1))\n",
    "        return (-1/N * (np.dot(y.T,np.log(p))+np.dot(np.transpose(1-y),np.log(1-p))))[0][0], -np.dot(X.T,(y-p)), X.T@W@X"
   ]
  },
  {
   "cell_type": "markdown",
   "metadata": {},
   "source": [
    "### Part 2"
   ]
  },
  {
   "cell_type": "markdown",
   "metadata": {},
   "source": [
    "In this task, you are given a data set named **\"regression.csv\"**. \n",
    "- Split the dataset into 80% for training and 20% for test\n",
    "- Check the correlation of features (X) with the target (Y) (Visually as well). \n",
    "- Remove the 3 least correlated variables. The correlation is checked only using the train dataset\n",
    "- Perform standard scaling on the remaining feature Columns\n",
    "\n",
    "Implement a class $\\textbf{LinearRegression}$ that has at least two functions, $\\textbf{fit}$ and $\\textbf{predict}$ for fitting a linear regression model and predicting the results. You need to use the $\\textbf{Optimization}$ and $\\textbf{Loss}$ class inside this. Fit a linear regression model with *Mean Square Loss* and *Stochastic Gradient Descent*.\n",
    "\n",
    "Also, generate the loss trajectory for both training and testing datasets\n"
   ]
  },
  {
   "cell_type": "code",
   "execution_count": 4,
   "metadata": {},
   "outputs": [],
   "source": [
    "#Reading the data and splitting it into training and testing set\n",
    "reg_data = pd.read_csv('regression.csv')\n",
    "X,y = reg_data.iloc[:,:-1],reg_data.iloc[:,-1]\n",
    "#let's split the data into a training and testing set\n",
    "from sklearn.model_selection import train_test_split\n",
    "X_train, X_test, y_train, y_test = train_test_split(X, y, test_size=0.2, random_state=42)"
   ]
  },
  {
   "cell_type": "code",
   "execution_count": 5,
   "metadata": {},
   "outputs": [
    {
     "data": {
      "text/plain": [
       "<Figure size 1200x800 with 0 Axes>"
      ]
     },
     "metadata": {},
     "output_type": "display_data"
    }
   ],
   "source": [
    "#to check correlation of the features with target in training data\n",
    "train_df = pd.concat([X_train,y_train],axis=1)\n",
    "plt.figure(figsize=(12, 8))\n",
    "corr = train_df.corr()\n",
    "#to remove least 3 correlated features\n",
    "least_corr = corr.iloc[:,-1].abs().nsmallest(3).index\n",
    "X_train = X_train.drop(least_corr, axis=1)\n",
    "X_test = X_test.drop(least_corr, axis=1)\n",
    "#normalizing data \n",
    "X_train_normalized = Functions().normalize_features(X_train.values)\n",
    "X_test_normalized = Functions().normalize_features(X_test.values)"
   ]
  },
  {
   "cell_type": "code",
   "execution_count": 6,
   "metadata": {},
   "outputs": [],
   "source": [
    "#### Write your code here\n",
    "class LinearRegression():\n",
    "    #initialization of class\n",
    "    def __init__ (self, X, y):\n",
    "        self.X = X\n",
    "        self.y = y.reshape(-1,1)\n",
    "    \n",
    "    ## function for fitting the model    \n",
    "    def fit(self, max_iter=100, tolerance=1e-6, lr=0.1):\n",
    "        \n",
    "        # generate a random Beta matrix for 1st iteration\n",
    "        B = np.zeros((self.X.shape[1],1))\n",
    "\n",
    "        #define optimizer\n",
    "        optim = Optimization(self.X, self.y, Loss.mean_square_loss)\n",
    "        B, loss, test_loss = optim.SGD(B, max_iter, tolerance, lr)\n",
    "        self.B = B\n",
    "        return B,loss,test_loss\n",
    "        \n",
    "    def predict(self,X):\n",
    "        return np.matmul(X,self.B)"
   ]
  },
  {
   "cell_type": "code",
   "execution_count": 7,
   "metadata": {},
   "outputs": [],
   "source": [
    "#Fit the model\n",
    "lin_reg_model=LinearRegression(X_train_normalized,y_train.values)\n",
    "lin_reg_model_params,train_loss,test_loss = lin_reg_model.fit()"
   ]
  },
  {
   "cell_type": "code",
   "execution_count": 8,
   "metadata": {},
   "outputs": [
    {
     "data": {
      "image/png": "[encoded data removed]",
      "text/plain": [
       "<Figure size 1200x600 with 1 Axes>"
      ]
     },
     "metadata": {},
     "output_type": "display_data"
    }
   ],
   "source": [
    "#Drawing the Trajectory of Loss\n",
    "plt.figure(figsize=(12,6))\n",
    "plt.plot(np.arange(len(train_loss)),train_loss,color='red',label='Training Loss')\n",
    "plt.plot(np.arange(len(test_loss)),test_loss,color='orange',label='Testing Loss')\n",
    "plt.ylim([0,2]);\n",
    "plt.title('Trajectory of Training and Testing Loss of Linear Regression');\n",
    "plt.xlabel('Number of Iterations');\n",
    "plt.ylabel('MSE Loss');\n",
    "plt.legend();\n",
    "plt.grid('on');"
   ]
  },
  {
   "cell_type": "markdown",
   "metadata": {},
   "source": [
    "**Evaluation**\n",
    "\n",
    "Compute the test predictions using the Linear Regression from sklearn and compare the Betas and Results to your implementation."
   ]
  },
  {
   "cell_type": "code",
   "execution_count": 9,
   "metadata": {},
   "outputs": [
    {
     "data": {
      "text/html": [
       "<style>#sk-container-id-1 {color: black;}#sk-container-id-1 pre{padding: 0;}#sk-container-id-1 div.sk-toggleable {background-color: white;}#sk-container-id-1 label.sk-toggleable__label {cursor: pointer;display: block;width: 100%;margin-bottom: 0;padding: 0.3em;box-sizing: border-box;text-align: center;}#sk-container-id-1 label.sk-toggleable__label-arrow:before {content: \"▸\";float: left;margin-right: 0.25em;color: #696969;}#sk-container-id-1 label.sk-toggleable__label-arrow:hover:before {color: black;}#sk-container-id-1 div.sk-estimator:hover label.sk-toggleable__label-arrow:before {color: black;}#sk-container-id-1 div.sk-toggleable__content {max-height: 0;max-width: 0;overflow: hidden;text-align: left;background-color: #f0f8ff;}#sk-container-id-1 div.sk-toggleable__content pre {margin: 0.2em;color: black;border-radius: 0.25em;background-color: #f0f8ff;}#sk-container-id-1 input.sk-toggleable__control:checked~div.sk-toggleable__content {max-height: 200px;max-width: 100%;overflow: auto;}#sk-container-id-1 input.sk-toggleable__control:checked~label.sk-toggleable__label-arrow:before {content: \"▾\";}#sk-container-id-1 div.sk-estimator input.sk-toggleable__control:checked~label.sk-toggleable__label {background-color: #d4ebff;}#sk-container-id-1 div.sk-label input.sk-toggleable__control:checked~label.sk-toggleable__label {background-color: #d4ebff;}#sk-container-id-1 input.sk-hidden--visually {border: 0;clip: rect(1px 1px 1px 1px);clip: rect(1px, 1px, 1px, 1px);height: 1px;margin: -1px;overflow: hidden;padding: 0;position: absolute;width: 1px;}#sk-container-id-1 div.sk-estimator {font-family: monospace;background-color: #f0f8ff;border: 1px dotted black;border-radius: 0.25em;box-sizing: border-box;margin-bottom: 0.5em;}#sk-container-id-1 div.sk-estimator:hover {background-color: #d4ebff;}#sk-container-id-1 div.sk-parallel-item::after {content: \"\";width: 100%;border-bottom: 1px solid gray;flex-grow: 1;}#sk-container-id-1 div.sk-label:hover label.sk-toggleable__label {background-color: #d4ebff;}#sk-container-id-1 div.sk-serial::before {content: \"\";position: absolute;border-left: 1px solid gray;box-sizing: border-box;top: 0;bottom: 0;left: 50%;z-index: 0;}#sk-container-id-1 div.sk-serial {display: flex;flex-direction: column;align-items: center;background-color: white;padding-right: 0.2em;padding-left: 0.2em;position: relative;}#sk-container-id-1 div.sk-item {position: relative;z-index: 1;}#sk-container-id-1 div.sk-parallel {display: flex;align-items: stretch;justify-content: center;background-color: white;position: relative;}#sk-container-id-1 div.sk-item::before, #sk-container-id-1 div.sk-parallel-item::before {content: \"\";position: absolute;border-left: 1px solid gray;box-sizing: border-box;top: 0;bottom: 0;left: 50%;z-index: -1;}#sk-container-id-1 div.sk-parallel-item {display: flex;flex-direction: column;z-index: 1;position: relative;background-color: white;}#sk-container-id-1 div.sk-parallel-item:first-child::after {align-self: flex-end;width: 50%;}#sk-container-id-1 div.sk-parallel-item:last-child::after {align-self: flex-start;width: 50%;}#sk-container-id-1 div.sk-parallel-item:only-child::after {width: 0;}#sk-container-id-1 div.sk-dashed-wrapped {border: 1px dashed gray;margin: 0 0.4em 0.5em 0.4em;box-sizing: border-box;padding-bottom: 0.4em;background-color: white;}#sk-container-id-1 div.sk-label label {font-family: monospace;font-weight: bold;display: inline-block;line-height: 1.2em;}#sk-container-id-1 div.sk-label-container {text-align: center;}#sk-container-id-1 div.sk-container {/* jupyter's `normalize.less` sets `[hidden] { display: none; }` but bootstrap.min.css set `[hidden] { display: none !important; }` so we also need the `!important` here to be able to override the default hidden behavior on the sphinx rendered scikit-learn.org. See: https://github.com/scikit-learn/scikit-learn/issues/21755 */display: inline-block !important;position: relative;}#sk-container-id-1 div.sk-text-repr-fallback {display: none;}</style><div id=\"sk-container-id-1\" class=\"sk-top-container\"><div class=\"sk-text-repr-fallback\"><pre>LinearRegression()</pre><b>In a Jupyter environment, please rerun this cell to show the HTML representation or trust the notebook. <br />On GitHub, the HTML representation is unable to render, please try loading this page with nbviewer.org.</b></div><div class=\"sk-container\" hidden><div class=\"sk-item\"><div class=\"sk-estimator sk-toggleable\"><input class=\"sk-toggleable__control sk-hidden--visually\" id=\"sk-estimator-id-1\" type=\"checkbox\" checked><label for=\"sk-estimator-id-1\" class=\"sk-toggleable__label sk-toggleable__label-arrow\">LinearRegression</label><div class=\"sk-toggleable__content\"><pre>LinearRegression()</pre></div></div></div></div></div>"
      ],
      "text/plain": [
       "LinearRegression()"
      ]
     },
     "execution_count": 9,
     "metadata": {},
     "output_type": "execute_result"
    }
   ],
   "source": [
    "#### Write your code here\n",
    "from sklearn.linear_model import LinearRegression\n",
    "sklearn_reg = LinearRegression()\n",
    "sklearn_reg.fit(X_train_normalized[:,1:],y_train)"
   ]
  },
  {
   "cell_type": "code",
   "execution_count": 10,
   "metadata": {},
   "outputs": [
    {
     "name": "stdout",
     "output_type": "stream",
     "text": [
      "The loss of our implementation is: 0.9171665064431149\n",
      "The loss of Sklearn Implementation is 0.42721927260178927\n"
     ]
    }
   ],
   "source": [
    "lin_reg_preds = lin_reg_model.predict(X_test_normalized)\n",
    "sklearn_preds = sklearn_reg.predict(X_test_normalized[:,1:])\n",
    "#sklearn returns coef and intercept differently let's append them\n",
    "sklearn_reg_params = np.append(sklearn_reg.intercept_,sklearn_reg.coef_)\n",
    "lin_reg_loss, _, _ = Loss().mean_square_loss(X_train_normalized, y_train.values, lin_reg_model_params)\n",
    "sklearn_reg_loss, _, _ = Loss().mean_square_loss(X_train_normalized, y_train.values, sklearn_reg_params)\n",
    "print('The loss of our implementation is:',lin_reg_loss)\n",
    "print('The loss of Sklearn Implementation is',sklearn_reg_loss)"
   ]
  },
  {
   "cell_type": "code",
   "execution_count": 11,
   "metadata": {},
   "outputs": [
    {
     "data": {
      "text/plain": [
       "0.0181352054431211"
      ]
     },
     "execution_count": 11,
     "metadata": {},
     "output_type": "execute_result"
    }
   ],
   "source": [
    "# To compare the sklearn estimated coefficients and coefficients estimated by us\n",
    "from sklearn.metrics import mean_absolute_error\n",
    "mean_absolute_error(sklearn_reg_params,lin_reg_model_params)"
   ]
  },
  {
   "cell_type": "markdown",
   "metadata": {},
   "source": [
    "So our estimated parameters are very close. The difference in the estimates are because of the fact that SKlearn uses normal equation to find the best fit params and our approach uses Gradient Descent."
   ]
  },
  {
   "cell_type": "markdown",
   "metadata": {},
   "source": [
    "**Point to ponder**\n",
    "\n",
    "While optimizing the loss function for Linear Regression or Logistic Regression, one needs to initialize the model parameters. It is well known that deep neural networks do not function if the model parameters are initialized to zero. Why is it so? Does this issue also arise while optimizing the loss function for Linear or Logistic Regression? Explain."
   ]
  },
  {
   "cell_type": "markdown",
   "metadata": {},
   "source": [
    "**Answer:**\n",
    "If the weights of a NN is initialized with zero or in fact with any constant value, all the neurons will learn the same features. This will happen because the derivative will remain same for all the weights and there won't be any symmetry breaking. Also, for linear and logistic regression it can cause slow convergence, however, it's not as critical as in deep learning."
   ]
  },
  {
   "cell_type": "markdown",
   "metadata": {},
   "source": [
    "### Part 3"
   ]
  },
  {
   "cell_type": "markdown",
   "metadata": {},
   "source": [
    "You are given a file **\"logistic.csv\"**. \n",
    "- Split the dataset into 80% for training and 20% for test.\n",
    "- Explore the dataset and visualize distribution of the features (train data only). \n",
    "- Do a Violin plot for the 5 features that have the highest standard deviation. \n",
    "- Remove outliers form the dataset. *(This can be done by either removing the rows with outliers or by clipping, comment on the pros and cons of whichever method you employ)*\n",
    "- Perform standard scaling.\n",
    "\n",
    "This part of the assignment involves a classification task. Implement a class $\\textbf{LogisticRegression}$ having at least two functions, $\\textbf{fit}$ and $\\textbf{predict}$ for fitting the model and getting the predictions. Fit a logistic regression model with Cross Entropy Loss and Newton’s Method.\n",
    "\n",
    "Report the test accuracy, plot the confusion matrix and also compute the precision, recall and F-score. \n",
    "\n",
    "Also, generate the loss trajectory for both training and testing.\n"
   ]
  },
  {
   "cell_type": "code",
   "execution_count": 12,
   "metadata": {},
   "outputs": [
    {
     "data": {
      "text/html": [
       "<div>\n",
       "<style scoped>\n",
       "    .dataframe tbody tr th:only-of-type {\n",
       "        vertical-align: middle;\n",
       "    }\n",
       "\n",
       "    .dataframe tbody tr th {\n",
       "        vertical-align: top;\n",
       "    }\n",
       "\n",
       "    .dataframe thead th {\n",
       "        text-align: right;\n",
       "    }\n",
       "</style>\n",
       "<table border=\"1\" class=\"dataframe\">\n",
       "  <thead>\n",
       "    <tr style=\"text-align: right;\">\n",
       "      <th></th>\n",
       "      <th>Y</th>\n",
       "      <th>X1</th>\n",
       "      <th>X2</th>\n",
       "      <th>X3</th>\n",
       "      <th>X4</th>\n",
       "      <th>X5</th>\n",
       "      <th>X6</th>\n",
       "      <th>X7</th>\n",
       "      <th>X8</th>\n",
       "      <th>X9</th>\n",
       "      <th>...</th>\n",
       "      <th>X21</th>\n",
       "      <th>X22</th>\n",
       "      <th>X23</th>\n",
       "      <th>X24</th>\n",
       "      <th>X25</th>\n",
       "      <th>X26</th>\n",
       "      <th>X27</th>\n",
       "      <th>X28</th>\n",
       "      <th>X29</th>\n",
       "      <th>X30</th>\n",
       "    </tr>\n",
       "  </thead>\n",
       "  <tbody>\n",
       "    <tr>\n",
       "      <th>count</th>\n",
       "      <td>455.000000</td>\n",
       "      <td>455.000000</td>\n",
       "      <td>455.000000</td>\n",
       "      <td>455.000000</td>\n",
       "      <td>455.000000</td>\n",
       "      <td>455.000000</td>\n",
       "      <td>455.000000</td>\n",
       "      <td>455.000000</td>\n",
       "      <td>455.000000</td>\n",
       "      <td>455.000000</td>\n",
       "      <td>...</td>\n",
       "      <td>455.000000</td>\n",
       "      <td>455.000000</td>\n",
       "      <td>455.000000</td>\n",
       "      <td>455.000000</td>\n",
       "      <td>455.000000</td>\n",
       "      <td>455.000000</td>\n",
       "      <td>455.000000</td>\n",
       "      <td>455.000000</td>\n",
       "      <td>455.000000</td>\n",
       "      <td>455.000000</td>\n",
       "    </tr>\n",
       "    <tr>\n",
       "      <th>mean</th>\n",
       "      <td>0.371429</td>\n",
       "      <td>14.117635</td>\n",
       "      <td>19.185033</td>\n",
       "      <td>91.882242</td>\n",
       "      <td>654.377582</td>\n",
       "      <td>0.095744</td>\n",
       "      <td>0.103619</td>\n",
       "      <td>0.088898</td>\n",
       "      <td>0.048280</td>\n",
       "      <td>0.181099</td>\n",
       "      <td>...</td>\n",
       "      <td>16.235103</td>\n",
       "      <td>25.535692</td>\n",
       "      <td>107.103121</td>\n",
       "      <td>876.987033</td>\n",
       "      <td>0.131532</td>\n",
       "      <td>0.252742</td>\n",
       "      <td>0.274595</td>\n",
       "      <td>0.114182</td>\n",
       "      <td>0.290502</td>\n",
       "      <td>0.083868</td>\n",
       "    </tr>\n",
       "    <tr>\n",
       "      <th>std</th>\n",
       "      <td>0.483719</td>\n",
       "      <td>3.535815</td>\n",
       "      <td>4.266005</td>\n",
       "      <td>24.322027</td>\n",
       "      <td>354.943187</td>\n",
       "      <td>0.013923</td>\n",
       "      <td>0.052470</td>\n",
       "      <td>0.079468</td>\n",
       "      <td>0.038060</td>\n",
       "      <td>0.027487</td>\n",
       "      <td>...</td>\n",
       "      <td>4.811267</td>\n",
       "      <td>6.065108</td>\n",
       "      <td>33.374664</td>\n",
       "      <td>567.672841</td>\n",
       "      <td>0.023083</td>\n",
       "      <td>0.155014</td>\n",
       "      <td>0.209398</td>\n",
       "      <td>0.065326</td>\n",
       "      <td>0.063151</td>\n",
       "      <td>0.017848</td>\n",
       "    </tr>\n",
       "    <tr>\n",
       "      <th>min</th>\n",
       "      <td>0.000000</td>\n",
       "      <td>7.691000</td>\n",
       "      <td>9.710000</td>\n",
       "      <td>47.920000</td>\n",
       "      <td>170.400000</td>\n",
       "      <td>0.052630</td>\n",
       "      <td>0.019380</td>\n",
       "      <td>0.000000</td>\n",
       "      <td>0.000000</td>\n",
       "      <td>0.116700</td>\n",
       "      <td>...</td>\n",
       "      <td>8.678000</td>\n",
       "      <td>12.020000</td>\n",
       "      <td>54.490000</td>\n",
       "      <td>223.600000</td>\n",
       "      <td>0.071170</td>\n",
       "      <td>0.027290</td>\n",
       "      <td>0.000000</td>\n",
       "      <td>0.000000</td>\n",
       "      <td>0.156500</td>\n",
       "      <td>0.055040</td>\n",
       "    </tr>\n",
       "    <tr>\n",
       "      <th>25%</th>\n",
       "      <td>0.000000</td>\n",
       "      <td>11.705000</td>\n",
       "      <td>16.170000</td>\n",
       "      <td>75.100000</td>\n",
       "      <td>420.300000</td>\n",
       "      <td>0.085825</td>\n",
       "      <td>0.062890</td>\n",
       "      <td>0.029320</td>\n",
       "      <td>0.020340</td>\n",
       "      <td>0.161850</td>\n",
       "      <td>...</td>\n",
       "      <td>13.055000</td>\n",
       "      <td>21.045000</td>\n",
       "      <td>84.255000</td>\n",
       "      <td>516.450000</td>\n",
       "      <td>0.114400</td>\n",
       "      <td>0.144950</td>\n",
       "      <td>0.116550</td>\n",
       "      <td>0.063930</td>\n",
       "      <td>0.249500</td>\n",
       "      <td>0.071050</td>\n",
       "    </tr>\n",
       "    <tr>\n",
       "      <th>50%</th>\n",
       "      <td>0.000000</td>\n",
       "      <td>13.300000</td>\n",
       "      <td>18.680000</td>\n",
       "      <td>85.980000</td>\n",
       "      <td>551.700000</td>\n",
       "      <td>0.094620</td>\n",
       "      <td>0.090970</td>\n",
       "      <td>0.061540</td>\n",
       "      <td>0.033410</td>\n",
       "      <td>0.179200</td>\n",
       "      <td>...</td>\n",
       "      <td>14.970000</td>\n",
       "      <td>25.220000</td>\n",
       "      <td>97.670000</td>\n",
       "      <td>686.600000</td>\n",
       "      <td>0.130900</td>\n",
       "      <td>0.210100</td>\n",
       "      <td>0.226400</td>\n",
       "      <td>0.098610</td>\n",
       "      <td>0.282700</td>\n",
       "      <td>0.080060</td>\n",
       "    </tr>\n",
       "    <tr>\n",
       "      <th>75%</th>\n",
       "      <td>1.000000</td>\n",
       "      <td>15.740000</td>\n",
       "      <td>21.585000</td>\n",
       "      <td>103.750000</td>\n",
       "      <td>767.600000</td>\n",
       "      <td>0.104550</td>\n",
       "      <td>0.131300</td>\n",
       "      <td>0.132350</td>\n",
       "      <td>0.073895</td>\n",
       "      <td>0.195800</td>\n",
       "      <td>...</td>\n",
       "      <td>18.410000</td>\n",
       "      <td>29.690000</td>\n",
       "      <td>124.650000</td>\n",
       "      <td>1031.500000</td>\n",
       "      <td>0.146050</td>\n",
       "      <td>0.341600</td>\n",
       "      <td>0.387200</td>\n",
       "      <td>0.161100</td>\n",
       "      <td>0.317750</td>\n",
       "      <td>0.092070</td>\n",
       "    </tr>\n",
       "    <tr>\n",
       "      <th>max</th>\n",
       "      <td>1.000000</td>\n",
       "      <td>28.110000</td>\n",
       "      <td>39.280000</td>\n",
       "      <td>188.500000</td>\n",
       "      <td>2501.000000</td>\n",
       "      <td>0.163400</td>\n",
       "      <td>0.311400</td>\n",
       "      <td>0.426800</td>\n",
       "      <td>0.201200</td>\n",
       "      <td>0.304000</td>\n",
       "      <td>...</td>\n",
       "      <td>36.040000</td>\n",
       "      <td>49.540000</td>\n",
       "      <td>251.200000</td>\n",
       "      <td>4254.000000</td>\n",
       "      <td>0.218400</td>\n",
       "      <td>0.937900</td>\n",
       "      <td>1.252000</td>\n",
       "      <td>0.291000</td>\n",
       "      <td>0.663800</td>\n",
       "      <td>0.173000</td>\n",
       "    </tr>\n",
       "  </tbody>\n",
       "</table>\n",
       "<p>8 rows × 31 columns</p>\n",
       "</div>"
      ],
      "text/plain": [
       "                Y          X1          X2          X3           X4  \\\n",
       "count  455.000000  455.000000  455.000000  455.000000   455.000000   \n",
       "mean     0.371429   14.117635   19.185033   91.882242   654.377582   \n",
       "std      0.483719    3.535815    4.266005   24.322027   354.943187   \n",
       "min      0.000000    7.691000    9.710000   47.920000   170.400000   \n",
       "25%      0.000000   11.705000   16.170000   75.100000   420.300000   \n",
       "50%      0.000000   13.300000   18.680000   85.980000   551.700000   \n",
       "75%      1.000000   15.740000   21.585000  103.750000   767.600000   \n",
       "max      1.000000   28.110000   39.280000  188.500000  2501.000000   \n",
       "\n",
       "               X5          X6          X7          X8          X9  ...  \\\n",
       "count  455.000000  455.000000  455.000000  455.000000  455.000000  ...   \n",
       "mean     0.095744    0.103619    0.088898    0.048280    0.181099  ...   \n",
       "std      0.013923    0.052470    0.079468    0.038060    0.027487  ...   \n",
       "min      0.052630    0.019380    0.000000    0.000000    0.116700  ...   \n",
       "25%      0.085825    0.062890    0.029320    0.020340    0.161850  ...   \n",
       "50%      0.094620    0.090970    0.061540    0.033410    0.179200  ...   \n",
       "75%      0.104550    0.131300    0.132350    0.073895    0.195800  ...   \n",
       "max      0.163400    0.311400    0.426800    0.201200    0.304000  ...   \n",
       "\n",
       "              X21         X22         X23          X24         X25  \\\n",
       "count  455.000000  455.000000  455.000000   455.000000  455.000000   \n",
       "mean    16.235103   25.535692  107.103121   876.987033    0.131532   \n",
       "std      4.811267    6.065108   33.374664   567.672841    0.023083   \n",
       "min      8.678000   12.020000   54.490000   223.600000    0.071170   \n",
       "25%     13.055000   21.045000   84.255000   516.450000    0.114400   \n",
       "50%     14.970000   25.220000   97.670000   686.600000    0.130900   \n",
       "75%     18.410000   29.690000  124.650000  1031.500000    0.146050   \n",
       "max     36.040000   49.540000  251.200000  4254.000000    0.218400   \n",
       "\n",
       "              X26         X27         X28         X29         X30  \n",
       "count  455.000000  455.000000  455.000000  455.000000  455.000000  \n",
       "mean     0.252742    0.274595    0.114182    0.290502    0.083868  \n",
       "std      0.155014    0.209398    0.065326    0.063151    0.017848  \n",
       "min      0.027290    0.000000    0.000000    0.156500    0.055040  \n",
       "25%      0.144950    0.116550    0.063930    0.249500    0.071050  \n",
       "50%      0.210100    0.226400    0.098610    0.282700    0.080060  \n",
       "75%      0.341600    0.387200    0.161100    0.317750    0.092070  \n",
       "max      0.937900    1.252000    0.291000    0.663800    0.173000  \n",
       "\n",
       "[8 rows x 31 columns]"
      ]
     },
     "execution_count": 12,
     "metadata": {},
     "output_type": "execute_result"
    }
   ],
   "source": [
    "## reading the data\n",
    "log_reg_data = pd.read_csv('logistic.csv')\n",
    "#Let's replace the categorical variable with M being 1 and B being 0\n",
    "log_reg_data['Y'] = log_reg_data['Y'].replace({'M':1,'B':0})\n",
    "train_df, test_df = train_test_split(log_reg_data, test_size=0.2, random_state=42)\n",
    "train_df.describe()"
   ]
  },
  {
   "cell_type": "code",
   "execution_count": 13,
   "metadata": {},
   "outputs": [
    {
     "data": {
      "text/plain": [
       "<Axes: >"
      ]
     },
     "execution_count": 13,
     "metadata": {},
     "output_type": "execute_result"
    },
    {
     "data": {
      "image/png": "[encoded data removed]",
      "text/plain": [
       "<Figure size 640x480 with 1 Axes>"
      ]
     },
     "metadata": {},
     "output_type": "display_data"
    }
   ],
   "source": [
    "#Making Violin Plots\n",
    "std_dev = train_df.std(numeric_only=True).sort_values(ascending=False)[:5]\n",
    "sns.violinplot(data=train_df[std_dev.index])"
   ]
  },
  {
   "cell_type": "code",
   "execution_count": 14,
   "metadata": {},
   "outputs": [],
   "source": [
    "#Removing outliers using IQR\n",
    "Q1 = train_df.quantile(0.25,numeric_only=True)\n",
    "Q3 = train_df.quantile(0.75,numeric_only=True)\n",
    "IQR = Q3 - Q1 # difference between the third and first quartiles\n",
    "train_df = train_df[~((train_df < (Q1 - 1.5 * IQR)) | (train_df > (Q3 + 1.5 * IQR))).any(axis=1)]"
   ]
  },
  {
   "cell_type": "code",
   "execution_count": 15,
   "metadata": {},
   "outputs": [],
   "source": [
    "### Write your code here\n",
    "class LogisticRegression():\n",
    "    def __init__(self, X, y):\n",
    "        self.X = X\n",
    "        self.y = y.values.reshape(-1,1)\n",
    "        \n",
    "    def fit(self, max_iter= 100, tolerance=1e-6, lr=0.001):         \n",
    "        # generate a random Beta matrix for 1st iteration\n",
    "        B = np.zeros((self.X.shape[1],1)) \n",
    "        \n",
    "        ## define optimizer\n",
    "        optim = Optimization(self.X, self.y, Loss.cross_entropy_loss)\n",
    "        B, loss, test_loss = optim.newton_optimization(B, max_iter, tolerance, lr)\n",
    "        self.B = B\n",
    "        return B,loss,test_loss\n",
    "    \n",
    "    def predict(self,X):\n",
    "        scores = np.matmul(X,self.B)\n",
    "        return 1./(1+np.exp(-scores))"
   ]
  },
  {
   "cell_type": "code",
   "execution_count": 16,
   "metadata": {},
   "outputs": [],
   "source": [
    "#Splititng data into x and y\n",
    "X = log_reg_data.iloc[:,1:]\n",
    "y = log_reg_data.iloc[:,0]\n",
    "#let's split the data into a training and testing set\n",
    "X_train, X_test, y_train, y_test = train_test_split(X, y, test_size=0.2, random_state=42)\n",
    "#Normalizing the data\n",
    "X_train_normalized = Functions().normalize_features(X_train)\n",
    "X_test_normalized = Functions().normalize_features(X_test)\n",
    "# fitting the model\n",
    "log_reg_model = LogisticRegression(X_train_normalized,y_train)\n",
    "log_reg_model_params,train_loss,test_loss = log_reg_model.fit()"
   ]
  },
  {
   "cell_type": "code",
   "execution_count": 17,
   "metadata": {},
   "outputs": [],
   "source": [
    "log_reg_model_preds = log_reg_model.predict(X_test_normalized)\n",
    "accuracy,P,R,F,c = Functions().calculate_metrics(y_test,(log_reg_model_preds>0.5).reshape(-1))"
   ]
  },
  {
   "cell_type": "code",
   "execution_count": 18,
   "metadata": {},
   "outputs": [
    {
     "name": "stdout",
     "output_type": "stream",
     "text": [
      "The accuracy of the model is 0.9210526315789473\n",
      "The Precision of the model is 0.9473684210526315\n",
      "The Recall of the model is 0.8372093023255814\n",
      "The F-Score of the model is 0.8888888888888888\n",
      "The Confusion Matrix formed by the model is \n",
      " [[69.  2.]\n",
      " [ 7. 36.]]\n"
     ]
    }
   ],
   "source": [
    "print('The accuracy of the model is',accuracy)\n",
    "print('The Precision of the model is',P)\n",
    "print('The Recall of the model is',R)\n",
    "print('The F-Score of the model is',F)\n",
    "print('The Confusion Matrix formed by the model is \\n',c)"
   ]
  },
  {
   "cell_type": "code",
   "execution_count": 19,
   "metadata": {},
   "outputs": [
    {
     "data": {
      "image/png": "[encoded data removed]",
      "text/plain": [
       "<Figure size 1200x600 with 1 Axes>"
      ]
     },
     "metadata": {},
     "output_type": "display_data"
    }
   ],
   "source": [
    "#Trajectory of the Loss\n",
    "plt.figure(figsize=(12,6))\n",
    "plt.plot(np.arange(len(train_loss)),train_loss,color='red',label='Training Loss')\n",
    "plt.plot(np.arange(len(test_loss)),test_loss,color='orange',label='Testing Loss')\n",
    "plt.title('Trajectory of Training and Testing Loss of Logistic Regression');\n",
    "plt.xlabel('Number of Iterations');\n",
    "plt.ylabel('Cross Entropy Loss');\n",
    "plt.legend();\n",
    "plt.grid('on');"
   ]
  },
  {
   "cell_type": "markdown",
   "metadata": {},
   "source": [
    "**Point to Ponder**\n",
    "\n",
    "Read about precision, recall and F-score. Suppose model A and model B both have same accuracy, but model B has a higher F-score, which model would be suited? "
   ]
  },
  {
   "cell_type": "markdown",
   "metadata": {},
   "source": [
    "**Answer:** The model B would be more suited. Even though both models have the same accuracy, model B has a higher F-score. The F-score is a measure of a test's accuracy and considers both the precision and the recall of the test. Precision is the number of true positive results divided by the number of all positive results, while recall is the number of true positive results divided by the number of positive results that should have been returned.\n",
    "\n",
    "Therefore, a higher F-score suggests that model B has a better balance of precision and recall, making it more reliable in a wider range of situations. This is especially important in cases where false positives and false negatives have different costs."
   ]
  },
  {
   "cell_type": "markdown",
   "metadata": {},
   "source": [
    "### Part 4"
   ]
  },
  {
   "cell_type": "markdown",
   "metadata": {},
   "source": [
    "**Discriminant Analysis**\n",
    "\n",
    "In this part of the assignment you will implement linear and quadratic discriminant analysis classifiers on the iris dataset *from scratch*. Again, this should follow an object oriented method of implementation where you need 2 classes $\\textbf{LDA()}$ and $\\textbf{QDA()}$ with the associated $\\textbf{fit()}$ and $\\textbf{predict()}$ methods.\n"
   ]
  },
  {
   "cell_type": "code",
   "execution_count": 20,
   "metadata": {},
   "outputs": [],
   "source": [
    "from sklearn import datasets\n",
    "import pandas as pd\n",
    "import numpy as np\n",
    "iris = datasets.load_iris()\n",
    "df_iris = pd.DataFrame(np.hstack([iris.data,iris.target[...,np.newaxis]]),columns=['X1', 'X2', 'X3', 'X4', \"Y\"])\n",
    "\n",
    "#let's separate features\n",
    "X = df_iris.iloc[:,:-1] #separate independent variables \n",
    "y = df_iris.iloc[:,-1].values #separate target variables "
   ]
  },
  {
   "cell_type": "code",
   "execution_count": 21,
   "metadata": {},
   "outputs": [],
   "source": [
    "### Write your code here\n",
    "#For QDA\n",
    "class QDA:\n",
    "    def __init__(self,X,y):\n",
    "        #initializing the class\n",
    "        self.X = X\n",
    "        self.y = y\n",
    "        self.classes = np.unique(self.y)\n",
    "        self.num_classes = len(np.unique(self.y))\n",
    "    \n",
    "    #function to estimate the best parameters and make the model\n",
    "    def fit(self):\n",
    "        #first define the mean\n",
    "        mean_k = [] #list that will store the mean of each class\n",
    "        sigma_k = [] #list that will store the covariance matrix of each class\n",
    "        pi_k = [] #list that will store the pi values for all the class K\n",
    "        for k in self.classes: #iterating over each class and storing its estimates\n",
    "            ind = self.y == k #indices where y belongs to class K\n",
    "            xk = self.X[ind] #X's for class k\n",
    "            mean_k.append(xk.mean(axis=0)) #mean with respect to class K\n",
    "            sigma_k.append(np.cov(xk,bias=True,rowvar=False)) #covariance matrix with respect to class K\n",
    "            pi_k.append(len(xk)/len(self.X)) #pi_k for the class K\n",
    "        self.mean_k,self.sigma_k,self.pi_k = mean_k,sigma_k,pi_k\n",
    "        return self.mean_k,self.sigma_k,self.pi_k\n",
    "    \n",
    "    #output the class of the data according to discriminant analysis\n",
    "    def predict(self,X):\n",
    "        mean_k,sigma_k,pi_k = self.mean_k,self.sigma_k,self.pi_k\n",
    "        delta_k = [] #this will record the predicted class for each variable\n",
    "        for x in X: #iterating over each observation \n",
    "            delta_x = [] #empty list to store delta_k for each observtion\n",
    "            for k in range(self.num_classes): #iterating over each class\n",
    "                diff = x - mean_k[k] \n",
    "                mahalanobis_distance = diff.T @ np.linalg.inv(sigma_k[k]) @ diff\n",
    "                d = -1/2*np.log(np.linalg.det(sigma_k[k]))-1/2*mahalanobis_distance+np.log(pi_k[k])\n",
    "                delta_x.append(d) #append the kth delta_k value of observation\n",
    "            delta_k.append(np.argmax(delta_x)) #append all values of delta_k of each variable in a list\n",
    "        return np.array(delta_k)\n",
    "    \n",
    "#For LDA\n",
    "class LDA:\n",
    "    def __init__(self,X,y):\n",
    "        self.X = X\n",
    "        self.y = y\n",
    "        self.num_features = X.shape[1]\n",
    "        self.num_classes = len(np.unique(self.y))\n",
    "    \n",
    "    #function to estimate the best parameters and make the model\n",
    "    def fit(self):\n",
    "        # since LDA is almost similar to QDA, we will estimate the parameters by using the QDA class\n",
    "        qda = QDA(self.X,self.y)\n",
    "        mean_k,sigma_k,pi_k = qda.fit()\n",
    "        # now we will take the weighted sum of the cov matrix\n",
    "        sigma = np.zeros(shape=(self.num_features,self.num_features))\n",
    "        for k in range(self.num_classes):\n",
    "            sigma = np.add(sigma,pi_k[k] * sigma_k[k])\n",
    "        self.mean_k,self.sigma,self.pi_k = mean_k,sigma,pi_k\n",
    "        return self.mean_k,self.sigma,self.pi_k\n",
    "            \n",
    "    \n",
    "    #output the class of the data according to discriminant analysis\n",
    "    def predict(self,X):\n",
    "        mean_k,sigma,pi_k = self.mean_k,self.sigma,self.pi_k\n",
    "        delta_k = [] #this will record the predicted class for each variable\n",
    "        for x in X: #iterating over each observation \n",
    "            delta_x = [] #empty list to store delta_k for each observtion\n",
    "            for k in range(self.num_classes): #iterating over each class\n",
    "                diff = x - mean_k[k]\n",
    "                mahalanobis_distance = diff.T @ np.linalg.inv(sigma) @ diff\n",
    "                d = -1/2*np.log(np.linalg.det(sigma))-1/2*mahalanobis_distance+np.log(pi_k[k])\n",
    "                delta_x.append(d) #append the kth delta_k value of observation\n",
    "            delta_k.append(np.argmax(delta_x)) #append all values of delta_k of each variable in a list\n",
    "        return np.array(delta_k)"
   ]
  },
  {
   "cell_type": "code",
   "execution_count": 22,
   "metadata": {},
   "outputs": [],
   "source": [
    "## let's split the data into a training and testing set\n",
    "X_train, X_test, y_train, y_test = train_test_split(X, y, test_size=0.2, random_state=42)"
   ]
  },
  {
   "cell_type": "code",
   "execution_count": 23,
   "metadata": {},
   "outputs": [],
   "source": [
    "#For QDA\n",
    "qda_model = QDA(X_train,y_train)\n",
    "#train it\n",
    "qda_model.fit();\n",
    "#obtaining predictions\n",
    "qda_pred = qda_model.predict(X_test.values)\n",
    "\n",
    "#For LDA\n",
    "#defining the model\n",
    "lda_model = LDA(X_train,y_train)\n",
    "#estimating the parameters\n",
    "lda_model.fit()\n",
    "#predicting on the test set\n",
    "lda_pred = lda_model.predict(X_test.values)"
   ]
  },
  {
   "cell_type": "code",
   "execution_count": 24,
   "metadata": {},
   "outputs": [],
   "source": [
    "#let's calculate the test accuracies of both LDA and QDA\n",
    "def calculate_accuracy(true, pred):\n",
    "    accuracy = np.sum(true == pred)/len(pred)\n",
    "    #accuracy = 1-np.sum(np.abs(np.subtract(pred,true)))/len(pred)\n",
    "    return np.round(accuracy,3)"
   ]
  },
  {
   "cell_type": "code",
   "execution_count": 25,
   "metadata": {},
   "outputs": [
    {
     "name": "stdout",
     "output_type": "stream",
     "text": [
      "The Test Accuracy of the QDA model is 0.967\n",
      "The Test Accuracy of the LDA model is 1.0\n"
     ]
    }
   ],
   "source": [
    "print('The Test Accuracy of the QDA model is',calculate_accuracy(y_test,qda_pred))\n",
    "print('The Test Accuracy of the LDA model is',calculate_accuracy(y_test,lda_pred))"
   ]
  },
  {
   "cell_type": "markdown",
   "metadata": {},
   "source": [
    "**Evaluation**\n",
    "\n",
    "Compare your implementation with those of sklearn Library, both in terms of accuracy and timing. Visualize all comparisons in a meaningful manner."
   ]
  },
  {
   "cell_type": "code",
   "execution_count": 26,
   "metadata": {},
   "outputs": [
    {
     "name": "stdout",
     "output_type": "stream",
     "text": [
      "The Test Accuracy of the Sklearn QDA model is 0.967\n",
      "The Test Accuracy of the Sklearn LDA model is 1.0\n"
     ]
    }
   ],
   "source": [
    "### Write your code here\n",
    "from sklearn.discriminant_analysis import QuadraticDiscriminantAnalysis, LinearDiscriminantAnalysis\n",
    "sklearn_lda = LinearDiscriminantAnalysis()\n",
    "sklearn_lda.fit(X_train,y_train)\n",
    "sklearn_qda = QuadraticDiscriminantAnalysis()\n",
    "sklearn_qda.fit(X_train,y_train)\n",
    "\n",
    "print('The Test Accuracy of the Sklearn QDA model is',calculate_accuracy(y_test,sklearn_qda.predict(X_test)))\n",
    "print('The Test Accuracy of the Sklearn LDA model is',calculate_accuracy(y_test,sklearn_lda.predict(X_test)))"
   ]
  },
  {
   "cell_type": "markdown",
   "metadata": {},
   "source": [
    "Our implementation matches the Sklearn's implementation"
   ]
  },
  {
   "cell_type": "code",
   "execution_count": null,
   "metadata": {},
   "outputs": [],
   "source": []
  }
 ],
 "metadata": {
  "kernelspec": {
   "display_name": "Python 3 (ipykernel)",
   "language": "python",
   "name": "python3"
  },
  "language_info": {
   "codemirror_mode": {
    "name": "ipython",
    "version": 3
   },
   "file_extension": ".py",
   "mimetype": "text/x-python",
   "name": "python",
   "nbconvert_exporter": "python",
   "pygments_lexer": "ipython3",
   "version": "3.11.3"
  }
 },
 "nbformat": 4,
 "nbformat_minor": 2
}
