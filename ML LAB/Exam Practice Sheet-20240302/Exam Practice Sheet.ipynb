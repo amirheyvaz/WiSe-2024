{
 "cells": [
  {
   "cell_type": "markdown",
   "id": "ff7a20f9",
   "metadata": {},
   "source": [
    "## Question 01"
   ]
  },
  {
   "cell_type": "markdown",
   "id": "879a0f9d",
   "metadata": {},
   "source": [
    "![Alt text](q1_1.png)"
   ]
  },
  {
   "attachments": {},
   "cell_type": "markdown",
   "id": "2986bda1",
   "metadata": {},
   "source": [
    "![Alt text](q1_2.png)"
   ]
  },
  {
   "cell_type": "code",
   "execution_count": 34,
   "id": "f2ca9053",
   "metadata": {},
   "outputs": [],
   "source": [
    "import numpy as np\n",
    "import math\n",
    "import matplotlib.pyplot as plt\n",
    "\n",
    "class throw_LN:\n",
    "    def __init__(self, X, Y) -> None:\n",
    "        self.X = np.c_[np.ones(X.shape[0]), X, np.power(X, 2)]\n",
    "        self.Y = Y.reshape(-1, 1)\n",
    "        self.G = 9.81\n",
    "    \n",
    "    def fit(self):\n",
    "        A = np.matmul(self.X.T,self.X)\n",
    "        b = np.matmul(self.X.T,self.Y)\n",
    "        self.betha = np.linalg.solve(A, b)\n",
    "    \n",
    "    def predict(self, X):\n",
    "        return X @ self.betha\n",
    "    \n",
    "    def plot(self):\n",
    "        fig, ax = plt.subplots()\n",
    "        Xs = np.linspace(0, 20, 10)\n",
    "        Xs = np.c_[np.ones(Xs.shape[0]), Xs, np.power(Xs, 2)]\n",
    "        Ys = self.predict(Xs)\n",
    "        ax.plot(Xs[:, 1], Ys, label=\"fit\", c='b')\n",
    "        ax.scatter(self.X[:,1], self.Y, label=\"data\", c='r')\n",
    "        ax.set_xlabel(\"X\")\n",
    "        ax.set_ylabel(\"Y\")\n",
    "        ax.set_xlim(-2, 22)\n",
    "        plt.legend()\n",
    "        plt.show()"
   ]
  },
  {
   "cell_type": "code",
   "execution_count": 35,
   "id": "0e008550",
   "metadata": {},
   "outputs": [
    {
     "name": "stdout",
     "output_type": "stream",
     "text": [
      "[[ 1.575]\n",
      " [ 0.621]\n",
      " [-0.035]]\n"
     ]
    }
   ],
   "source": [
    "X = np.array([5,10,15,20])\n",
    "Y = np.array([3.8,4.3,3.0,0])\n",
    "regressor = throw_LN(X, Y)\n",
    "regressor.fit()\n",
    "print(regressor.betha)"
   ]
  },
  {
   "cell_type": "code",
   "execution_count": 36,
   "id": "963ff88a",
   "metadata": {},
   "outputs": [
    {
     "data": {
      "image/png": "[encoded data removed]",
      "text/plain": [
       "<Figure size 640x480 with 1 Axes>"
      ]
     },
     "metadata": {},
     "output_type": "display_data"
    }
   ],
   "source": [
    "regressor.plot()\n"
   ]
  },
  {
   "cell_type": "code",
   "execution_count": 38,
   "id": "b569aa4d",
   "metadata": {},
   "outputs": [
    {
     "name": "stdout",
     "output_type": "stream",
     "text": [
      "16.065842018994456\n"
     ]
    }
   ],
   "source": [
    "bethas = regressor.betha.squeeze()\n",
    "g = 9.81\n",
    "y_0 = bethas[0]\n",
    "theta_0 = np.arctan(bethas[1])\n",
    "v_0 = np.sqrt(-g/(2*bethas[2]*np.cos(theta_0)**2))\n",
    "mae = np.sum(np.abs(\n",
    "    np.array([y_0 , theta_0, v_0]), np.array([1.8, np.deg2rad(30), 14])\n",
    "))\n",
    "print(mae)"
   ]
  },
  {
   "cell_type": "markdown",
   "id": "36567b84",
   "metadata": {},
   "source": [
    "## Question 2"
   ]
  },
  {
   "cell_type": "markdown",
   "id": "a5046a33",
   "metadata": {},
   "source": [
    "For the below dataset. Try to build an ensemble model using logistic regression. You have to select subset of features and instances and fit a logistic regression model. You can take number of logistic regression models to be 10. To get final output, perform soft voting (take the average of the probabilities and then apply the thereshold)\n",
    "\n",
    "Note: You can use sklearn for this part"
   ]
  },
  {
   "cell_type": "code",
   "execution_count": 45,
   "id": "f6acdcb0",
   "metadata": {},
   "outputs": [],
   "source": [
    "import pandas as pd\n",
    "from sklearn.model_selection import train_test_split\n",
    "from sklearn.linear_model import LogisticRegression\n",
    "from sklearn.metrics import accuracy_score\n",
    "# Load the dataset into a pandas DataFrame\n",
    "diabetes_data = pd.read_csv('diabetes.csv', header=0, index_col=None)\n",
    "Xs = diabetes_data.iloc[:, :-1]\n",
    "Ys = diabetes_data.iloc[:, -1]\n",
    "X_train, X_test, y_train, y_test = train_test_split(Xs, Ys, test_size=0.33, random_state=42)\n"
   ]
  },
  {
   "cell_type": "code",
   "execution_count": 58,
   "id": "b63da1e9",
   "metadata": {},
   "outputs": [],
   "source": [
    "models = []\n",
    "features = Xs.columns\n",
    "for i in range(10):\n",
    "    selected_features = features[\n",
    "        np.random.choice(\n",
    "            range(0, len(features)), size=4, replace=False\n",
    "        )\n",
    "    ]\n",
    "    model = LogisticRegression(penalty='l2')\n",
    "    model.fit(X_train.loc[:, selected_features], y_train)\n",
    "    models.append((model, selected_features))"
   ]
  },
  {
   "cell_type": "code",
   "execution_count": 68,
   "id": "0f9c47e8",
   "metadata": {},
   "outputs": [
    {
     "name": "stdout",
     "output_type": "stream",
     "text": [
      "0.7598425196850394\n"
     ]
    }
   ],
   "source": [
    "probs = []\n",
    "for model, selected_features in models:\n",
    "    probs.append(\n",
    "        model.predict_proba(X_test.loc[:, selected_features])\n",
    "    )\n",
    "probs = np.array(probs)\n",
    "probs = np.average(probs, axis=0)\n",
    "probs = np.argmax(probs, axis=-1)\n",
    "print(accuracy_score(y_test, probs))"
   ]
  },
  {
   "cell_type": "markdown",
   "id": "796ef795",
   "metadata": {},
   "source": [
    "## Question 3"
   ]
  },
  {
   "cell_type": "markdown",
   "id": "f996920f",
   "metadata": {},
   "source": [
    "For the below data, fit a SVM model to dataset. Later, transform the features using PCA to 2-D and then perform SVM. Compare the performance between the two approaches. Do not forget to scale the features before applying PCA. (Use Sklearn) "
   ]
  },
  {
   "cell_type": "code",
   "execution_count": 71,
   "id": "44839c18",
   "metadata": {},
   "outputs": [],
   "source": [
    "from sklearn.datasets import load_wine\n",
    "data = load_wine()\n",
    "X = data.data\n",
    "y = data.target\n",
    "X_train, X_test, y_train, y_test = train_test_split(X, y, test_size=0.33, random_state=42)\n"
   ]
  },
  {
   "cell_type": "code",
   "execution_count": 72,
   "id": "e9813e4d",
   "metadata": {},
   "outputs": [
    {
     "name": "stdout",
     "output_type": "stream",
     "text": [
      "0.711864406779661\n"
     ]
    }
   ],
   "source": [
    "from sklearn.svm import SVC\n",
    "\n",
    "svm = SVC()\n",
    "svm.fit(X_train, y_train)\n",
    "acc = accuracy_score(y_test, \n",
    "                    svm.predict(X_test))\n",
    "print(acc)"
   ]
  },
  {
   "cell_type": "code",
   "execution_count": 79,
   "id": "b28cd450",
   "metadata": {},
   "outputs": [
    {
     "name": "stdout",
     "output_type": "stream",
     "text": [
      "1.0\n"
     ]
    }
   ],
   "source": [
    "from sklearn.preprocessing import StandardScaler\n",
    "from sklearn.decomposition import PCA\n",
    "data = load_wine()\n",
    "X = data.data\n",
    "y = data.target\n",
    "X_train, X_test, y_train, y_test = train_test_split(X, y, test_size=0.33, random_state=42)\n",
    "scaler = StandardScaler()\n",
    "X_train_scaled = scaler.fit_transform(X_train)\n",
    "X_test_scaled = scaler.transform(X_test)\n",
    "pca = PCA(n_components=2)\n",
    "X_train_2D = pca.fit_transform(X_train_scaled)\n",
    "X_test_2D = pca.transform(X_test_scaled)\n",
    "svm = SVC()\n",
    "svm.fit(X_train_2D, y_train)\n",
    "acc = accuracy_score(y_test, \n",
    "                    svm.predict(X_test_2D))\n",
    "print(acc)"
   ]
  },
  {
   "cell_type": "code",
   "execution_count": null,
   "id": "27619b2b",
   "metadata": {},
   "outputs": [],
   "source": []
  }
 ],
 "metadata": {
  "kernelspec": {
   "display_name": "Python 3 (ipykernel)",
   "language": "python",
   "name": "python3"
  },
  "language_info": {
   "codemirror_mode": {
    "name": "ipython",
    "version": 3
   },
   "file_extension": ".py",
   "mimetype": "text/x-python",
   "name": "python",
   "nbconvert_exporter": "python",
   "pygments_lexer": "ipython3",
   "version": "3.11.3"
  }
 },
 "nbformat": 4,
 "nbformat_minor": 5
}
