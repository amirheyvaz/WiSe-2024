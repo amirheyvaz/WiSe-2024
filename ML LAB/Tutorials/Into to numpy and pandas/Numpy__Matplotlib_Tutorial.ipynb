{
 "cells": [
  {
   "cell_type": "markdown",
   "id": "8c9e1b2c",
   "metadata": {},
   "source": [
    "### Programming Machine Learning Lab\n",
    "\n",
    "### Data Science Group, University of Hildesheim"
   ]
  },
  {
   "cell_type": "code",
   "execution_count": 1,
   "id": "c674f198",
   "metadata": {
    "id": "c674f198"
   },
   "outputs": [],
   "source": [
    "import numpy as np\n",
    "import matplotlib.pyplot as plt"
   ]
  },
  {
   "cell_type": "markdown",
   "id": "098a96df",
   "metadata": {},
   "source": [
    "## Basic operations in Numpy"
   ]
  },
  {
   "cell_type": "markdown",
   "id": "4ff845c4",
   "metadata": {},
   "source": [
    "#### Generate a numpy array\n",
    "#### Print the array and its shape"
   ]
  },
  {
   "cell_type": "code",
   "execution_count": 3,
   "id": "cbcaa69d",
   "metadata": {
    "id": "cbcaa69d",
    "outputId": "5020e053-3136-46ff-9d76-74981df52991"
   },
   "outputs": [
    {
     "name": "stdout",
     "output_type": "stream",
     "text": [
      "[10  7  1  9 20 11 15 75]\n",
      "(8,)\n"
     ]
    }
   ],
   "source": [
    "x=np.array([10,7,1,9,20,11,15,75])\n",
    "print(x)\n",
    "print(x.shape)"
   ]
  },
  {
   "cell_type": "markdown",
   "id": "0f8f8997",
   "metadata": {},
   "source": [
    "### arange command gets integers in $[0,n-1]$ . arange(10) means from 0 to 9.\n",
    "### Also, the general syntax is arange(start,stop,step size). The stop value is not included."
   ]
  },
  {
   "cell_type": "code",
   "execution_count": 4,
   "id": "43ddaa0a",
   "metadata": {
    "id": "43ddaa0a",
    "outputId": "ca57a289-832d-4933-d642-b8a0eae66d83"
   },
   "outputs": [
    {
     "data": {
      "text/plain": [
       "array([0, 1, 2, 3, 4, 5, 6, 7, 8, 9])"
      ]
     },
     "execution_count": 4,
     "metadata": {},
     "output_type": "execute_result"
    }
   ],
   "source": [
    "y=np.arange(10)\n",
    "y"
   ]
  },
  {
   "cell_type": "code",
   "execution_count": 5,
   "id": "15b1e4f0",
   "metadata": {
    "id": "15b1e4f0",
    "outputId": "69b440b2-0245-4289-9692-53a08b762dc4"
   },
   "outputs": [
    {
     "data": {
      "text/plain": [
       "array([ 0,  2,  4,  6,  8, 10, 12, 14, 16, 18, 20, 22, 24, 26, 28])"
      ]
     },
     "execution_count": 5,
     "metadata": {},
     "output_type": "execute_result"
    }
   ],
   "source": [
    "z=np.arange(0,30,2)\n",
    "z"
   ]
  },
  {
   "cell_type": "markdown",
   "id": "b7f5a3e6",
   "metadata": {
    "id": "83a12e76"
   },
   "source": [
    "### Declare a 2D array and get its shape."
   ]
  },
  {
   "cell_type": "code",
   "execution_count": 7,
   "id": "84b60239",
   "metadata": {
    "id": "84b60239",
    "outputId": "3da5214c-d6ed-4884-e81a-d1a212a18c11"
   },
   "outputs": [
    {
     "name": "stdout",
     "output_type": "stream",
     "text": [
      "[[1 2 3]\n",
      " [4 5 6]\n",
      " [7 8 9]]\n",
      "(3, 3)\n"
     ]
    }
   ],
   "source": [
    "x2d=np.array([[1,2,3],[4,5,6],[7,8,9]])\n",
    "print(x2d)\n",
    "rc=x2d.shape\n",
    "print(rc)"
   ]
  },
  {
   "cell_type": "markdown",
   "id": "373773a7",
   "metadata": {},
   "source": [
    "### Generate a matrix of ones/zeros by passing shape as tuple"
   ]
  },
  {
   "cell_type": "code",
   "execution_count": 8,
   "id": "36476fcb",
   "metadata": {
    "id": "36476fcb",
    "outputId": "cd0f267e-8704-4edd-d009-cd1cd8aa9637"
   },
   "outputs": [
    {
     "name": "stdout",
     "output_type": "stream",
     "text": [
      "[[1. 1. 1.]]\n"
     ]
    }
   ],
   "source": [
    "a=np.ones((1,3))\n",
    "print(a)"
   ]
  },
  {
   "cell_type": "code",
   "execution_count": 9,
   "id": "a037f60a",
   "metadata": {
    "id": "a037f60a",
    "outputId": "db860cc0-b977-4806-f5ff-25a3b92df549"
   },
   "outputs": [
    {
     "name": "stdout",
     "output_type": "stream",
     "text": [
      "[0. 0. 0.]\n"
     ]
    }
   ],
   "source": [
    "b=np.zeros(3)\n",
    "print(b)"
   ]
  },
  {
   "cell_type": "markdown",
   "id": "54d7f2a6",
   "metadata": {},
   "source": [
    "### Type casting the arrays to different data types."
   ]
  },
  {
   "cell_type": "code",
   "execution_count": 10,
   "id": "f126512f",
   "metadata": {
    "id": "f126512f",
    "outputId": "1eb08ebd-6bb9-42f7-8030-0f707b62330c"
   },
   "outputs": [
    {
     "data": {
      "text/plain": [
       "array([ 3.7, -1.2, -2.6,  0.5, 12.9, 10.1])"
      ]
     },
     "execution_count": 10,
     "metadata": {},
     "output_type": "execute_result"
    }
   ],
   "source": [
    "arr = np.array([3.7, -1.2, -2.6, 0.5, 12.9, 10.1])\n",
    "arr"
   ]
  },
  {
   "cell_type": "code",
   "execution_count": 11,
   "id": "22040a5f",
   "metadata": {
    "id": "22040a5f",
    "outputId": "27403afd-534f-4272-f28e-aeb93fb9d4d2"
   },
   "outputs": [
    {
     "data": {
      "text/plain": [
       "array([ 3, -1, -2,  0, 12, 10])"
      ]
     },
     "execution_count": 11,
     "metadata": {},
     "output_type": "execute_result"
    }
   ],
   "source": [
    "arr.astype(np.int32)"
   ]
  },
  {
   "cell_type": "code",
   "execution_count": 12,
   "id": "8d8f5a21",
   "metadata": {
    "id": "8d8f5a21"
   },
   "outputs": [],
   "source": [
    "strings = np.array(['1.25', '-9.6', '42'], dtype=np.string_)"
   ]
  },
  {
   "cell_type": "code",
   "execution_count": 13,
   "id": "efd70739",
   "metadata": {
    "id": "efd70739",
    "outputId": "30ae516b-2db9-4679-e7e2-b2d39f5dcb79"
   },
   "outputs": [
    {
     "data": {
      "text/plain": [
       "array([ 1.25, -9.6 , 42.  ])"
      ]
     },
     "execution_count": 13,
     "metadata": {},
     "output_type": "execute_result"
    }
   ],
   "source": [
    "strings.astype(np.float64)"
   ]
  },
  {
   "cell_type": "markdown",
   "id": "5eaf9f0a",
   "metadata": {
    "id": "5eaf9f0a"
   },
   "source": [
    "## Vectorised operations in numpy."
   ]
  },
  {
   "cell_type": "code",
   "execution_count": 14,
   "id": "9575d438",
   "metadata": {
    "id": "9575d438",
    "outputId": "c14e7004-443c-42aa-e532-79819eda7cd5"
   },
   "outputs": [
    {
     "data": {
      "text/plain": [
       "array([[1., 2., 3.],\n",
       "       [4., 5., 6.]])"
      ]
     },
     "execution_count": 14,
     "metadata": {},
     "output_type": "execute_result"
    }
   ],
   "source": [
    "arr = np.array([[1., 2., 3.], [4., 5., 6.]])\n",
    "arr"
   ]
  },
  {
   "cell_type": "markdown",
   "id": "843c5527",
   "metadata": {},
   "source": [
    "#### Compute $arr^2$"
   ]
  },
  {
   "cell_type": "code",
   "execution_count": 15,
   "id": "55a7dff6",
   "metadata": {
    "id": "55a7dff6",
    "outputId": "92adaada-640e-467c-af6e-c533cdafb3af"
   },
   "outputs": [
    {
     "data": {
      "text/plain": [
       "array([[ 1.,  4.,  9.],\n",
       "       [16., 25., 36.]])"
      ]
     },
     "execution_count": 15,
     "metadata": {},
     "output_type": "execute_result"
    }
   ],
   "source": [
    "arr*arr"
   ]
  },
  {
   "cell_type": "markdown",
   "id": "cfbfe370",
   "metadata": {},
   "source": [
    "#### Compute $\\frac{arr}{2}$"
   ]
  },
  {
   "cell_type": "code",
   "execution_count": 16,
   "id": "bf07050d",
   "metadata": {
    "id": "bf07050d",
    "outputId": "4f543eee-da6a-417c-df44-12b22f7ddc66"
   },
   "outputs": [
    {
     "data": {
      "text/plain": [
       "array([[0.5, 1. , 1.5],\n",
       "       [2. , 2.5, 3. ]])"
      ]
     },
     "execution_count": 16,
     "metadata": {},
     "output_type": "execute_result"
    }
   ],
   "source": [
    "arr/2"
   ]
  },
  {
   "cell_type": "markdown",
   "id": "9669a48b",
   "metadata": {},
   "source": [
    "#### Compute $\\sqrt{arr}$"
   ]
  },
  {
   "cell_type": "code",
   "execution_count": 17,
   "id": "17f8f460",
   "metadata": {
    "id": "17f8f460",
    "outputId": "2c481dcb-eb8e-40a7-eb3c-ca3b78c8181a"
   },
   "outputs": [
    {
     "data": {
      "text/plain": [
       "array([[1.        , 1.41421356, 1.73205081],\n",
       "       [2.        , 2.23606798, 2.44948974]])"
      ]
     },
     "execution_count": 17,
     "metadata": {},
     "output_type": "execute_result"
    }
   ],
   "source": [
    "np.sqrt(arr)"
   ]
  },
  {
   "cell_type": "markdown",
   "id": "4b7beaa8",
   "metadata": {},
   "source": [
    "#### Compute $e^{arr}$"
   ]
  },
  {
   "cell_type": "code",
   "execution_count": 18,
   "id": "be9ada80",
   "metadata": {
    "id": "be9ada80",
    "outputId": "5f7a752b-1dcc-450c-eba2-5e6ae1bebe60"
   },
   "outputs": [
    {
     "data": {
      "text/plain": [
       "array([[  2.71828183,   7.3890561 ,  20.08553692],\n",
       "       [ 54.59815003, 148.4131591 , 403.42879349]])"
      ]
     },
     "execution_count": 18,
     "metadata": {},
     "output_type": "execute_result"
    }
   ],
   "source": [
    "np.exp(arr)"
   ]
  },
  {
   "cell_type": "markdown",
   "id": "811d669f",
   "metadata": {},
   "source": [
    "#### Compute $sin(arr)$"
   ]
  },
  {
   "cell_type": "code",
   "execution_count": 19,
   "id": "686ac43d",
   "metadata": {
    "id": "686ac43d",
    "outputId": "fec5996d-507a-4e34-a5bf-9f4b11046233"
   },
   "outputs": [
    {
     "data": {
      "text/plain": [
       "array([[ 0.84147098,  0.90929743,  0.14112001],\n",
       "       [-0.7568025 , -0.95892427, -0.2794155 ]])"
      ]
     },
     "execution_count": 19,
     "metadata": {},
     "output_type": "execute_result"
    }
   ],
   "source": [
    "np.sin(arr)"
   ]
  },
  {
   "cell_type": "markdown",
   "id": "d84fdb13",
   "metadata": {
    "id": "d84fdb13"
   },
   "source": [
    "## Numpy indexing and slicing."
   ]
  },
  {
   "cell_type": "code",
   "execution_count": 20,
   "id": "9f28934c",
   "metadata": {
    "id": "9f28934c",
    "outputId": "e2f517ca-31d1-49c6-edec-080a53ad0cc6"
   },
   "outputs": [
    {
     "data": {
      "text/plain": [
       "array([1, 2, 3, 4, 5, 6, 7, 8, 9])"
      ]
     },
     "execution_count": 20,
     "metadata": {},
     "output_type": "execute_result"
    }
   ],
   "source": [
    "arr = np.arange(1,10)\n",
    "arr"
   ]
  },
  {
   "cell_type": "markdown",
   "id": "173345d9",
   "metadata": {},
   "source": [
    "Get element at index 3."
   ]
  },
  {
   "cell_type": "code",
   "execution_count": 21,
   "id": "a809a353",
   "metadata": {
    "id": "a809a353",
    "outputId": "353235b7-62d1-47d1-f9cd-5fbfe9e8b15f"
   },
   "outputs": [
    {
     "data": {
      "text/plain": [
       "4"
      ]
     },
     "execution_count": 21,
     "metadata": {},
     "output_type": "execute_result"
    }
   ],
   "source": [
    "arr[3]"
   ]
  },
  {
   "cell_type": "markdown",
   "id": "7e52d2b9",
   "metadata": {},
   "source": [
    "-2 means 2nd element from the end."
   ]
  },
  {
   "cell_type": "code",
   "execution_count": 22,
   "id": "dfe1a513",
   "metadata": {
    "id": "dfe1a513",
    "outputId": "ba200b98-3fa7-4f6b-bdf9-b974f474d303"
   },
   "outputs": [
    {
     "data": {
      "text/plain": [
       "8"
      ]
     },
     "execution_count": 22,
     "metadata": {},
     "output_type": "execute_result"
    }
   ],
   "source": [
    "arr[-2]"
   ]
  },
  {
   "cell_type": "markdown",
   "id": "e10cae77",
   "metadata": {},
   "source": [
    "Extract index 1,2,3"
   ]
  },
  {
   "cell_type": "code",
   "execution_count": 23,
   "id": "49ccffc7",
   "metadata": {
    "id": "49ccffc7",
    "outputId": "a66c1025-776f-43f2-a88d-21fcc7546d42"
   },
   "outputs": [
    {
     "data": {
      "text/plain": [
       "array([2, 3, 4])"
      ]
     },
     "execution_count": 23,
     "metadata": {},
     "output_type": "execute_result"
    }
   ],
   "source": [
    "arr[1:4]"
   ]
  },
  {
   "cell_type": "markdown",
   "id": "0114315c",
   "metadata": {},
   "source": [
    "Extract index from 4 till end."
   ]
  },
  {
   "cell_type": "code",
   "execution_count": 24,
   "id": "f919bcf9",
   "metadata": {
    "id": "f919bcf9",
    "outputId": "97ad0809-7823-4d93-b8be-aae377d84aee"
   },
   "outputs": [
    {
     "data": {
      "text/plain": [
       "array([5, 6, 7, 8, 9])"
      ]
     },
     "execution_count": 24,
     "metadata": {},
     "output_type": "execute_result"
    }
   ],
   "source": [
    "arr[4:]"
   ]
  },
  {
   "cell_type": "markdown",
   "id": "7886fe56",
   "metadata": {},
   "source": [
    "Extract index from start to 3-1=2"
   ]
  },
  {
   "cell_type": "code",
   "execution_count": 25,
   "id": "cdc7505f",
   "metadata": {
    "id": "cdc7505f",
    "outputId": "d5ceb643-1641-499e-823c-e9d8334d6fc1"
   },
   "outputs": [
    {
     "data": {
      "text/plain": [
       "array([1, 2, 3])"
      ]
     },
     "execution_count": 25,
     "metadata": {},
     "output_type": "execute_result"
    }
   ],
   "source": [
    "arr[:3]"
   ]
  },
  {
   "cell_type": "markdown",
   "id": "6cab6bd0",
   "metadata": {},
   "source": [
    "Extract index from 1 to 4 in steps of 2, that is 1, 3"
   ]
  },
  {
   "cell_type": "code",
   "execution_count": 26,
   "id": "b5a3c311",
   "metadata": {
    "id": "b5a3c311",
    "outputId": "11c700e8-aaab-44f7-ed06-724c9b8eda74"
   },
   "outputs": [
    {
     "data": {
      "text/plain": [
       "array([2, 4])"
      ]
     },
     "execution_count": 26,
     "metadata": {},
     "output_type": "execute_result"
    }
   ],
   "source": [
    "arr[1:5:2]"
   ]
  },
  {
   "cell_type": "markdown",
   "id": "10c4c1fe",
   "metadata": {},
   "source": [
    "Get the elements at index=(1,5,2) in the given order."
   ]
  },
  {
   "cell_type": "code",
   "execution_count": 27,
   "id": "580d3c4c",
   "metadata": {
    "id": "580d3c4c",
    "outputId": "165d9d2a-755f-4164-978b-0ca040f81901"
   },
   "outputs": [
    {
     "data": {
      "text/plain": [
       "array([2, 6, 3])"
      ]
     },
     "execution_count": 27,
     "metadata": {},
     "output_type": "execute_result"
    }
   ],
   "source": [
    "arr[np.array([1,5,2])]"
   ]
  },
  {
   "cell_type": "markdown",
   "id": "e3fe7a4d",
   "metadata": {},
   "source": [
    "Get all index from the start till end, but in steps of 2."
   ]
  },
  {
   "cell_type": "code",
   "execution_count": 28,
   "id": "450646ef",
   "metadata": {
    "id": "450646ef",
    "outputId": "03135593-9760-49cd-bae4-22296b4b6af3"
   },
   "outputs": [
    {
     "data": {
      "text/plain": [
       "array([1, 3, 5, 7, 9])"
      ]
     },
     "execution_count": 28,
     "metadata": {},
     "output_type": "execute_result"
    }
   ],
   "source": [
    "arr[::2]"
   ]
  },
  {
   "cell_type": "markdown",
   "id": "8437eac6",
   "metadata": {},
   "source": [
    "Get index from 1 to end, but in steps of 3"
   ]
  },
  {
   "cell_type": "code",
   "execution_count": 29,
   "id": "203b65b2",
   "metadata": {
    "id": "203b65b2",
    "outputId": "c18098b3-5774-44a8-e1ad-b1af0283a013"
   },
   "outputs": [
    {
     "data": {
      "text/plain": [
       "array([2, 5, 8])"
      ]
     },
     "execution_count": 29,
     "metadata": {},
     "output_type": "execute_result"
    }
   ],
   "source": [
    "arr[1::3]"
   ]
  },
  {
   "cell_type": "markdown",
   "id": "cf47ff68",
   "metadata": {},
   "source": [
    "Reverse the array"
   ]
  },
  {
   "cell_type": "code",
   "execution_count": 30,
   "id": "ce705298",
   "metadata": {
    "id": "ce705298",
    "outputId": "6d3ddb6e-67d5-483e-91c4-a89ad45c0e0a"
   },
   "outputs": [
    {
     "data": {
      "text/plain": [
       "array([9, 8, 7, 6, 5, 4, 3, 2, 1])"
      ]
     },
     "execution_count": 30,
     "metadata": {},
     "output_type": "execute_result"
    }
   ],
   "source": [
    "arr[::-1]"
   ]
  },
  {
   "cell_type": "markdown",
   "id": "f0c314aa",
   "metadata": {
    "id": "f0c314aa"
   },
   "source": [
    "Just as fancy indexing can be used to access parts of an array, it can also be used to\n",
    "modify parts of an array. For example, imagine we have an array of indices and we’d\n",
    "like to set the corresponding items in an array to some value:"
   ]
  },
  {
   "cell_type": "code",
   "execution_count": 31,
   "id": "a0d4b879",
   "metadata": {
    "id": "a0d4b879",
    "outputId": "61dc1c6f-949b-4e3b-8cb6-1f55c83e6f08"
   },
   "outputs": [
    {
     "data": {
      "text/plain": [
       "array([0, 1, 2, 3, 4, 5, 6, 7, 8, 9])"
      ]
     },
     "execution_count": 31,
     "metadata": {},
     "output_type": "execute_result"
    }
   ],
   "source": [
    "x = np.arange(10)\n",
    "i = np.array([2, 1, 8, 4])\n",
    "x"
   ]
  },
  {
   "cell_type": "code",
   "execution_count": 32,
   "id": "6360b1bf",
   "metadata": {
    "id": "6360b1bf",
    "outputId": "a0ba24ba-633d-4402-ca1a-18553d3966d5"
   },
   "outputs": [
    {
     "name": "stdout",
     "output_type": "stream",
     "text": [
      "[ 0 99 99  3 99  5  6  7 99  9]\n"
     ]
    }
   ],
   "source": [
    "x[i] = 99\n",
    "print(x)"
   ]
  },
  {
   "cell_type": "code",
   "execution_count": 33,
   "id": "812f28a4",
   "metadata": {
    "id": "812f28a4",
    "outputId": "a8460cbe-b9c1-46aa-c92d-d8c54c3c3368"
   },
   "outputs": [
    {
     "data": {
      "text/plain": [
       "array([1., 1., 1., 1., 1., 1., 1., 1., 1., 1.])"
      ]
     },
     "execution_count": 33,
     "metadata": {},
     "output_type": "execute_result"
    }
   ],
   "source": [
    "X=np.ones(10)\n",
    "X"
   ]
  },
  {
   "cell_type": "code",
   "execution_count": 34,
   "id": "0a35bdf8",
   "metadata": {
    "id": "0a35bdf8",
    "outputId": "7c1e4445-5277-4dc3-bc61-4bf5ef23cee7"
   },
   "outputs": [
    {
     "data": {
      "text/plain": [
       "array([1., 1., 3., 3., 1., 1., 1., 1., 3., 1.])"
      ]
     },
     "execution_count": 34,
     "metadata": {},
     "output_type": "execute_result"
    }
   ],
   "source": [
    "index=[2,3,8]\n",
    "X[index]*=3\n",
    "X"
   ]
  },
  {
   "cell_type": "markdown",
   "id": "b43cfa94",
   "metadata": {
    "id": "b43cfa94"
   },
   "source": [
    "## 2D Array Slicing"
   ]
  },
  {
   "cell_type": "markdown",
   "id": "3F6SJF5ORhuh",
   "metadata": {
    "id": "3F6SJF5ORhuh"
   },
   "source": [
    "![29.png](data:image/png;base64,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)"
   ]
  },
  {
   "cell_type": "code",
   "execution_count": 35,
   "id": "8e2af864",
   "metadata": {
    "id": "8e2af864",
    "outputId": "42abd362-5190-4fd0-ccdd-4ce429bcc92f"
   },
   "outputs": [
    {
     "data": {
      "text/plain": [
       "array([[ 0,  1,  2,  3],\n",
       "       [ 4,  5,  6,  7],\n",
       "       [ 8,  9, 10, 11]])"
      ]
     },
     "execution_count": 35,
     "metadata": {},
     "output_type": "execute_result"
    }
   ],
   "source": [
    "x=np.arange(12).reshape(3,4)\n",
    "x"
   ]
  },
  {
   "cell_type": "markdown",
   "id": "d241cd21",
   "metadata": {},
   "source": [
    "Element at index(1,2)"
   ]
  },
  {
   "cell_type": "code",
   "execution_count": 36,
   "id": "48ba2931",
   "metadata": {
    "id": "48ba2931",
    "outputId": "fb0cac7e-3e92-444c-eaa3-9258faf16556"
   },
   "outputs": [
    {
     "data": {
      "text/plain": [
       "6"
      ]
     },
     "execution_count": 36,
     "metadata": {},
     "output_type": "execute_result"
    }
   ],
   "source": [
    "x[1,2]"
   ]
  },
  {
   "cell_type": "markdown",
   "id": "53aa6c31",
   "metadata": {},
   "source": [
    "All rows but column 1"
   ]
  },
  {
   "cell_type": "code",
   "execution_count": 37,
   "id": "49e29298",
   "metadata": {
    "id": "49e29298",
    "outputId": "b9a94471-11a7-496f-a049-a45918ac4811"
   },
   "outputs": [
    {
     "data": {
      "text/plain": [
       "array([1, 5, 9])"
      ]
     },
     "execution_count": 37,
     "metadata": {},
     "output_type": "execute_result"
    }
   ],
   "source": [
    "x[:,1]"
   ]
  },
  {
   "cell_type": "markdown",
   "id": "f5e498d0",
   "metadata": {},
   "source": [
    "Row 2 but all columns"
   ]
  },
  {
   "cell_type": "code",
   "execution_count": 38,
   "id": "9c922728",
   "metadata": {
    "id": "9c922728",
    "outputId": "530c8d3c-7d75-4461-a98b-9c24bc126e5c"
   },
   "outputs": [
    {
     "data": {
      "text/plain": [
       "array([ 8,  9, 10, 11])"
      ]
     },
     "execution_count": 38,
     "metadata": {},
     "output_type": "execute_result"
    }
   ],
   "source": [
    "x[2,:]"
   ]
  },
  {
   "cell_type": "markdown",
   "id": "4bc4705d",
   "metadata": {},
   "source": [
    "Row numbers 1,2 and all columns"
   ]
  },
  {
   "cell_type": "code",
   "execution_count": 39,
   "id": "34706c89",
   "metadata": {
    "id": "34706c89",
    "outputId": "6a5ac551-5bae-400d-f950-1c6e2023a664"
   },
   "outputs": [
    {
     "data": {
      "text/plain": [
       "array([[ 4,  5,  6,  7],\n",
       "       [ 8,  9, 10, 11]])"
      ]
     },
     "execution_count": 39,
     "metadata": {},
     "output_type": "execute_result"
    }
   ],
   "source": [
    "x[1:3,:]"
   ]
  },
  {
   "cell_type": "markdown",
   "id": "82371960",
   "metadata": {},
   "source": [
    "Row number 0 and columns from 0 till end but with steps of 2."
   ]
  },
  {
   "cell_type": "code",
   "execution_count": 40,
   "id": "c80fc3da",
   "metadata": {
    "id": "c80fc3da",
    "outputId": "53a1ba35-ae09-4fd6-ec57-5813c1172c8c"
   },
   "outputs": [
    {
     "data": {
      "text/plain": [
       "array([0, 2])"
      ]
     },
     "execution_count": 40,
     "metadata": {},
     "output_type": "execute_result"
    }
   ],
   "source": [
    "x[0,0::2]"
   ]
  },
  {
   "cell_type": "markdown",
   "id": "8fe59b1c",
   "metadata": {},
   "source": [
    "All rows and column 1."
   ]
  },
  {
   "cell_type": "code",
   "execution_count": 41,
   "id": "5d2e62f1",
   "metadata": {
    "id": "5d2e62f1",
    "outputId": "5a050fb4-31c8-4f2f-899a-8a7c96482428"
   },
   "outputs": [
    {
     "data": {
      "text/plain": [
       "array([[1],\n",
       "       [5],\n",
       "       [9]])"
      ]
     },
     "execution_count": 41,
     "metadata": {},
     "output_type": "execute_result"
    }
   ],
   "source": [
    "x[:,1:2]"
   ]
  },
  {
   "cell_type": "markdown",
   "id": "cfc73ae3",
   "metadata": {},
   "source": [
    "Row 2 and all columns"
   ]
  },
  {
   "cell_type": "code",
   "execution_count": 42,
   "id": "d29309e2",
   "metadata": {
    "id": "d29309e2",
    "outputId": "3d78d9bd-9f72-43de-ae8a-391641ce3331"
   },
   "outputs": [
    {
     "data": {
      "text/plain": [
       "array([[ 8,  9, 10, 11]])"
      ]
     },
     "execution_count": 42,
     "metadata": {},
     "output_type": "execute_result"
    }
   ],
   "source": [
    "x[2:3,:]"
   ]
  },
  {
   "cell_type": "markdown",
   "id": "99f515f5",
   "metadata": {},
   "source": [
    "Rows 0,1 and all columns."
   ]
  },
  {
   "cell_type": "code",
   "execution_count": 43,
   "id": "ebe20588",
   "metadata": {
    "id": "ebe20588",
    "outputId": "6f6431bc-f78c-4034-d30b-47f1f62bf57e"
   },
   "outputs": [
    {
     "data": {
      "text/plain": [
       "array([[0, 1, 2, 3],\n",
       "       [4, 5, 6, 7]])"
      ]
     },
     "execution_count": 43,
     "metadata": {},
     "output_type": "execute_result"
    }
   ],
   "source": [
    "x[:2,:]"
   ]
  },
  {
   "cell_type": "markdown",
   "id": "13c9b01b",
   "metadata": {
    "id": "13c9b01b"
   },
   "source": [
    "![28.png](data:image/png;base64,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)"
   ]
  },
  {
   "cell_type": "markdown",
   "id": "bca914d8",
   "metadata": {
    "id": "bca914d8"
   },
   "source": [
    "### Subarrays as no-copy views\n",
    "\n",
    "One important—and extremely useful—thing to know about array slices is that they\n",
    "return views rather than copies of the array data. This is one area in which NumPy\n",
    "array slicing differs from Python list slicing: in lists, slices will be copies."
   ]
  },
  {
   "cell_type": "code",
   "execution_count": 44,
   "id": "47b36f18",
   "metadata": {
    "id": "47b36f18",
    "outputId": "fae60dfc-1836-42de-d961-5826a8390930"
   },
   "outputs": [
    {
     "data": {
      "text/plain": [
       "array([[ 0,  1,  2,  3],\n",
       "       [ 4,  5,  6,  7],\n",
       "       [ 8,  9, 10, 11]])"
      ]
     },
     "execution_count": 44,
     "metadata": {},
     "output_type": "execute_result"
    }
   ],
   "source": [
    "x"
   ]
  },
  {
   "cell_type": "code",
   "execution_count": 45,
   "id": "ecdc428a",
   "metadata": {
    "id": "ecdc428a",
    "outputId": "1a84c188-5fed-429e-c080-e56d6612a8ab"
   },
   "outputs": [
    {
     "data": {
      "text/plain": [
       "array([[0, 1],\n",
       "       [4, 5]])"
      ]
     },
     "execution_count": 45,
     "metadata": {},
     "output_type": "execute_result"
    }
   ],
   "source": [
    "x_subarray=x[:2,:2]\n",
    "x_subarray"
   ]
  },
  {
   "cell_type": "code",
   "execution_count": 46,
   "id": "f4825d81",
   "metadata": {
    "id": "f4825d81",
    "outputId": "7566297f-e6e2-4548-e907-63bb01a29338"
   },
   "outputs": [
    {
     "data": {
      "text/plain": [
       "array([[ 0,  1],\n",
       "       [ 4, 30]])"
      ]
     },
     "execution_count": 46,
     "metadata": {},
     "output_type": "execute_result"
    }
   ],
   "source": [
    "x_subarray[1,1]=30\n",
    "x_subarray"
   ]
  },
  {
   "cell_type": "code",
   "execution_count": 47,
   "id": "51ddce49",
   "metadata": {
    "id": "51ddce49",
    "outputId": "d41099e1-f51d-4760-fe5f-5d4b48ff335a"
   },
   "outputs": [
    {
     "data": {
      "text/plain": [
       "array([[ 0,  1,  2,  3],\n",
       "       [ 4, 30,  6,  7],\n",
       "       [ 8,  9, 10, 11]])"
      ]
     },
     "execution_count": 47,
     "metadata": {},
     "output_type": "execute_result"
    }
   ],
   "source": [
    "x"
   ]
  },
  {
   "cell_type": "markdown",
   "id": "0a94eed6",
   "metadata": {
    "id": "0a94eed6"
   },
   "source": [
    "This default behavior is actually quite useful: it means that when we work with large\n",
    "datasets, we can access and process pieces of these datasets without the need to copy\n",
    "the underlying data buffer."
   ]
  },
  {
   "cell_type": "markdown",
   "id": "b83e80e6",
   "metadata": {
    "id": "b83e80e6"
   },
   "source": [
    "## Creating copies of arrays\n",
    "Despite the nice features of array views, it is sometimes useful to instead explicitly\n",
    "copy the data within an array or a subarray. This can be most easily done with the\n",
    "copy() method:"
   ]
  },
  {
   "cell_type": "code",
   "execution_count": 48,
   "id": "5d19fac9",
   "metadata": {
    "id": "5d19fac9",
    "outputId": "257a7f61-20e8-4284-8f01-203e0dd9791c"
   },
   "outputs": [
    {
     "data": {
      "text/plain": [
       "array([[ 0,  1,  2,  3],\n",
       "       [ 4,  5,  6,  7],\n",
       "       [ 8,  9, 10, 11]])"
      ]
     },
     "execution_count": 48,
     "metadata": {},
     "output_type": "execute_result"
    }
   ],
   "source": [
    "x=np.arange(12).reshape(3,4)\n",
    "x"
   ]
  },
  {
   "cell_type": "code",
   "execution_count": 49,
   "id": "a77cab44",
   "metadata": {
    "id": "a77cab44",
    "outputId": "05892668-d1fd-42dd-8108-676109a36394"
   },
   "outputs": [
    {
     "data": {
      "text/plain": [
       "array([[0, 1],\n",
       "       [4, 5]])"
      ]
     },
     "execution_count": 49,
     "metadata": {},
     "output_type": "execute_result"
    }
   ],
   "source": [
    "x_subarray=x[:2,:2].copy()\n",
    "x_subarray"
   ]
  },
  {
   "cell_type": "code",
   "execution_count": 50,
   "id": "5d6637ab",
   "metadata": {
    "id": "5d6637ab",
    "outputId": "324b2b52-f041-478f-b6bc-3bbaa26d68f1"
   },
   "outputs": [
    {
     "data": {
      "text/plain": [
       "array([[ 0,  1],\n",
       "       [ 4, 45]])"
      ]
     },
     "execution_count": 50,
     "metadata": {},
     "output_type": "execute_result"
    }
   ],
   "source": [
    "x_subarray[1,1]=45\n",
    "x_subarray"
   ]
  },
  {
   "cell_type": "code",
   "execution_count": 51,
   "id": "45ad0a6a",
   "metadata": {
    "id": "45ad0a6a",
    "outputId": "6127a5cc-5296-4f13-b4b0-80d5f27ff074"
   },
   "outputs": [
    {
     "data": {
      "text/plain": [
       "array([[ 0,  1,  2,  3],\n",
       "       [ 4,  5,  6,  7],\n",
       "       [ 8,  9, 10, 11]])"
      ]
     },
     "execution_count": 51,
     "metadata": {},
     "output_type": "execute_result"
    }
   ],
   "source": [
    "x"
   ]
  },
  {
   "cell_type": "markdown",
   "id": "6ff96253",
   "metadata": {
    "id": "6ff96253"
   },
   "source": [
    "## Stacking arrays\n",
    "\n",
    "\n",
    "np.hstack() - Stack arrays in sequence horizontally (column wise).\n",
    "\n",
    "np.vstack() - Stack arrays in sequence vertically (row wise)."
   ]
  },
  {
   "cell_type": "code",
   "execution_count": 52,
   "id": "4aa24121",
   "metadata": {
    "id": "4aa24121",
    "outputId": "f8452dfc-9f95-4ad4-8450-0c45b3db385d"
   },
   "outputs": [
    {
     "data": {
      "text/plain": [
       "array([[ 0,  1,  2,  3],\n",
       "       [ 4,  5,  6,  7],\n",
       "       [ 8,  9, 10, 11],\n",
       "       [12, 13, 14, 15]])"
      ]
     },
     "execution_count": 52,
     "metadata": {},
     "output_type": "execute_result"
    }
   ],
   "source": [
    "X=np.arange(16).reshape(4,4)\n",
    "X"
   ]
  },
  {
   "cell_type": "code",
   "execution_count": 53,
   "id": "5ebd5a6d",
   "metadata": {
    "id": "5ebd5a6d",
    "outputId": "6bb53058-63b4-4648-dce3-8ca57b0bca98"
   },
   "outputs": [
    {
     "data": {
      "text/plain": [
       "array([[1.],\n",
       "       [1.],\n",
       "       [1.],\n",
       "       [1.]])"
      ]
     },
     "execution_count": 53,
     "metadata": {},
     "output_type": "execute_result"
    }
   ],
   "source": [
    "a=np.ones((4,1))\n",
    "a"
   ]
  },
  {
   "cell_type": "code",
   "execution_count": 54,
   "id": "adef5230",
   "metadata": {
    "id": "adef5230",
    "outputId": "07d312b8-f988-4754-a58f-e7898970cb0d"
   },
   "outputs": [
    {
     "data": {
      "text/plain": [
       "array([[ 1.,  0.,  1.,  2.,  3.],\n",
       "       [ 1.,  4.,  5.,  6.,  7.],\n",
       "       [ 1.,  8.,  9., 10., 11.],\n",
       "       [ 1., 12., 13., 14., 15.]])"
      ]
     },
     "execution_count": 54,
     "metadata": {},
     "output_type": "execute_result"
    }
   ],
   "source": [
    "X=np.hstack((a,X))\n",
    "X"
   ]
  },
  {
   "cell_type": "code",
   "execution_count": 55,
   "id": "de6748cf",
   "metadata": {
    "id": "de6748cf",
    "outputId": "516371a6-25c3-4f85-97c7-16e2bc7195e0"
   },
   "outputs": [
    {
     "data": {
      "text/plain": [
       "array([[1, 2, 3]])"
      ]
     },
     "execution_count": 55,
     "metadata": {},
     "output_type": "execute_result"
    }
   ],
   "source": [
    "x=np.array([[1,2,3]])\n",
    "x"
   ]
  },
  {
   "cell_type": "code",
   "execution_count": 56,
   "id": "5634f196",
   "metadata": {
    "id": "5634f196",
    "outputId": "526d6ec0-2b04-4431-e69b-8b28dad16f81"
   },
   "outputs": [
    {
     "data": {
      "text/plain": [
       "array([[9, 8, 7],\n",
       "       [6, 5, 4]])"
      ]
     },
     "execution_count": 56,
     "metadata": {},
     "output_type": "execute_result"
    }
   ],
   "source": [
    "y=np.array([[9,8,7],[6,5,4]])\n",
    "y"
   ]
  },
  {
   "cell_type": "code",
   "execution_count": 57,
   "id": "7d14dceb",
   "metadata": {
    "id": "7d14dceb",
    "outputId": "9e969f5d-706d-463b-faf7-e5b33fe1e9df"
   },
   "outputs": [
    {
     "data": {
      "text/plain": [
       "array([[9, 8, 7],\n",
       "       [6, 5, 4],\n",
       "       [1, 2, 3]])"
      ]
     },
     "execution_count": 57,
     "metadata": {},
     "output_type": "execute_result"
    }
   ],
   "source": [
    "z=np.vstack((y,x))\n",
    "z"
   ]
  },
  {
   "cell_type": "markdown",
   "id": "99d2c790",
   "metadata": {
    "id": "99d2c790"
   },
   "source": [
    "## Splitting arrays\n",
    "\n",
    "np.hsplit() - Split an array into multiple sub-arrays horizontally (column-wise).\n",
    "\n",
    "np.vsplit() - Split an array into multiple sub-arrays vertically (row-wise)."
   ]
  },
  {
   "cell_type": "code",
   "execution_count": 58,
   "id": "3c15171b",
   "metadata": {
    "id": "3c15171b",
    "outputId": "bf2def3d-c40e-4e57-e5ac-219d3600c1cb"
   },
   "outputs": [
    {
     "data": {
      "text/plain": [
       "array([[ 0,  1,  2,  3],\n",
       "       [ 4,  5,  6,  7],\n",
       "       [ 8,  9, 10, 11],\n",
       "       [12, 13, 14, 15]])"
      ]
     },
     "execution_count": 58,
     "metadata": {},
     "output_type": "execute_result"
    }
   ],
   "source": [
    "x=np.arange(16).reshape(4,4)\n",
    "x"
   ]
  },
  {
   "cell_type": "code",
   "execution_count": 59,
   "id": "b82773f9",
   "metadata": {
    "id": "b82773f9",
    "outputId": "ddf97539-7499-4e51-c28d-02caa780d738"
   },
   "outputs": [
    {
     "name": "stdout",
     "output_type": "stream",
     "text": [
      "[[0 1 2 3]\n",
      " [4 5 6 7]]\n",
      "----------------------------------------------------------------------------------------------------\n",
      "[[ 8  9 10 11]\n",
      " [12 13 14 15]]\n"
     ]
    }
   ],
   "source": [
    "top,bottom=np.vsplit(x,2)\n",
    "\n",
    "print(top)\n",
    "print('-'*100)\n",
    "print(bottom)"
   ]
  },
  {
   "cell_type": "code",
   "execution_count": 60,
   "id": "da04046d",
   "metadata": {
    "id": "da04046d",
    "outputId": "568f129b-dbc3-44a9-c647-e335f44fa4c5"
   },
   "outputs": [
    {
     "name": "stdout",
     "output_type": "stream",
     "text": [
      "[[ 0  1]\n",
      " [ 4  5]\n",
      " [ 8  9]\n",
      " [12 13]]\n",
      "----------------------------------------------------------------------------------------------------\n",
      "[[ 2  3]\n",
      " [ 6  7]\n",
      " [10 11]\n",
      " [14 15]]\n"
     ]
    }
   ],
   "source": [
    "left,right=np.hsplit(x,2)\n",
    "print(left)\n",
    "print('-'*100)\n",
    "print(right)"
   ]
  },
  {
   "cell_type": "markdown",
   "id": "85a52866",
   "metadata": {
    "id": "85a52866"
   },
   "source": [
    "### For arrays on unequal size, we use np.array_split\n",
    "\n",
    "Read more : https://numpy.org/doc/stable/reference/generated/numpy.array_split.html"
   ]
  },
  {
   "cell_type": "code",
   "execution_count": 61,
   "id": "64670ff0",
   "metadata": {
    "id": "64670ff0",
    "outputId": "93125c69-2ffe-40c5-d8c7-946fd626c4a1"
   },
   "outputs": [
    {
     "data": {
      "text/plain": [
       "array([[ 0,  1,  2,  3,  4],\n",
       "       [ 5,  6,  7,  8,  9],\n",
       "       [10, 11, 12, 13, 14],\n",
       "       [15, 16, 17, 18, 19],\n",
       "       [20, 21, 22, 23, 24],\n",
       "       [25, 26, 27, 28, 29]])"
      ]
     },
     "execution_count": 61,
     "metadata": {},
     "output_type": "execute_result"
    }
   ],
   "source": [
    "x=np.arange(30).reshape(6,5)\n",
    "x"
   ]
  },
  {
   "cell_type": "code",
   "execution_count": 62,
   "id": "06c02dcf",
   "metadata": {
    "id": "06c02dcf",
    "outputId": "d1486b55-22eb-4d7f-afac-07732245a998"
   },
   "outputs": [
    {
     "data": {
      "text/plain": [
       "[array([[ 0,  1],\n",
       "        [ 5,  6],\n",
       "        [10, 11],\n",
       "        [15, 16],\n",
       "        [20, 21],\n",
       "        [25, 26]]),\n",
       " array([[ 2,  3],\n",
       "        [ 7,  8],\n",
       "        [12, 13],\n",
       "        [17, 18],\n",
       "        [22, 23],\n",
       "        [27, 28]]),\n",
       " array([[ 4],\n",
       "        [ 9],\n",
       "        [14],\n",
       "        [19],\n",
       "        [24],\n",
       "        [29]])]"
      ]
     },
     "execution_count": 62,
     "metadata": {},
     "output_type": "execute_result"
    }
   ],
   "source": [
    "np.array_split(x,3,axis=1)"
   ]
  },
  {
   "cell_type": "markdown",
   "id": "ca591a5f",
   "metadata": {
    "id": "ca591a5f"
   },
   "source": [
    "## Boolean Masks And Indexing"
   ]
  },
  {
   "cell_type": "code",
   "execution_count": 63,
   "id": "8bbdef68",
   "metadata": {
    "id": "8bbdef68",
    "outputId": "77fec8cc-c737-4324-de8a-6828b1d17c67"
   },
   "outputs": [
    {
     "data": {
      "text/plain": [
       "array([ 10, -20,  30,   3,   4,   9,  20,  -1,  -3])"
      ]
     },
     "execution_count": 63,
     "metadata": {},
     "output_type": "execute_result"
    }
   ],
   "source": [
    "x=np.array([10,-20,30,3,4,9,20,-1,-3])\n",
    "x"
   ]
  },
  {
   "cell_type": "markdown",
   "id": "9dac628c",
   "metadata": {},
   "source": [
    "### Find all negative elements in x."
   ]
  },
  {
   "cell_type": "code",
   "execution_count": 64,
   "id": "786c90b2",
   "metadata": {
    "id": "786c90b2",
    "outputId": "b7113b1d-a7d7-4316-bb7f-ad3eb07b49e1"
   },
   "outputs": [
    {
     "data": {
      "text/plain": [
       "array([False,  True, False, False, False, False, False,  True,  True])"
      ]
     },
     "execution_count": 64,
     "metadata": {},
     "output_type": "execute_result"
    }
   ],
   "source": [
    "x<0"
   ]
  },
  {
   "cell_type": "code",
   "execution_count": 65,
   "id": "bc6e55d3",
   "metadata": {
    "id": "bc6e55d3",
    "outputId": "1ecfa6b3-cb69-499a-926c-c754b8a3c5c7"
   },
   "outputs": [
    {
     "data": {
      "text/plain": [
       "array([-20,  -1,  -3])"
      ]
     },
     "execution_count": 65,
     "metadata": {},
     "output_type": "execute_result"
    }
   ],
   "source": [
    "x[x<0]"
   ]
  },
  {
   "cell_type": "markdown",
   "id": "3261bc72",
   "metadata": {},
   "source": [
    "### Find all elements > 3 in x"
   ]
  },
  {
   "cell_type": "code",
   "execution_count": 66,
   "id": "5d191e7e",
   "metadata": {
    "id": "5d191e7e",
    "outputId": "fdbbeb67-e46d-4083-cb4c-e676d8c92387"
   },
   "outputs": [
    {
     "data": {
      "text/plain": [
       "array([10, 30,  4,  9, 20])"
      ]
     },
     "execution_count": 66,
     "metadata": {},
     "output_type": "execute_result"
    }
   ],
   "source": [
    "x>3\n",
    "x[x>3]"
   ]
  },
  {
   "cell_type": "markdown",
   "id": "b06eb3a6",
   "metadata": {},
   "source": [
    "### Find all elements in x such that $0<x<30$"
   ]
  },
  {
   "cell_type": "code",
   "execution_count": 67,
   "id": "625dd6ca",
   "metadata": {
    "id": "625dd6ca",
    "outputId": "b03737ed-f4bd-4bde-9cd9-9f7ca4557347"
   },
   "outputs": [
    {
     "data": {
      "text/plain": [
       "array([10,  3,  4,  9, 20])"
      ]
     },
     "execution_count": 67,
     "metadata": {},
     "output_type": "execute_result"
    }
   ],
   "source": [
    "x[(x>0) & (x<30)]"
   ]
  },
  {
   "cell_type": "markdown",
   "id": "1c71982d",
   "metadata": {},
   "source": [
    "### Get only multiples of 40 in the array a and square them"
   ]
  },
  {
   "cell_type": "code",
   "execution_count": 68,
   "id": "dca65682",
   "metadata": {
    "id": "dca65682",
    "outputId": "20ee1afb-4c4c-4a61-a5b7-dd2e4c939f91"
   },
   "outputs": [
    {
     "data": {
      "text/plain": [
       "array([1600, 6400])"
      ]
     },
     "execution_count": 68,
     "metadata": {},
     "output_type": "execute_result"
    }
   ],
   "source": [
    "# Square only multiples of 40\n",
    "a = np.array([10, 40, 80, 50, 100])\n",
    "a[a%40==0]**2"
   ]
  },
  {
   "cell_type": "markdown",
   "id": "675f149e",
   "metadata": {
    "id": "675f149e"
   },
   "source": [
    "## Sorting Arrays"
   ]
  },
  {
   "cell_type": "code",
   "execution_count": 69,
   "id": "9e7ac09f",
   "metadata": {
    "id": "9e7ac09f",
    "outputId": "78270b40-28ef-4903-868b-16b134f0eb84"
   },
   "outputs": [
    {
     "data": {
      "text/plain": [
       "array([1, 2, 3, 4, 5])"
      ]
     },
     "execution_count": 69,
     "metadata": {},
     "output_type": "execute_result"
    }
   ],
   "source": [
    "x=np.array([2,1,4,3,5])\n",
    "np.sort(x)"
   ]
  },
  {
   "cell_type": "code",
   "execution_count": 70,
   "id": "244e3404",
   "metadata": {
    "id": "244e3404",
    "outputId": "06bacfdd-f808-4468-964e-71d506fef119"
   },
   "outputs": [
    {
     "data": {
      "text/plain": [
       "array([2, 1, 4, 3, 5])"
      ]
     },
     "execution_count": 70,
     "metadata": {},
     "output_type": "execute_result"
    }
   ],
   "source": [
    "x"
   ]
  },
  {
   "cell_type": "code",
   "execution_count": 71,
   "id": "c5cdfc6d",
   "metadata": {
    "id": "c5cdfc6d",
    "outputId": "a20869b4-040b-493a-8d9a-fc85dea80f33"
   },
   "outputs": [
    {
     "data": {
      "text/plain": [
       "array([1, 2, 3, 4, 5])"
      ]
     },
     "execution_count": 71,
     "metadata": {},
     "output_type": "execute_result"
    }
   ],
   "source": [
    "x.sort()\n",
    "x"
   ]
  },
  {
   "cell_type": "markdown",
   "id": "607ce873",
   "metadata": {
    "id": "607ce873"
   },
   "source": [
    "A related function is argsort, which instead returns the indices of the sorted\n",
    "elements"
   ]
  },
  {
   "cell_type": "code",
   "execution_count": 72,
   "id": "e4af9827",
   "metadata": {
    "id": "e4af9827",
    "outputId": "f0f4d525-6056-4a81-e9d9-633cf23e86de"
   },
   "outputs": [
    {
     "name": "stdout",
     "output_type": "stream",
     "text": [
      "[1 0 3 2 4]\n"
     ]
    }
   ],
   "source": [
    "x = np.array([2, 1, 4, 3, 5])\n",
    "i = np.argsort(x)\n",
    "print(i)"
   ]
  },
  {
   "cell_type": "code",
   "execution_count": null,
   "id": "2cc32caa",
   "metadata": {
    "id": "2cc32caa",
    "outputId": "4cac2d4d-8042-4129-adf7-6f5f625b7a59"
   },
   "outputs": [],
   "source": [
    "## Sorting for 2D arrays\n",
    "\n",
    "X = np.random.randint(0, 10, (4, 6))\n",
    "X"
   ]
  },
  {
   "cell_type": "code",
   "execution_count": null,
   "id": "173edd5d",
   "metadata": {
    "id": "173edd5d",
    "outputId": "8b8ef59c-f9c3-46e7-b506-57ace62df744"
   },
   "outputs": [],
   "source": [
    "# sort each column of X\n",
    "np.sort(X, axis=0)"
   ]
  },
  {
   "cell_type": "code",
   "execution_count": null,
   "id": "29b6d1f3",
   "metadata": {
    "id": "29b6d1f3",
    "outputId": "06ce4767-2e0a-48c5-9b4d-7ba39a0de832"
   },
   "outputs": [],
   "source": [
    "# sort each row of X\n",
    "np.sort(X, axis=1)"
   ]
  },
  {
   "cell_type": "markdown",
   "id": "7bc7b1a7",
   "metadata": {
    "id": "7bc7b1a7"
   },
   "source": [
    "## Data Processing using Arrays"
   ]
  },
  {
   "cell_type": "markdown",
   "id": "b10ebb31",
   "metadata": {
    "id": "b10ebb31"
   },
   "source": [
    "###  Suppose you had a matrix of randomly generated data and you wanted to replace all positive values with 2 and all negative values with -2."
   ]
  },
  {
   "cell_type": "code",
   "execution_count": null,
   "id": "643c2e5c",
   "metadata": {
    "id": "643c2e5c",
    "outputId": "10e9629e-3f6c-470b-bcd0-a69a82e4e956"
   },
   "outputs": [],
   "source": [
    "arr = np.random.randn(4, 4)\n",
    "arr"
   ]
  },
  {
   "cell_type": "code",
   "execution_count": null,
   "id": "689c7866",
   "metadata": {
    "id": "689c7866",
    "outputId": "85731602-1c0d-4f90-f886-9eb6d31d9521"
   },
   "outputs": [],
   "source": [
    "np.where(arr > 0, 2, -2)"
   ]
  },
  {
   "cell_type": "markdown",
   "id": "529f981f",
   "metadata": {
    "id": "529f981f"
   },
   "source": [
    "### set only positive values to 2"
   ]
  },
  {
   "cell_type": "code",
   "execution_count": null,
   "id": "463766a8",
   "metadata": {
    "id": "463766a8",
    "outputId": "69fa79b6-54bb-422d-972c-b916f9aa6b4e"
   },
   "outputs": [],
   "source": [
    "np.where(arr > 0, 2, arr)"
   ]
  },
  {
   "cell_type": "markdown",
   "id": "a0871596",
   "metadata": {
    "id": "a0871596"
   },
   "source": [
    "### Mathematical and Statistical Methods"
   ]
  },
  {
   "cell_type": "code",
   "execution_count": null,
   "id": "40700aeb",
   "metadata": {
    "id": "40700aeb",
    "outputId": "58d2f247-3a85-4398-a8bb-ad8ac311c717"
   },
   "outputs": [],
   "source": [
    "arr = np.random.randint(0,10,(5, 4))\n",
    "arr"
   ]
  },
  {
   "cell_type": "code",
   "execution_count": null,
   "id": "c67e3bdb",
   "metadata": {
    "id": "c67e3bdb",
    "outputId": "d9cfbdd5-5889-4d3e-93c7-cd6580184ed7"
   },
   "outputs": [],
   "source": [
    "arr.mean()"
   ]
  },
  {
   "cell_type": "code",
   "execution_count": null,
   "id": "cfd903df",
   "metadata": {
    "id": "cfd903df",
    "outputId": "3f745e78-65c2-4d43-c36a-7e910563319b"
   },
   "outputs": [],
   "source": [
    "arr.sum()"
   ]
  },
  {
   "cell_type": "markdown",
   "id": "4646fb4d",
   "metadata": {
    "id": "4646fb4d"
   },
   "source": [
    "### Functions like mean and sum take an optional axis argument which computes the statistic over the given axis, resulting in an array with one fewer dimension:"
   ]
  },
  {
   "cell_type": "code",
   "execution_count": null,
   "id": "c99a2f3e",
   "metadata": {
    "id": "c99a2f3e",
    "outputId": "a0e6f50b-c29e-4beb-e5fc-bc05143a523b"
   },
   "outputs": [],
   "source": [
    "arr.mean(axis=1)"
   ]
  },
  {
   "cell_type": "code",
   "execution_count": null,
   "id": "07eee326",
   "metadata": {
    "id": "07eee326",
    "outputId": "056637ff-c15c-4479-d275-023593a9089e"
   },
   "outputs": [],
   "source": [
    "arr.mean(axis=0)"
   ]
  },
  {
   "cell_type": "markdown",
   "id": "09b25972",
   "metadata": {
    "id": "09b25972"
   },
   "source": [
    "### Illustration for boolean arrays"
   ]
  },
  {
   "cell_type": "code",
   "execution_count": null,
   "id": "f7342312",
   "metadata": {
    "id": "f7342312",
    "outputId": "b78f258c-2f0b-44f3-882a-a0c6eb9d2866"
   },
   "outputs": [],
   "source": [
    "arr = np.random.randn(100)\n",
    "arr"
   ]
  },
  {
   "cell_type": "code",
   "execution_count": null,
   "id": "6ec1ef7f",
   "metadata": {
    "id": "6ec1ef7f",
    "outputId": "e03fd34f-0659-45df-aa5d-9294f5c8008a"
   },
   "outputs": [],
   "source": [
    "(arr > 0).sum() # Number of positive values"
   ]
  },
  {
   "cell_type": "markdown",
   "id": "b20a3a31",
   "metadata": {
    "id": "b20a3a31"
   },
   "source": [
    "## Array shape manipulation"
   ]
  },
  {
   "cell_type": "code",
   "execution_count": null,
   "id": "9646260c",
   "metadata": {
    "id": "9646260c",
    "outputId": "78151f2a-04a6-411e-f423-36ae55b74c8a"
   },
   "outputs": [],
   "source": [
    "arr=np.arange(10)\n",
    "arr"
   ]
  },
  {
   "cell_type": "code",
   "execution_count": null,
   "id": "8600d7ed",
   "metadata": {
    "id": "8600d7ed",
    "outputId": "d586c45c-9646-4f30-cc78-94d7f0b7a232"
   },
   "outputs": [],
   "source": [
    "arr.reshape(5,2)"
   ]
  },
  {
   "cell_type": "markdown",
   "id": "70f8a8cd",
   "metadata": {
    "id": "70f8a8cd"
   },
   "source": [
    "#### One of the passed shape dimensions can be -1, in which case the value used for that dimension will be inferred from the data:"
   ]
  },
  {
   "cell_type": "code",
   "execution_count": null,
   "id": "d970ef4a",
   "metadata": {
    "id": "d970ef4a",
    "outputId": "274eb514-96a5-4591-bcc3-5c4155fd1c51"
   },
   "outputs": [],
   "source": [
    "arr = np.arange(15)\n",
    "arr"
   ]
  },
  {
   "cell_type": "code",
   "execution_count": null,
   "id": "efd0df0d",
   "metadata": {
    "id": "efd0df0d",
    "outputId": "fb8ffdc1-282b-47d0-aa65-2da74f011428"
   },
   "outputs": [],
   "source": [
    "arr.reshape(5,-1)"
   ]
  },
  {
   "cell_type": "markdown",
   "id": "d477a189",
   "metadata": {
    "id": "d477a189"
   },
   "source": [
    "#### The opposite operation of reshape from one-dimensional to a higher dimension is typically known as flattening or raveling"
   ]
  },
  {
   "cell_type": "code",
   "execution_count": null,
   "id": "75ef1b30",
   "metadata": {
    "id": "75ef1b30",
    "outputId": "6c5d21f0-12ec-492e-dd0b-1937b9520f82"
   },
   "outputs": [],
   "source": [
    "arr = np.arange(15).reshape((5, 3))\n",
    "arr"
   ]
  },
  {
   "cell_type": "code",
   "execution_count": null,
   "id": "a3b4c2b3",
   "metadata": {
    "id": "a3b4c2b3",
    "outputId": "7a6efdb8-890c-41ee-d7a9-ce60397a4c7a"
   },
   "outputs": [],
   "source": [
    "arr.ravel()"
   ]
  },
  {
   "cell_type": "markdown",
   "id": "f65c9fcf",
   "metadata": {
    "id": "f65c9fcf"
   },
   "source": [
    "#### ravel() and flatten() perform the same task but, ravel returns a view and flatten returns a copy."
   ]
  },
  {
   "cell_type": "markdown",
   "id": "749095c1",
   "metadata": {
    "id": "749095c1"
   },
   "source": [
    "## Broadcasting\n",
    "\n",
    "Broadcasting describes how arithmetic works between arrays of different shapes. It is\n",
    "a very powerful feature, but one that can be easily misunderstood, even by experienced\n",
    "users. The simplest example of broadcasting occurs when combining a scalar value\n",
    "with an array:"
   ]
  },
  {
   "cell_type": "code",
   "execution_count": null,
   "id": "310d8254",
   "metadata": {
    "id": "310d8254",
    "outputId": "3f1b6efa-224a-4f76-ee76-f185f1caf2f5"
   },
   "outputs": [],
   "source": [
    "arr=np.arange(4)\n",
    "arr"
   ]
  },
  {
   "cell_type": "code",
   "execution_count": null,
   "id": "ce587a4e",
   "metadata": {
    "id": "ce587a4e",
    "outputId": "3460b4d6-f6f4-4bc2-f81f-d266c9b6ff4d"
   },
   "outputs": [],
   "source": [
    "arr*4"
   ]
  },
  {
   "cell_type": "markdown",
   "id": "a184b16f",
   "metadata": {
    "id": "a184b16f"
   },
   "source": [
    "#### For example, we can demean each column of an array by subtracting the column means"
   ]
  },
  {
   "cell_type": "code",
   "execution_count": null,
   "id": "1717bdac",
   "metadata": {
    "id": "1717bdac",
    "outputId": "6dcf8729-82be-43a7-8d08-fb8b06baa114"
   },
   "outputs": [],
   "source": [
    "arr = np.random.randn(4, 3)\n",
    "arr"
   ]
  },
  {
   "cell_type": "code",
   "execution_count": null,
   "id": "09971fc9",
   "metadata": {
    "id": "09971fc9",
    "outputId": "252c69a3-de2f-4eda-d75d-715db46e0543"
   },
   "outputs": [],
   "source": [
    "arr.mean(0)"
   ]
  },
  {
   "cell_type": "code",
   "execution_count": null,
   "id": "0b4460da",
   "metadata": {
    "id": "0b4460da",
    "outputId": "f4808af6-7a8a-4bc0-d438-fa1360c48b13"
   },
   "outputs": [],
   "source": [
    "demeaned = arr - arr.mean(0)\n",
    "demeaned"
   ]
  },
  {
   "cell_type": "code",
   "execution_count": null,
   "id": "48dadfe8",
   "metadata": {
    "id": "48dadfe8",
    "outputId": "fc13e542-e27a-4b56-d8b1-ac512975a61f"
   },
   "outputs": [],
   "source": [
    "demeaned.mean(0)"
   ]
  },
  {
   "cell_type": "markdown",
   "id": "66dea813",
   "metadata": {
    "id": "66dea813"
   },
   "source": [
    "### Rules of Broadcasting\n",
    "\n",
    "Broadcasting in NumPy follows a strict set of rules to determine the interaction\n",
    "between the two arrays:\n",
    "#### • Rule 1: If the two arrays differ in their number of dimensions, the shape of the one with fewer dimensions is padded with ones on its leading (left) side.\n",
    "\n",
    "#### • Rule 2: If the shape of the two arrays does not match in any dimension, the array with shape equal to 1 in that dimension is stretched to match the other shape.\n",
    "\n",
    "#### • Rule 3: If in any dimension the sizes disagree and neither is equal to 1, an error is raised."
   ]
  },
  {
   "cell_type": "markdown",
   "id": "a7d6d9b5",
   "metadata": {
    "id": "a7d6d9b5"
   },
   "source": [
    "### Example 1"
   ]
  },
  {
   "cell_type": "code",
   "execution_count": null,
   "id": "69bff616",
   "metadata": {
    "id": "69bff616"
   },
   "outputs": [],
   "source": [
    "M = np.ones((2, 3))\n",
    "a = np.arange(3)"
   ]
  },
  {
   "cell_type": "markdown",
   "id": "270e1877",
   "metadata": {
    "id": "270e1877"
   },
   "source": [
    "Shape of M is : (2,3)\n",
    "Shape of a is : (3,)\n",
    "\n",
    "By rule 1, array a has fewer dimensions(1) than M(2). So, we pad a on the left with ones.\n",
    "\n",
    "Shape of a : (1,3)\n",
    "\n",
    "By rule 2, we see first dimension disagrees, so we stretch this dimension to match.\n",
    "\n",
    "Shape of a: (2,3)\n",
    "\n",
    "The shapes match, so the final shape will be (2,3)"
   ]
  },
  {
   "cell_type": "code",
   "execution_count": null,
   "id": "1cdd9feb",
   "metadata": {
    "id": "1cdd9feb",
    "outputId": "35516c03-9806-4068-ac57-347ac2be94c6"
   },
   "outputs": [],
   "source": [
    "M+a"
   ]
  },
  {
   "cell_type": "markdown",
   "id": "14a3d2f3",
   "metadata": {
    "id": "14a3d2f3"
   },
   "source": [
    "### Example 2"
   ]
  },
  {
   "cell_type": "code",
   "execution_count": null,
   "id": "f3319cbb",
   "metadata": {
    "id": "f3319cbb",
    "outputId": "9d5e5075-aff4-436d-a61f-cfd9578d80a2"
   },
   "outputs": [],
   "source": [
    "a = np.arange(3).reshape((3, 1))\n",
    "b = np.arange(3)\n",
    "print(a)\n",
    "print('-'*100)\n",
    "print(b)"
   ]
  },
  {
   "cell_type": "markdown",
   "id": "4f96e041",
   "metadata": {
    "id": "4f96e041"
   },
   "source": [
    "Shape of a : (3,1)\n",
    "Shape of b : (3,)\n",
    "\n",
    "b has lesser dimension, so pad to the left with one.\n",
    "\n",
    "Shape of b : (1,3)\n",
    "\n",
    "Now, we see dimensions do not match for both a and b but both have 1, so we upgrade to match the corresponding size of other array.\n",
    "\n",
    "Shape of a : (3,3)\n",
    "Shape of b : (3,3)"
   ]
  },
  {
   "cell_type": "code",
   "execution_count": null,
   "id": "0a5513ce",
   "metadata": {
    "id": "0a5513ce",
    "outputId": "747db2de-3c1c-49ae-bea2-7daf0c592a49"
   },
   "outputs": [],
   "source": [
    "a+b"
   ]
  },
  {
   "cell_type": "markdown",
   "id": "43dac184",
   "metadata": {
    "id": "43dac184"
   },
   "source": [
    "### Example 3"
   ]
  },
  {
   "cell_type": "code",
   "execution_count": null,
   "id": "13b1625c",
   "metadata": {
    "id": "13b1625c"
   },
   "outputs": [],
   "source": [
    "M = np.ones((3, 2))\n",
    "a = np.arange(3)"
   ]
  },
  {
   "cell_type": "markdown",
   "id": "b128b67e",
   "metadata": {
    "id": "b128b67e"
   },
   "source": [
    "Shape of M : (3,2)\n",
    "shape of a : (3,)\n",
    "\n",
    "a has fewer dimensions, so pad to the left to have shape of a : (1,3)\n",
    "\n",
    "Now, by rule 2, 1st dimension of a is stretched to match that of M to give shape of a : (3,3)\n",
    "\n",
    "Now, final shapes do not match, so broadcasting is not possible."
   ]
  },
  {
   "cell_type": "code",
   "execution_count": null,
   "id": "8d3cbff1",
   "metadata": {
    "id": "8d3cbff1",
    "outputId": "a57e228c-90e9-414f-e100-7f0fd1af71e0"
   },
   "outputs": [],
   "source": [
    "M+a"
   ]
  },
  {
   "cell_type": "markdown",
   "id": "6d4f20ca",
   "metadata": {
    "id": "6d4f20ca"
   },
   "source": [
    "![30.png](data:image/png;base64,iVBORw0KGgoAAAANSUhEUgAAAtUAAADwCAYAAADPTZjHAAAAAXNSR0IArs4c6QAAAARnQU1BAACxjwv8YQUAAAAJcEhZcwAAEnQAABJ0Ad5mH3gAAERVSURBVHhe7d0JvE3l+gfwh8zzTETJTKEkMiTN003SoKQoUugaohQlqk+6uSVT3dRfXQ0qjbikJIqICpEMZUg4yMk8O//ze6z3WGe3Tw5nWM9e+/f9fNZnrf3u3b3LPs9697Pe9Q45kpIJERERERGdtJzenoiIiIiIThKTaiIiIiKiDDrp7h85cuSQhg0byvz5870SIiIiIiJbXL6a1T2eM5RUZ/XJERERERFlVHbkrez+QURERESUQUyqiYiIiIgyiEk1EREREVEGMakmIiIiIsogJtVERERERBnEpJqIiIiIKIOYVBMRERERZRCTaiIiIiKiDGJSTURERESUQUyqiYiIiIgyiEk1EREREVEGMakmIiIiIsogJtVERERERBnEpJqIiIiIKIOYVFOmW7hwoTz++OOyYsUKryRrHD58WJ555hl57bXXvBIiGxCTiE3EaGbCNYVrC9cYkRU7d+6UJ554Qt5++22vJOu8/PLLMnTo0Ey/togyA5NqylQHDhyQG2+8UZOK6tWre6XHNG3aVCpXrizDhg3zSv7eggUL5PLLL5fixYtLpUqVNKHYt2+fvnfKKafIsmXLpGPHjjJp0iQtIwra4sWLNSYRm4jRVatWyXXXXSelS5eWwoULS7t27eTPP//0Pn1icE3h2vrHP/6Rch0QBQ0x+dhjj8n+/fu9kmM6deqkdX7z5s29kr+H6+X222/X+j7a9VKmTBnp27evvPjii14JkSFJJykD/ymF2MyZMzU2evTo4ZUc8+GHH+p72AYOHOiV/r3nn38+5b9x2zXXXOO9m5Q0YcIELWvQoIFXQhSswYMHa0wi3sEf926rV69e0qFDh/T9E9W9e3f93xgxYoRXQhSsiy++OClXrlxJW7du9UqO+uGHH1Ji/owzzvBK/15a18vBgwe9TyQllS1bNqlcuXKpyoiOB7GU1dhSTZnqgw8+0P3VV1+tewctDT179vRepd9ll10mY8eOlSlTpsj555+vZZMnT9ZWQEArdr58+eS7777TFkKioL3//vtSoEABueSSS/R1kyZNZPTo0TJt2jTp0qWLli1atEhmz56txyfq2muv1T0egScn5npMFJR169bJzJkzpU2bNlKyZEmvVDQ277nnHu9V+uF6efrpp2Xq1Kmprhd/1xJcA5s2bdLfBiJLmFRTppozZ47uGzdurHunT58+snbtWqldu7ZXkj516tSRDh06yJVXXil33HGHVyqyfft23ePxYIsWLfT4q6++0j1RUHDziASgZcuWGpuAx9X33Xef3iC+9NJLWgYuhk9Uo0aNdI/rafny5XpMFBQ0pKB/M7r9+X388ccyf/78lPo5vXC99OvXT6644opU10tCQoJ3dOwaePPNN3VPZAWTaspUP/74o1SrVk2KFCnilRwtQ4tCxYoV5YILLvBKTwxaQ1BJQ40aNaRevXp6DBdddJHuf/75Z90TBWX69Om6jxbnmzdv1jEBULZs2ZO+FooVK6bXALgnNkRBSSvmR4wYoTeWnTt39kpODG46/dfLzTffrMfgGmfmzZvHpzVkCpNqyjTr16/XwVORAxTR2nDkyBEZPHiw5M2b1ytNv27dusnpp58un332mbZefP3115I/f37vXZGqVavq3t+SQRQEl+S6pNdBcoDEYNCgQXLmmWfK3LlzpVSpUt67J44xT1agMQNd8CpUqOCViHz55ZfaJaR3796pytML/z1uHv3XCwYuOuXKldM9fm+2bdumx0QWMKmmTLN161bd+5MFVHrjx4+XKlWq6IjujEI/1I8++sh7dZT7/0NLIFGQol0DkdasWSNvvPGG9+rkuP/9LVu26J4oKIh519XJQXc/jCs4mXE0kaJdL/7/P14DZAmTaso00aYJQ984tCSghfnDDz/U6ZJg6dKl2hqRHkOGDJElS5boQJhdu3bp4JVvv/3We/eYXLlyeUdEwUhrqjxMAYb+z88//7zkyJFDHn30UR18m1GYso8oSJExj+lSMXC8bt26+nTR1fO7d++WTz75RI+PB4MVV69enep6QXeSaHgNkCVMqinTuEdySHwd1w8asx+gTxxmQIAJEyak9Jc7HrRKYMDiww8/rK/RlQSPFh1XqZcoUUL3REGJdg1AwYIFtVsUWu7OO+88Lfviiy90fzIY82QFYt4/Z7p7koguG6jz0YUD0KKMOavTI0+ePHLGGWekul5effVV3cOePXu8I14DZAuTaso0LqFA32rntNNO08rRbe6xHfrLuc9jwRg84juRgYb+1bQwtRKwcqWgRbsG0oKbQ2fHjh16DWBLDxfz/inMiIKAsQJYUdEl1rgG/HW+uybwJBGD1R3EMJ5AIvbTw1/n+1vHeQ2QJUyqKdMgUS5fvrzO9oFEGTDNHR7jua19+/Za3qNHD+1rDQ888ICuuIVHfZFGjRqlUzZhztJHHnnEKz26MqODaZsg2gqORNnJTSXpYhLGjRsn7733nj4K79+/v64SCv4YdiuNfvPNN15J2nBt4RoDxjwFzcW865KHet1f57v5pdHAgm4hMGvWLDn11FO1mwe6d/jhesEKjZ9//nmq66Vt27a6B9eNsGHDhuz+QbZ4i8CcsAz8pxRirVq10tjASlrRdO3aVd/3r6jYokULLZsyZYpXckypUqX0Pf8WuVpjuXLltHzGjBleCVFwkm8uNSYdrPYZGcNt2rRJWVFx7969Sblz507Kly9f0vbt27Xs77hV6vD5/fv3e6VEwUC9jXh86KGHvJLUUC/j/TN8Kyqi/kfZAw884JUck9b14l898ZFHHtHy9K7MSwSImazGlmrKVFdddZXuP/30U91HuvDCCyU5sdYWBkCrGxbLwJR5br5pB4/7MEixe/fuctNNN2lLNVotMBDGwTyleIyIFnK3IABRkLBQEWISsQnJyYY+mUEMI/ax4iLGFLgWNrRgJycMGuf++d3T4q4tzP+LvqdEQbr44ou1Ffr1119P1bfaQd2MuHdPKWHixIk6O0ivXr28kmNwvWD2kNtuuy3V9eIfiI5rAP/9XXfd5ZUQGeEl1ycsA/8phVhiYmJSoUKFkpKTZq/k7yUnFBpLH374oVdyYpIrX/3vx44d65UQBcu13CE206Ndu3bauo0W6/TAtYXP41ojsgCt1Ij5SZMmeSVpW7lypX72zjvv9EpOjHtSw1ZqOlGIm6zGlmrKVOhXnVzZaZ9SLNJyPMmVsDRv3lyuv/56ryT9sJLWO++8o6srZsYc2ESZAcuRIybfeuut4672hvcx9zpmRcACGseDGRVwbaGvKa41IgvQYoyWZPSHPh7MDoIBjB06dPBKTgymacWg9MyYA5sos+VAZu0dnxAMLjjJ/5SIiIiIKNtkR97KlmoiIiIiogxiUk1ERERElEFMqomIiIiIMoh9qo3jdxyfIhdEiDeM+/jF2Gfsx6N4j/vskB15K5Nqg9z3yu83frkKNp4qWn+8M/bjlz/m4yX+GfsUj3Gf3fC9ZvX1xaTaGPed+vduo3BzFSn2bnOvw45xH98Y+4z9eBTPcR8EfK9ZfV0xqTbEfZ/YYzty5EiqvXsf/McUm/wVJ46x5cyZM9Xefcbtw8jFsotxxn34+ePZxXlk7PvfCysXzy7OsSHuGfvh5I9lF9v+uh7H/vcoc+E7zerriEm1Ee67xH7dunXyzTff/KVyxbH7DIUDrqPixYtLs2bNJHfu3FqpYhEFLGGN48gEI4xcfCckJMiXX36ZEusu9hn34YR4LlSokLRs2TIl5t3mYh+b+2wYudhHjGPp7e3btzP2Qw6xnDdvXrnooot0qXUX75Gx74Q19oOA7zKrryUm1Ubgu8SGShQrTb355pveOxQPJk+eLOecc45Wqnny5NHNJRq41twWNv647927t4wYMcJ7h+LFe++9J02aNNF4R9zj5tJ/Yxn22Mf21Vdf6c0FxY+HHnpI7r//fo13F/PYu+TaxXwYYz8o+C5xvWUlJtUG4Ht0G5KLtm3bygcffCANGzaUggULep+yZeHChfLnn39K48aN07W8chDcOaJFwCosO71v3z4ZO3ZsSmt1/vz5tSXDJdYusfC3XoSBqz+wP3z4sP7A/Oc//5GaNWtKuXLl9D1r1qxZo1v9+vVNLxP+888/y6ZNm6RatWpSoUIFr9SWFStWyIYNGzT2mzZtqvGOusQf+y65CFvsg6vzEft4QnP55Zfr8t3YLEI8Ia4sX5+///67rFy50nTcuzrkvvvukx49emjMI94R99hcYo24dxtlDnyX7ncnyyT/H5yUDPynFCE5kU5KrliTDh48mJScYCW1bt1av98lS5Z4n7CnRYsWeo6rV6/2SuxJTqbNx2nyD6ie4/Dhw5MWLFigf/PkCjdp8+bNSTt27NB4QFwgPhAnYYJ/D7ZDhw7pv/Oee+7R7yI5yfI+Yc/AgQP1HGfMmOGV2HTnnXfqeY4cOdIrsadr164psT9//nyNfdQnCQkJSck3w0l79+6Nm9ifMmWKfheIL6twXVq/PhHv1uPe1SEdOnRImjt3btLixYuTVq1alZR8g5mUmJiYtGfPnqQDBw6EMu6Dhu89q4Xv9j+GJf89tNUCe4ovO3fu1FZ17JMrVUmuVDUWkivVUMcD/m3Y8O/ERvEnWuwnJ5uhj31g7Mev5JvGlLjfvXu37N+/PyXuIeyxH1ZMqo1wyYXbKL6gUt21a5cmFahcDx48mKqCDTPEezwkUBQdYt8l1OgK5ZLqsDcwuLrexT/FF8S6i3sk2P6k2sV9mOM/rJhUB8x/0bjKlRdS/EGliuTCJdX+ytVtYeL/94T130jpg5iPjH1/Qh3muMC/Ddc5k+r4g5tHf0OKi3t/vQ9hjv8wYlJtBC+g+IaWaX8LXdhb6RzGPaUV+25zwhIjjHUCxDviHvHv4p6NarGPSbUhkT8iFD9QwbrNJRWRLRZhxtiPX4j3yNiPp1hg7Mcn1O8u5rH3J9SMh9jFpJrIAFSobuOPLMWTaLHPa4DCDvHub51mzIcDk2qDeGHFJ/d3j9fKlfOxxqfIeI/H2I/HfzMd5f72kXuKTUyqiQzxV6isXCleINbdRhQvXLwz7sODSTWRAaxUKV4x9okoLJhUxwHMhzlv3jxdYhb9tyzasWOHfPPNN/LLL794Jfb88ccfuqz48uXLvRKybvv27bJ582bdMBjIEiz8gHjCEtWrVq3ySu3BtTl//nyZPXu2LgNNsQH1vot9zDJhCc7nxx9/1NhftmyZV2oL455OBpPqkHvppZekePHi0rhxY6lVq5Zcdtll5pKL8ePHS8mSJaVJkyZStWpVqVmzprlKbNSoUVKqVCm54IIL9PzwfW7atMl7l6xBwvr4449LuXLlpGzZsrpZuRlCstOhQwcpU6aMxlPLli2lWrVq0qxZM1MxhfO89NJLpWjRonL++efr+Z122mnSrVs37xNkERLWYcOGScWKFVNif86cOd67wevZs6fW93Xr1tXYr127tpx11lmyYMEC7xPB69+/P+OeTgqT6hCbNWuW3Hffffrj6HzxxRdaqVmxdetWPUd/oo/k5+GHH/ZeBQ8t/H369PFeHYWW/yuvvFJHb5Mtr732mlSuXFkGDRqUKvatyJ07t7z//vs6P60fWsQefPBB71Xw8uXLJ99995336pjRo0fLK6+84r2yA9cpblY++ugjryT+LFy4UJPAXr16ad1q0aeffqqLnvgtXbpUE2y0qlsQrVHHatyTLUyqQ+yZZ57xjkSTwrPPPluPX3zxRf0Bt6BTp07aqpgzZ0559NFHtXUF3n33XRNdQdBdpl27dpqcFShQQAYPHiwNGzbU9xYtWiQTJ07UY7IDrXSIKSSvefPm9UrtOOWUU6RNmzbSvXt3GTlypAwcOFBbxQBxbyWxgC5dusjTTz8tb7zxhrRq1corFXnooYfMPfFCK//rr7+uiWW8wpNJdFlAfVq4cGGv1JYbbrhBt+eff15jCy3pgEQbcWYBnuimFffWutKQLUyqQwoV1NSpU/UYj9aeffZZee655/Q1EsUxY8bocZDQsvTxxx/r8VVXXaUJ62OPPaavsWzruHHj9DhIixcvlu+//16PO3bsqIl/79699TV89tln3hFZ0aBBA7n77rtl3bp1UqVKFa/UFrSmjxgxQh8po5vKvffeq+WIezxhsmLIkCHSr18/vbGcMGGCFCtWTMu3bdummyX169eXGTNmaGt1vMLTs0aNGunTPiSuFj311FP6pAZPTBFbffv29d452tJuAeI9rbjfsGGDHhNFw6Q6pD7//POUQYmXX3657tF/05k5c6Z3FByX9MMVV1yhe/85YhBL0PyVvDvH6tWr6x7w2JJsQesvHtOiP3WsqFChgnd0dHVNizDo03V3Ov3003WMgSV4koT+uaVLl/ZK4g+S6q+//lrHpsQK9Fd2LHani4x79zSVKBom1SHlTwYxCAoKFiyYcse9Zs2awCuwaOfob1m00P0D35PjztE9roSEhATviKzInz+/dxQ7/HGGFldL0Dd38uTJ2gK6c+dO7VqAmxbsLcFgPFybeCoXr9APPleuXN6r2LB69WrvSOSMM87wjoKXVtyj+xZRWphUh5R/FgFUtA76mTqYIi5I0c7Rf67r16/3joKDvrmOOzdL3yGFg3sqg9Z1zC5jCcZjXHvttSk3ueiugllBiDKD/4nkueee6x0Fj3FPJ4NJdUhZnPUgEvqPWhc5QwNRZnvvvfdS+u3ffvvturcEA978N7tjx46VadOmea/sYJ/q2IMB8+iqCOhage4rVsRK3JMtTKpDyl8ZpCU9n8lKx5uZoVChQt5RcPyt0tEE/R1SbMNg3TvuuEOP8dje0nSXDgZUJiYm6iwlgMf1mBHB2lMadG276KKLTHUhoLRhcZXrr78+pRsiulagi6IVacW9hSeoZBeT6pDyD9LyD3xyLdj4AS9SpIgeByXaOfrnL7Uw0Mz1QQd3jv6nAP73iU4EpuZq27ZtSjxhCi//gEVLcPOIx9+YDQFwzlgN0hJ0I8iRI4eeJ9mHpNXNpY1ZcCx2rYgW95gNhCgtTKpDys1JDW4lObQMYMAFYDWroEU7x19//VX3YOEcK1Wq5B0dO0f/PMJ4ZEl0MjA9I+Y6B3T7iFxgyCIs0OFgykJL8FQJM39Yau2k6HADhOkaAV0+XnjhBT22yh/3WF6dKC1MqkMK07+50flu6jr//LeYFzpo11xzjXckMmXKFN1bO0f/wBl3jsuWLdM9WJupgWID+pEOHTpUj2vUqKHL4McC9Fl2sMy6JU2bNtUbXv+8x2TPkiVL5B//+Ic+lcTTSPRVtj6jhj/usVorUVqYVIcU+iNfcskleoxK7K677pIePXroa3RZuOeee/Q4SJjlwM39jIQVy5VjARhAi9PNN9+sx0HCwjmuRf3VV1+Vf/7znyktLOBfbYsoPXBThoU53DzycN1112l/YGz++AoSFj5Cn9cnnnhCV6nEOb755pv6XokSJaRFixZ6bAUSagz65NzxdmH5b3TzcN38MK4GXaBc7FsZZNq+ffs0496NgSCKhkl1iA0YMMA7Ojpy2XWtwLG/W0OQsAwsknwkGFhid8uWLVqO1qag+3wD+p5j6Wj0rUN/OvQD/Omnn/Q93KScd955ekyUXrjJdd2wAN2KsBiT2zB40QKcF1Y8xSqnvXr1SlmSH9cCyq0t/oLrEjfiSKzJppUrV6aa23/t2rWpYh9LrAcNY2feeuutNOPeym8n2cSkOsQuvPBCXY7c/+OHkcxofbIC54ZR326mDySxXbp0kfvvv19fW4AW9eHDh2ulCui72b9//5TH90RhhFa5yMHCWP0OA7WaNWvmldiB6xMzf3DwMGUEWtHr1KnjvTrKctyTLUyqQ65Tp066yApaCLDcqsWR8W3atNHpuXCOWGwFLdYugbWic+fOOr0SWu/wmPnJJ5+MuZXL4hG6AiQlJekW+UMZlJtuuinlnKJtr732mvfJYKH72MaNG3WGBrQCY//bb7+lGgthSePGjXXaM4vTEgYBceRiCl0rLMB5+GM9crPQdQc3Zej6FCtxT7YwqY4DGARStWpVE90p0pInTx49R8sj95HoV69enS1hFFdKliwptWrV0r1lWOodjQb+FfqITlasxD3ZwqSaiIhiHpLqQYMGMakmosAwqSYiophXvnx56dq1qzRs2NArISLKXkyqiYgo5qFrFub7Zt9XIgoKk2oiIop5GOTGKfWIKEhMqomIKOZhjnsu/kJEQWJSTUREMQ/zyWNhK0vz8BNRfGFSTUREMQ8L1WCZ6/r163slRETZi0k1ERHFPEyllyNHDpMLXBFRfGBSTURERESUQUyqiYgo5qHbx4wZM7QLCBFREHIkYcH9k4DHbCf5n5KP+w4PHz4shw4dkv3790v79u1l4sSJMm3aNKlWrZq+b03btm1l3rx58tVXX8lpp53mldpy6623yty5c2X16tVeiT3NmzeX9evXS+fOnaVBgwa6BDr6hpYuXVqPCxcurEu458qVS3LmzKnXXRi4uD9y5IjG/r59+6RXr17yf//3f/Lss8/KjTfeqO9bM2zYMHnhhRfk7bfflsaNG3ul9vTp00fef/99GTx4sNYnFj322GMybtw46dSpk5xzzjm6HHSZMmU09osWLaqxnz9//pTYhzDEv4t97F2dP336dGndurX06NFDevbsqe9bM2HCBOnbt6/p6xPxhLiyHPeuDmnZsqUOqkW8lyhRQve4BooUKZIq7hHzYan3g5YdeSuT6oC57zBaUk3xg0n1Pundu7e8+uqrWk7xI7OSavSpRqIycOBA0/2qXexjH5lUU/xgUp39siNvZVIdMPcdRkuqW7VqpYmVRVOnTpWEhARp06aNFCpUyCu15dNPP5VNmzbJnXfe6ZXYg9bEXbt2MalOTqqnTJkir732WsqPikW7d+/Wv1fx4sX172LVjh07ZO/evaa/y507d2qd16xZMylYsCCT6uSkul69emZnL1m1apXMnj1bmjZtKlWrVvVKbfn555/1CWqjRo10ikWLFi5cKIsWLWJSHYDsyFuZVAfMfYfRkuolS5ZInTp19H1rLrroIpk5c6Z2rTjjjDO8UltQaeGH1nKcVq5cWdasWcOkOjmpXrt2rSQmJkqNGjWkbNmy+r41OEdsdevWNXvDC8uXL9ebXiQ/5cuX90ptQZK2YcMGrecgo0l1rHCxj31kUm35hgA3vB07dtS5wK32W8cy9d27d5eRI0dKt27dvFJb8PcdNGgQk+oAZEfeyoGKREQU8/7880+9icZNKhFREJhUExFRzMNjdbT+oUWViCgITKqJiIiIiDKISTUREcU8jPNAf0muqEhEQWFSTUREMQ8z/aDrB7qBEBEFgUk1ERHFPEynhtkpPvroI6+EiCh7MakmIqKYh6k9MSUduoEQEQWBSTUREcU8JNXoT82kmoiCwqSaiIhi3ooVK3TBj8mTJ3slRETZi0k1ERHFPKzOOHr0aJk/f75XQkSUvZhUhxxWF3v22Wfl3HPP1SXPLS4v+9tvv+lj23r16uk5WlyaHUsqP/DAA7o8Nc7v8ssv994hiw4cOKBJ1g8//CALFizQbe/evd67wcLS7Fjq/Pvvv5evv/5aZs2aJXPnzpWVK1fqeVuB80Tcu/P86quvNGFdt25dli/1ezJq164t7777rtx0001eSfx59dVXtfsLlrrGksylSpWSNm3ayI8//uh9InjDhg2TCy+8UJfmxjnWqlVLnnrqKV0R06Lff/9dzj///JTfJrwmSguT6hDr2bOnVK5cWR588EFNLn766SdTS/ju27dPk+maNWvKoEGDZPHixXqO2KzYvXu3fo/4wX7uuef0xwnnhwSIbELCOm/ePE0Id+7cKXv27NENSaIFOXPm1B/mXbt2pZwTkumNGzeaiiuc55YtW1LOE4k0bkxQh6xfv977lB1lypTRhNriTXl2mThxosycOVPjHv744w/54IMPNLG2wt2gJSYm6mvM2jJgwABp27atvrYGXYpwM+l+mw4ePOi9Q/RXTKpD7J133vGObMqVK5c888wzmvBYhcT/hRdeYEUaQ7Zu3WqyJdUPLYnFihWT008/XcqWLeuVimzbtk0OHz7svQpe0aJFpXz58lKtWjUpUKCAV3r06ZI1aO1HIwJaQuNVs2bN5Oyzz9ZZUPBkzf3NcLP2+eef63HQzjvvPLnlllvkxRdflGuuucYrFfn000/1KYgluIH8+OOPvVdEx8ekOsQaNmwonTt3lhkzZkjJkiW9UjuQVLdo0UJbKNCyaBG+N7RSd+rUSSZNmuSVkmWFChWS0qVLa4tl/vz5vVJbqlevrl2JkFTXqFFDTj31VC3HzYClx+B4NF+1alU9v/r168spp5yi5YcOHTJ3o4kbYCRBVrsRZAfUU+iugyeAQ4cOlX/961/eOyJTpkzxjoLVt29fGT9+vNx7771ap+JJpWPpSSqg6ySgqwpRejCpDrEPP/xQXn75Ze1jh0e5FqFSffvtt7XPmlWLFi2SMWPGxPVj5ViChBXJIG6I0GfTojx58nhHRxUsWNA7OpqwWuH//pBQu9e4Ic6dO7ceW8FlykWffuBv4/jrLHQFscDdmDn+JyCYFtEK3JxhhU58n7gRIEoPJtUhFll5WeT/AbAqFs6RjrGaSP8df6uvxdZ19Kn+5ZdfUhJ+dAkh+/yJtL9F2Ar/svJNmzaVSpUq6bEFTz75pHZNbNeunT4FIUoPJtVERAFzg7bQ+ovuK5asXr1a+ytjNhUoV66cdluxZvbs2TpY0T2yJ5GpU6fqHjea119/vR5bgKXk0aUIy8rjhs1a9zoMch4+fLi2/A8ZMsQrJTo+JtVERAHCY+YdO3boMaZAs9ZVCzOT+Luk4AbAyvSEfmjtx2wlmLGHjsbVW2+9pceYws5SSzXObdOmTd6ro0k2ZgWx4vnnn9d4uu222/Qmkii9mFQTEQUEySmmFAMk0xUqVNBjS9DPFXPIu8GU+/fv1+kvrQ1UZJ/qY3BjgZZpN7NS7969dW8Fzu3bb7+Vp59+WvtUY8aeG264QeMqaEj2/TcjS5cu1Zs1BzOpYPpLomiYVBMRBQBT5yGJcAu+RE5bZ0XevHl1aj2cn+tLjXN2retWoPXzyy+/NDeDRBDQDxjzVcPdd98t1113nR5bgW4VmJ2qX79+OgsI4Cbtf//7nx4H6ZVXXtFYAsxMddZZZ+lKnQ4W/kJ/a6JomFQTEQUAfZTR6guYsss/X7VVhQsX9o6OtlhbggFvLVu21MFv8QwLwLi5lXEjNHLkSD226swzz/SObMx/bmn2HYo9TKqJiLLZ9u3bUxa6wGwfmAs6FrgWPLA2pR5aPzHvvaVp2bIbVuq8//779Rg3QK+//rrky5dPX1vluj+BhfUUrr76ar0R8W8ocwYPHqyL1xBFw6SaiCgbYXquJUuWpKyciJkZli9frvOhY7OyWiH65S5btkwSEhJ0pUcs0YxjwDmjS4glWJwG3T86dOjglcQXLCd/xRVX6DL9gL/PI488oq332CwsA45uQ1j1EYnq9OnTtfuHv2vFZZdd5h0FB2smYGly/4auKk779u21rzVRNEyqiYiy0c6dO1MtRY7BZGi5dpuVZfvRvQMDtJDw4yYAg8mcihUr/mUBm6DFe5/qBQsW6KA6Z/369fp9uM3CqrXo8oSpD9Gafumll8ozzzyjU+oBnjI0adJEj4liFZPqOIHHali6GY9IrcL5uc0izM7gzo/L1sYGt/IfNiuLwiCO3DlF26ws2oTvK3IhGryuUqWKyS4W8d6nGrHjr0MjNwt1Flqqzz333FRdUmrXrq1T2GFObasLlmHFU/c9Wl2dmGxgdMQJPMbdvHmzzgdqFc7PbRZhtS93ft99951XSpahS8AFF1ygm5WZNXCD684p2malf3Xx4sX1sTcedTdq1Ej3eG1x2j/AfMJ33nmn/s3jEVYk9NehkZuFOqt69ep6HphKEtPSYY/W9Z49e5ru+41lyt33aGnVR7KHSTURqfHjx+uKdNgT+WFaPeuwuAlaqS2tHEhpw02Q9UGURCeKSTURKQygQx9a7IliDbp/YAGYeJ9Sj4iCw6SaiIhiHgYqYsETLv5CREFhUk1ERDHPLXTin1M4Lc2bN5c6deqka4vXKfqI6MQxqSYiopiHAZSYUxjzDB8PpgnEvNvp2djyTUTpxaSaKA65/qf+bciQIfoe9pHv4fNElp1In2rM4pCUlJSuDXM8ExGlB5Nqojjk+p/6N7TeAfaR7/mXpyayiH2qiShoTKqJ4hBa9CJb5MaOHavvYR/5Hj5PZFnjxo1l9erVOufx8WDaPfcU5nhbev73iIiASTUREcU8LP2+e/duXbXveObMmfOXpzFpbez6RETpxaSaiIhi3vz58+Wss86S0aNHeyVpY59qIsoKTKqJiIiIiDIoR/KdeJJ3fEJy5Mihd/GUMe47xKPLQ4cOyf79+6V9+/YyceJE+fjjj6VKlSr6vjUdO3bUlqFp06ZJ+fLlvVJb3DkuWbLEK7Hn8ssvlw0bNkjnzp2lQYMGUqxYMV2+t3Tp0npcuHBhyZMnj+TKlUty5syp111WwawJ+M7Qpzqr5+Z1cX/kyBGNfaziuHbtWklMTJQzzjhDSpYsqe9bg7/Vxo0bpXr16vq3sQqD9f744w+pVKmSxpJF69at0xU83fWJvzmWycf5Fi1aVL/f/Pnzp8Q+/F38o9sHBisWLFhQN6tc7GPv6vzp06dL69atpWvXrrpZhN+j/v37y1NPPSWtWrXySm0ZP368PPnkkzJgwABp27atV2oLnqRga9mypfbtR7yXKFFC97gGihQpkiruEfNZWe/Hk+zIW5lUB8x9h9GSaoofFpLqXbt2ydatW6VUqVJSqFAhrzRruLiPllRTfMmspBoJNfo/46YMm1Uu9rGPTKopfjCpzn7Zkbey+wcRKSTSSEayOqEmygpIqJGopGeeaiKirMCW6oC57zBaSzVacLBMrkWYagoj4zGFldVWIfzAYpCR5TitXLmyPqq30FKdndzfJFpLdY0aNaRs2bL6vjU4R2x169bVv49VmGs8ISFBqlatarZ71qpVq7Q7TWa1VH/77bfafQndJ7CyolUu9rGPbKkeOHCgPP744/q+NdnZPexkjRo1Srp3767L1VuNAfx9Bw0axJbqAGRH3sqWaiIiinlYnnzp0qWmE2oiCjcm1UREFPN+//13balEizURURCYVBMRUcxbuXKlPvr/3//+55UQEWUvJtVERBTz0Me9RYsWpmf+IKJwY1JNREQxr379+jow2eogOiIKPybVREQU837++WdNqD/66COvhIgoezGpJiKimLdp0yZ5/fXXdb5qIqIgMKkmIqKYh77UmOcZc+gTEQWBSTUREcU8JNVYWINJNREFhUl1HNixY4ds27bNe2XTn3/+qZtlf/zxh2zevNl7RZRxWFHv4MGDplf9BLfiq2Xo9oGEmsuUi65QiroKK5YSUfZhUh1S+AF86qmnpGLFirrkL5Y/PfXUU2XcuHHeJ4KHin/YsGFSvXp1KV68uG5Ythtl+BG3YPfu3fLkk09KpUqVpFSpUrp8No75w20fbtK+//57XQwE2969e713goUEGv1/v/vuO5kzZ4588803usdy9ZaSIJzLunXrZMGCBTJ79uyUc7V6Y4m/98yZM/V7jFdTp07VlSWxzDXqqnLlyumS3ZZdc801Wu9jmzt3rlcavD59+qScl39r27at9wmiv2JSHVJIWB977DFZv369V3J0IA9Gx6PitQA/fr169dJFGxxXNnr0aK8kWDi3Rx99VH777TevRPS4Y8eOMmDAAK+ELMGN0KJFi2Tx4sWya9cuvRawWUlYkVQjrnCeDm4ikcBisyJHjhx6Pnv27PFKRFvVMcvG9u3bvRI7MKXejBkz4npKvQkTJsj8+fO9VyJbtmyR+++/X8aMGeOV2IIpELFYD+p9bLhOrcBNrzsv/5aQkOB9guivmFSHVKFChaRhw4Zyww03SNeuXeXCCy/UciQWSAj9P+hBqVmzplSrVk2uvPJKPUecrzN06FDvKFi1a9fWRSVatWql53jxxRd774g8/fTTsmrVKu8VWbFs2TKTSZ+TM2dOfXqErXz58voEBAksYKltK09pcE4lSpSQMmXK6BOvggULeu+ILF++3Duyo0CBAnq9li5d2iuJP82aNZObbrpJB2yi7ndxNXz4cN1bggS6W7du3it7VqxYoXvEE+LKbaeffrqWE0XDpDrE0Arw/vvvy6hRo+Szzz5LWWkMLdZo0bEAj+enTJmi5/j555/rzQCghWzJkiV6HKQ8efJoyzTmvsU5Tp8+XZo0aaLv4QYFj8PJFiRXePyNH0AcW1SnTh2pV6+eVK1aVc8Tj+oBCbWlsQU4N9z84rE3zhc3BICECK3WlqB7Cr7HZ5991iuJP2ilf/fdd3XAJur+Cy64QMst1KWRxo8fLz/99JPkzp3bK7HjwIEDsmHDBj1+5JFHZOnSpSkbu/7R32FSHWL58uXzjo4mh2jFcBITE72jYLkkGooUKSLnnHOO98rmOULdunW9I9HuBWTLmWeeKeedd562AFt1yimneEdH+VuBrQ4IRELtkupcuXL95d8QNLZU/xXqVDjttNN0b4nr4nf11Vfr3pKNGzd6R6JPU4nSi0l1HFm9erV3JFKrVi3vyJZYOEf/QC2LP1bxDjeT7rF3rPC3+lpsXcf5oVuNS/gxWNcl2FZggB5aEi13KcgueJLw0ksvybRp0/S1tcF1aO1F3288/UBfeGv8dfzYsWN1sPovv/zilRCljUl1nMB0cPPmzdNjtOBZrMjQh80NrES/Nastjf4R6meffbZ3RHTyMO0loPU38slI0H799VetO1CHAGYSsngziUQSA8msT82Z1TB7EmZSuu+++7SLGhLX/v37e+8Gz81MBeimYpE/qUY3GgxWx1PUSZMmeaVE0TGpjhOvvPJKSisTKlg8vrXm5Zdf9o5EB9tY9O9//zulrx0GL7p+6kQnCwm1SwT9gxatQCu1f+YU9Pv2zwhiBW520fcbSWU8Qyz5Z9HAkxu04FuBPsoY4I2B6ddff71Xagu6EGFg+m233abTEsLOnTt18OfEiRP1NVE0TKrjACrZf/3rX3qM/mE9e/bUY0vQwoSBgICEH9NAWYMf7X79+ukxZgTB41WijMCNLgZrORUqVPCO7EAfdbR2IuYB9QmmK7QyRaGD82vRokXc3+iifv/hhx+08QRddPCUoV27dt67wUI97waSImm1Cl2J8Hv05ptv6kB1zKUNuMF0rexE0TCpjgP33ntvyoqKFpNVtHzdfvvtKa0rDz30kPbZtATnhnN0rf34YXAtGEQnC/NVY6YBwNR11rp+AGZnwPR/6OrkBr7hnF2XFSvQpQ0zHsXzPNWAmwt8F+gHfPfdd2vZ2rVr9bsJGmZRcpD048nCCy+84JWI3HrrrbroiiVo5PFP8Wqp1Z/sYVIdYmhJQkL9zjvv6Ov27dtLly5d9NgSzPeMFdsACfWgQYP02JIHH3wwZaAKfqg6deqkx0QnCzMMYHEOQNKKlUUtQ7cUN/UfWFmh0sEc32hdxOqZdFTLli29o9RjQYLi7++ObnSRfeAx3evWrVu9V3b4ZwBxDStE0TCpDrH//ve/8p///EePmzdvrq8xtZ4lWAIZCxUA+qsNGTLE3FRdaF0ZMWKEHteoUcP8sr9kH558uJs0xDviytpsGtH4E2lr54tW/+7du+sKfXSUG/8BFp6CXHTRRVrf+zd02XHuvPNOk/2s/es6oCsUUVqYVIcUlhJG66pTuHBhnWrKbePGjfPeCQ5ap6+44oqUvploCfOf4+TJk7U8SGj1wiNJB3NUP/DAAynn6J4CEKXX/v37dRl1F/eYoxqz3mDwFjYryyAjgcYUl2g5xJzxOHZJGq5VtK5bgtUpI1dmjTfoT/32229rVw+M+Xjuuee0HNM03njjjXocJCTVmPHDv6HMQdcdC0k1fh+xOA0WJENDD7r+OW5cDVE0TKpDChWCe7QMaL3BZPtuw8qAQRszZkxKX2/A1EX+c8Q8pkHD9+YfSf/ee++lOsdZs2Z57xClD/oiI7F28BrJqtv8j8ODhBk+MEgLAyl//PFHPXY3AlgJ0r+4lAXoPoPuH25QWbzBzQ/6J2PGCnT7wJR67iYIyTbHgKQfnkyiMeWyyy6Thx9+OOVGF/3Arc5YQjYwqSYior/AAOJoMIj41FNP9V7Zgf65aPm0MCAvCHjaEXmjgy46GAOCeZYp/dC3O1KPHj108CfR32FSHVJ4DLpkyZI0NwvTAuEcop2b2yxMuXS873HAgAHeJ8miOnXqSIMGDXTLnz+/VxosLMzhzinaZmVKOMxG0qhRI+1DitVNsW/cuLHZKeuQVGOQc7wm1ZjxA63Vc+bMkXfffVemTJmiC/dgjQJrTxX8/HWsla47mDLy66+/1ieT6E+NQcXxPv85pQ+T6pDCDyISirQ2C/Ph4hyinZvb8G8I2vG+R4stdnQMEmn0WcZmZWAdpuhy5xRty5s3r/fJ4OFc0Hcai2Fgb22gs1/NmjV1Sel4fjyP+Lngggt08awrr7xSV6a1zl/H4vwtwLSETZs21X7o6PPNrjOUXkyqiYiIiIgyiEk1ERHFPLQmYvYIdIMgIgoCk2oiIop5WOnu5ptv1n6wRERBYFJNREQxD1OIIqHmMtJEFBQm1UREFPPQ7QMzNaALCBFREJhUExFRzMOMDZipweqUf0QUfkyqiYgo5mF+aiyfjgVgiIiCwKSaiIhiXu7cuXU+bStzHRNR/GFSTUREMQ+LdWzevFn69u3rlRARZS8m1UREREREGcSkmoiIYh77VBNR0JhUExFRzMuXL5/O/IFZQIiIgpAjKZl3fELQInCS/yn5uO/w8OHDcujQIdm/f7+0b99eJk6cqOUUHzp37iwNGjTQhADLLWPAFY4LFy4sefLkkVy5cknOnDn1ugsDF/dHjhzR2N+3b5+sXbtWEhMTtZzix5IlS3RfsmRJKVOmjMZ+0aJFNfbz58+fEvsQhvh3sY+9q/OnT58urVu31nKKDy1btpTrr79e471EiRK6xzVQpEiRVHGPmA9LvR+07MhbmVQHzH2H0ZLqhg0bmh3JvnDhQvnzzz+lcePG2kJkkTtHzF1r1dy5czWhZFJ9LKnGDwr+zRbhPHGN4rrE38SqPXv2yMGDB01/l3v37pUDBw5kWlK9Zs0aee211/R6t3zNu9jHPjKpRku71Xm2N23aJD///LPUrFlT6yiLfv/9d1m5cqVUq1ZNKlSo4JXagjjFxqQ6+2VH3sqkOmDuO4yWVOPHpk6dOvq+NfjRmjlzpqxevdrsjwAqLfSztBynlStX1gqWSfWxpLpGjRpStmxZfd8anCO2unXr6t/HquXLl0tCQoJUrVpVypcv75XasmrVKtmwYUOmJdW41nHNDxw40HS/ahf72Ecm1ZbPHTcsHTt2lLFjx5pdtXLUqFHSvXt3GTlypHTr1s0rtQV/30GDBjGpDkB25K3sU01ERDEPNw9du3bVJ3xEREFgUk1ERDGvevXq2lJ5zTXXeCVERNmLSTUREcU89PlFFwWMpSAiCgKTaiIiinkYRIc+vx999JFXQkSUvZhUExFRzMOAaQz0szzzBxGFG5NqIiKKeUiqMbMCk2oiCgqTaiIiinmY8x1TVA4bNswrISLKXkyqiYgo5mGuc8z5jgWfiIiCwKSaiIhiXu3ateXdd9+Vm266ySshIspeTKqJiCjmYTVGJNRWV6ElovBjUh1i6Ft43XXX6fLX5513ntxzzz3y448/eu8GD49rX3rpJbnxxhulfv360qhRI/nnP/8p3377rfeJ4O3evVv+/e9/63KyWJoa32WXLl10+i6yC0vRohsAluv+6aefdMNy0Bbg3LZs2aIx9P3338uCBQv0uvz99991yXYrsIQ8lhHHef7www/y3XffydKlS+WPP/7wPhGsTp066aBEt51//vmaWCOp9pejDsR1HI8wcPPmm2/WzZLx48ennJd/e+WVV7xP2IF6ZNy4cdK+fXtp3Lgxp2ykv8WkOsSee+45mThxov5w4wdxzJgxcskll5jpc5gvXz7p27evvP/++7Jo0SJNpkeMGKHJtZXEGklOnz595OOPP9bEB9/lyy+/LGeffbYmQ2RPYmKizJ8/XxYvXiwJCQmydetW3Q4dOuR9IlhIqpHsb968WXbt2iV79uzRc/7ll19k9erV3qeClzNnTj0fnOfOnTs1MUVCjcQa32fQ0FAwc+bMlA1/c9ys4AbKX37mmWdKwYIFvf8qfmARnEGDBsl7772nmyVTp05NOS//hps3S6ZNmyannnqq3HHHHfLGG2/IvHnz2Gef/haT6hDDFFNXXHGF3HLLLVKgQAEtw48OWoetqFmzpjRv3lzatGkjuXPn9kpF3nrrLe8oWEWKFJFSpUrJZZddpssf58qVS8uRoA0YMECPyZaVK1fqUxCrkKwWKlRIY6lo0aJ6c+ngJgBJtxX58+fXuqN06dJ63o6F5L9t27ZSrFgx71XaOnfu7B3FF7RSW7V27VrvyC6s0InFhFxdgusUjVJVq1bV10TRMKkOscmTJ2uLAB614fGV8+WXX3pHwcP5zZo1SyZMmKCt1A5am6zA42+0WEyaNCnVd4dWMLIHrZLYML1a3rx5vVJb8MOMJzL16tWThg0b6o0b4MnI9u3b9dgCPJFBi3CtWrW065NLrPfu3Rt4yz8SanQXyJEjh1fyVw899FBc9rFGfY+na/6GCktc9zl04cGNpNuGDBmi5UHDUxk0oqD7E5LpwYMHy8aNG+Xzzz+XZs2aeZ8i+ism1SFWuHBh70j0EahTrlw57yh4JUuW9I5Sn2N6WqCyi/8ckVg4lr5HOgYJK/5OFStWlFNOOcUrtQUt1e7ckBT6491K32/wJ2VotXZPapBc+1uug4InXJdeeqn3KjXEwJNPPum9ih9ICDE2BfCEzRq0/KIVGHBTiX7wbvP/ZgXpgw8+0K5+MHbsWHn00UdN/SaRXUyq4wRarZ3bb7/dO7LFf47oEmKRf2GJdu3aeUdkidXW6b/jH6BotXURfasPHDigx2hZt5BUw1133eUdpYZr1d0ExBMMpEO/X/zbMbDOmvXr13tHRwcBugTbkunTp+seN+YYSI8nqvheLXcrIxuYVIccRlSjxQZ32vgRfOSRR9Js2QnKY489pjNrvPDCC5pQ4JFgWj+UQUHLT/Xq1eXhhx/WpA2PldmnmjKL6/KB1mv0s7YEj8AxgMw9si9evLipfqU33HDDX27C0YIdr4/pUY9C//79pUSJEnpsybJly7wj0d+l8uXLS9OmTbWbohUYkAhoOT/99NPlqquuktatW0ulSpXkzTff1PeIomFSHXIYUY3HWBj8hKTaPyjKCvSpdlP9IalA0mrtsT1aLjAADvC4Ht9jPLaCUeZD/+Rt27bpMRJWa7GPmT+wOYj/v+vHnN3y5MmjA5v9dVu83vBihgrMgoKbHqvfAZ7KYKpD9NcH/DbNmTNHbr31Vpk9e7aWBW3FihW6x9gejM3AAEXAQH886cX0l0TRMKkOOawwNnLkSB0MhYFFaBV+6qmnvHdtwCj1559/XldEw+O1UaNGyYMPPui9awOmJ3z66afl3HPP1XPEVFXXXnutzuVLdLIOHjyYquWuQoUK3pEdaEmsVq1aSgs6bgAwBaalObVPO+007fsK999/v857H2/QjQJTlOKGBzM8Wb3px5z/M2bM0CkvMYtMkyZNvHeOzl8dtHXr1qXU6y1atJCvv/5aByi6xBosDfYnW5hUhxxWGOvWrZtMmTIlpSUHSSzmx7UCrRY9e/aUTz75xCs5OnrdEkxN2K9fP30siMeB8Omnn+oPA9HJQAsdEmp3LSIxtNb1A/AIHHP1YlCZ606Ac96xY4ceW4Ep9tCKiBvgeISZM5BYI67QxQ/Jdffu3b13jz5haNmypffKBkz7irrfwfztQfM3lPhnjsFsPc6vv/7qHRGlxqQ6TmAGC0yNBWixXrJkiR5bUqVKFU0swOoAFrT++GcAWbNmjXdEdGKwgIpbSAJzQeMxs3Vu6j+wOGjLcgttVovVRUkwB7rjBsIGKa1ZnfwDiC09pSFbmFTHCSTS/lHXbjEYSzAVlOtbilYVi/2/AbMgOLE40wQFDwkpVlAE9KGuUaOGxrx16P/tWJn9wy8eV0500D2ha9euqbYLL7zQe1f0datWrbxXdvi7P1kYAIvfHde4g64gjvttArSwE0XDpDqk0MqLLhR4TIsfcAxaca2qWMUQs20EDa3laFnC0sc4z169eumSzYDzszAvKJZkxuAfPOpGyyK6zqCPHaBF7Pzzz9djovRCKxf6JLtWOXT5wA82VpnDZmEJcEC9gZk/MG82HoljcJb/xhyrjZId7du31/Eo/g2zPzl47e9qERQs2IO6H9cB+ipjfIqDbnYWuG4yqOvdEwD/IEqMUSKKhkl1SC1cuFDuuOMO7Q+JRRueeeYZ7x2RJ554wjsKFiqs++67Tx8p4zzHjBnjvXO0f6QF+B7xY4XEB48p/T8AXbp0SbUwDFF6JCYmplrgxZ9QY8NNpgVolV61apWOI8C1ipZ1t4Q6+lajXiE6EUikMZAUM3+gUQKL02AlRUDr79VXX63HQcNYJEBCjQT6yiuvTFkMBn2r43GVTkofJtUhhal/IqfmQl+x0aNH62T2FiB5iHyEjEGAWBK2d+/eXkmwXMu5Hx4NDh8+PGU+WKIT4RJT66L1G0UXFQxaxEw9RCcKTz4iYXVRDKjEjZuV7jtYonzo0KH6tBQ3lhiUjt9TNLD4B9QTRWJSHVK4+FGBYdYPTDX1zTffyMaNG7Vl2AosToBFL6ZNm6bniAUm0EUFCwJg7lkLOnfurC2LkyZN0u40+B7RYofWFmvzCdNfoUUMXXSwWWlZRSuvO6dom3+5/iDhCRIW5cCsH+jzjT2mP8P0ehb7U9Nf4XcA09ZhswArFKI+xVza6FaH3yd0VRwxYoSp6SQR3w888IA+Ofrwww+17seMH//97391OXWitLBmDDFc/Hhs1aFDB5PL1QJaKfAIEOdodW5ZtFag5QLTdeF7tJLw0/FhICkGHmGzkgjiZsydU7TN0jLlOFd0fSpbtqzueSMZW9DvHd0qLA2sQ4xjJqp27drp75PlwaX4/jCvNup+rKZIdDxMqomIiIiIMohJNRERERFRBjGpJiIiIiLKICbVREREREQZxKSaiIiIiCiDmFQTEREREWUQk2oiA7CoBhEREcUuJtVERjHRpnjBWCeiMGBSbRB/YOIP/uaRG1E8YOyzzo9XWJAqMvYZC7GNSTWRAa4y9VeyDitZCrPI2HcY9xRmLu79G8W+HEnJvOMTggA4yf+UfNx3ePjwYd32798v7du3l08++URmzZolNWrU0Petad26tcyZM0cWLFggFStW9EptceeYkJDgldiD5Xp/++036datmx5jKWgsL1+qVCk9xjLuWBYdy0NHJh2xzMX9kSNHNO737dsna9eulcTERKlSpYp+Bxbhb7V+/XqpXbu2/n2sWrVqlWzZskUqV64s5cqV80pt+fXXX/XaXLFihcZ1iRIlpHTp0lKyZEldHhqxjyWtc+XKlbLEfBji38U+9ocOHZIDBw7I9OnTdTnsPn36SN++ffV9a9555x355z//KcOHD5dbbrnFK7Vl7Nix0q9fPxkyZIh07NjRK7Vl6NCh8uyzz8qll14qN954o9b1xYsXT9kXLlxY8ufPn6rOD0u9HzR8j1mdtzKpDpj7DpFcuAr29ttv16Sa4kevXr1SkmokFkgwkFgUKFAg1Ek19i7u16xZI9u2bdNyih/4uyO2kVAgoUbsI7EoWLCgJtVhi31A3Ptj/4svvpBWrVp571I8uOqqq+Tmm2/WmEe9j32xYsVSbiaZVGe+7Mhb2f0jYP6LxV085cuX90ooHqDixN8cFWnevHm1ZS4ykfDHSRhE/nvwGv9uij/4u6NlDrGfO3fu0Me+H/5t2PA0Af9mih94GufiHg0nkfV+PMR/GLGl2gB8j+4xOFouduzYIRs3bpSdO3fqtnv3bt3wiPzgwYP6Ofw3/P5jF64fVJ4uoXCP/dA6h9YKtFK7ljpX2for2jBwMYzYR2sd4huxv2fPHo17HCPu9+7dq9cF4h6fZdzHNhfHiGkk0Ugo0DqH+EeLHWIf1wQ295QmzLGPOh3xjzof3Z8Q94h/XAeIfbzH2I99/rhHIu3qfLe5Lk94OuluLvF53mxlHnyfWX0NMak2AN8jNlSaSB7QrxqV6a5du1KSClSwKHfJhftvKDa5yhIbKlBUsqhMkUi45NqfVES2XoSBi193M4nkAbHuYh8b4z58XBxHxj42JBXuZhKxj/fDHvvYkFjjphL1vYt9XAeIfVwX+G3ABoz/2BQZ99gQ84h3/949sQlj3AcN32VWXz9Mqg3A9+g2V8G6BAMVLSpWbK6Vmi0Wsc9Vlqg4kTQjgXCPAZFMR0sqsA8TF8OIZ8S1u6FE7CPu/UkF3sfnXWJBsc3FM57CIMYR+9gQ++46QHmYW+tcPGNzN5WId3+9jzof77k6n/V+bPPX+Yh9xDrqetf1DxviHu/hs26jzIHvMquvISbVRuC7xOZPMFDJolJ1FSs29xkKB1SwLrlwCQY2JBV47d4Pa+UaLe6xuRtL/40k4z5cEM9ILrC5uHcbYh/l8RL72Fzcu9h31wLec5+l2IdYRlxHi3ts/rh3n6fMge8yq68jJtVGuO8Se5dEoELFsX9zn+F3H/twDbnNVbLYXEIRL5Wri2cX9y7W/fHv/xzFvrRi38U/ytzmPh9GLqb9ibWLfXctuM8w9mOfi2PsXf3ur+9dWdjjPij4PrP6OmJSbYT7LrF3m6to3bH/MxQOuI5cxekqU2wo81es7jNh5OIdImOecR9eLqZdrPvj3sW828IqMvYj4x57YOyHi4trf8zHU9wHBd9pVl9LTKqNcd8p9m5zr/17Cg9Xefr3bnOvwy5anLvNvabwiYxxF/eR5WEWGeMu7iPLKTz8ce2PeVfuf58yD77XrL6emFQbxe82vsVzpcrYj2+MfYpXTKazVnbkreEbUk1ERERElM3YUk1EREREocaWaiIiIiKiGMCkmoiIiIgog5hUExERERFlEJNqIiIiIqIMYlJNRERERJRBTKqJiIiIiDKISTURERERUQYxqSYiIiIiyiAm1UREREREGcSkmoiIiIgog5hUExERERFlEJNqIiIiIqIMYlJNRERERJRBTKqJiIiIiDKISTURERERUQblSErmHZ+Q2rVry7Jly7xXREREREQ21apVS3766SfvVdY46aSaiIiIiIiOYvcPIiIiIqIMYlJNRERERJQhIv8P2/Q6KgSGnJAAAAAASUVORK5CYII=)"
   ]
  },
  {
   "cell_type": "markdown",
   "id": "1401d6b8",
   "metadata": {
    "id": "1401d6b8"
   },
   "source": [
    "![31.png](data:image/png;base64,iVBORw0KGgoAAAANSUhEUgAAAtcAAAEOCAYAAABCVzsnAAAAAXNSR0IArs4c6QAAAARnQU1BAACxjwv8YQUAAAAJcEhZcwAAEnQAABJ0Ad5mH3gAAEIdSURBVHhe7d0J/FXT/v/x1ahZmpUhKkPhRkoyVMZrCFFkSMk83TLPt8wuLiEXN25l+En4i3C7N90mSRLRrJGUSCSV0vD99/7Y69h97zc37L5nnbNfz8djP/Y6+5zvt9X+rr3OZ6+9hhIFGzkAAAAAv1vJaA8AAADgdyK4BgAAABJCcA0AAAAkhOAaAAAASAjBNQAAAJAQgmsAAAAgIQTXAAAAQEIIrgEAAICEEFwDAAAACSG4BgAAABKyVYPrsWPHRikAAAAgXEnFrSUKNorSiStRooRr3ry5mzBhQnQEAAAACIuPV5MIi7d6cL0Vfz0AAACQiKTiVvpcAwAAAAkhuAYAAAASQnANAAAAJITgGgAAAEgIwTUAAACQEIJrAAAAICEE1wAAAEBCCK4BAACAhBBcAwAAAAkhuAYAAAASQnANAAAAJITgGgAAAEgIwTUAAACQEIJrAAAAICEE18iKr776yj366KPurbfeio5sHevXr3d9+/Z1gwYNio4A2aUyr7Kva2Brmjp1qv07o0ePjo4A2VNcdb4899xz7umnn45eAcWP4BpZ0a1bN3fZZZe5b7/9NjryszPPPNO1adPG9ejRIzryy2bPnu3OP/9817RpU9vuueee6B3nSpUq5RYuXOhOO+009/bbb0dHgexYsWKF69ixo3vxxRddrVq1oqM/efzxx63ca/s1Vq9e7a655prMz86fP9+OV69e3a6ho48+2i1evNiOAdnyS3X+pZdeamW3U6dO0ZFfpvJ8+eWXu/3339/tvffe7qabbnLr1q2L3nVu7dq1rkuXLu7ZZ5+NjgDFrGAr2sq/Hjlq3rx5VjbKlStX8N1330VHfzJixAh7T1vr1q2jo7/svvvuy/yM384999zo3YKCJUuWFJQpU6bg8MMPj44A2fHggw9a+RwyZEh05Ccbg+6CqlWrZsrvltgYTBT069evYIcddsj8nLYpU6ZEnygoOOWUU+zYY489Fh0Bit8v1fmzZs0qKFmypL1fv3796Ogv23hzminvfovX7xuDa7ueGjRoEB0BtozKUhJouUaxe+mll2x/3nnnuSpVqlhaVq5caS0Yv1bbtm3dvffea48BDzvsMDv21FNPWYu21KhRwz4zfPhwN3bsWDsGFDe1MG+8EXQ77bSTO/7446OjP+nfv79btmxZ9GrLqAXwnHPOcZ9//rmrWbNmdHRT1157re39NQdkw+bqfHXbu/DCC92GDRuiI1umRYsW7vbbb7eW6Q4dOtgx1e/jxo2zdOnSpe0amzNnjnURAYobwTWKne+eccopp9jeU2U5bdo0t+uuu0ZHtkyzZs3ssXjnzp3dE088ER117ssvv4xSzh144IG2f+aZZ2wPFLeRI0e6RYsWuQMOOCA68rOHHnrIyvGvoZvG7t27uw8//NBdcskl0dFNKQipX7++3VTGH5sDxWlzdb7Gw/znP//51XW+blBvvvlm60L4/PPPR0c3rfNbtmxpe+p8ZAPBNYrdxx9/7MqVK5ep/EStzA888IC1wB1yyCHR0V9n+fLlrl+/fpbecccd3T777GNpadKkie0V4ADZMGzYMNs3btzY9l7v3r3drFmz3BVXXBEd2XL6WY0z+CWtW7e2VvP3338/OgIUr6LqfA1wvOGGG+z4UUcdFR39dVSufYNK1apVN7lx9XX+mDFjfnXLOPB7EVyj2OkxtlrTVKl6qiA1COXGG290FStWjI5uuT//+c82gOuuu+6yVhC1hlSuXDl617m6devafubMmbYHiptm75B69erZXtQVRAFG8+bN3UEHHRQdTdYee+xh+xkzZtgeKG5F1fkDBgyw8q9uIbVr146ObjndWG633XY2SFI/r5vX7bffPnr35zp/1apV7uuvv7Y0UFwIrlGsVJkqiI5Xpnpc/X//93+uTp067qKLLoqO/jpLly7NPPb+/vvvM/2tPbVqePosUNz8jB3xsjhw4EBrfdMMIluLritRgAMUt6LqfFF3DQXb119/fXTk19Hv1bUjCqAL3zzGr7NvvvkmSgHFg+AaxUoVYmF33HGH9UU944wz3LvvvmtT54k++95771n6f1H/uxEjRlgryJIlS9wJJ5zgJk+eHL27qQIbEAwUr++++y5K/USDuTTvb8mSJa1VT2XfU/elpOfBptwjG4qq8zWAV/XzySefbEGxnz5SwfKWDjrXOAP15dbTTk1xqTE3m5vTnbKP4kZwjWKlQVjiWxxEjwdFfa41q8err75qrz/66CObDWFL6HGg5knVXMHqb62Wkn//+9/Ru5v+ez4PQHFStyX58ccfbb9gwQI3ZcoU6w966qmnutNPP92Oi66DUaNGRa9+HwUeousCKG5F1fkKrkVPLFXW/XeAnu60b9/e0v+L5olXV6o777zT7bvvvnbszTfftL3E/z1/7QHFheAaxapSpUr2KNC3Tv9a6jvng5PN8f364pWrbz3xj8iB4ubL3m95RK0y/1v7jfruKJR9ZMPvrfPj3T8255fqfIl3EQGKA8E1il3Dhg2t/6f/0p83b549tvObn1ZMsxz4QWCaaq9EiRK2Gldh6reqEeETJ050vXr1yvS31iAxb+7cubbfb7/9bA8UNz+TgebeFXUFiZd7XQeeXqsftoJqtdBts802v3mFUc0Somvnf80qAmwthet8dXuKl/2ePXvacV0TvjuU5oRXudVTycLB9WuvvWa/Y9KkSTawUXW/FFXna3aesmXLWhooLgTXKHb+Ed7QoUNtvyXURUQ0r2/hilLL4B566KG2FO6tt95qlbXmU41P76RKWNq1a2d7oLgdc8wxtvdlcUt88MEHNoZAMx+cdNJJ0dEtp6BE3UsU3NByjWz5LXW+v060jHnhlufbbrvNupPo92oKyzVr1lgXkfjAYOp8ZBPBNYqdDzK0gEBRVGGqklQfatHALwUZGm1eeDYRvXfVVVdZn1WtzqhBkRqF/sILL0Sf+IlW76pWrdpWnZUB+CW6+WvVqpUbP358kTPWVKhQwcpnvIwOGTLE9v+r3Kp1zv9sfAU8XQsKsI888sjoCFD8/led78vvscceGx1x1hqta0JPLQvTSo+q6/V087TTTrOxNpp+Nd7wojq/TJkyrlu3btERoBgVbEVb+dcjR61YsaKgatWqVj4++uij6OjmjRkzxj7br1+/6MivM2zYMPv5Bx98MDoCZMeIESOsLN50003RkV/WsGFD+/yUKVOiI1tu3bp1BfXr17ef3xjQR0eB4vdr6/wFCxbYZ3v27Bkd+XVmzZplP9+9e/foCLBlVG6SQMs1ip0Wibn77rstXbiFuSiDBw+2mQ7OOuus6Mivo2n6tPLjb51DG0iKnsao9VpT8Pn+p5vz2Wef2fiBo48+OrPa3K+hljtNcaa+3loGHciW31LnqytIjx49oiO/jup8tXr/1jm0gd+rhCLsKJ04DUbYir8eOU4DV/QY73+N5F65cuVvWrVR1G1Ej+A1IGzbbbeNjgLZo/KsTd03/CwHRdFgxlKlStn2W2zpvwMUl+Ko82VL/x2gsKTiVoJrAAAApF5ScSvdQgAAAICEEFwDAAAACaFbSB7gHKeTrq80o9ynU9rLvVD204myv/UlFbcSXOeo+HnlHKdPvJJNW4VL2U8vyv1PKPfpk+ayX5x0bpO4vgiuc5A/p/G935DffKWqvd/863xHuU+3zZV5yj7yWbyc+82/RvJ0XpO4rgiuc4w/n9pr27BhwyZp/x7yj69YS5YsuUk6/l4+8+VcfLnXnnKf33zZ9pvKfLzcx/f5yJdrX/6p89MjXubj6fh7SJbOaRLXE8F1DvHnUvuFCxe6mTNnZoILv+k9znn+0VzHWghEy/n6uY+1+UCjcLCRb3y51jZp0iT3zTffFFnutYWiTp06tuG3U3lWmdc89SrjKvOlS5fOpPW+L/P5WPZ9edZ+yZIlbvLkyZuU+3jZR35R+d53331tMRxf32tLS52fLTqfSVxPBNc5ROdSmyrUbt26uWeeeSZ6B2lw5513ui5duliw4TcFGj7YyNcgw5d7bdOnT3d777139E7YtGjRa6+9Fr3Cb6XFQOrVq2flXGVer33Z9+Xeb/kmXudfeeWV7pFHHoneQRpcd9117vLLL9+kvtfeB9r5Wudnk86lrrnfi+A6R+g8+k0VbadOndz/+3//z9WtW9e+bEL09ddfuxUrVrgddtjBKoUQaQnq1atX2/Lov2dFsK1p2bJltl1yySWue/futtqe/uZqzfOBhq9o/ZZP4uV+xIgR7qijjrLWnFq1akWfCItWVly0aJGlx48fb/sQqdyrrKgchUp5VNmuXr26lXPlVeXfl33fkpev5V5U7rUpyHriiSfsaUioK276uirkPPrvpWrVqtnqpSEqXOf78u7r/nyv87NJ59Jfe7/Lxl+y1WzlX58qGyvXgvXr1xesXbu2YOMXTkH79u3t/E6ZMiX6RHi6dOlieZw3b150JDxt2rSxPA4aNCg6Ep6ePXtaHs8555yCjcGa/c3nzJlT8MUXXxRsrIALfvjhBysXKh8qJ/lE/x9t69atK1izZk3B0KFD7Vx07Ngx+kR49PdRHrWF7J133rHyFLJRo0bZprxOnDixYMaMGQULFiwoWLp0acHGAMnqQpUNX07yif4/8Tr/ggsusDK18QYz+kR4fF0Vch7991KfPn2iI+Hx57Fr1652jU6ePLlg9uzZVud/++23BatWrSrYeBOfl3V+tiVVb//UaQc5Y+PfzFoxtEe6bAyirTXj+++/dxsrV7cx2HQbAwu3sYK18pDvZcKXfaSLyrf62H/33XfW4qjrQE8H4uU+n8u+L/eU/fTRk5ui6nxfFvK53Oc6gusc4r9ECK7TSRXt8uXL3cqVKzMBxtq1a/O+PMTLPQFG+iiIVmCtAENlXwGGyr2Op6ns5/P/E0VTPe/r/MLBtS8PlIswEVwHzleuntJUtOmkYNoH1j7ASFNZ8GUf6aK/uVqsFVzoBtO3Wudz2S/8/9LrtFzn+Fm8zveNKfGy78sEZSM8BNc5hAsp3dRi4YNq3x0kXsnGt3yTj/8nbBn97RVYaNtcuc9nafl/4r/5Ot+XfZX7fL6pzCcE1zmGSja9FFSogi0qwEgD/T/1f0a66O/ubyjTGmCk6f+Kn6mc+/reb74sUCbCRnAN5AhVpj6o9sEFFSzyXbzcK522wBrppbIer/OFsp8bCK5zFBcYgDRRnUe9hzTy5b7wHuEiuAZySDzAoIJFWlDWkVbU97mJ4BrIEVSuAACEj+AaGXPnznVLly6NXoXps88+cwsXLoxehUf94ubPn2+b7yMHAADSg+Aa7vXXX3c77rija9CggatRo4br2rVr9E44Jk6caHnceeed3Q477OBatmwZXJC9ePFit99++7lddtnFNqV1DOGaOnWqlaUSJUrY1qtXr+idcGgarilTprjRo0fbNnv27OidcGge3hkzZmTy+NFHH0XvIESagaJ///6uevXqVu6bNGkSvRMOlfvevXu77bbbLnN9qtEiNDqP5cuXz+QREILrlJs0aZJr3769+/zzz6Mjzg0YMMDdcccd0avs0xfB2WefvUkex48f76666qroVfZpcYs2bdpsElQofcQRR9h7CIuWFFYg3aJFCytLIVK5nzNnjnvvvfds+e8QqavSp59+6t5//3331VdfRUcRsuHDh7s999zTnXPOOcGWK30vHXzwwe6KK66wazVEujFXna/zSB2PwgiuU+7uu++2L3Hp0qWL23XXXS192223WQUXAuVx2rRplj755JNd69atLf3SSy8Fk8d+/fq5mTNnWrpbt27uxBNPtLQq4D//+c+WRjgeeeQRd+utt9qqf2XKlImOhkXBqp7OhNy9SEszK7hWkE2rXW7o0aNH5ulHqVKlbB+aU045xU2YMMGVLFnSthDpO3LUqFHBnkNkF8F1iulu+5VXXrF0w4YN7fHWX//6V3utRRsef/xxS2eTHg3eddddllYeX375ZXfvvffaa83/GUIe5YUXXrD93nvv7Z566ikL/CtXrmzHHnvsMcsrwnHkkUe60qVLW1m68cYbo6NhqVixogUWO+20k3UzClGVKlXsPCp/IXYtwH/bZ5993OGHH+4+/PBDt/vuu0dHw6Lrs1WrVtZgofIfIp1HfSe988470RHgZwTXKfbuu+9aEC2+NViP4rwQHpfPmjUr88jN53GPPfawvYTySN+3rDdu3Nj2CjgaNWpk6RUrVrgFCxZYGmFo2rSpmz59urvmmmuiI+FRcK1uK/Xr1w+2dUyt1c2aNbPxEKG2MGJTehL41ltv2TUQqquvvtqNGDHCgtdQaWyS6hBdo0Bh1IYppkGCnvrgiQY0litXztLq0pBtmsHE83lUa5lvFQ4hj5phZcmSJZbWYEuvVq1aUcoRXAdGZTzkL27RDVrZsmWjV+HaZpttohRyQagtwXG6NkMv+/Xq1bNrFCgKwXWKzZs3L0o5GzXu+cBVrdrZHqQU//fjefRp5THbI8jj57FSpUpR6ufzKMwaAgBAOhBcp5i6K4QuF0Zh58J5BAAAxYPgOsW25JFWth/NbUlfU9+NJVu25DyGOiMFAABIFsF1isX7B8f5QY5StWrVKJUd8a4gcfEW7Tp16kSp7NjcedRMJ162zyMAACgeBNcpFp91Q6urycqVKzOT9mtauWyrW7dulPo5jwqsfR/mEPKomRL8oK5FixbZXr788ssolRuDiAAAwO9HcJ1iWj3QGzlypO01cb931FFHRansiQfPPo9atc4LIY/quuLn+I3PXuLzqRlY/OI8AAAgvxFcp5iCPj8vs+aLHjx48CbLnnfo0CFKZY+m3fPzWyuPTz75pC1244WQR2nZsqXtNXf466+/7vr06ZOZnk+rjQEAgHQguE65yy67LEo51759ezd8+HBLX3nllZmAMdt69+6dmeLu/PPPd/fff7+ljz/++GDyeOGFF9rASi1V3a5dO3f55Zfbcd289OrVy9IAACD/EVyn3MUXX+xuuummTWa86NKlS2YZ9BBoJbG+fftukketCqdjodBSuMOGDXPVqlWLjjj3hz/8wW5Wsj3gEgAAFB+Ca1hXEK0y+M4777jZs2dv0u0iFJ06dbI8vvfee+7jjz9277//fnBBq5aO14I248aNs/wprwTW4dMS6Bp8qi3U5dBr167tDjzwQNt22WWX6GhY1IXL59GPQUDYxowZY+Ve+1CpLvXXpwaPh8jnTxsgBNcw/ouxQYMG0ZHwKI/NmzcPYoaQzdGqjOqqopb1XFi6Gs5VrFjRlqrXpnSINGhWc6Vr25K537OhZMmSmTyyLHRu0JM2lfv4E7fQaDpWf32GWvZ9/rQBQnANAAAAJITgGgAAAEgIwTUAAACQEIJrAAAAICEE1wAAAEBCCK4BAACAhBBcAwAAAAkhuAYAAAASQnANAAAAJITgGgAAAEgIwTUAAACQkBIFG0XpxJUoUcJtxV+fCvHzt379erdu3Tq3Zs0a17lzZzdkyJDoHaRB27Zt3UknneRq1arlqlev7mrUqGH7KlWquPLly7tSpUq5kiVL2nWnLR+o/GtT2f/xxx/dW2+9ZecgV4waNSpK4bdauXKlmzJliqtataqrWbOmq127tpV9vVa5L1u2rCtdunTelXvZsGFDps7v0aOH69evnx1HOvg6X+W+WrVqVvdr7+t8lft8q/OzTecxibiV4Dpw8fNXVHDdoEEDt80220SfCMuiRYvcsmXLXKNGjVyZMmWio2GZP3++W7Vqldthhx2swgrRkiVLbCO4/jm41v9Zf7MQ6fqcM2eOpSdMmGD7EKncq5yo7IRKeSS43jS4rl+/vqtQoYK9HxpfV4WcR/+9VKdOHQtUQ1S4zie4Lj46j0nErQTXgYufv6KCa33pNGnSJPpEWLp27eoGDBjg5s2bZ5VtiFR5jRw50g0aNMh17NgxOhqWXr16uVtvvZXgOhZc62+lv1mIpk6d6vbaay9Lh1z/jRs3zspMixYtoiPhGT16NMF1oeB6xIgRrk2bNvZ+aHxdFXIe/fdSnz593KWXXhodDUvhOp/guvjoPCZRb9PnGgAAAEgIwTUAAACQEIJrAAAAICEE1wAAAEBCCK4BAACAhBBcAwAAAAkhuAYAAAASQnANAAAAJITgGgAAAEgIwTUAAACQEIJrmMWLF9tSsFoa9p577omOhkV51BLAyqO25cuXR++EQ3m86KKLMnlEmFavXu2efPJJd9xxx7lddtnF7b333u6mm26y46HQku8LFy605dTfe+89N3HiRDd79mxbBj4kKvNantzncd68ecHlET8bM2aMO+uss9y+++7rmjRp4i677DL7G4Zk0qRJ7vzzz7frslGjRu6CCy4ILo8zZsywc6fzuOeee7pOnTrZtQoIwXXKvfHGGxZg7LTTTu5vf/ubGzBggBs6dGj0bhj0pa1AVXl86KGHLI/aQgqEJk+ebDcnqmSfeOKJTB4RJt0A6cv7zTffdPPnz7fg8K677nK77bab++STT6JPZdfnn3/u5syZ45YuXWplfeXKlW7RokXugw8+cD/88EP0qexSwKPz9c0332TyuGDBArtmv/322+hTCMkll1zinnvuOQtgp02b5h599FHXsmVL99lnn0WfyL5TTjnFbn51XeqGsm/fvnZtKt+h6Nmzp507nUcF2i+88IJr1aqVGz58ePQJpBnBdcqdffbZFmCsXbs2OhIeVbQKVEPOY69evezmZNmyZdERhKxNmzaudOnSrl27du60005zlSpVsuMKDPV3DEGFChVcyZIlXbVq1VzNmjVdiRIl7LhahRVwhKBq1aqWxxo1arjatWvbOZUNGzbYuUR41NLapUsXe1Kz44472rFPP/3U3XjjjZYOwYEHHug6duzorrvuOle/fn079v3337vzzjsvmEYVNaSoYUp5VPkXPU3liSWE4DrlGjRoYF+QugvXPkTNmjWzQEN5rFOnTnQ0LDqP0r17d9sjbH/84x/d9OnT3WuvveYGDhxoj8oVJIqeQoRg2223dS1atHB77bWXfZE3btw4ese57777zhUUFESvsqdcuXJuv/32s7ztvvvubo899ojecdaKjfD8/e9/d/3793d33HGHe+qpp6Kjzrr0hOLxxx93gwYNsi6KEyZMsHImCqxDaWG//vrr3euvv255VP3h6YlTaF1YUPwIrlPu/vvvtz6SanktU6ZMdDQsqsQ++ugjy6OvZEPTuXNne4TZu3fv6AhCppu0hg0bRq+ca9q0aeYGKZQvxrJly9rmVa9ePfNaLcPr1q2zdLbpxteL36CH/KQpzeJ1aPyGTU9IQuGfJIlahX0Lu1SuXDlKZVf8POqm0jf86Hj8mkA6EVyn3KGHHhpsi7Wn/oDxQChEGnijwUHIXf5xs7pghEqDHEVdRHwXjJAo6PdCvVnHz9SC7V1xxRVRKix6sjRr1ixLqxvG9ttvb+mQqPXa35Sfe+65rkqVKpZGehFcA0i9sWPHZvoI77///rYPzVdffZUJrrfbbrtMH+yQxMccxFsfERbNbKEBgjfffLO9vuWWW1yHDh0sHQo9qdQg9tNPP92VKlXKXXjhhe7ZZ5+N3g2Dgmo1/Nxwww32WudVT4MBgmsAqaeZXrxTTz01SoVDLcKaOcTzg7xCE+9SE/ITgLQbP358pjVYPv7442C6GXmaycTf8OqmUrNyfP311/Y6FJolJH5dauYcBrVDCK4BpFqfPn2sT79o8KwGEYZmyZIlmT7M6nMaYqvwihUrbEo+UUujn0EB4bnvvvvc3Xff7XbeeWd7/eqrr9rYlpBoykANYvddAnVDcOSRRwYzW4ho9hINDPX9rTVN5kknnRTcjQqKH8E1gNTSfMzXXHONpdXSqrlqQ6Op9zQXtxdiq/WqVasyC2ho1hXNbhJin3D8RF1AFEyrO5R/wvDwww9vUs6yTdNlqmuIZu/RuBtR/jR1bCgOPvhgm9JQMw8dcsghdkw3ASHWIyheBNcAUkmtS1r5zbeEPfjgg5kZQ0Khx+EKLtasWWOvtVqd+luHROdR3Qp8HhVYhzTzBDavXr167thjj7W0noy8/fbblg6JZt84+uijo1cuyFUQNSlAt27dolfOjRgxIkohrQiuAaSSHuf67iD68tZgpNBosRg/X7QePYc4U4KWaPfLnasVVFMGInfE+8mHOtVpvB9zqLPQ5MJ5RPEhuAaQOhrlf+utt1parazqy6mFK7ScsbYQfPHFF+7LL7+0tAKKihUr2vLnfvMtxdmkJc7jKzFqft/Q8oif6UmIZtxQ9woFg1pifNiwYfaeWl/btm1r6WzSAkla3EaDA3XjNnjwYJuOzwtlTMSLL75oAxqVx2eeecY98MAD0TvOtW/fPkohrQiuAaSKprTzU2eJBuFdffXV7rLLLstsIdCXtqdH9pqVQC3Zfvvhhx+id7NHM07E57bWMtqh5RE/U99gLXi1yy672FOQ888/P/P3e+SRR4J46qByo4GCWvFzhx12sEDV32Qefvjh7rDDDrN0tmk+a3WBUh7PPvtsG3TsjyufSDeCawAAUkBT2RUOoHfddVfXt29fd9ZZZ0VHsktjIApP46j5rjW7iZYbD4G6qRQe+6AnYJov/IknnoiOIM0IrpGhFr2CggI3cuTI6Eh4tFS78qitVq1a0dGw+PxpQ3hUbuJ/o6K2EGgxG62gurkthJVV9Yi+qLz5LfTVX9NGM3CoFVhPHDToTk8a9ERELcWhOOigg+y7SHW98qi8Kp+a3SSUvswq18qTukSNHj3a9kuXLnW33XabTUMJEFwD2GLqY9i1a9dg+iUD+HUU/GnuaAXaahEOlaacVB79PNchUpcQTcGnPRBHcA1gi2kQ1IABA9yoUaOiIwAAII7gGgAAAEgIwTUAADFaqESrA27pFvI4FQDFj+AaAICYadOm2TzoW7oRXAOII7gGUCRNN1W4ha5///72XlEte2+88Ya9B+S61q1b20wVW7ppkC8AeATXAIqk4LpwC50GM0pRLXtvvvmmvQfkOk3XqJkqtnTTzBYA4BFcAyhSnTp1/quF7sEHH7T3imrZ6969u70H5Dr6XAP4PQiuARRJCzYUbqFr2rSpvVdUy95uu+1m7wG5jj7XAH4PgmsAAGIaN27sevbsucWbbi4BwCO4BgAgpkmTJkV2/9jcRnANIK5EwUZROnElSpRwW/HXp0L8/K1fv96tW7fOrVmzxnXu3NkNGTLEjR492u2+++7RJ8Lypz/9yb3wwgvu/fffdzvuuGN0NCzt27d377zzjuvbt6874YQToqNhuf/++919993n2rZt60466STrklG9enVXo0YN21epUsWVL1/eljUuWbKkXXfatgY9/lY+Onbs6AYNGhQd3XpU/rWp7P/444/urbfesnPQrl079+STT0afCsvMmTPdoYceamnlOVQTJkywMrPffvtFR8Izbtw4t3LlSjdlyhRXtWpVV7NmTVe7dm0r+3qtcl+2bFlXunTprVrui5uv9zds2JCp83v06OH69evnXnnlFdeqVSt7PzSqp1RfhZxH/710zz33uHPOOSc6GpbCdb7KfbVq1azu197X+Sr3W7vOTxudxyTiVoLrwMXPX1HBNdIjhOBay58PHTrUZkcojtY6lX9thYPrXMEy8b8fwfWmwTXSg+C6+Ok8JhG30i0EwBbTDCKa05fH4AAAFI2W68DFzx/dQpJHt5Cwqfxro1tI8ugWEi5f79MtJHl0C8Ev0XlMIm4luA5c/PwVFVzrS0eDb0KkFk4tOjJv3rxgF1lQ5aV+xOo/rH7EIdKAKU33RXD9c3BdXH2+fwvNkbzXXntZOuT6T4GrykyLFi2iI+FR4wHB9abBteaUD/XJka+rQs6j/17q06ePu/TSS6OjYSlc5xNcFx+dxyTqbbqFAAAAAAkhuAYAAAASQnANAAAAJITgGgAAAEgIwTUAAACQEIJrAAAAICEE1wAAAEBCCK4BAACAhBBcAwAAAAkhuE65MWPG2GpQZ599tjv99NPdTTfdZCvMhUT50VKwyuOpp57qrrzySltVMSSzZ892vXv3dt26dbM8aondf/7zn9G7CM3ixYtd//797e+kv9dFF13kXnrppejdMGhFykWLFrk5c+a46dOnWxlTvrVaZSiUly+//NLyOG3aNDdr1iy3ZMkSW1kQ4VKdX9Q2adKk6BPZp+uzqDyGVPdvLo+DBw+OPoG0IrhOsWXLlrlDDz3Ulll95pln3MCBA91dd93l9t9/f/f+++9Hn8ouLX2spaSvvfZay+OLL77oHnzwQVsWVsFsKM444wx3xRVX2PLEyuMjjzzijj32WHf99ddHn0BItPTxOeecY38n/b2eeOIJW1L9vPPOiz6RfQpSFVAvXLjQ0gq0P/nkE9tCsXz5cjdz5kzL49dff+2++OILuxH48MMPCbADtXTpUqvzi9pCCq4feOCBIvMYUnB95513FplHgmsQXKdY1apVXePGjd0hhxxigYWCWFm9erXr0KGD7bOtYsWKrlWrVpY35bF169a29r/oRiCEPMq+++7rGjVq5E455RR3wAEHREed+8tf/uKGDh0avUIoDj74YLf77ru7c8891x155JGuZMmfqsKnnnrKjR8/3tLZVqFCBVepUiVXp04dV61atejoT0H3999/H73KrsqVK1s+lceaNWtmrk3dFH/11VeWRlh0k+apfOnv5rdy5cpF72Sfz6fKVzyP+k4Iwbp169zcuXMtresgnke9RroRXKfciBEj3OjRo92gQYPcu+++a1+S8umnn7q3337b0tn23HPPucmTJ1se1Wqh7iuiICOUPN5+++3WoqiuBTqPF154YfSOc88++2yUQiiOOOIIN2PGDPfkk0+6f//73+7888+P3nHW6hoC3fzut99+brfddrOby+222y56x7lvv/02SmVX6dKlXbNmzSyPe+65p6tbt270jnMrVqyIUghJ/KZHT//02m+dOnWK3skuBa5qYRe1BMfzeM0119jxbNOTGv905h//+McmedQTMaQbwXXK1apVK0r91EqslmHv888/j1LZVb9+/Sj1k+bNm0epcPIYP49y0kknRSlnj8wRFgWFcS1btoxSLpjWO98K7FWpUiVKOVeqVKkolX3xfJYvXz5KbfxyiZ4GICzffPNNlPrveisU8Xq9cP0fCh/8S6h5RPZQ+2ETq1atilLO1atXL0qFZc2aNVEq3DzqsbgXb81DeDQY7/HHH7e0HkEffvjhlg6Juj+pRUwUWOvRc2jU2qjWPC/elQXhWLBgQZRyNghV/axD6x8fH1SvcQehjAGKi98AfPTRR/bEMpRuisg+gmtkaHDSsGHDLK3WO/XFDtHYsWNtX6ZMmWDz+Pzzz0cpZ316ER7NvKG+8g0bNrR+1gqs//Wvf7kdd9wx+kT2qWuFuqlMmDDB/fDDD3ZM+S1btqylQ6A8fvDBB27cuHE2SFot2Q0aNLBuLQiPv0kTDbjWNXDYYYcF1Y1n3rx5Ucq5G264wZ5W7rHHHkEF2fHzqIHQBx54oNtnn33sZgAguEaGAgt/533mmWcGNbjF05f38OHDLa3AOsQ8qnJ99dVXLa0AQ4NDER6V9fjsCE2aNLEv8JCoNViDFwsKCuy1gmoNQguJ8qjAzOdRXUO23XZbSyM88W4h3qhRo9xZZ50Vvcq+orr7aVYaNVTEg9psincL8TQVpfKo7ymkG8E1jObU1VzSooFTd9xxh6VDojx27do103Xl4osvtn1I1LqoLykFHPLwww8HFwzhJ7rxufHGG93RRx9t/YPVOqwZX0Ka5103jzvvvHOmi4WuAT2Cjnc7yjblcaeddrKuKjqPuj7Vkl1U8IHs+/vf/243QurCo+5QegIoahB44403LJ1t99xzj+VRUztqILsfaK+gNZQB4j169LA8amC9BkbXrl3bjs+fP9+m6EO6EVzDaB5pBRdy1VVXZSqzkCiPvkVYAVGILcKaP9lP5aYWjM6dO1sa4VFwrS9BTZWoKfhEX94a+R8KH1xrthDtRTdu8cfm2aY8akCXZgvZddddo6ObTvmG8FSvXt1mNbrggguiIy7TLTAU+h7SFKzdu3ePjjj38ccfR6kw1KhRw6b0VN3vvfXWW1EKaUVwDXfLLbe4hx56yNJa+ER35KF54YUXMnlUH0EteBMaDWjxLf5qxfD5Rfj0RMT3EZ4yZYrtQxPvCx7qY2cFbF58cDTCpUXDvJCeiMSpD78XH9Aeklw4jyg+BNcp9/LLL2cCwr333ttahkOZpN/TwLNLLrnE0ppCTUvOhjZYStPtqaVag0LVDUQtF2rJQ25Q/2v/hVh4mr5QqEuIF+o0d747FHKHGgU8jTsIUXxV0pAGHMfFz6MWZ0O6EVynmL4INUG/d/LJJ9uiLFqoRZsW2ci29evXWx9mPwhHAy2VDimPotUi/Wj7Sy+91Poz+jxqQ1hUzv3gXV0HV199tVu7dq29DuWLUcG+HySoqdI0ZaAXyoBBlfl4QK0bYS+0m3T85LPPPotSzk2cODHTJUo3lfH5+bMp/vRIgxvjXbXiK+BmU/w86ntIs5p4DGIHwXWKqY+YVj70FGi3bds2s2lQSbapP6yfHUQGDBgQXB4VUPTt2zd69dOS5/E8akNYTjvtNBu4q9lBNFjw0UcfteN6ItKtWzdLZ5sGRmnaSY2FUKuYHyCoIGiXXXaxdLYp8FHeNEWapuKLL5i0/fbbRymEQjeUWvZf5UdP1jR9nG6ONH3iAw88EMRiKGqY0FNUrWGglT/Vj98vM65Fzo477jhLZ5vyoTKuPKrFX9erqG7xqwgjvQiuUywXpgvKhX6b+sLyrZ4In8q9Btvp76bpvTTVnehLXAFiKN15lD+1WGsGGt86rMBa+dOc3CHQuVMedZ36a0CzTyjYiPe/Rhh0E6RypUBQra3+b6bA+vLLL7d0tk2fPt32ukY1tZ3yqG5Q1113nXW3C2H6VV2PqjvUsKI8+kV4zj//fBsPFNIKqsgOgusU0yPAfv36bXbTxPjZpsUDisqb30LIo0aLF5W3+IZwqHVas2089thj7rLLLrOZCJTWI/KQ5rnWDCEayKUWPK3yqRayFi1aWIt7KDS4WNMXKn9qxVNaj+0JrMN08MEHu9dff93ddNNNrkuXLjbeRsFhSIPYW7VqZbOW9OzZ0/Kova5NPaUMZTyE8jF69Gh3++2325Ouu+++240ZM8amOQSkRIHv1LcV6FHTVvz1qRA/f+p/rDtmjZbWFG9DhgyxvmmhDkLRDAzqxqFAJoTHjUVRlw31idZcqpryKUS9evXKdNnRDVGtWrUseFFQr32VKlVs4Q61lqiFR9edtnyg8q9NZV8D+tRypXOgv5X+ZiHSPNkKjCXk+k+t9CozCthDpQBGfc9Vz+mmSHNpayYelX29VrnXwjoKdvKt3ItaRH2drwBYN+ojRoxwbdq0sfdD4+uqkPPov5fULVLjY0JUuM5XuVf3NdX92vs6X+U+3+r8bNN5TKLepuUaAAAASAjBNQAAAJAQgmsAAAAgIQTXAAAAQEIIrgEAAICEEFwDAAAACSG4BgAAABJCcA0AAAAkhOAaAAAASAjBNQAAAJAQgmsAAAAgISUKklhEfTOSWqM9zeLnb/369W7dunVuzZo1rnPnzm7IkCGuefPmrmLFitEnwjJjxgy3ePFi17JlS1euXLnoaFgmTZrkli1b5ho3buxq1aoVHQ3L/PnzbWvbtq076aSTLJ/Vq1d3NWrUsH2VKlVc+fLlXalSpVzJkiXtutOWD1T+tans//jjj+6tt96yc1CzZk3XpEmT6FNhWblypZswYYKlVb5CtXz5cisnlStXjo6E57vvvrPzOWXKFFe1alX7u9euXdvKvl6r3JctW9aVLl0678q9bNiwIVPn9+jRw/Xr1881bdrU/u8h8nVVyHn030uNGjVy9erVi46GpXCdr3JfrVo1q/u193W+yn2+1fnZpvOYRNxKcB24+PkrKrhGehBc/xxc54pRo0ZFKfxWBNebBtdID4Lr4qfzmETcSnAduPj5Kyq41pdOqC14Xbt2dQMGDHDz5s1z9evXj46GRZXXyJEj3aBBg1zHjh2jo2Hp1auXu/XWWwmuY8G1/lb6m4Vo6tSpbq+99rJ0yPXfuHHjrMy0aNEiOhKe0aNHE1wXCq5HjBjh2rRpY++HxtdVIefRfy/16dPHXXrppdHRsBSu8wmui4/OYxL1Nn2uAQAAgIQQXAMAAAAJIbgGAAAAEkJwDQAAACSE4BoAAABICME1AAAAkBCCawAAACAhBNcAAABAQgiuAQAAgIQQXAMAAAAJIbhOudWrV7vXX3/d3X///e6vf/2rmzFjRvROWMaOHWt5vOOOOywdovfff9/17t3b3XPPPW7o0KG2ZDdyw9dff23L4GtbuHBhdDQsWgJ72bJltum6DZGWqPd5/OGHH6KjCIXKjS/nm9uyTcvdF5Uvv4VS/ysfReXPb/p/IL0IrlOucePGrl27du6aa65xV199tdtzzz1dt27dggoMmzVr5g4++GDL4y233GLpQw891H366afRJ7JP56x58+buiiuucDfccIM75phj3AEHHOA+++yz6BMIlQLCk08+2bVt29a2wYMHR++EQ9fjxx9/nNm+/PLL6J2wzJo1K5PHUG9S0mzx4sWZcr65Ldvmz59fZL781r59++iT2aV8FJU/v+n/gfQiuE657bbbzlWqVMnVqVMnOuJcv3793PPPPx+9yr7tt9/elStXbpM8jhkzxlraQ6HzKPE8Tpw40YJuhO1vf/ublaeQLVmyJPiW4BUrVrilS5dGr5CLVM+GrkyZMlEqbLmST2wdBNcp9+CDD7pvv/3WffHFF+7KK6+MjrqgWu969OjhPv/8c8vjiy++GB117r333otS2XfGGWdYAKQ83nfffdFR54YPH25BB8KkR7d/+ctfolfh+uqrr6JUuObNmxelEKoaNWpY40l869mzZ/SucyeeeGKUyp569er9Vx71xNLTE8IQPPzww/+VTx9Q77DDDq5BgwaWRjoRXKeculeULl3a0p07d7a9hNRKdsQRR7jq1atbukOHDq5Ro0aW1uP8UKjrir64RN1r4i3Yq1atilIITf/+/e1R+c477+yqVq0aHQ2Lbn7Vh7ly5crRkfCom4ryWb58+egIQqSnlF27dt1kW7BgQfSu26SBJVt0HRbOo/+OkuOPPz5KZVenTp02yWOpUqXc2rVr7b0//elP9hrpRXCNjMmTJ0cp5zp27BilwqJAyH8ZHHjggbYPzZQpUyyf0rp1a1erVi1LIzyPPPKI7TVQNqSbNW/Dhg3Wj1l22mkn24dm3bp1bs6cOZb2N5jIDbppe/rppy2tuqpFixaWDs2rr74apZw74YQTolRY/BMw3cBcfPHFlkZ6EVzDRjZrJo6rrrrKXu++++7urLPOsnQopk6danlUQK0R72rJCK0/s2ZaefTRR20wi6j/ovKMMKnr08yZM13Dhg2tFSrEJwyLFi2y8l6hQgVXsWLF6GhYNNOKAuwSJUoE2/qPommsgf52Elqd76mhYtKkSZY+6KCDgmys0ExR+o4Sda1RgI10I7iGBYOaiUN9htVn7N57793kMVwIbr31VsujRmDrcdtdd91lXTFCoin4LrvsMgs2ROn999/f0giL+jCrL78Cwscffzy48i5qSfcz4tStW9f2oSkoKLAbAFHLetmyZS2N3OBbhHVTdPrpp1s6NBq4ric4otmYQqTvTC/UPKJ4EVzDtWnTxtWvX9/S6jN22mmnZVoKQqEpA30eNS3Ztddem3mkH4o99tgj0x9c1Gp98803R68QEpUfBa4ac3D44YdHR8OiwbEq6wr8a9euHR0Ni/paa8CuntKE2m0Fm/fKK6/Y/uijjw7yyYjKVp8+fSytJ0ynnHKKpUOilnU/0H7vvfcOrtEH2UFwDTdixAgb6T9w4EB7rcfQekwe0lzXvXr1sjx++OGHmS9xtRSHlMfrr7/effLJJ3Y+d9xxRzt29913Bz/NW9ro8e0zzzxjabW0qmxp8958801bDCib1FLn++1rkKBmy4nPG62+sr7FOFvUncDPEKI8ak73eJ6+//57u4EJ6RrFz3QNfPPNN5bWWgch0mxWfsEk320xNP4GRUI9jyh+BNfIUIu178agvqjxAY6haNq0aebxpb7IQ8yjngSoZVQUJL388suWRhimTZuWecw8bNgw63KkzVNw/dBDD0WvskNdQrQio/ggNR5cf/fdd1kPrpU/PzuCZgpRHtXa7vl8+3ONsPgBeHoyctxxx1k6JLoGNN2daKYczcgRovhgS4JreATX2ES876lax0IUn+Io1DzmwnkEkE7xAXjqFhXiQNQPPvggM36lZcuWQS5wo1b1d955x9I6h/vtt5+lAYLrFNMCGvFllLUoi1YVFLUUhFBRqPLy03yJVoB74403LK3KNpTKTC10nh6P9+3bN3r1U0s2wqHWJZX7wpun7kYKPrJpm222sZlx4lu8rGuRij/84Q/Rq+zQDCaF8xjPk/qJ61iIg0XTLj4ATwPFQ5QL0+899dRT9oRGNICdAb3wCK5TTF0q1DdYK175L0f/mFfdGqpUqWLpbFKgqoEse+65p+VPi7N89NFH9p6mPAohj9KqVSsbzKg8akEStbpIiNMapp1uyjSdV+HN0zRaftGibNEsJpq5J77Fg1Q9vdGxbNrSPOpzCEd8AJ7qqlAH9Mb7MoeycExhuhEXlfvu3btbGhCC6xRT65yCae3ffffdTN/IAw44wAbnhWDu3Lm21xzSyqOfk1UBUHwQWjZpRLv6v86ePdvy6OkxoeZSpuUOQCi0roGn2XJCpLpU436kSZMmmZmiQvLxxx/bQGPRbCssoIQ4gusU07LiWqpbLcBaneuMM85wjz32mPvXv/4VTECoqY169uxpK0YqjyeffLK1FqiriKa+C4HOlfKkAaGaM1x7TcGnLjah5BH/2yWXXGKbylyI1BKs+a61hboUulqqfR633Xbb6ChCoicJvqyfd9550dGwKLD2efQDL0OjsTQ+j0y5isIIrlNMgd99991nratqzXjuuefcRRddFNSXYr169ayFetCgQZZHzbxx3XXXbfIYP9vUzUB50lSG//nPf2x/++23u1133TX6BHKBVtfUFmprngJXdZHSVq1atehoWNTn1OexZs2a0VGERDf/oZd1zV7i8xjiTCaic+fzqAGXQBzBNQAAAJAQgmsAAAAgIQTXAAAAQEIIrgEAAICEEFwDAAAACSG4BgAAABJCcA0AAAAkhOAayBGFl5FmWWkAAMJDcA3kEAXUBNVIG8o90sqXe66B3EJwnaO4yNLHV66FNyDf+bJesmRJyj1So3C5jx9D2AiucxAXVjrp716qVCmraOOVbZpQ9tPHl3tf9vXab0A+82U/XudT7nNDiYKNonTiVAi24q9Phfj5W79+vW0//vijO+uss9xrr73mOnXq5KpVqxZ9IizDhw93M2fOdJ07d3aVK1eOjoZl8ODBbtGiRe6oo45yDRs2jI6GZcKECbb98Y9/dB06dHA1atRwVatWzewrVarkypUr91/BRz5Q+demcr927VorUyeccIJr0KCBO/roo6NPheWbb75xAwcOtPSsWbNsH6LFixdbOaldu3Z0JDy6Nn/44Qc3d+5cV6VKFVe9enUr99rrtcp9mTJlXOnSpfOu3MuGDRvcunXrrM7v0aOH+8c//uFOPPFEV69ePXs/NL6uCjmP/nvp0EMPdXvttVd0NCz+PKqO69ixo5X37bbbzvaq8/V9mq91frbpPCYRtxJc5widR1/RKsi44IIL3PPPPx+9izQ488wz3bHHHmsV7LbbbmuVrfYVKlT4r4o2X6jc+7Kvcj958mR3wAEHRO+GTX8b3QDj91m9erX74osvLKAoHGBss802Flyr7OdbgOHLvW9Qufrqq90TTzwRvYs0aN++vTWoqAFN9Yn2uqmsWLGilX1/U6l6H8lIKm4luM4R8YpWQcbUqVPd6NGjrVVn1apVbs2aNZZWJazP6LOc+9znK86yZcu6gw46yCpYBRaqYJVWgKHgWu/ne3CtG0sFWv/85z/dZ599ZuVem8q9rgltvuyHQE9CQn0aEjqVYW0q0/p7aq8nNCrzCrBV/vVa5V7BdT623sXrfJX92bNnu2HDhmXKfbzO95+jzs99KsO+zm/RokXmCaXqepV/lf14ne8/j2TofCZxHRFc5widR22+olWQoQp2xYoV7vvvv3crV660TRWuDzL8zyA36frRpgpUAYQqU1WqqmTVcuEDa7Va6718DTDEB9cKJFTGVdaXL19u5V+brgcd12f0Wcp9blMZVnlW2VcLXfny5a2sK6D2LXc65gMMbf7n8oWvv32dr/KtOl/1vTaldR2o7Ot9bf5nkJt8/b25Ol/lX3vfHUqf8z+DZOhcJnENEVznCJ1HbQoctCnIUKWqlgttSmvzLdfa/M8hN/kKU0GGKlI9AlSlqqAivlcFHO9z6n8uX/iy74MM3TyqzCu48OXft1wTYOQHX44VPKhsK8DWpkDD31DqtQ+s/Y1lPvHl2Jd9f2Ppy75P+zrf31RS9nOXL8Mqzyr32lTPF1Xnx8t9vpX9bNK5TOIaIrjOETqPfvOteNpUwapy1eaDC1W0/rPIbb7i9EGEKlVtCrYVXPigW+/5Ctbv80W83KtsxwMNX/b99eA/S9nPbb7c+7Kvcq5NZV/l3l8DCi7yNcDwZdgHzSrfquN9uVfal33q/PwRL/e/VOf7su9/BsnQuUziOiK4ziE6l37zAbYq1cJ7/xn/M8g98cpSaV+RqrL1LRq+8tWmz/gt38TLssp9/ObSb/44ZT/3+TLsy7Mv99r7su/Lv47FP59vfHnWpvLt63ltPh0v+x5lPzcVLvu+fk9bnZ9NOp9JXD8E1znEn0vtfYUa3wis84+vOH0lGg80fNq/5z+Xj3y59psv7/Fyr7T/LHJfvEz7ch4v+9p0zG/5yJflosp9vOzHP4fc5suyL9e+no+Xe1/2/eeQHJ3PJK4jgusc48+n9pvbkL98pVp4E7/PV75sx8u6AgyfRv6Kl/X4NeDF0/nGl21fzovakL/SXOdng85pEtcUwXWO8uc1fn451/kvXpluLp3PiirvlPt08GU8jeVeiirvlP38t7nynqayX5x0XpO4rgiuc1hR55bznb+KqkzTWsFS9tOlcDmn3P+Mcp+/qPOLn85vEtcUwXWe4XznLyrVX0bZz1+U/c2j3Ocvyn3xI7gGAAAAEpJU3MqamQAAAEBCCK4BAACAhBBcAwAAAAkhuAYAAAASQnANANiqvv76a/f6669HrwAgvxFcAwC2qhUrVrh27dq5Y445xo0ePTo6CgD5ieAaAFAshg4d6lq3bu1atmzp5syZEx0FgPxCcA0AKFbjx493Bx54oBs4cGB0BADyB8E1AKDYLVmyxJ1++unuiCOOcMOHD3fr16+P3gGA3EZwDSDvHXLIIW6XXXax9Lvvvmtp//qll16y9KWXXmqv//znP9vr3r1722v/s88884y9Puqoo+z1559/7j755BNLd+rUyd7zv/vqq6+21/od8Z/Vcb3W50Q/p9f6Pfp9Suv3i35Gr/3v9j+r/Inyq9fKvyitzf9upZV3eeONNzb5WZ8v/3/0/2d9TuLnS5o1a5Z5Xfh8+d/l/8/+/xQ/Xz4fRVFgrQD7gAMOcDNmzIiOAkDuIrgGkPcUuM6fP9/Sq1evtrR/rcF2SqslVZYuXWqvly1bZq/9zy5fvtxeL1y40F6vW7fOrV271tKLFy+29/zv1uwYot8R/1kd12t9TvRzeq3fo9+ntH6/6Gf02v9u/7PKnyi/eq38i9La/O9WWnmXVatWbfKzPl/+/+j/z/qcxM+XLFiwIPO68Pnyv8v/n/3/KX6+fD5+ycSJE92LL74YvQKA3FWiIIlF1DcjqTXaAeD3UGuugs42bdpYMDhp0iQ7rtcKBtViWrNmTdekSRNrRV60aJGrX7++bf5nGzVq5OrVq+fee+89C0I1KE9dGSZMmOCqVq3qmjZtmvndderUcXvssYcFmdr8z+rf0b+nz+pn9Fn9TPPmzV2pUqXs36pQoYJr0aKFBaWzZs3K/G7/s3Xr1nW77babmzp1qgW4+nf0740cOdL+T/5363W5cuUsn1999ZWbNm1a5md9vvz/0f+fGzdu7GrVqrXJ+ZKxY8faDUBR58v/Lv9/9v+n+PmaO3eudQEpSqVKldy5557runXr5vbZZ5/oKAAUv6TiVoJrAMBWpeA73s3EU1eQp59+2gJ+AMi2pOJWuoUAAIrdzTffbC3kBNYA8g3BNQCgWGy77bY28HH69Onu9ttvj44CQH4huAYAAAASQp9rAAAApB59rgEAAIDAEFwDAAAACSG4BgAAABJCcA0AAAAkhOAaAAAASAjBNQAAAJAQgmsAAAAgIQTXAAAAQEIIrgEAAICEEFwDAAAACSG4BgAAABJCcA0AAAAkhOAaAAAASAjBNQAAAJAQgmsAAAAgISUKNorSiWvVqpUbN25c9AoAAAAIk+LWsWPHRq9+u60aXAMAAABpQrcQAAAAICEE1wAAAEBCCK4BAACAhBBcAwAAAAkhuAYAAAASQnANAAAAJMK5/w8/rZM0AO8o/QAAAABJRU5ErkJggg==)"
   ]
  },
  {
   "cell_type": "markdown",
   "id": "5f058574",
   "metadata": {
    "id": "5f058574"
   },
   "source": [
    "### Exercise : Use broadcasting to demean the array np.arange(16).reshape(2,8) by the rows."
   ]
  },
  {
   "cell_type": "code",
   "execution_count": null,
   "id": "55ae6d4d",
   "metadata": {
    "id": "55ae6d4d",
    "outputId": "b61211d5-fb74-4d5e-c017-9533198ef3a8"
   },
   "outputs": [],
   "source": [
    "arr=np.arange(16).reshape(2,8)\n",
    "arr"
   ]
  },
  {
   "cell_type": "code",
   "execution_count": null,
   "id": "c30cb8ee",
   "metadata": {
    "id": "c30cb8ee",
    "outputId": "d6283857-d387-49c2-f653-375189eb2fca"
   },
   "outputs": [],
   "source": [
    "row_mean=arr.mean(1)\n",
    "row_mean"
   ]
  },
  {
   "cell_type": "code",
   "execution_count": null,
   "id": "b8f62b2e",
   "metadata": {
    "id": "b8f62b2e",
    "outputId": "ca18281c-0a04-478e-fe1a-6407f76b90be"
   },
   "outputs": [],
   "source": [
    "row_mean.reshape((2, 1))"
   ]
  },
  {
   "cell_type": "code",
   "execution_count": null,
   "id": "b3167755",
   "metadata": {
    "id": "b3167755",
    "outputId": "bd68103e-153d-44c4-fd10-d49bafc765e1"
   },
   "outputs": [],
   "source": [
    "demean=arr-row_mean.reshape((2, 1))\n",
    "demean"
   ]
  },
  {
   "cell_type": "code",
   "execution_count": null,
   "id": "524e655e",
   "metadata": {
    "id": "524e655e",
    "outputId": "af543a9b-6feb-4843-9401-dfd58f79cc2d"
   },
   "outputs": [],
   "source": [
    "demean.mean(1)"
   ]
  },
  {
   "cell_type": "markdown",
   "id": "85aad516",
   "metadata": {
    "id": "85aad516"
   },
   "source": [
    "### Broadcasting for 3D arrays.\n",
    "\n",
    "In the three-dimensional case, broadcasting over any of the three dimensions is only a matter of reshaping the data to be shape-compatible. A very common problem, therefore, is needing to add a new axis with length 1 specifically for broadcasting purposes, especially in generic algorithms. Using reshape is one option, but inserting an axis requires constructing a tuple indicating the new shape. This can often be a tedious exercise. Thus, NumPy arrays offer a special syntax for inserting new axes by indexing. We use the special np.newaxis attribute along with “full” slices to insert the new axis:"
   ]
  },
  {
   "cell_type": "code",
   "execution_count": null,
   "id": "28b561f9",
   "metadata": {
    "id": "28b561f9"
   },
   "outputs": [],
   "source": [
    "arr = np.zeros((4, 4))"
   ]
  },
  {
   "cell_type": "code",
   "execution_count": null,
   "id": "d6ab8435",
   "metadata": {
    "id": "d6ab8435",
    "outputId": "d0d13826-44e1-471c-c2bf-6b644f6fe10f"
   },
   "outputs": [],
   "source": [
    "arr_3d = arr[:, np.newaxis, :]\n",
    "arr_3d.shape"
   ]
  },
  {
   "cell_type": "code",
   "execution_count": null,
   "id": "a5bf1334",
   "metadata": {
    "id": "a5bf1334",
    "outputId": "b16baed7-3c37-4512-cfd8-c532192dba31"
   },
   "outputs": [],
   "source": [
    "arr_1d = np.random.normal(size=3)\n",
    "print(arr_1d)\n",
    "print('-'*100)\n",
    "print(arr_1d[:, np.newaxis])\n",
    "print('-'*100)\n",
    "print(arr_1d[np.newaxis,:])"
   ]
  },
  {
   "cell_type": "markdown",
   "id": "7f025b1c",
   "metadata": {
    "id": "7f025b1c"
   },
   "source": [
    "#### Thus, if we had a three-dimensional array and wanted to demean axis 2, say, we would only need to write:"
   ]
  },
  {
   "cell_type": "code",
   "execution_count": null,
   "id": "b42c5069",
   "metadata": {
    "id": "b42c5069"
   },
   "outputs": [],
   "source": [
    "arr = np.random.randn(3, 4, 5)"
   ]
  },
  {
   "cell_type": "code",
   "execution_count": null,
   "id": "eb675e4d",
   "metadata": {
    "id": "eb675e4d",
    "outputId": "dd45722d-b436-4856-9184-e00d0f4568de"
   },
   "outputs": [],
   "source": [
    "depth_means = arr.mean(2)\n",
    "depth_means"
   ]
  },
  {
   "cell_type": "code",
   "execution_count": null,
   "id": "b47302a8",
   "metadata": {
    "id": "b47302a8",
    "outputId": "2191dae9-38ef-40ac-9b15-eb9ba6f91a03"
   },
   "outputs": [],
   "source": [
    "demean=arr - depth_means[:, :, np.newaxis]\n",
    "demean.mean(2)"
   ]
  },
  {
   "cell_type": "markdown",
   "id": "d4325ecc",
   "metadata": {
    "id": "d4325ecc"
   },
   "source": [
    "![32.png](data:image/png;base64,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)\n"
   ]
  },
  {
   "cell_type": "markdown",
   "id": "b365d026",
   "metadata": {
    "id": "b365d026"
   },
   "source": [
    "# Plotting using Matplotlib."
   ]
  },
  {
   "cell_type": "code",
   "execution_count": null,
   "id": "b2422ee6",
   "metadata": {
    "id": "b2422ee6"
   },
   "outputs": [],
   "source": [
    "import matplotlib.pyplot as plt"
   ]
  },
  {
   "cell_type": "markdown",
   "id": "785d6cb1",
   "metadata": {
    "id": "785d6cb1"
   },
   "source": [
    "### Plot the equations : $y=e^{-x} sin(x) $ and $ y=cos(x) $ in a single plot."
   ]
  },
  {
   "cell_type": "code",
   "execution_count": null,
   "id": "0e11ebc7",
   "metadata": {
    "id": "0e11ebc7",
    "outputId": "967cd69f-7847-4d12-864f-681d79395b8c"
   },
   "outputs": [],
   "source": [
    "x=np.linspace(0,2*np.pi,1000)\n",
    "\n",
    "y1=np.exp(-x)*np.sin(x)\n",
    "\n",
    "y2=np.cos(x)\n",
    "\n",
    "plt.plot(x,y1,'-k',x,y2,'--r')\n",
    "\n",
    "plt.xlabel('x')\n",
    "plt.ylabel('y')\n",
    "\n",
    "plt.title(r'Plot of $y=e^{-x}sin x $ and $ y=cos x $')\n",
    "\n",
    "plt.grid()\n",
    "\n",
    "plt.legend(['$y=e^{-x}sin x $' ,' $ y=cos x $ '])"
   ]
  },
  {
   "cell_type": "markdown",
   "id": "899eaaaa",
   "metadata": {
    "id": "899eaaaa"
   },
   "source": [
    "### Plot $ y=sin^{2}x $  , $ y= tan x $ , $ y= \\frac{e^{x}}{cos(x)+2}$ in a 1x3 grid."
   ]
  },
  {
   "cell_type": "code",
   "execution_count": null,
   "id": "c2fcaadc",
   "metadata": {
    "id": "c2fcaadc",
    "outputId": "b38c2cba-2612-4a71-b93c-8b2b2f967dbb"
   },
   "outputs": [],
   "source": [
    "plt.figure(figsize=(20,10))\n",
    "\n",
    "plt.subplot(1,3,1)\n",
    "y1=np.sin(x)*np.sin(x)\n",
    "\n",
    "plt.plot(x,y1,'-g')\n",
    "\n",
    "plt.xlabel('x')\n",
    "plt.ylabel('y')\n",
    "plt.title(r'Plot of $y=sin^{2}x$')\n",
    "plt.grid()\n",
    "\n",
    "\n",
    "plt.subplot(1,3,2)\n",
    "y2=np.tan(x)\n",
    "\n",
    "plt.plot(x,y2,'--r')\n",
    "\n",
    "plt.xlabel('x')\n",
    "plt.ylabel('y')\n",
    "plt.title(r'Plot of $y=tan x$')\n",
    "plt.grid()\n",
    "\n",
    "plt.subplot(1,3,3)\n",
    "y3=np.exp(x)/(np.cos(x)+2)\n",
    "\n",
    "plt.plot(x,y3,'-g')\n",
    "\n",
    "plt.xlabel('x')\n",
    "plt.ylabel('y')\n",
    "plt.title(r'Plot of $y=\\frac{e^{x}}{cos x}$')\n",
    "plt.grid()"
   ]
  },
  {
   "cell_type": "markdown",
   "id": "4757c4db",
   "metadata": {
    "id": "4757c4db"
   },
   "source": [
    "## 3D Plotting"
   ]
  },
  {
   "cell_type": "code",
   "execution_count": null,
   "id": "8176e867",
   "metadata": {
    "id": "8176e867"
   },
   "outputs": [],
   "source": [
    "from mpl_toolkits import mplot3d"
   ]
  },
  {
   "cell_type": "markdown",
   "id": "87fe272c",
   "metadata": {
    "id": "87fe272c"
   },
   "source": [
    "### Generate a 3D surface plot of $ Z = sin \\sqrt{x^2+y^2} $ for $ x,y \\in [-6,6] $"
   ]
  },
  {
   "cell_type": "code",
   "execution_count": null,
   "id": "756821d7",
   "metadata": {
    "id": "756821d7"
   },
   "outputs": [],
   "source": [
    "x = np.linspace(-6, 6, 30)\n",
    "y = np.linspace(-6, 6, 30)\n",
    "\n",
    "X, Y = np.meshgrid(x, y)\n",
    "\n",
    "Z=np.sin(np.sqrt(X**2 + Y**2))\n"
   ]
  },
  {
   "cell_type": "code",
   "execution_count": null,
   "id": "aae445a2",
   "metadata": {
    "id": "aae445a2",
    "outputId": "bace4019-1b4e-46b1-fdd8-bf27d97a9b98"
   },
   "outputs": [],
   "source": [
    "fig = plt.figure(figsize=(10,10))\n",
    "ax = plt.axes(projection='3d')\n",
    "ax.plot_surface(X, Y, Z)\n",
    "ax.set_xlabel('x')\n",
    "ax.set_ylabel('y')\n",
    "ax.set_zlabel('z');\n",
    "\n",
    "ax.set_title(r' $ Z = sin \\sqrt{x^2+y^2} $')"
   ]
  },
  {
   "cell_type": "code",
   "execution_count": null,
   "id": "4dc63ef2",
   "metadata": {},
   "outputs": [],
   "source": []
  }
 ],
 "metadata": {
  "colab": {
   "collapsed_sections": [
    "d84fdb13",
    "bca914d8",
    "b83e80e6"
   ],
   "provenance": []
  },
  "kernelspec": {
   "display_name": "Python 3 (ipykernel)",
   "language": "python",
   "name": "python3"
  },
  "language_info": {
   "codemirror_mode": {
    "name": "ipython",
    "version": 3
   },
   "file_extension": ".py",
   "mimetype": "text/x-python",
   "name": "python",
   "nbconvert_exporter": "python",
   "pygments_lexer": "ipython3",
   "version": "3.8.8"
  }
 },
 "nbformat": 4,
 "nbformat_minor": 5
}
