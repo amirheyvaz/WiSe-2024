{
 "cells": [
  {
   "cell_type": "markdown",
   "id": "606a5e42",
   "metadata": {},
   "source": [
    "### Programming Machine Learning Lab\n",
    "\n",
    "### Data Science Group, University of Hildesheim"
   ]
  },
  {
   "cell_type": "code",
   "execution_count": 1,
   "id": "56f307c8",
   "metadata": {
    "id": "56f307c8"
   },
   "outputs": [],
   "source": [
    "import numpy as np\n",
    "import pandas as pd\n",
    "import seaborn as sns\n",
    "import matplotlib.pyplot as plt"
   ]
  },
  {
   "cell_type": "markdown",
   "id": "d5d58a7f",
   "metadata": {
    "id": "d5d58a7f"
   },
   "source": [
    "### Learning by doing. Learning Pandas with Pokemon!"
   ]
  },
  {
   "cell_type": "markdown",
   "id": "fbf4eace",
   "metadata": {
    "id": "fbf4eace"
   },
   "source": [
    "#### Read dataset using pd.read_csv() method."
   ]
  },
  {
   "cell_type": "code",
   "execution_count": 2,
   "id": "b49e2d1d",
   "metadata": {
    "id": "b49e2d1d",
    "outputId": "df8e6660-522c-4345-cb75-e6d3f37c6c46"
   },
   "outputs": [
    {
     "data": {
      "text/html": [
       "<div>\n",
       "<style scoped>\n",
       "    .dataframe tbody tr th:only-of-type {\n",
       "        vertical-align: middle;\n",
       "    }\n",
       "\n",
       "    .dataframe tbody tr th {\n",
       "        vertical-align: top;\n",
       "    }\n",
       "\n",
       "    .dataframe thead th {\n",
       "        text-align: right;\n",
       "    }\n",
       "</style>\n",
       "<table border=\"1\" class=\"dataframe\">\n",
       "  <thead>\n",
       "    <tr style=\"text-align: right;\">\n",
       "      <th></th>\n",
       "      <th>#</th>\n",
       "      <th>Name</th>\n",
       "      <th>Type 1</th>\n",
       "      <th>Type 2</th>\n",
       "      <th>Total</th>\n",
       "      <th>HP</th>\n",
       "      <th>Attack</th>\n",
       "      <th>Defense</th>\n",
       "      <th>Sp. Atk</th>\n",
       "      <th>Sp. Def</th>\n",
       "      <th>Speed</th>\n",
       "      <th>Generation</th>\n",
       "      <th>Legendary</th>\n",
       "    </tr>\n",
       "  </thead>\n",
       "  <tbody>\n",
       "    <tr>\n",
       "      <th>0</th>\n",
       "      <td>1</td>\n",
       "      <td>Bulbasaur</td>\n",
       "      <td>Grass</td>\n",
       "      <td>Poison</td>\n",
       "      <td>318</td>\n",
       "      <td>45</td>\n",
       "      <td>49</td>\n",
       "      <td>49</td>\n",
       "      <td>65</td>\n",
       "      <td>65</td>\n",
       "      <td>45</td>\n",
       "      <td>1</td>\n",
       "      <td>False</td>\n",
       "    </tr>\n",
       "    <tr>\n",
       "      <th>1</th>\n",
       "      <td>2</td>\n",
       "      <td>Ivysaur</td>\n",
       "      <td>Grass</td>\n",
       "      <td>Poison</td>\n",
       "      <td>405</td>\n",
       "      <td>60</td>\n",
       "      <td>62</td>\n",
       "      <td>63</td>\n",
       "      <td>80</td>\n",
       "      <td>80</td>\n",
       "      <td>60</td>\n",
       "      <td>1</td>\n",
       "      <td>False</td>\n",
       "    </tr>\n",
       "    <tr>\n",
       "      <th>2</th>\n",
       "      <td>3</td>\n",
       "      <td>Venusaur</td>\n",
       "      <td>Grass</td>\n",
       "      <td>Poison</td>\n",
       "      <td>525</td>\n",
       "      <td>80</td>\n",
       "      <td>82</td>\n",
       "      <td>83</td>\n",
       "      <td>100</td>\n",
       "      <td>100</td>\n",
       "      <td>80</td>\n",
       "      <td>1</td>\n",
       "      <td>False</td>\n",
       "    </tr>\n",
       "    <tr>\n",
       "      <th>3</th>\n",
       "      <td>3</td>\n",
       "      <td>VenusaurMega Venusaur</td>\n",
       "      <td>Grass</td>\n",
       "      <td>Poison</td>\n",
       "      <td>625</td>\n",
       "      <td>80</td>\n",
       "      <td>100</td>\n",
       "      <td>123</td>\n",
       "      <td>122</td>\n",
       "      <td>120</td>\n",
       "      <td>80</td>\n",
       "      <td>1</td>\n",
       "      <td>False</td>\n",
       "    </tr>\n",
       "    <tr>\n",
       "      <th>4</th>\n",
       "      <td>4</td>\n",
       "      <td>Charmander</td>\n",
       "      <td>Fire</td>\n",
       "      <td>NaN</td>\n",
       "      <td>309</td>\n",
       "      <td>39</td>\n",
       "      <td>52</td>\n",
       "      <td>43</td>\n",
       "      <td>60</td>\n",
       "      <td>50</td>\n",
       "      <td>65</td>\n",
       "      <td>1</td>\n",
       "      <td>False</td>\n",
       "    </tr>\n",
       "    <tr>\n",
       "      <th>5</th>\n",
       "      <td>5</td>\n",
       "      <td>Charmeleon</td>\n",
       "      <td>Fire</td>\n",
       "      <td>NaN</td>\n",
       "      <td>405</td>\n",
       "      <td>58</td>\n",
       "      <td>64</td>\n",
       "      <td>58</td>\n",
       "      <td>80</td>\n",
       "      <td>65</td>\n",
       "      <td>80</td>\n",
       "      <td>1</td>\n",
       "      <td>False</td>\n",
       "    </tr>\n",
       "    <tr>\n",
       "      <th>6</th>\n",
       "      <td>6</td>\n",
       "      <td>Charizard</td>\n",
       "      <td>Fire</td>\n",
       "      <td>Flying</td>\n",
       "      <td>534</td>\n",
       "      <td>78</td>\n",
       "      <td>84</td>\n",
       "      <td>78</td>\n",
       "      <td>109</td>\n",
       "      <td>85</td>\n",
       "      <td>100</td>\n",
       "      <td>1</td>\n",
       "      <td>False</td>\n",
       "    </tr>\n",
       "    <tr>\n",
       "      <th>7</th>\n",
       "      <td>6</td>\n",
       "      <td>CharizardMega Charizard X</td>\n",
       "      <td>Fire</td>\n",
       "      <td>Dragon</td>\n",
       "      <td>634</td>\n",
       "      <td>78</td>\n",
       "      <td>130</td>\n",
       "      <td>111</td>\n",
       "      <td>130</td>\n",
       "      <td>85</td>\n",
       "      <td>100</td>\n",
       "      <td>1</td>\n",
       "      <td>False</td>\n",
       "    </tr>\n",
       "    <tr>\n",
       "      <th>8</th>\n",
       "      <td>6</td>\n",
       "      <td>CharizardMega Charizard Y</td>\n",
       "      <td>Fire</td>\n",
       "      <td>Flying</td>\n",
       "      <td>634</td>\n",
       "      <td>78</td>\n",
       "      <td>104</td>\n",
       "      <td>78</td>\n",
       "      <td>159</td>\n",
       "      <td>115</td>\n",
       "      <td>100</td>\n",
       "      <td>1</td>\n",
       "      <td>False</td>\n",
       "    </tr>\n",
       "    <tr>\n",
       "      <th>9</th>\n",
       "      <td>7</td>\n",
       "      <td>Squirtle</td>\n",
       "      <td>Water</td>\n",
       "      <td>NaN</td>\n",
       "      <td>314</td>\n",
       "      <td>44</td>\n",
       "      <td>48</td>\n",
       "      <td>65</td>\n",
       "      <td>50</td>\n",
       "      <td>64</td>\n",
       "      <td>43</td>\n",
       "      <td>1</td>\n",
       "      <td>False</td>\n",
       "    </tr>\n",
       "    <tr>\n",
       "      <th>10</th>\n",
       "      <td>8</td>\n",
       "      <td>Wartortle</td>\n",
       "      <td>Water</td>\n",
       "      <td>NaN</td>\n",
       "      <td>405</td>\n",
       "      <td>59</td>\n",
       "      <td>63</td>\n",
       "      <td>80</td>\n",
       "      <td>65</td>\n",
       "      <td>80</td>\n",
       "      <td>58</td>\n",
       "      <td>1</td>\n",
       "      <td>False</td>\n",
       "    </tr>\n",
       "    <tr>\n",
       "      <th>11</th>\n",
       "      <td>9</td>\n",
       "      <td>Blastoise</td>\n",
       "      <td>Water</td>\n",
       "      <td>NaN</td>\n",
       "      <td>530</td>\n",
       "      <td>79</td>\n",
       "      <td>83</td>\n",
       "      <td>100</td>\n",
       "      <td>85</td>\n",
       "      <td>105</td>\n",
       "      <td>78</td>\n",
       "      <td>1</td>\n",
       "      <td>False</td>\n",
       "    </tr>\n",
       "    <tr>\n",
       "      <th>12</th>\n",
       "      <td>9</td>\n",
       "      <td>BlastoiseMega Blastoise</td>\n",
       "      <td>Water</td>\n",
       "      <td>NaN</td>\n",
       "      <td>630</td>\n",
       "      <td>79</td>\n",
       "      <td>103</td>\n",
       "      <td>120</td>\n",
       "      <td>135</td>\n",
       "      <td>115</td>\n",
       "      <td>78</td>\n",
       "      <td>1</td>\n",
       "      <td>False</td>\n",
       "    </tr>\n",
       "    <tr>\n",
       "      <th>13</th>\n",
       "      <td>10</td>\n",
       "      <td>Caterpie</td>\n",
       "      <td>Bug</td>\n",
       "      <td>NaN</td>\n",
       "      <td>195</td>\n",
       "      <td>45</td>\n",
       "      <td>30</td>\n",
       "      <td>35</td>\n",
       "      <td>20</td>\n",
       "      <td>20</td>\n",
       "      <td>45</td>\n",
       "      <td>1</td>\n",
       "      <td>False</td>\n",
       "    </tr>\n",
       "    <tr>\n",
       "      <th>14</th>\n",
       "      <td>11</td>\n",
       "      <td>Metapod</td>\n",
       "      <td>Bug</td>\n",
       "      <td>NaN</td>\n",
       "      <td>205</td>\n",
       "      <td>50</td>\n",
       "      <td>20</td>\n",
       "      <td>55</td>\n",
       "      <td>25</td>\n",
       "      <td>25</td>\n",
       "      <td>30</td>\n",
       "      <td>1</td>\n",
       "      <td>False</td>\n",
       "    </tr>\n",
       "  </tbody>\n",
       "</table>\n",
       "</div>"
      ],
      "text/plain": [
       "     #                       Name Type 1  Type 2  Total  HP  Attack  Defense  \\\n",
       "0    1                  Bulbasaur  Grass  Poison    318  45      49       49   \n",
       "1    2                    Ivysaur  Grass  Poison    405  60      62       63   \n",
       "2    3                   Venusaur  Grass  Poison    525  80      82       83   \n",
       "3    3      VenusaurMega Venusaur  Grass  Poison    625  80     100      123   \n",
       "4    4                 Charmander   Fire     NaN    309  39      52       43   \n",
       "5    5                 Charmeleon   Fire     NaN    405  58      64       58   \n",
       "6    6                  Charizard   Fire  Flying    534  78      84       78   \n",
       "7    6  CharizardMega Charizard X   Fire  Dragon    634  78     130      111   \n",
       "8    6  CharizardMega Charizard Y   Fire  Flying    634  78     104       78   \n",
       "9    7                   Squirtle  Water     NaN    314  44      48       65   \n",
       "10   8                  Wartortle  Water     NaN    405  59      63       80   \n",
       "11   9                  Blastoise  Water     NaN    530  79      83      100   \n",
       "12   9    BlastoiseMega Blastoise  Water     NaN    630  79     103      120   \n",
       "13  10                   Caterpie    Bug     NaN    195  45      30       35   \n",
       "14  11                    Metapod    Bug     NaN    205  50      20       55   \n",
       "\n",
       "    Sp. Atk  Sp. Def  Speed  Generation  Legendary  \n",
       "0        65       65     45           1      False  \n",
       "1        80       80     60           1      False  \n",
       "2       100      100     80           1      False  \n",
       "3       122      120     80           1      False  \n",
       "4        60       50     65           1      False  \n",
       "5        80       65     80           1      False  \n",
       "6       109       85    100           1      False  \n",
       "7       130       85    100           1      False  \n",
       "8       159      115    100           1      False  \n",
       "9        50       64     43           1      False  \n",
       "10       65       80     58           1      False  \n",
       "11       85      105     78           1      False  \n",
       "12      135      115     78           1      False  \n",
       "13       20       20     45           1      False  \n",
       "14       25       25     30           1      False  "
      ]
     },
     "execution_count": 2,
     "metadata": {},
     "output_type": "execute_result"
    }
   ],
   "source": [
    "df=pd.read_csv('Pokemon.csv')\n",
    "df.head(15)"
   ]
  },
  {
   "cell_type": "code",
   "execution_count": 3,
   "id": "45c9c863",
   "metadata": {},
   "outputs": [
    {
     "data": {
      "text/plain": [
       "#                   2\n",
       "Name          Ivysaur\n",
       "Type 1          Grass\n",
       "Type 2         Poison\n",
       "Total             405\n",
       "HP                 60\n",
       "Attack             62\n",
       "Defense            63\n",
       "Sp. Atk            80\n",
       "Sp. Def            80\n",
       "Speed              60\n",
       "Generation          1\n",
       "Legendary       False\n",
       "Name: 1, dtype: object"
      ]
     },
     "execution_count": 3,
     "metadata": {},
     "output_type": "execute_result"
    }
   ],
   "source": [
    "df.loc[1]"
   ]
  },
  {
   "cell_type": "code",
   "execution_count": 4,
   "id": "168db200",
   "metadata": {
    "id": "168db200",
    "outputId": "830914d7-7968-4b94-e938-54bea682145f"
   },
   "outputs": [
    {
     "data": {
      "text/plain": [
       "Index(['#', 'Name', 'Type 1', 'Type 2', 'Total', 'HP', 'Attack', 'Defense',\n",
       "       'Sp. Atk', 'Sp. Def', 'Speed', 'Generation', 'Legendary'],\n",
       "      dtype='object')"
      ]
     },
     "execution_count": 4,
     "metadata": {},
     "output_type": "execute_result"
    }
   ],
   "source": [
    "df.columns"
   ]
  },
  {
   "cell_type": "markdown",
   "id": "8668c1c2",
   "metadata": {
    "id": "8668c1c2"
   },
   "source": [
    "### Filter out the legendary pokemon."
   ]
  },
  {
   "cell_type": "code",
   "execution_count": 5,
   "id": "b84e3225",
   "metadata": {
    "id": "b84e3225",
    "outputId": "9c4a37a8-5996-44cf-e8ac-d59a400ce589"
   },
   "outputs": [
    {
     "data": {
      "text/html": [
       "<div>\n",
       "<style scoped>\n",
       "    .dataframe tbody tr th:only-of-type {\n",
       "        vertical-align: middle;\n",
       "    }\n",
       "\n",
       "    .dataframe tbody tr th {\n",
       "        vertical-align: top;\n",
       "    }\n",
       "\n",
       "    .dataframe thead th {\n",
       "        text-align: right;\n",
       "    }\n",
       "</style>\n",
       "<table border=\"1\" class=\"dataframe\">\n",
       "  <thead>\n",
       "    <tr style=\"text-align: right;\">\n",
       "      <th></th>\n",
       "      <th>#</th>\n",
       "      <th>Name</th>\n",
       "      <th>Type 1</th>\n",
       "      <th>Type 2</th>\n",
       "      <th>Total</th>\n",
       "      <th>HP</th>\n",
       "      <th>Attack</th>\n",
       "      <th>Defense</th>\n",
       "      <th>Sp. Atk</th>\n",
       "      <th>Sp. Def</th>\n",
       "      <th>Speed</th>\n",
       "      <th>Generation</th>\n",
       "      <th>Legendary</th>\n",
       "    </tr>\n",
       "  </thead>\n",
       "  <tbody>\n",
       "    <tr>\n",
       "      <th>156</th>\n",
       "      <td>144</td>\n",
       "      <td>Articuno</td>\n",
       "      <td>Ice</td>\n",
       "      <td>Flying</td>\n",
       "      <td>580</td>\n",
       "      <td>90</td>\n",
       "      <td>85</td>\n",
       "      <td>100</td>\n",
       "      <td>95</td>\n",
       "      <td>125</td>\n",
       "      <td>85</td>\n",
       "      <td>1</td>\n",
       "      <td>True</td>\n",
       "    </tr>\n",
       "    <tr>\n",
       "      <th>157</th>\n",
       "      <td>145</td>\n",
       "      <td>Zapdos</td>\n",
       "      <td>Electric</td>\n",
       "      <td>Flying</td>\n",
       "      <td>580</td>\n",
       "      <td>90</td>\n",
       "      <td>90</td>\n",
       "      <td>85</td>\n",
       "      <td>125</td>\n",
       "      <td>90</td>\n",
       "      <td>100</td>\n",
       "      <td>1</td>\n",
       "      <td>True</td>\n",
       "    </tr>\n",
       "    <tr>\n",
       "      <th>158</th>\n",
       "      <td>146</td>\n",
       "      <td>Moltres</td>\n",
       "      <td>Fire</td>\n",
       "      <td>Flying</td>\n",
       "      <td>580</td>\n",
       "      <td>90</td>\n",
       "      <td>100</td>\n",
       "      <td>90</td>\n",
       "      <td>125</td>\n",
       "      <td>85</td>\n",
       "      <td>90</td>\n",
       "      <td>1</td>\n",
       "      <td>True</td>\n",
       "    </tr>\n",
       "    <tr>\n",
       "      <th>162</th>\n",
       "      <td>150</td>\n",
       "      <td>Mewtwo</td>\n",
       "      <td>Psychic</td>\n",
       "      <td>NaN</td>\n",
       "      <td>680</td>\n",
       "      <td>106</td>\n",
       "      <td>110</td>\n",
       "      <td>90</td>\n",
       "      <td>154</td>\n",
       "      <td>90</td>\n",
       "      <td>130</td>\n",
       "      <td>1</td>\n",
       "      <td>True</td>\n",
       "    </tr>\n",
       "    <tr>\n",
       "      <th>163</th>\n",
       "      <td>150</td>\n",
       "      <td>MewtwoMega Mewtwo X</td>\n",
       "      <td>Psychic</td>\n",
       "      <td>Fighting</td>\n",
       "      <td>780</td>\n",
       "      <td>106</td>\n",
       "      <td>190</td>\n",
       "      <td>100</td>\n",
       "      <td>154</td>\n",
       "      <td>100</td>\n",
       "      <td>130</td>\n",
       "      <td>1</td>\n",
       "      <td>True</td>\n",
       "    </tr>\n",
       "    <tr>\n",
       "      <th>...</th>\n",
       "      <td>...</td>\n",
       "      <td>...</td>\n",
       "      <td>...</td>\n",
       "      <td>...</td>\n",
       "      <td>...</td>\n",
       "      <td>...</td>\n",
       "      <td>...</td>\n",
       "      <td>...</td>\n",
       "      <td>...</td>\n",
       "      <td>...</td>\n",
       "      <td>...</td>\n",
       "      <td>...</td>\n",
       "      <td>...</td>\n",
       "    </tr>\n",
       "    <tr>\n",
       "      <th>795</th>\n",
       "      <td>719</td>\n",
       "      <td>Diancie</td>\n",
       "      <td>Rock</td>\n",
       "      <td>Fairy</td>\n",
       "      <td>600</td>\n",
       "      <td>50</td>\n",
       "      <td>100</td>\n",
       "      <td>150</td>\n",
       "      <td>100</td>\n",
       "      <td>150</td>\n",
       "      <td>50</td>\n",
       "      <td>6</td>\n",
       "      <td>True</td>\n",
       "    </tr>\n",
       "    <tr>\n",
       "      <th>796</th>\n",
       "      <td>719</td>\n",
       "      <td>DiancieMega Diancie</td>\n",
       "      <td>Rock</td>\n",
       "      <td>Fairy</td>\n",
       "      <td>700</td>\n",
       "      <td>50</td>\n",
       "      <td>160</td>\n",
       "      <td>110</td>\n",
       "      <td>160</td>\n",
       "      <td>110</td>\n",
       "      <td>110</td>\n",
       "      <td>6</td>\n",
       "      <td>True</td>\n",
       "    </tr>\n",
       "    <tr>\n",
       "      <th>797</th>\n",
       "      <td>720</td>\n",
       "      <td>HoopaHoopa Confined</td>\n",
       "      <td>Psychic</td>\n",
       "      <td>Ghost</td>\n",
       "      <td>600</td>\n",
       "      <td>80</td>\n",
       "      <td>110</td>\n",
       "      <td>60</td>\n",
       "      <td>150</td>\n",
       "      <td>130</td>\n",
       "      <td>70</td>\n",
       "      <td>6</td>\n",
       "      <td>True</td>\n",
       "    </tr>\n",
       "    <tr>\n",
       "      <th>798</th>\n",
       "      <td>720</td>\n",
       "      <td>HoopaHoopa Unbound</td>\n",
       "      <td>Psychic</td>\n",
       "      <td>Dark</td>\n",
       "      <td>680</td>\n",
       "      <td>80</td>\n",
       "      <td>160</td>\n",
       "      <td>60</td>\n",
       "      <td>170</td>\n",
       "      <td>130</td>\n",
       "      <td>80</td>\n",
       "      <td>6</td>\n",
       "      <td>True</td>\n",
       "    </tr>\n",
       "    <tr>\n",
       "      <th>799</th>\n",
       "      <td>721</td>\n",
       "      <td>Volcanion</td>\n",
       "      <td>Fire</td>\n",
       "      <td>Water</td>\n",
       "      <td>600</td>\n",
       "      <td>80</td>\n",
       "      <td>110</td>\n",
       "      <td>120</td>\n",
       "      <td>130</td>\n",
       "      <td>90</td>\n",
       "      <td>70</td>\n",
       "      <td>6</td>\n",
       "      <td>True</td>\n",
       "    </tr>\n",
       "  </tbody>\n",
       "</table>\n",
       "<p>65 rows × 13 columns</p>\n",
       "</div>"
      ],
      "text/plain": [
       "       #                 Name    Type 1    Type 2  Total   HP  Attack  \\\n",
       "156  144             Articuno       Ice    Flying    580   90      85   \n",
       "157  145               Zapdos  Electric    Flying    580   90      90   \n",
       "158  146              Moltres      Fire    Flying    580   90     100   \n",
       "162  150               Mewtwo   Psychic       NaN    680  106     110   \n",
       "163  150  MewtwoMega Mewtwo X   Psychic  Fighting    780  106     190   \n",
       "..   ...                  ...       ...       ...    ...  ...     ...   \n",
       "795  719              Diancie      Rock     Fairy    600   50     100   \n",
       "796  719  DiancieMega Diancie      Rock     Fairy    700   50     160   \n",
       "797  720  HoopaHoopa Confined   Psychic     Ghost    600   80     110   \n",
       "798  720   HoopaHoopa Unbound   Psychic      Dark    680   80     160   \n",
       "799  721            Volcanion      Fire     Water    600   80     110   \n",
       "\n",
       "     Defense  Sp. Atk  Sp. Def  Speed  Generation  Legendary  \n",
       "156      100       95      125     85           1       True  \n",
       "157       85      125       90    100           1       True  \n",
       "158       90      125       85     90           1       True  \n",
       "162       90      154       90    130           1       True  \n",
       "163      100      154      100    130           1       True  \n",
       "..       ...      ...      ...    ...         ...        ...  \n",
       "795      150      100      150     50           6       True  \n",
       "796      110      160      110    110           6       True  \n",
       "797       60      150      130     70           6       True  \n",
       "798       60      170      130     80           6       True  \n",
       "799      120      130       90     70           6       True  \n",
       "\n",
       "[65 rows x 13 columns]"
      ]
     },
     "execution_count": 5,
     "metadata": {},
     "output_type": "execute_result"
    }
   ],
   "source": [
    "df[df['Legendary']==True]"
   ]
  },
  {
   "cell_type": "code",
   "execution_count": 6,
   "id": "b5df2e42",
   "metadata": {},
   "outputs": [
    {
     "data": {
      "text/html": [
       "<div>\n",
       "<style scoped>\n",
       "    .dataframe tbody tr th:only-of-type {\n",
       "        vertical-align: middle;\n",
       "    }\n",
       "\n",
       "    .dataframe tbody tr th {\n",
       "        vertical-align: top;\n",
       "    }\n",
       "\n",
       "    .dataframe thead th {\n",
       "        text-align: right;\n",
       "    }\n",
       "</style>\n",
       "<table border=\"1\" class=\"dataframe\">\n",
       "  <thead>\n",
       "    <tr style=\"text-align: right;\">\n",
       "      <th></th>\n",
       "      <th>#</th>\n",
       "      <th>Name</th>\n",
       "      <th>Type 1</th>\n",
       "      <th>Type 2</th>\n",
       "      <th>Total</th>\n",
       "      <th>HP</th>\n",
       "      <th>Attack</th>\n",
       "      <th>Defense</th>\n",
       "      <th>Sp. Atk</th>\n",
       "      <th>Sp. Def</th>\n",
       "      <th>Speed</th>\n",
       "      <th>Generation</th>\n",
       "      <th>Legendary</th>\n",
       "    </tr>\n",
       "  </thead>\n",
       "  <tbody>\n",
       "    <tr>\n",
       "      <th>4</th>\n",
       "      <td>4</td>\n",
       "      <td>Charmander</td>\n",
       "      <td>Fire</td>\n",
       "      <td>NaN</td>\n",
       "      <td>309</td>\n",
       "      <td>39</td>\n",
       "      <td>52</td>\n",
       "      <td>43</td>\n",
       "      <td>60</td>\n",
       "      <td>50</td>\n",
       "      <td>65</td>\n",
       "      <td>1</td>\n",
       "      <td>False</td>\n",
       "    </tr>\n",
       "    <tr>\n",
       "      <th>5</th>\n",
       "      <td>5</td>\n",
       "      <td>Charmeleon</td>\n",
       "      <td>Fire</td>\n",
       "      <td>NaN</td>\n",
       "      <td>405</td>\n",
       "      <td>58</td>\n",
       "      <td>64</td>\n",
       "      <td>58</td>\n",
       "      <td>80</td>\n",
       "      <td>65</td>\n",
       "      <td>80</td>\n",
       "      <td>1</td>\n",
       "      <td>False</td>\n",
       "    </tr>\n",
       "    <tr>\n",
       "      <th>6</th>\n",
       "      <td>6</td>\n",
       "      <td>Charizard</td>\n",
       "      <td>Fire</td>\n",
       "      <td>Flying</td>\n",
       "      <td>534</td>\n",
       "      <td>78</td>\n",
       "      <td>84</td>\n",
       "      <td>78</td>\n",
       "      <td>109</td>\n",
       "      <td>85</td>\n",
       "      <td>100</td>\n",
       "      <td>1</td>\n",
       "      <td>False</td>\n",
       "    </tr>\n",
       "    <tr>\n",
       "      <th>7</th>\n",
       "      <td>6</td>\n",
       "      <td>CharizardMega Charizard X</td>\n",
       "      <td>Fire</td>\n",
       "      <td>Dragon</td>\n",
       "      <td>634</td>\n",
       "      <td>78</td>\n",
       "      <td>130</td>\n",
       "      <td>111</td>\n",
       "      <td>130</td>\n",
       "      <td>85</td>\n",
       "      <td>100</td>\n",
       "      <td>1</td>\n",
       "      <td>False</td>\n",
       "    </tr>\n",
       "    <tr>\n",
       "      <th>8</th>\n",
       "      <td>6</td>\n",
       "      <td>CharizardMega Charizard Y</td>\n",
       "      <td>Fire</td>\n",
       "      <td>Flying</td>\n",
       "      <td>634</td>\n",
       "      <td>78</td>\n",
       "      <td>104</td>\n",
       "      <td>78</td>\n",
       "      <td>159</td>\n",
       "      <td>115</td>\n",
       "      <td>100</td>\n",
       "      <td>1</td>\n",
       "      <td>False</td>\n",
       "    </tr>\n",
       "    <tr>\n",
       "      <th>42</th>\n",
       "      <td>37</td>\n",
       "      <td>Vulpix</td>\n",
       "      <td>Fire</td>\n",
       "      <td>NaN</td>\n",
       "      <td>299</td>\n",
       "      <td>38</td>\n",
       "      <td>41</td>\n",
       "      <td>40</td>\n",
       "      <td>50</td>\n",
       "      <td>65</td>\n",
       "      <td>65</td>\n",
       "      <td>1</td>\n",
       "      <td>False</td>\n",
       "    </tr>\n",
       "    <tr>\n",
       "      <th>43</th>\n",
       "      <td>38</td>\n",
       "      <td>Ninetales</td>\n",
       "      <td>Fire</td>\n",
       "      <td>NaN</td>\n",
       "      <td>505</td>\n",
       "      <td>73</td>\n",
       "      <td>76</td>\n",
       "      <td>75</td>\n",
       "      <td>81</td>\n",
       "      <td>100</td>\n",
       "      <td>100</td>\n",
       "      <td>1</td>\n",
       "      <td>False</td>\n",
       "    </tr>\n",
       "    <tr>\n",
       "      <th>63</th>\n",
       "      <td>58</td>\n",
       "      <td>Growlithe</td>\n",
       "      <td>Fire</td>\n",
       "      <td>NaN</td>\n",
       "      <td>350</td>\n",
       "      <td>55</td>\n",
       "      <td>70</td>\n",
       "      <td>45</td>\n",
       "      <td>70</td>\n",
       "      <td>50</td>\n",
       "      <td>60</td>\n",
       "      <td>1</td>\n",
       "      <td>False</td>\n",
       "    </tr>\n",
       "    <tr>\n",
       "      <th>64</th>\n",
       "      <td>59</td>\n",
       "      <td>Arcanine</td>\n",
       "      <td>Fire</td>\n",
       "      <td>NaN</td>\n",
       "      <td>555</td>\n",
       "      <td>90</td>\n",
       "      <td>110</td>\n",
       "      <td>80</td>\n",
       "      <td>100</td>\n",
       "      <td>80</td>\n",
       "      <td>95</td>\n",
       "      <td>1</td>\n",
       "      <td>False</td>\n",
       "    </tr>\n",
       "    <tr>\n",
       "      <th>83</th>\n",
       "      <td>77</td>\n",
       "      <td>Ponyta</td>\n",
       "      <td>Fire</td>\n",
       "      <td>NaN</td>\n",
       "      <td>410</td>\n",
       "      <td>50</td>\n",
       "      <td>85</td>\n",
       "      <td>55</td>\n",
       "      <td>65</td>\n",
       "      <td>65</td>\n",
       "      <td>90</td>\n",
       "      <td>1</td>\n",
       "      <td>False</td>\n",
       "    </tr>\n",
       "    <tr>\n",
       "      <th>84</th>\n",
       "      <td>78</td>\n",
       "      <td>Rapidash</td>\n",
       "      <td>Fire</td>\n",
       "      <td>NaN</td>\n",
       "      <td>500</td>\n",
       "      <td>65</td>\n",
       "      <td>100</td>\n",
       "      <td>70</td>\n",
       "      <td>80</td>\n",
       "      <td>80</td>\n",
       "      <td>105</td>\n",
       "      <td>1</td>\n",
       "      <td>False</td>\n",
       "    </tr>\n",
       "    <tr>\n",
       "      <th>135</th>\n",
       "      <td>126</td>\n",
       "      <td>Magmar</td>\n",
       "      <td>Fire</td>\n",
       "      <td>NaN</td>\n",
       "      <td>495</td>\n",
       "      <td>65</td>\n",
       "      <td>95</td>\n",
       "      <td>57</td>\n",
       "      <td>100</td>\n",
       "      <td>85</td>\n",
       "      <td>93</td>\n",
       "      <td>1</td>\n",
       "      <td>False</td>\n",
       "    </tr>\n",
       "    <tr>\n",
       "      <th>147</th>\n",
       "      <td>136</td>\n",
       "      <td>Flareon</td>\n",
       "      <td>Fire</td>\n",
       "      <td>NaN</td>\n",
       "      <td>525</td>\n",
       "      <td>65</td>\n",
       "      <td>130</td>\n",
       "      <td>60</td>\n",
       "      <td>95</td>\n",
       "      <td>110</td>\n",
       "      <td>65</td>\n",
       "      <td>1</td>\n",
       "      <td>False</td>\n",
       "    </tr>\n",
       "    <tr>\n",
       "      <th>158</th>\n",
       "      <td>146</td>\n",
       "      <td>Moltres</td>\n",
       "      <td>Fire</td>\n",
       "      <td>Flying</td>\n",
       "      <td>580</td>\n",
       "      <td>90</td>\n",
       "      <td>100</td>\n",
       "      <td>90</td>\n",
       "      <td>125</td>\n",
       "      <td>85</td>\n",
       "      <td>90</td>\n",
       "      <td>1</td>\n",
       "      <td>True</td>\n",
       "    </tr>\n",
       "    <tr>\n",
       "      <th>169</th>\n",
       "      <td>155</td>\n",
       "      <td>Cyndaquil</td>\n",
       "      <td>Fire</td>\n",
       "      <td>NaN</td>\n",
       "      <td>309</td>\n",
       "      <td>39</td>\n",
       "      <td>52</td>\n",
       "      <td>43</td>\n",
       "      <td>60</td>\n",
       "      <td>50</td>\n",
       "      <td>65</td>\n",
       "      <td>2</td>\n",
       "      <td>False</td>\n",
       "    </tr>\n",
       "    <tr>\n",
       "      <th>170</th>\n",
       "      <td>156</td>\n",
       "      <td>Quilava</td>\n",
       "      <td>Fire</td>\n",
       "      <td>NaN</td>\n",
       "      <td>405</td>\n",
       "      <td>58</td>\n",
       "      <td>64</td>\n",
       "      <td>58</td>\n",
       "      <td>80</td>\n",
       "      <td>65</td>\n",
       "      <td>80</td>\n",
       "      <td>2</td>\n",
       "      <td>False</td>\n",
       "    </tr>\n",
       "    <tr>\n",
       "      <th>171</th>\n",
       "      <td>157</td>\n",
       "      <td>Typhlosion</td>\n",
       "      <td>Fire</td>\n",
       "      <td>NaN</td>\n",
       "      <td>534</td>\n",
       "      <td>78</td>\n",
       "      <td>84</td>\n",
       "      <td>78</td>\n",
       "      <td>109</td>\n",
       "      <td>85</td>\n",
       "      <td>100</td>\n",
       "      <td>2</td>\n",
       "      <td>False</td>\n",
       "    </tr>\n",
       "    <tr>\n",
       "      <th>236</th>\n",
       "      <td>218</td>\n",
       "      <td>Slugma</td>\n",
       "      <td>Fire</td>\n",
       "      <td>NaN</td>\n",
       "      <td>250</td>\n",
       "      <td>40</td>\n",
       "      <td>40</td>\n",
       "      <td>40</td>\n",
       "      <td>70</td>\n",
       "      <td>40</td>\n",
       "      <td>20</td>\n",
       "      <td>2</td>\n",
       "      <td>False</td>\n",
       "    </tr>\n",
       "    <tr>\n",
       "      <th>237</th>\n",
       "      <td>219</td>\n",
       "      <td>Magcargo</td>\n",
       "      <td>Fire</td>\n",
       "      <td>Rock</td>\n",
       "      <td>410</td>\n",
       "      <td>50</td>\n",
       "      <td>50</td>\n",
       "      <td>120</td>\n",
       "      <td>80</td>\n",
       "      <td>80</td>\n",
       "      <td>30</td>\n",
       "      <td>2</td>\n",
       "      <td>False</td>\n",
       "    </tr>\n",
       "    <tr>\n",
       "      <th>259</th>\n",
       "      <td>240</td>\n",
       "      <td>Magby</td>\n",
       "      <td>Fire</td>\n",
       "      <td>NaN</td>\n",
       "      <td>365</td>\n",
       "      <td>45</td>\n",
       "      <td>75</td>\n",
       "      <td>37</td>\n",
       "      <td>70</td>\n",
       "      <td>55</td>\n",
       "      <td>83</td>\n",
       "      <td>2</td>\n",
       "      <td>False</td>\n",
       "    </tr>\n",
       "    <tr>\n",
       "      <th>263</th>\n",
       "      <td>244</td>\n",
       "      <td>Entei</td>\n",
       "      <td>Fire</td>\n",
       "      <td>NaN</td>\n",
       "      <td>580</td>\n",
       "      <td>115</td>\n",
       "      <td>115</td>\n",
       "      <td>85</td>\n",
       "      <td>90</td>\n",
       "      <td>75</td>\n",
       "      <td>100</td>\n",
       "      <td>2</td>\n",
       "      <td>True</td>\n",
       "    </tr>\n",
       "    <tr>\n",
       "      <th>270</th>\n",
       "      <td>250</td>\n",
       "      <td>Ho-oh</td>\n",
       "      <td>Fire</td>\n",
       "      <td>Flying</td>\n",
       "      <td>680</td>\n",
       "      <td>106</td>\n",
       "      <td>130</td>\n",
       "      <td>90</td>\n",
       "      <td>110</td>\n",
       "      <td>154</td>\n",
       "      <td>90</td>\n",
       "      <td>2</td>\n",
       "      <td>True</td>\n",
       "    </tr>\n",
       "    <tr>\n",
       "      <th>276</th>\n",
       "      <td>255</td>\n",
       "      <td>Torchic</td>\n",
       "      <td>Fire</td>\n",
       "      <td>NaN</td>\n",
       "      <td>310</td>\n",
       "      <td>45</td>\n",
       "      <td>60</td>\n",
       "      <td>40</td>\n",
       "      <td>70</td>\n",
       "      <td>50</td>\n",
       "      <td>45</td>\n",
       "      <td>3</td>\n",
       "      <td>False</td>\n",
       "    </tr>\n",
       "    <tr>\n",
       "      <th>277</th>\n",
       "      <td>256</td>\n",
       "      <td>Combusken</td>\n",
       "      <td>Fire</td>\n",
       "      <td>Fighting</td>\n",
       "      <td>405</td>\n",
       "      <td>60</td>\n",
       "      <td>85</td>\n",
       "      <td>60</td>\n",
       "      <td>85</td>\n",
       "      <td>60</td>\n",
       "      <td>55</td>\n",
       "      <td>3</td>\n",
       "      <td>False</td>\n",
       "    </tr>\n",
       "    <tr>\n",
       "      <th>278</th>\n",
       "      <td>257</td>\n",
       "      <td>Blaziken</td>\n",
       "      <td>Fire</td>\n",
       "      <td>Fighting</td>\n",
       "      <td>530</td>\n",
       "      <td>80</td>\n",
       "      <td>120</td>\n",
       "      <td>70</td>\n",
       "      <td>110</td>\n",
       "      <td>70</td>\n",
       "      <td>80</td>\n",
       "      <td>3</td>\n",
       "      <td>False</td>\n",
       "    </tr>\n",
       "    <tr>\n",
       "      <th>279</th>\n",
       "      <td>257</td>\n",
       "      <td>BlazikenMega Blaziken</td>\n",
       "      <td>Fire</td>\n",
       "      <td>Fighting</td>\n",
       "      <td>630</td>\n",
       "      <td>80</td>\n",
       "      <td>160</td>\n",
       "      <td>80</td>\n",
       "      <td>130</td>\n",
       "      <td>80</td>\n",
       "      <td>100</td>\n",
       "      <td>3</td>\n",
       "      <td>False</td>\n",
       "    </tr>\n",
       "    <tr>\n",
       "      <th>352</th>\n",
       "      <td>322</td>\n",
       "      <td>Numel</td>\n",
       "      <td>Fire</td>\n",
       "      <td>Ground</td>\n",
       "      <td>305</td>\n",
       "      <td>60</td>\n",
       "      <td>60</td>\n",
       "      <td>40</td>\n",
       "      <td>65</td>\n",
       "      <td>45</td>\n",
       "      <td>35</td>\n",
       "      <td>3</td>\n",
       "      <td>False</td>\n",
       "    </tr>\n",
       "    <tr>\n",
       "      <th>353</th>\n",
       "      <td>323</td>\n",
       "      <td>Camerupt</td>\n",
       "      <td>Fire</td>\n",
       "      <td>Ground</td>\n",
       "      <td>460</td>\n",
       "      <td>70</td>\n",
       "      <td>100</td>\n",
       "      <td>70</td>\n",
       "      <td>105</td>\n",
       "      <td>75</td>\n",
       "      <td>40</td>\n",
       "      <td>3</td>\n",
       "      <td>False</td>\n",
       "    </tr>\n",
       "    <tr>\n",
       "      <th>354</th>\n",
       "      <td>323</td>\n",
       "      <td>CameruptMega Camerupt</td>\n",
       "      <td>Fire</td>\n",
       "      <td>Ground</td>\n",
       "      <td>560</td>\n",
       "      <td>70</td>\n",
       "      <td>120</td>\n",
       "      <td>100</td>\n",
       "      <td>145</td>\n",
       "      <td>105</td>\n",
       "      <td>20</td>\n",
       "      <td>3</td>\n",
       "      <td>False</td>\n",
       "    </tr>\n",
       "    <tr>\n",
       "      <th>355</th>\n",
       "      <td>324</td>\n",
       "      <td>Torkoal</td>\n",
       "      <td>Fire</td>\n",
       "      <td>NaN</td>\n",
       "      <td>470</td>\n",
       "      <td>70</td>\n",
       "      <td>85</td>\n",
       "      <td>140</td>\n",
       "      <td>85</td>\n",
       "      <td>70</td>\n",
       "      <td>20</td>\n",
       "      <td>3</td>\n",
       "      <td>False</td>\n",
       "    </tr>\n",
       "    <tr>\n",
       "      <th>435</th>\n",
       "      <td>390</td>\n",
       "      <td>Chimchar</td>\n",
       "      <td>Fire</td>\n",
       "      <td>NaN</td>\n",
       "      <td>309</td>\n",
       "      <td>44</td>\n",
       "      <td>58</td>\n",
       "      <td>44</td>\n",
       "      <td>58</td>\n",
       "      <td>44</td>\n",
       "      <td>61</td>\n",
       "      <td>4</td>\n",
       "      <td>False</td>\n",
       "    </tr>\n",
       "    <tr>\n",
       "      <th>436</th>\n",
       "      <td>391</td>\n",
       "      <td>Monferno</td>\n",
       "      <td>Fire</td>\n",
       "      <td>Fighting</td>\n",
       "      <td>405</td>\n",
       "      <td>64</td>\n",
       "      <td>78</td>\n",
       "      <td>52</td>\n",
       "      <td>78</td>\n",
       "      <td>52</td>\n",
       "      <td>81</td>\n",
       "      <td>4</td>\n",
       "      <td>False</td>\n",
       "    </tr>\n",
       "    <tr>\n",
       "      <th>437</th>\n",
       "      <td>392</td>\n",
       "      <td>Infernape</td>\n",
       "      <td>Fire</td>\n",
       "      <td>Fighting</td>\n",
       "      <td>534</td>\n",
       "      <td>76</td>\n",
       "      <td>104</td>\n",
       "      <td>71</td>\n",
       "      <td>104</td>\n",
       "      <td>71</td>\n",
       "      <td>108</td>\n",
       "      <td>4</td>\n",
       "      <td>False</td>\n",
       "    </tr>\n",
       "    <tr>\n",
       "      <th>518</th>\n",
       "      <td>467</td>\n",
       "      <td>Magmortar</td>\n",
       "      <td>Fire</td>\n",
       "      <td>NaN</td>\n",
       "      <td>540</td>\n",
       "      <td>75</td>\n",
       "      <td>95</td>\n",
       "      <td>67</td>\n",
       "      <td>125</td>\n",
       "      <td>95</td>\n",
       "      <td>83</td>\n",
       "      <td>4</td>\n",
       "      <td>False</td>\n",
       "    </tr>\n",
       "    <tr>\n",
       "      <th>542</th>\n",
       "      <td>485</td>\n",
       "      <td>Heatran</td>\n",
       "      <td>Fire</td>\n",
       "      <td>Steel</td>\n",
       "      <td>600</td>\n",
       "      <td>91</td>\n",
       "      <td>90</td>\n",
       "      <td>106</td>\n",
       "      <td>130</td>\n",
       "      <td>106</td>\n",
       "      <td>77</td>\n",
       "      <td>4</td>\n",
       "      <td>True</td>\n",
       "    </tr>\n",
       "    <tr>\n",
       "      <th>557</th>\n",
       "      <td>498</td>\n",
       "      <td>Tepig</td>\n",
       "      <td>Fire</td>\n",
       "      <td>NaN</td>\n",
       "      <td>308</td>\n",
       "      <td>65</td>\n",
       "      <td>63</td>\n",
       "      <td>45</td>\n",
       "      <td>45</td>\n",
       "      <td>45</td>\n",
       "      <td>45</td>\n",
       "      <td>5</td>\n",
       "      <td>False</td>\n",
       "    </tr>\n",
       "    <tr>\n",
       "      <th>558</th>\n",
       "      <td>499</td>\n",
       "      <td>Pignite</td>\n",
       "      <td>Fire</td>\n",
       "      <td>Fighting</td>\n",
       "      <td>418</td>\n",
       "      <td>90</td>\n",
       "      <td>93</td>\n",
       "      <td>55</td>\n",
       "      <td>70</td>\n",
       "      <td>55</td>\n",
       "      <td>55</td>\n",
       "      <td>5</td>\n",
       "      <td>False</td>\n",
       "    </tr>\n",
       "    <tr>\n",
       "      <th>559</th>\n",
       "      <td>500</td>\n",
       "      <td>Emboar</td>\n",
       "      <td>Fire</td>\n",
       "      <td>Fighting</td>\n",
       "      <td>528</td>\n",
       "      <td>110</td>\n",
       "      <td>123</td>\n",
       "      <td>65</td>\n",
       "      <td>100</td>\n",
       "      <td>65</td>\n",
       "      <td>65</td>\n",
       "      <td>5</td>\n",
       "      <td>False</td>\n",
       "    </tr>\n",
       "    <tr>\n",
       "      <th>572</th>\n",
       "      <td>513</td>\n",
       "      <td>Pansear</td>\n",
       "      <td>Fire</td>\n",
       "      <td>NaN</td>\n",
       "      <td>316</td>\n",
       "      <td>50</td>\n",
       "      <td>53</td>\n",
       "      <td>48</td>\n",
       "      <td>53</td>\n",
       "      <td>48</td>\n",
       "      <td>64</td>\n",
       "      <td>5</td>\n",
       "      <td>False</td>\n",
       "    </tr>\n",
       "    <tr>\n",
       "      <th>573</th>\n",
       "      <td>514</td>\n",
       "      <td>Simisear</td>\n",
       "      <td>Fire</td>\n",
       "      <td>NaN</td>\n",
       "      <td>498</td>\n",
       "      <td>75</td>\n",
       "      <td>98</td>\n",
       "      <td>63</td>\n",
       "      <td>98</td>\n",
       "      <td>63</td>\n",
       "      <td>101</td>\n",
       "      <td>5</td>\n",
       "      <td>False</td>\n",
       "    </tr>\n",
       "    <tr>\n",
       "      <th>614</th>\n",
       "      <td>554</td>\n",
       "      <td>Darumaka</td>\n",
       "      <td>Fire</td>\n",
       "      <td>NaN</td>\n",
       "      <td>315</td>\n",
       "      <td>70</td>\n",
       "      <td>90</td>\n",
       "      <td>45</td>\n",
       "      <td>15</td>\n",
       "      <td>45</td>\n",
       "      <td>50</td>\n",
       "      <td>5</td>\n",
       "      <td>False</td>\n",
       "    </tr>\n",
       "    <tr>\n",
       "      <th>615</th>\n",
       "      <td>555</td>\n",
       "      <td>DarmanitanStandard Mode</td>\n",
       "      <td>Fire</td>\n",
       "      <td>NaN</td>\n",
       "      <td>480</td>\n",
       "      <td>105</td>\n",
       "      <td>140</td>\n",
       "      <td>55</td>\n",
       "      <td>30</td>\n",
       "      <td>55</td>\n",
       "      <td>95</td>\n",
       "      <td>5</td>\n",
       "      <td>False</td>\n",
       "    </tr>\n",
       "    <tr>\n",
       "      <th>616</th>\n",
       "      <td>555</td>\n",
       "      <td>DarmanitanZen Mode</td>\n",
       "      <td>Fire</td>\n",
       "      <td>Psychic</td>\n",
       "      <td>540</td>\n",
       "      <td>105</td>\n",
       "      <td>30</td>\n",
       "      <td>105</td>\n",
       "      <td>140</td>\n",
       "      <td>105</td>\n",
       "      <td>55</td>\n",
       "      <td>5</td>\n",
       "      <td>False</td>\n",
       "    </tr>\n",
       "    <tr>\n",
       "      <th>692</th>\n",
       "      <td>631</td>\n",
       "      <td>Heatmor</td>\n",
       "      <td>Fire</td>\n",
       "      <td>NaN</td>\n",
       "      <td>484</td>\n",
       "      <td>85</td>\n",
       "      <td>97</td>\n",
       "      <td>66</td>\n",
       "      <td>105</td>\n",
       "      <td>66</td>\n",
       "      <td>65</td>\n",
       "      <td>5</td>\n",
       "      <td>False</td>\n",
       "    </tr>\n",
       "    <tr>\n",
       "      <th>721</th>\n",
       "      <td>653</td>\n",
       "      <td>Fennekin</td>\n",
       "      <td>Fire</td>\n",
       "      <td>NaN</td>\n",
       "      <td>307</td>\n",
       "      <td>40</td>\n",
       "      <td>45</td>\n",
       "      <td>40</td>\n",
       "      <td>62</td>\n",
       "      <td>60</td>\n",
       "      <td>60</td>\n",
       "      <td>6</td>\n",
       "      <td>False</td>\n",
       "    </tr>\n",
       "    <tr>\n",
       "      <th>722</th>\n",
       "      <td>654</td>\n",
       "      <td>Braixen</td>\n",
       "      <td>Fire</td>\n",
       "      <td>NaN</td>\n",
       "      <td>409</td>\n",
       "      <td>59</td>\n",
       "      <td>59</td>\n",
       "      <td>58</td>\n",
       "      <td>90</td>\n",
       "      <td>70</td>\n",
       "      <td>73</td>\n",
       "      <td>6</td>\n",
       "      <td>False</td>\n",
       "    </tr>\n",
       "    <tr>\n",
       "      <th>723</th>\n",
       "      <td>655</td>\n",
       "      <td>Delphox</td>\n",
       "      <td>Fire</td>\n",
       "      <td>Psychic</td>\n",
       "      <td>534</td>\n",
       "      <td>75</td>\n",
       "      <td>69</td>\n",
       "      <td>72</td>\n",
       "      <td>114</td>\n",
       "      <td>100</td>\n",
       "      <td>104</td>\n",
       "      <td>6</td>\n",
       "      <td>False</td>\n",
       "    </tr>\n",
       "    <tr>\n",
       "      <th>730</th>\n",
       "      <td>662</td>\n",
       "      <td>Fletchinder</td>\n",
       "      <td>Fire</td>\n",
       "      <td>Flying</td>\n",
       "      <td>382</td>\n",
       "      <td>62</td>\n",
       "      <td>73</td>\n",
       "      <td>55</td>\n",
       "      <td>56</td>\n",
       "      <td>52</td>\n",
       "      <td>84</td>\n",
       "      <td>6</td>\n",
       "      <td>False</td>\n",
       "    </tr>\n",
       "    <tr>\n",
       "      <th>731</th>\n",
       "      <td>663</td>\n",
       "      <td>Talonflame</td>\n",
       "      <td>Fire</td>\n",
       "      <td>Flying</td>\n",
       "      <td>499</td>\n",
       "      <td>78</td>\n",
       "      <td>81</td>\n",
       "      <td>71</td>\n",
       "      <td>74</td>\n",
       "      <td>69</td>\n",
       "      <td>126</td>\n",
       "      <td>6</td>\n",
       "      <td>False</td>\n",
       "    </tr>\n",
       "    <tr>\n",
       "      <th>735</th>\n",
       "      <td>667</td>\n",
       "      <td>Litleo</td>\n",
       "      <td>Fire</td>\n",
       "      <td>Normal</td>\n",
       "      <td>369</td>\n",
       "      <td>62</td>\n",
       "      <td>50</td>\n",
       "      <td>58</td>\n",
       "      <td>73</td>\n",
       "      <td>54</td>\n",
       "      <td>72</td>\n",
       "      <td>6</td>\n",
       "      <td>False</td>\n",
       "    </tr>\n",
       "    <tr>\n",
       "      <th>736</th>\n",
       "      <td>668</td>\n",
       "      <td>Pyroar</td>\n",
       "      <td>Fire</td>\n",
       "      <td>Normal</td>\n",
       "      <td>507</td>\n",
       "      <td>86</td>\n",
       "      <td>68</td>\n",
       "      <td>72</td>\n",
       "      <td>109</td>\n",
       "      <td>66</td>\n",
       "      <td>106</td>\n",
       "      <td>6</td>\n",
       "      <td>False</td>\n",
       "    </tr>\n",
       "    <tr>\n",
       "      <th>799</th>\n",
       "      <td>721</td>\n",
       "      <td>Volcanion</td>\n",
       "      <td>Fire</td>\n",
       "      <td>Water</td>\n",
       "      <td>600</td>\n",
       "      <td>80</td>\n",
       "      <td>110</td>\n",
       "      <td>120</td>\n",
       "      <td>130</td>\n",
       "      <td>90</td>\n",
       "      <td>70</td>\n",
       "      <td>6</td>\n",
       "      <td>True</td>\n",
       "    </tr>\n",
       "  </tbody>\n",
       "</table>\n",
       "</div>"
      ],
      "text/plain": [
       "       #                       Name Type 1    Type 2  Total   HP  Attack  \\\n",
       "4      4                 Charmander   Fire       NaN    309   39      52   \n",
       "5      5                 Charmeleon   Fire       NaN    405   58      64   \n",
       "6      6                  Charizard   Fire    Flying    534   78      84   \n",
       "7      6  CharizardMega Charizard X   Fire    Dragon    634   78     130   \n",
       "8      6  CharizardMega Charizard Y   Fire    Flying    634   78     104   \n",
       "42    37                     Vulpix   Fire       NaN    299   38      41   \n",
       "43    38                  Ninetales   Fire       NaN    505   73      76   \n",
       "63    58                  Growlithe   Fire       NaN    350   55      70   \n",
       "64    59                   Arcanine   Fire       NaN    555   90     110   \n",
       "83    77                     Ponyta   Fire       NaN    410   50      85   \n",
       "84    78                   Rapidash   Fire       NaN    500   65     100   \n",
       "135  126                     Magmar   Fire       NaN    495   65      95   \n",
       "147  136                    Flareon   Fire       NaN    525   65     130   \n",
       "158  146                    Moltres   Fire    Flying    580   90     100   \n",
       "169  155                  Cyndaquil   Fire       NaN    309   39      52   \n",
       "170  156                    Quilava   Fire       NaN    405   58      64   \n",
       "171  157                 Typhlosion   Fire       NaN    534   78      84   \n",
       "236  218                     Slugma   Fire       NaN    250   40      40   \n",
       "237  219                   Magcargo   Fire      Rock    410   50      50   \n",
       "259  240                      Magby   Fire       NaN    365   45      75   \n",
       "263  244                      Entei   Fire       NaN    580  115     115   \n",
       "270  250                      Ho-oh   Fire    Flying    680  106     130   \n",
       "276  255                    Torchic   Fire       NaN    310   45      60   \n",
       "277  256                  Combusken   Fire  Fighting    405   60      85   \n",
       "278  257                   Blaziken   Fire  Fighting    530   80     120   \n",
       "279  257      BlazikenMega Blaziken   Fire  Fighting    630   80     160   \n",
       "352  322                      Numel   Fire    Ground    305   60      60   \n",
       "353  323                   Camerupt   Fire    Ground    460   70     100   \n",
       "354  323      CameruptMega Camerupt   Fire    Ground    560   70     120   \n",
       "355  324                    Torkoal   Fire       NaN    470   70      85   \n",
       "435  390                   Chimchar   Fire       NaN    309   44      58   \n",
       "436  391                   Monferno   Fire  Fighting    405   64      78   \n",
       "437  392                  Infernape   Fire  Fighting    534   76     104   \n",
       "518  467                  Magmortar   Fire       NaN    540   75      95   \n",
       "542  485                    Heatran   Fire     Steel    600   91      90   \n",
       "557  498                      Tepig   Fire       NaN    308   65      63   \n",
       "558  499                    Pignite   Fire  Fighting    418   90      93   \n",
       "559  500                     Emboar   Fire  Fighting    528  110     123   \n",
       "572  513                    Pansear   Fire       NaN    316   50      53   \n",
       "573  514                   Simisear   Fire       NaN    498   75      98   \n",
       "614  554                   Darumaka   Fire       NaN    315   70      90   \n",
       "615  555    DarmanitanStandard Mode   Fire       NaN    480  105     140   \n",
       "616  555         DarmanitanZen Mode   Fire   Psychic    540  105      30   \n",
       "692  631                    Heatmor   Fire       NaN    484   85      97   \n",
       "721  653                   Fennekin   Fire       NaN    307   40      45   \n",
       "722  654                    Braixen   Fire       NaN    409   59      59   \n",
       "723  655                    Delphox   Fire   Psychic    534   75      69   \n",
       "730  662                Fletchinder   Fire    Flying    382   62      73   \n",
       "731  663                 Talonflame   Fire    Flying    499   78      81   \n",
       "735  667                     Litleo   Fire    Normal    369   62      50   \n",
       "736  668                     Pyroar   Fire    Normal    507   86      68   \n",
       "799  721                  Volcanion   Fire     Water    600   80     110   \n",
       "\n",
       "     Defense  Sp. Atk  Sp. Def  Speed  Generation  Legendary  \n",
       "4         43       60       50     65           1      False  \n",
       "5         58       80       65     80           1      False  \n",
       "6         78      109       85    100           1      False  \n",
       "7        111      130       85    100           1      False  \n",
       "8         78      159      115    100           1      False  \n",
       "42        40       50       65     65           1      False  \n",
       "43        75       81      100    100           1      False  \n",
       "63        45       70       50     60           1      False  \n",
       "64        80      100       80     95           1      False  \n",
       "83        55       65       65     90           1      False  \n",
       "84        70       80       80    105           1      False  \n",
       "135       57      100       85     93           1      False  \n",
       "147       60       95      110     65           1      False  \n",
       "158       90      125       85     90           1       True  \n",
       "169       43       60       50     65           2      False  \n",
       "170       58       80       65     80           2      False  \n",
       "171       78      109       85    100           2      False  \n",
       "236       40       70       40     20           2      False  \n",
       "237      120       80       80     30           2      False  \n",
       "259       37       70       55     83           2      False  \n",
       "263       85       90       75    100           2       True  \n",
       "270       90      110      154     90           2       True  \n",
       "276       40       70       50     45           3      False  \n",
       "277       60       85       60     55           3      False  \n",
       "278       70      110       70     80           3      False  \n",
       "279       80      130       80    100           3      False  \n",
       "352       40       65       45     35           3      False  \n",
       "353       70      105       75     40           3      False  \n",
       "354      100      145      105     20           3      False  \n",
       "355      140       85       70     20           3      False  \n",
       "435       44       58       44     61           4      False  \n",
       "436       52       78       52     81           4      False  \n",
       "437       71      104       71    108           4      False  \n",
       "518       67      125       95     83           4      False  \n",
       "542      106      130      106     77           4       True  \n",
       "557       45       45       45     45           5      False  \n",
       "558       55       70       55     55           5      False  \n",
       "559       65      100       65     65           5      False  \n",
       "572       48       53       48     64           5      False  \n",
       "573       63       98       63    101           5      False  \n",
       "614       45       15       45     50           5      False  \n",
       "615       55       30       55     95           5      False  \n",
       "616      105      140      105     55           5      False  \n",
       "692       66      105       66     65           5      False  \n",
       "721       40       62       60     60           6      False  \n",
       "722       58       90       70     73           6      False  \n",
       "723       72      114      100    104           6      False  \n",
       "730       55       56       52     84           6      False  \n",
       "731       71       74       69    126           6      False  \n",
       "735       58       73       54     72           6      False  \n",
       "736       72      109       66    106           6      False  \n",
       "799      120      130       90     70           6       True  "
      ]
     },
     "execution_count": 6,
     "metadata": {},
     "output_type": "execute_result"
    }
   ],
   "source": [
    "df[df['Type 1']=='Fire']"
   ]
  },
  {
   "cell_type": "markdown",
   "id": "e5b9d7ca",
   "metadata": {
    "id": "e5b9d7ca"
   },
   "source": [
    "#### Change and set the index to the name attribute"
   ]
  },
  {
   "cell_type": "code",
   "execution_count": null,
   "id": "fd00a872",
   "metadata": {
    "id": "fd00a872",
    "outputId": "eca47522-cb28-4bb0-a5f5-78ea663f0740"
   },
   "outputs": [],
   "source": [
    "df = df.set_index('Name')\n",
    "df.head()"
   ]
  },
  {
   "cell_type": "markdown",
   "id": "0aa64e3c",
   "metadata": {
    "id": "0aa64e3c"
   },
   "source": [
    "#### Drop the redundant column #. Use axis=1 for columns and axis=0 for rows."
   ]
  },
  {
   "cell_type": "code",
   "execution_count": null,
   "id": "0089a441",
   "metadata": {
    "id": "0089a441",
    "outputId": "699c34fd-6129-4ab0-ca3a-d210d8c16c2b"
   },
   "outputs": [],
   "source": [
    "df=df.drop(['#'],axis=1)\n",
    "df.head()"
   ]
  },
  {
   "cell_type": "markdown",
   "id": "759c7e78",
   "metadata": {
    "id": "759c7e78"
   },
   "source": [
    "#### Print the column names and the shape of data."
   ]
  },
  {
   "cell_type": "code",
   "execution_count": null,
   "id": "75f4c1d5",
   "metadata": {
    "id": "75f4c1d5",
    "outputId": "f36352c9-f8a1-43e7-8b08-3a59125fef02"
   },
   "outputs": [],
   "source": [
    "print('The columns of the dataset are: ',df.columns)\n",
    "print('The shape of the dataframe is: ',df.shape)"
   ]
  },
  {
   "cell_type": "markdown",
   "id": "c9d8b446",
   "metadata": {
    "id": "c9d8b446"
   },
   "source": [
    "#### We have NaN values for Type2. We fill them with corresponding values of Type 1. In simple terms, where Type 2 is empty, fill it the same type as of 1."
   ]
  },
  {
   "cell_type": "code",
   "execution_count": null,
   "id": "961eb774",
   "metadata": {
    "id": "961eb774",
    "outputId": "c67275f6-ac20-42ae-ddbb-0e2640e24fee"
   },
   "outputs": [],
   "source": [
    "df['Type 2'].fillna(df['Type 1'], inplace=True)\n",
    "df.head()"
   ]
  },
  {
   "cell_type": "markdown",
   "id": "bd68e5e9",
   "metadata": {
    "id": "bd68e5e9"
   },
   "source": [
    "#### Retrieves complete row data from index with value Bulbasaur"
   ]
  },
  {
   "cell_type": "code",
   "execution_count": null,
   "id": "debf2342",
   "metadata": {
    "id": "debf2342",
    "outputId": "6e70627a-170a-4d28-8644-cc5c0a344d79"
   },
   "outputs": [],
   "source": [
    "df.loc['Bulbasaur']"
   ]
  },
  {
   "cell_type": "markdown",
   "id": "981de7f6",
   "metadata": {
    "id": "981de7f6"
   },
   "source": [
    "#### Retrieves complete row date from index 0. This is an integer version of loc."
   ]
  },
  {
   "cell_type": "code",
   "execution_count": null,
   "id": "b04fc0a4",
   "metadata": {
    "id": "b04fc0a4",
    "outputId": "c57d5d72-e07c-4bdc-9abd-aa063e19861e"
   },
   "outputs": [],
   "source": [
    "df.iloc[0]"
   ]
  },
  {
   "cell_type": "markdown",
   "id": "5e730ea5",
   "metadata": {
    "id": "5e730ea5"
   },
   "source": [
    "#### Grab all the rows between \"Charmander\" and \"Squirtle\" (inclusive)"
   ]
  },
  {
   "cell_type": "code",
   "execution_count": null,
   "id": "5c5b0d3b",
   "metadata": {
    "id": "5c5b0d3b",
    "outputId": "32c0bded-684f-4029-db38-f8942ec58b74"
   },
   "outputs": [],
   "source": [
    "df.loc[\"Charmander\": \"Squirtle\"] "
   ]
  },
  {
   "cell_type": "markdown",
   "id": "cbc31e25",
   "metadata": {
    "id": "cbc31e25"
   },
   "source": [
    "#### Filtering pokemons using logical operators"
   ]
  },
  {
   "cell_type": "code",
   "execution_count": null,
   "id": "697a2009",
   "metadata": {
    "id": "697a2009",
    "outputId": "98c2e999-1157-4ea9-b764-b3f4ebc5634b"
   },
   "outputs": [],
   "source": [
    "## Filter out pokemon where Type 1 = Ice \n",
    "\n",
    "df[df['Type 1']=='Ice']"
   ]
  },
  {
   "cell_type": "code",
   "execution_count": null,
   "id": "b8390a24",
   "metadata": {
    "id": "b8390a24",
    "outputId": "7c8fd7ed-a02e-4da4-d225-4102bc5d9516"
   },
   "outputs": [],
   "source": [
    "### Filter out pokemon where Type 1= Fire or Dragon\n",
    "\n",
    "cond=(df['Type 1']=='Fire') | (df['Type 1']=='Dragon') \n",
    "\n",
    "val=df[cond]\n",
    "val"
   ]
  },
  {
   "cell_type": "code",
   "execution_count": null,
   "id": "50ab5c8d",
   "metadata": {
    "id": "50ab5c8d",
    "outputId": "2ef21f67-0ddd-45a9-a525-46137fb8b0c2"
   },
   "outputs": [],
   "source": [
    "### Filter all pokemon which are of the combination Ice + Ghost, Ice+Ice, Ghost+Ghost\n",
    "\n",
    "cond = ((df['Type 1']=='Ice') | (df['Type 1']=='Ghost')) & (((df['Type 2']=='Ghost') | (df['Type 2']=='Ice')))\n",
    "\n",
    "val=df[cond]\n",
    "val"
   ]
  },
  {
   "cell_type": "markdown",
   "id": "dcfb65ba",
   "metadata": {
    "id": "dcfb65ba"
   },
   "source": [
    "#### Return the pokemon with highest HP and maximum defense."
   ]
  },
  {
   "cell_type": "code",
   "execution_count": null,
   "id": "72373aa0",
   "metadata": {},
   "outputs": [],
   "source": [
    "df['HP'].max()"
   ]
  },
  {
   "cell_type": "code",
   "execution_count": null,
   "id": "d7552f4e",
   "metadata": {
    "id": "d7552f4e",
    "outputId": "83fd201c-560f-457a-ffa1-bc573620c881"
   },
   "outputs": [],
   "source": [
    "df['HP'].idxmax() ### Return the index which is the Name here."
   ]
  },
  {
   "cell_type": "code",
   "execution_count": null,
   "id": "acd0ed00",
   "metadata": {
    "id": "acd0ed00",
    "outputId": "d41e748b-4768-48f6-de3c-508622b77297"
   },
   "outputs": [],
   "source": [
    "df.loc[df['HP'].idxmax()] ## Get all details about it"
   ]
  },
  {
   "cell_type": "code",
   "execution_count": null,
   "id": "a95b86c2",
   "metadata": {
    "id": "a95b86c2",
    "outputId": "d43f53bc-07fe-43ee-f7bb-97e0d5ebde74"
   },
   "outputs": [],
   "source": [
    "df.loc[df['Defense'].idxmax()]"
   ]
  },
  {
   "cell_type": "markdown",
   "id": "324e2606",
   "metadata": {
    "id": "324e2606"
   },
   "source": [
    "#### Give me the Pokemon's generation and hp whose hp is lower than 70"
   ]
  },
  {
   "cell_type": "code",
   "execution_count": null,
   "id": "c53efed4",
   "metadata": {
    "id": "c53efed4",
    "outputId": "f1ae311c-3ba9-4a79-8f8c-1e327f20d2d3"
   },
   "outputs": [],
   "source": [
    "df[df['HP']<70]\n",
    "\n",
    "### This gives all columns."
   ]
  },
  {
   "cell_type": "code",
   "execution_count": null,
   "id": "6ea8faff",
   "metadata": {
    "id": "6ea8faff",
    "outputId": "b1553017-0ed9-4992-df9b-d472f9ed62b8"
   },
   "outputs": [],
   "source": [
    "df[df['HP']<70][['Generation','HP']]"
   ]
  },
  {
   "cell_type": "markdown",
   "id": "4a33c43c",
   "metadata": {
    "id": "4a33c43c"
   },
   "source": [
    "#### Give me Pokemon whose name contains  \"Cha\""
   ]
  },
  {
   "cell_type": "code",
   "execution_count": null,
   "id": "1e068a02",
   "metadata": {
    "id": "1e068a02",
    "outputId": "c510437d-acc5-4824-e057-294668941287"
   },
   "outputs": [],
   "source": [
    "df[df.index.str.contains(\"Cha\")] "
   ]
  },
  {
   "cell_type": "markdown",
   "id": "255ddad8",
   "metadata": {
    "id": "255ddad8"
   },
   "source": [
    "#### Sort the pokemons in the descending order of the Totals. This will no modify the original data. You need to assign it to make the change."
   ]
  },
  {
   "cell_type": "code",
   "execution_count": null,
   "id": "da4dc747",
   "metadata": {
    "id": "da4dc747",
    "outputId": "b66a72eb-fabb-41d6-8df8-61f95f5cf386"
   },
   "outputs": [],
   "source": [
    "df.sort_values('Total',ascending=False)"
   ]
  },
  {
   "cell_type": "markdown",
   "id": "5ec91b82",
   "metadata": {
    "id": "5ec91b82"
   },
   "source": [
    "#### Print all the unique pokemons and their counts."
   ]
  },
  {
   "cell_type": "code",
   "execution_count": null,
   "id": "e6d98147",
   "metadata": {
    "id": "e6d98147",
    "outputId": "f2d89607-9234-425a-b2a0-fd6a47f2c9eb"
   },
   "outputs": [],
   "source": [
    "print('The unique  pokemon types are',df['Type 1'].unique()) \n",
    "print('The number of unique types are',df['Type 1'].nunique()) "
   ]
  },
  {
   "cell_type": "markdown",
   "id": "8e484713",
   "metadata": {
    "id": "8e484713"
   },
   "source": [
    "#### Count different types of pokemons."
   ]
  },
  {
   "cell_type": "code",
   "execution_count": null,
   "id": "1f0dec91",
   "metadata": {
    "id": "1f0dec91",
    "outputId": "5bcb7a35-7e88-442c-dbb0-2a42e0dc4392"
   },
   "outputs": [],
   "source": [
    "df['Type 1'].value_counts()"
   ]
  },
  {
   "cell_type": "code",
   "execution_count": null,
   "id": "78657a42",
   "metadata": {
    "id": "78657a42",
    "outputId": "375c8660-876f-4310-abdf-3be931b6cabe"
   },
   "outputs": [],
   "source": [
    "df['Type 2'].value_counts()"
   ]
  },
  {
   "cell_type": "code",
   "execution_count": null,
   "id": "215f3da5",
   "metadata": {},
   "outputs": [],
   "source": [
    "(df['Type 1']=='Dragon')"
   ]
  },
  {
   "cell_type": "code",
   "execution_count": null,
   "id": "209126c4",
   "metadata": {
    "id": "209126c4",
    "outputId": "29d2469d-8eb0-435c-855e-8b81f9faa576"
   },
   "outputs": [],
   "source": [
    "### How many pokemons where Type 1 = Dragon?\n",
    "\n",
    "(df['Type 1']=='Dragon').sum()"
   ]
  },
  {
   "cell_type": "code",
   "execution_count": null,
   "id": "ad7f30a3",
   "metadata": {
    "id": "ad7f30a3",
    "outputId": "a04beec0-188b-4b88-cb59-59442d4eeab6"
   },
   "outputs": [],
   "source": [
    "### How many pokemons where Type 1 = Dragon and Type 2 = Ground ?\n",
    "\n",
    "((df['Type 1']=='Dragon') & (df['Type 2']=='Ground')).sum()\n"
   ]
  },
  {
   "cell_type": "code",
   "execution_count": null,
   "id": "ab2607a0",
   "metadata": {},
   "outputs": [],
   "source": [
    "df[((df['Type 1']=='Dragon') & (df['Type 2']=='Ground'))]"
   ]
  },
  {
   "cell_type": "code",
   "execution_count": null,
   "id": "586b2f8d",
   "metadata": {
    "id": "586b2f8d",
    "outputId": "1800dbe1-1f0e-4b5d-dc19-1ef918cb01da"
   },
   "outputs": [],
   "source": [
    "### Print those pokemons.\n",
    "df[((df['Type 1']=='Dragon') & (df['Type 2']=='Ground'))]"
   ]
  },
  {
   "cell_type": "markdown",
   "id": "982f2a8b",
   "metadata": {
    "id": "982f2a8b"
   },
   "source": [
    "#### Dealing with missing values."
   ]
  },
  {
   "cell_type": "code",
   "execution_count": null,
   "id": "d6728ff0",
   "metadata": {
    "id": "d6728ff0",
    "outputId": "f324f113-5cc4-4241-8e71-f40cc571125a"
   },
   "outputs": [],
   "source": [
    "# \"Tell me which columns have null values and which ones don't\"\n",
    "df.isna().any()"
   ]
  },
  {
   "cell_type": "code",
   "execution_count": null,
   "id": "f1b8f279",
   "metadata": {
    "id": "f1b8f279",
    "outputId": "27a1ed7c-8085-4812-dacb-bdc0601d94b8"
   },
   "outputs": [],
   "source": [
    "### We can also sort individual columns as Series! Let's just get the speeds of the 5 fastest Pokemon.\n",
    "\n",
    "df['Speed'].sort_values(ascending = False)[0:5]"
   ]
  },
  {
   "cell_type": "code",
   "execution_count": null,
   "id": "5dd149e8",
   "metadata": {
    "id": "5dd149e8",
    "outputId": "bae05ed8-2138-4b90-df5a-9bffeb7fee99"
   },
   "outputs": [],
   "source": [
    "### Combine Attack and Sp.Attack into a column Total Attack.\n",
    "\n",
    "df['Total Attack']=df['Attack']+df['Sp. Atk']\n",
    "df"
   ]
  },
  {
   "cell_type": "code",
   "execution_count": null,
   "id": "5de49621",
   "metadata": {
    "id": "5de49621",
    "outputId": "76ecfe7d-9dd8-4c9d-a45a-8526ae12f383"
   },
   "outputs": [],
   "source": [
    "## Create a Total Stat column that combines a Pokemon's hp, attack, sp_attack, defense, sp_defense, and speed base stats!\n",
    "\n",
    "## Step 1 : Filter the data\n",
    "df.loc[:,'HP':'Speed']"
   ]
  },
  {
   "cell_type": "code",
   "execution_count": null,
   "id": "baf8b094",
   "metadata": {
    "id": "baf8b094",
    "outputId": "1397b508-3940-4262-8a9e-ee583a9de434"
   },
   "outputs": [],
   "source": [
    "### Step 2 : Sum along the columns which is axis 1\n",
    "df.loc[:,'HP':'Speed'].sum(axis=1)"
   ]
  },
  {
   "cell_type": "code",
   "execution_count": null,
   "id": "c7ee22a7",
   "metadata": {
    "id": "c7ee22a7",
    "outputId": "eb57a85b-8a31-44f0-fe4b-23134f4f5997"
   },
   "outputs": [],
   "source": [
    "### Step 3: Assign the column\n",
    "\n",
    "df['Total Stats']=df.loc[:,'HP':'Speed'].sum(axis=1)\n",
    "df"
   ]
  },
  {
   "cell_type": "markdown",
   "id": "3a4dc56a",
   "metadata": {
    "id": "3a4dc56a"
   },
   "source": [
    "#### In certain cases, we may want more control over the operations we perform. Pandas allows us to define custom functions that can be apply-ed to each row. For example, let's say we want to classify pokemons based on the total attack as follows:\n",
    "\n",
    "##### If attack< 150 : Weak\n",
    "##### If attack> 150 and attack < 300 : Strong\n",
    "##### If attack > 300 : Fierce"
   ]
  },
  {
   "cell_type": "code",
   "execution_count": null,
   "id": "a41bc9ce",
   "metadata": {
    "id": "a41bc9ce"
   },
   "outputs": [],
   "source": [
    "def ATTACK(row):\n",
    "    attack=row['Total Attack']\n",
    "    \n",
    "    if attack<150:\n",
    "        return \"Weak\"\n",
    "    elif attack>=150 and attack<300:\n",
    "        return \"Strong\"\n",
    "    else:\n",
    "        return \"Fierce\""
   ]
  },
  {
   "cell_type": "code",
   "execution_count": null,
   "id": "00724144",
   "metadata": {
    "id": "00724144",
    "outputId": "6a815632-6e69-497b-d298-582f30db8dad"
   },
   "outputs": [],
   "source": [
    "attack_categories = df.apply(ATTACK, axis=1)\n",
    "\n",
    "attack_categories"
   ]
  },
  {
   "cell_type": "code",
   "execution_count": null,
   "id": "d90199ef",
   "metadata": {
    "id": "d90199ef",
    "outputId": "d048c039-96ae-4aa2-a16d-492e70f5a63c"
   },
   "outputs": [],
   "source": [
    "df['Attack Category']=attack_categories\n",
    "df"
   ]
  },
  {
   "cell_type": "code",
   "execution_count": null,
   "id": "75fc27fe",
   "metadata": {
    "id": "75fc27fe",
    "outputId": "4b266e77-4dc9-4b55-f232-99ffdb01eb6c"
   },
   "outputs": [],
   "source": [
    "### Method 2 of the same.\n",
    "\n",
    "# create a list of our conditions\n",
    "conditions = [\n",
    "    (df['Speed'] < 50),\n",
    "    (df['Speed'] >= 50) & (df['Speed'] < 100),\n",
    "    (df['Speed']>=100)]\n",
    "\n",
    "# create a list of the values we want to assign for each condition\n",
    "values = ['Slow', 'Fast', 'Fierce']\n",
    "\n",
    "# create a new column and use np.select to assign values to it using our lists as arguments\n",
    "df['Speed Category'] = np.select(conditions, values)\n",
    "\n",
    "# display updated DataFrame\n",
    "df"
   ]
  },
  {
   "cell_type": "markdown",
   "id": "7dd583da",
   "metadata": {
    "id": "7dd583da"
   },
   "source": [
    "### Aggregation and Grouping"
   ]
  },
  {
   "cell_type": "markdown",
   "id": "287bfc38",
   "metadata": {
    "id": "287bfc38"
   },
   "source": [
    "### Aggregate Functions\n",
    "Aggregate functions summarize a large collection of data points into a single metric. mean, median, min, max, and sum all fall under the category of aggregate functions you may call in Pandas. Let's get the average hp base stat of our 801 Pokemon."
   ]
  },
  {
   "cell_type": "code",
   "execution_count": null,
   "id": "4d04da5e",
   "metadata": {
    "id": "4d04da5e",
    "outputId": "d10c15f6-046f-4a21-b3d6-464610b8fd1b"
   },
   "outputs": [],
   "source": [
    "df['HP'].mean()"
   ]
  },
  {
   "cell_type": "markdown",
   "id": "6831b593",
   "metadata": {
    "id": "6831b593"
   },
   "source": [
    "### Groupby\n",
    "How might we go about figuring out the Pokemon generation type that has the highest average base speed stat? One option is to create 7 groups of rows — one for each unique generation. Each group would contain the speed stat for Pokemon introduced in that generation. Once we have constructed these groups, we can apply the mean function to each. We are left with 7 values — each representing the average speed base stat for all Pokemon belonging to one of our 7 generations/groups.\n",
    "\n",
    "This is the thought process behind the groupby function."
   ]
  },
  {
   "cell_type": "code",
   "execution_count": null,
   "id": "17b01782",
   "metadata": {
    "id": "17b01782",
    "outputId": "533385e7-38b8-4d12-ee89-5bf69a370247"
   },
   "outputs": [],
   "source": [
    "# 1. Create groups where each group represents a unique generation\n",
    "# 2. Keep track of Pokemon speed stats in these groups \n",
    "# 3. Calculate the average speed stat of Pokemon belonging to that generation\n",
    "# 4. Sort averages asending\n",
    "\n",
    "gen_group=df.groupby('Generation')\n",
    "for name,group in gen_group:\n",
    "    print(name)\n",
    "    \n",
    "print('-'*100)\n",
    "print('-'*100)\n",
    "\n",
    "for name,group in gen_group:\n",
    "    print(group)"
   ]
  },
  {
   "cell_type": "code",
   "execution_count": null,
   "id": "2292f50e",
   "metadata": {},
   "outputs": [],
   "source": [
    "gen_group"
   ]
  },
  {
   "cell_type": "code",
   "execution_count": null,
   "id": "ad6d5ea0",
   "metadata": {
    "id": "ad6d5ea0",
    "outputId": "fafe115e-a598-46a6-b2c3-be076b2edb43"
   },
   "outputs": [],
   "source": [
    "gen_group['Speed'].mean().sort_values()"
   ]
  },
  {
   "cell_type": "markdown",
   "id": "9735b684",
   "metadata": {
    "id": "9735b684"
   },
   "source": [
    "#### Do legendary Pokemon have higher average base stats?"
   ]
  },
  {
   "cell_type": "code",
   "execution_count": null,
   "id": "1eca2111",
   "metadata": {
    "id": "1eca2111",
    "outputId": "41eb9d05-7924-4756-b201-744084a925bf"
   },
   "outputs": [],
   "source": [
    "df.groupby('Legendary')['Total Stats'].describe()"
   ]
  },
  {
   "cell_type": "markdown",
   "id": "3dad2b51",
   "metadata": {
    "id": "3dad2b51"
   },
   "source": [
    "#### We can also group by multiple columns, creating groups within groups. How might we count the number of legendaries released in each generation?"
   ]
  },
  {
   "cell_type": "markdown",
   "id": "45976df2",
   "metadata": {
    "id": "45976df2"
   },
   "source": [
    "1. A pokemon is either a legendary or not. Create one group for each category \n",
    "2. There are six Pokemon generations in this dataset. Create one sub-group for each generation.\n",
    "3. Count the number of Pokemon in each (Legendary, Generation) grouping\n",
    "\n",
    "sort_index() ensures that generation values are presented in order"
   ]
  },
  {
   "cell_type": "code",
   "execution_count": null,
   "id": "aed4e762",
   "metadata": {
    "id": "aed4e762",
    "outputId": "b67a9fb2-f54b-4bc4-8b42-c76b6c0a68be"
   },
   "outputs": [],
   "source": [
    "df.groupby(['Legendary', 'Generation'])['Type 1'].count().sort_index()"
   ]
  },
  {
   "cell_type": "markdown",
   "id": "f1b971cf",
   "metadata": {
    "id": "f1b971cf"
   },
   "source": [
    "## Exploratory Data Analysis"
   ]
  },
  {
   "cell_type": "markdown",
   "id": "037d7906",
   "metadata": {
    "id": "037d7906"
   },
   "source": [
    "A picture is worth a thousand words\n",
    "\n",
    "Or in this case, a thousand numbers, quite literally. We are visual creatures — humans process visual data so much better than staring at a list of numbers."
   ]
  },
  {
   "cell_type": "markdown",
   "id": "dd546dc4",
   "metadata": {
    "id": "dd546dc4"
   },
   "source": [
    "We’ll start simple, like displaying how many Pokemon of each type we have."
   ]
  },
  {
   "cell_type": "code",
   "execution_count": null,
   "id": "ea301660",
   "metadata": {},
   "outputs": [],
   "source": [
    "df['Type 1'].value_counts()"
   ]
  },
  {
   "cell_type": "code",
   "execution_count": null,
   "id": "54ff4d57",
   "metadata": {
    "id": "54ff4d57",
    "outputId": "d7e1bdc0-b7e4-41b2-9ce0-26e37fb50b5f"
   },
   "outputs": [],
   "source": [
    "plt.figure(figsize=(15,7))\n",
    "\n",
    "sns.countplot(x=df['Type 1'])\n"
   ]
  },
  {
   "cell_type": "markdown",
   "id": "c1871237",
   "metadata": {
    "id": "c1871237"
   },
   "source": [
    "Cool! It looks like Water and Normal Pokemon are the most common. But, why are Flying types so rare? I’m no Pokemon expert, but that doesn’t seem right. There are plenty of Flying Pokemon in the games and anime! What gives?\n",
    "\n",
    "If you remember what our DataFrame looked like, or if you’ve played the Pokemon games before, you’d know that Pokemon can have 2 types. In the above plot, we only specified Type 1. What happens if we do a countplot() of Type 2?"
   ]
  },
  {
   "cell_type": "code",
   "execution_count": null,
   "id": "2ac9d44c",
   "metadata": {
    "id": "2ac9d44c",
    "outputId": "8350aabf-9ca9-4856-83cf-01f28f0e1ad3"
   },
   "outputs": [],
   "source": [
    "plt.figure(figsize=(15,7))\n",
    "\n",
    "sns.countplot(x=df['Type 2'])\n"
   ]
  },
  {
   "cell_type": "markdown",
   "id": "c8dde3c0",
   "metadata": {
    "id": "c8dde3c0"
   },
   "source": [
    "Aha! Flying type is the most common secondary type of Pokemon. That answers our question of why they were so rare as a primary type."
   ]
  },
  {
   "cell_type": "markdown",
   "id": "71bbbaf0",
   "metadata": {
    "id": "71bbbaf0"
   },
   "source": [
    "Let’s now look at the distribution of our data in each of our feature columns (Attack, Defense, Speed, etc.). In other words, what shape does all of our data take in a certain column?\n",
    "\n",
    "To view a distribution, you simply need to call Seaborn’s histplot() function, passing in the column you want to plot. Seaborn’s distplot() will show both a histogram of you data and the Kernel Density Estimation (KDE), which is an estimate of the probability density function (PDF) of your data"
   ]
  },
  {
   "cell_type": "code",
   "execution_count": null,
   "id": "1bfb4e18",
   "metadata": {
    "id": "1bfb4e18",
    "outputId": "e0ae39b8-d1d8-4940-ef73-74fa38558c70"
   },
   "outputs": [],
   "source": [
    "sns.histplot(df['Attack'],kde=True)"
   ]
  },
  {
   "cell_type": "markdown",
   "id": "5cb48e94",
   "metadata": {
    "id": "5cb48e94"
   },
   "source": [
    "You can also use boxplots to view statistical measures like the median, and any outliers in your data. You use boxplot() to get a boxplot for one column of data:"
   ]
  },
  {
   "cell_type": "code",
   "execution_count": null,
   "id": "bea92ade",
   "metadata": {
    "id": "bea92ade",
    "outputId": "d3752e00-fda4-412a-c570-5feb7ab45fe0"
   },
   "outputs": [],
   "source": [
    "sns.boxplot(x=df['Attack'])"
   ]
  },
  {
   "cell_type": "markdown",
   "id": "d3a8a1c8",
   "metadata": {
    "id": "d3a8a1c8"
   },
   "source": [
    "We can also view boxplots of all the feature columns within the same plot — Seaborn allows you to do so with an entire DataFrame. You just have to pass your DataFrame in as a parameter using data=YOUR_DATAFRAME."
   ]
  },
  {
   "cell_type": "code",
   "execution_count": null,
   "id": "adbcba55",
   "metadata": {
    "id": "adbcba55",
    "outputId": "74293630-dfb2-4c97-d7e6-bb16d2d31489"
   },
   "outputs": [],
   "source": [
    "plt.figure(figsize=(12,12))\n",
    "sns.boxplot(data=df)"
   ]
  },
  {
   "cell_type": "markdown",
   "id": "a4eb18bb",
   "metadata": {
    "id": "a4eb18bb"
   },
   "source": [
    "As you may notice, we probably don’t need ‘Total’ stats, since we have all the individual stats. The ‘Generation’, ‘#’, and ‘Legendary’ columns should probably go away too. We can easily tailor our DataFrame by dropping columns we don’t need/wish to see. This is done using Pandas’ drop function, as follows:"
   ]
  },
  {
   "cell_type": "code",
   "execution_count": null,
   "id": "895f4ea6",
   "metadata": {
    "id": "895f4ea6",
    "outputId": "012e7a81-140d-4cd8-d900-20006957304e"
   },
   "outputs": [],
   "source": [
    "pokemon_stats = df.drop(['Type 1', 'Type 2', 'Total', 'Legendary', 'Total', 'Generation','Total Attack','Total Stats'], axis=1)\n",
    "plt.figure(figsize=(12,12))\n",
    "sns.boxplot(data=pokemon_stats)"
   ]
  },
  {
   "cell_type": "markdown",
   "id": "4ee1be60",
   "metadata": {
    "id": "4ee1be60"
   },
   "source": [
    "Plots like this can motivate a whole host of questions. For example, 1) who’re those Pokemon with absurdly high HP values?"
   ]
  },
  {
   "cell_type": "code",
   "execution_count": null,
   "id": "41070776",
   "metadata": {
    "id": "41070776",
    "outputId": "16b178e4-5083-46d6-a3fa-8d8804ffe7b2"
   },
   "outputs": [],
   "source": [
    "df[df['HP']>200]"
   ]
  },
  {
   "cell_type": "markdown",
   "id": "88fa6298",
   "metadata": {
    "id": "88fa6298"
   },
   "source": [
    "2) Who’s that weakling with barely any HP?"
   ]
  },
  {
   "cell_type": "code",
   "execution_count": null,
   "id": "8294801c",
   "metadata": {
    "id": "8294801c",
    "outputId": "fa2c515c-e1fb-4bfd-d61a-e16f94be9314"
   },
   "outputs": [],
   "source": [
    "df[df['HP']<10]"
   ]
  },
  {
   "cell_type": "markdown",
   "id": "eb1bcf9b",
   "metadata": {
    "id": "eb1bcf9b"
   },
   "source": [
    "3) Who has those tremendously high Defense and Sp. Defense values?"
   ]
  },
  {
   "cell_type": "code",
   "execution_count": null,
   "id": "fef0b73b",
   "metadata": {
    "id": "fef0b73b",
    "outputId": "a8b4ba00-c3dc-4ff9-f85d-33655a7e57ee"
   },
   "outputs": [],
   "source": [
    "df[df['Defense']>200]"
   ]
  },
  {
   "cell_type": "code",
   "execution_count": null,
   "id": "c0f5be59",
   "metadata": {
    "id": "c0f5be59",
    "outputId": "9da5cf3b-1747-4879-8c09-3733c7868134"
   },
   "outputs": [],
   "source": [
    "df[df['Sp. Def']>200]"
   ]
  },
  {
   "cell_type": "markdown",
   "id": "1208c6dd",
   "metadata": {
    "id": "1208c6dd"
   },
   "source": [
    "### Pie- Chart showing distribution of various types of Pokemon."
   ]
  },
  {
   "cell_type": "code",
   "execution_count": null,
   "id": "be87b47e",
   "metadata": {
    "id": "be87b47e",
    "outputId": "bd66674f-21c9-4241-c2d3-ccaf81f4d5fc"
   },
   "outputs": [],
   "source": [
    "type_series=df['Type 1'].value_counts()\n",
    "\n",
    "type_series"
   ]
  },
  {
   "cell_type": "code",
   "execution_count": null,
   "id": "f7f874d7",
   "metadata": {
    "id": "f7f874d7",
    "outputId": "fe517caf-53a0-4f8c-e7a1-d246dfbdc319"
   },
   "outputs": [],
   "source": []
  },
  {
   "cell_type": "code",
   "execution_count": null,
   "id": "7580894c",
   "metadata": {
    "id": "7580894c",
    "outputId": "9d9c7244-9f5b-443c-c237-ba8c4947d187"
   },
   "outputs": [],
   "source": [
    "labels = type_series.index\n",
    "values=  type_series.values\n",
    "\n",
    "plt.figure(figsize=(10,10))\n",
    "plt.pie(values, labels=labels)\n",
    "plt.title(\"Percentage of Different Types of Pokemon\")\n"
   ]
  },
  {
   "cell_type": "markdown",
   "id": "083d39b7",
   "metadata": {
    "id": "083d39b7"
   },
   "source": [
    "### Attack of pokemon by type."
   ]
  },
  {
   "cell_type": "code",
   "execution_count": null,
   "id": "b2694a58",
   "metadata": {
    "id": "b2694a58",
    "outputId": "564187c1-e0ce-4331-82b9-45834b7dfd1c"
   },
   "outputs": [],
   "source": [
    "plt.figure(figsize=(14,12))\n",
    "\n",
    "sns.boxplot(x=df['Type 1'],y=df['Attack'])"
   ]
  },
  {
   "cell_type": "markdown",
   "id": "e5a134c7",
   "metadata": {
    "id": "e5a134c7"
   },
   "source": [
    "This shows that the Dragon type pokemons have an edge over the other types as they have a higher attacks compared to the other types. Also since the fire pokemons have lower range of values, but higher attacks, they can be preferred over the grass and water types for attacking."
   ]
  },
  {
   "cell_type": "markdown",
   "id": "bace9358",
   "metadata": {
    "id": "bace9358"
   },
   "source": [
    "![36.png](data:image/png;base64,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)"
   ]
  },
  {
   "cell_type": "markdown",
   "id": "2fa3c1e4",
   "metadata": {
    "id": "2fa3c1e4"
   },
   "source": [
    "### Defense of pokemon by type."
   ]
  },
  {
   "cell_type": "code",
   "execution_count": null,
   "id": "1b149823",
   "metadata": {
    "id": "1b149823",
    "outputId": "aa2441e3-ef3e-419d-af8c-5016e5a01128"
   },
   "outputs": [],
   "source": [
    "plt.figure(figsize=(14,12))\n",
    "\n",
    "sns.boxplot(x=df['Type 1'],y=df['Defense'])"
   ]
  },
  {
   "cell_type": "markdown",
   "id": "6750ec95",
   "metadata": {
    "id": "6750ec95"
   },
   "source": [
    "This shows that steel type pokemons have the highest defence but normal type pokemons have the lowest defence"
   ]
  },
  {
   "cell_type": "markdown",
   "id": "2af13c46",
   "metadata": {
    "id": "2af13c46"
   },
   "source": [
    "### Now lets see the same stats in violinplot"
   ]
  },
  {
   "cell_type": "code",
   "execution_count": null,
   "id": "00dd99b0",
   "metadata": {
    "id": "00dd99b0",
    "outputId": "222df081-9fc1-460d-cd49-1c630a568fca"
   },
   "outputs": [],
   "source": [
    "plt.figure(figsize=(14,12))\n",
    "\n",
    "sns.violinplot(x=df['Type 1'],y=df['Attack'])"
   ]
  },
  {
   "cell_type": "markdown",
   "id": "320021d5",
   "metadata": {
    "id": "320021d5"
   },
   "source": [
    "What the violinplot actually does is it plots according to the density of a region. This means that the parts of the plot where the width is thicker denotes a region with higher density points whereas regions with thinner area show less densely populated points"
   ]
  },
  {
   "cell_type": "code",
   "execution_count": null,
   "id": "fd40a397",
   "metadata": {
    "id": "fd40a397",
    "outputId": "5e98d0bf-f26b-4660-d61f-29169aa5bb73"
   },
   "outputs": [],
   "source": [
    "plt.figure(figsize=(14,5))\n",
    "\n",
    "sns.violinplot(x=df['Generation'],y=df['Total'])"
   ]
  },
  {
   "cell_type": "markdown",
   "id": "0676f11e",
   "metadata": {
    "id": "0676f11e"
   },
   "source": [
    "### Finding any Correlation between the attributes\n",
    "\n",
    "df.corr() makes a correlation matrix and sns.heatmap is used to show the correlations heatmap"
   ]
  },
  {
   "cell_type": "code",
   "execution_count": null,
   "id": "6bb564f7",
   "metadata": {
    "id": "6bb564f7",
    "outputId": "9fd1cb34-c1a0-47a6-c928-4e81133a16a7"
   },
   "outputs": [],
   "source": [
    "plt.figure(figsize=(10,6)) #manage the size of the plot\n",
    "sns.heatmap(df.corr(),annot=True) \n",
    "plt.show()"
   ]
  },
  {
   "cell_type": "code",
   "execution_count": null,
   "id": "08ce6136",
   "metadata": {
    "id": "08ce6136",
    "outputId": "81afc15f-e629-4bea-c032-22a77a36eb0f"
   },
   "outputs": [],
   "source": [
    "a=df.groupby(['Generation','Type 1']).count().reset_index()\n",
    "a=a[['Generation','Type 1','Total']]\n",
    "a"
   ]
  },
  {
   "cell_type": "code",
   "execution_count": null,
   "id": "b7834193",
   "metadata": {
    "id": "b7834193",
    "outputId": "877f0b70-344e-4946-efcb-9dc371417239"
   },
   "outputs": [],
   "source": [
    "a=a.pivot(index='Generation',columns='Type 1',values='Total')\n",
    "a"
   ]
  },
  {
   "cell_type": "code",
   "execution_count": null,
   "id": "6d96acd5",
   "metadata": {
    "id": "6d96acd5",
    "outputId": "7d728f10-af79-429d-acd3-3b900856d1e3"
   },
   "outputs": [],
   "source": [
    "types=['Water','Fire','Grass','Dragon','Normal','Rock','Flying','Electric']\n",
    "a[types].plot(marker='o')\n",
    "\n",
    "fig=plt.gcf()\n",
    "fig.set_size_inches(12,6)"
   ]
  },
  {
   "cell_type": "markdown",
   "id": "badaf4f1",
   "metadata": {
    "id": "badaf4f1"
   },
   "source": [
    "We can see that water pokemons had the highest numbers in the 1st Generation. However the number has decreased with passing generations. Similarly Grass type pokemons showed an increase in their numbers till generation 5."
   ]
  },
  {
   "cell_type": "markdown",
   "id": "ca02e74e",
   "metadata": {},
   "source": []
  },
  {
   "cell_type": "markdown",
   "id": "162409d6",
   "metadata": {},
   "source": []
  }
 ],
 "metadata": {
  "colab": {
   "provenance": []
  },
  "kernelspec": {
   "display_name": "Python 3 (ipykernel)",
   "language": "python",
   "name": "python3"
  },
  "language_info": {
   "codemirror_mode": {
    "name": "ipython",
    "version": 3
   },
   "file_extension": ".py",
   "mimetype": "text/x-python",
   "name": "python",
   "nbconvert_exporter": "python",
   "pygments_lexer": "ipython3",
   "version": "3.8.8"
  }
 },
 "nbformat": 4,
 "nbformat_minor": 5
}
