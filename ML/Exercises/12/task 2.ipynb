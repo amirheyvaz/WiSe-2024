{
 "cells": [
  {
   "cell_type": "markdown",
   "metadata": {},
   "source": [
    "task 2"
   ]
  },
  {
   "cell_type": "code",
   "execution_count": 2,
   "metadata": {},
   "outputs": [],
   "source": [
    "import numpy as np\n",
    "from scipy.stats import multivariate_normal\n"
   ]
  },
  {
   "cell_type": "code",
   "execution_count": 7,
   "metadata": {},
   "outputs": [
    {
     "name": "stdout",
     "output_type": "stream",
     "text": [
      "responsibilities [[9.97527377e-01 2.47262316e-03]\n",
      " [9.99664650e-01 3.35350130e-04]\n",
      " [9.97527377e-01 2.47262316e-03]\n",
      " [5.00000000e-01 5.00000000e-01]\n",
      " [1.19202922e-01 8.80797078e-01]\n",
      " [2.47262316e-03 9.97527377e-01]]\n",
      "pi [0.60273249 0.39726751]\n",
      "mu [[ 1  1]\n",
      " [ 0 -1]]\n",
      "covar-matrix [[[0.72621643 0.48471095]\n",
      "  [0.48471095 0.82852049]]\n",
      "\n",
      " [[0.42424473 0.42660081]\n",
      "  [0.42660081 0.64301325]]]\n"
     ]
    }
   ],
   "source": [
    "K = 2\n",
    "X = np.array([\n",
    "    [1,2], [2,2], [2,1], [0,0], [0,-1], [-1,-2]\n",
    "    ], dtype='float')\n",
    "epsilon = 1e-6\n",
    "N, M = X.shape\n",
    "pi = np.array([0.5, 0.5])\n",
    "mu = np.array([\n",
    "    [1, 1], [-1 , -1]\n",
    "])\n",
    "covar = np.array([\n",
    "    np.eye(2) , np.eye(2)\n",
    "])\n",
    "responsibilities = np.random.uniform(0, 1, size=(N, K))\n",
    "responsibilities =responsibilities / np.sum(responsibilities, axis=1)[:,np.newaxis]\n",
    "\n",
    "# expectation\n",
    "for j in range(K):\n",
    "    responsibilities[:, j] = pi[j] * multivariate_normal.pdf(X, mu[j], covar[j])\n",
    "responsibilities =responsibilities / np.sum(responsibilities, axis=1)[:,np.newaxis]\n",
    "\n",
    "# maximization\n",
    "for j in range(K):\n",
    "    N_K = np.sum(responsibilities, axis=0)[j]\n",
    "    pi[j] = N_K/N\n",
    "    mu[j] = (responsibilities[:,j].T@X)/N_K\n",
    "    covar[j] = ((responsibilities[:,j] * ((X - mu[j]).T)) @ (X - mu[j])) / N_K\n",
    "\n",
    "print(\"responsibilities\", responsibilities)\n",
    "print(\"pi\", pi)\n",
    "print(\"mu\", mu)\n",
    "print(\"covar-matrix\", covar)"
   ]
  },
  {
   "cell_type": "code",
   "execution_count": null,
   "metadata": {},
   "outputs": [],
   "source": []
  }
 ],
 "metadata": {
  "kernelspec": {
   "display_name": "ml_lab_venv",
   "language": "python",
   "name": "python3"
  },
  "language_info": {
   "codemirror_mode": {
    "name": "ipython",
    "version": 3
   },
   "file_extension": ".py",
   "mimetype": "text/x-python",
   "name": "python",
   "nbconvert_exporter": "python",
   "pygments_lexer": "ipython3",
   "version": "3.11.3"
  }
 },
 "nbformat": 4,
 "nbformat_minor": 2
}
