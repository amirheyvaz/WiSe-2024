{
 "cells": [
  {
   "cell_type": "markdown",
   "id": "3af2be66",
   "metadata": {},
   "source": [
    "Task 4"
   ]
  },
  {
   "cell_type": "code",
   "execution_count": 2,
   "id": "23a13475",
   "metadata": {},
   "outputs": [],
   "source": [
    "import numpy as np\n",
    "import pandas as pd\n",
    "import matplotlib.pyplot as plt\n",
    "import random\n",
    "from pprint import pprint"
   ]
  },
  {
   "cell_type": "code",
   "execution_count": 3,
   "id": "0ea02420",
   "metadata": {},
   "outputs": [],
   "source": [
    "%matplotlib inline\n"
   ]
  },
  {
   "cell_type": "code",
   "execution_count": 4,
   "id": "74de2fb5",
   "metadata": {},
   "outputs": [],
   "source": [
    "def data_split(df, train_size):\n",
    "    df = df.sample(frac=1)\n",
    "    train_df = df.head(train_size)\n",
    "    test_df = df.tail(len(df) - train_size)\n",
    "    return train_df, test_df"
   ]
  },
  {
   "cell_type": "code",
   "execution_count": 5,
   "id": "70c2099b",
   "metadata": {},
   "outputs": [],
   "source": [
    "df = pd.read_csv(\"data_banknote_authentication.txt\", names=['variance','skewness','kurtosis','entropy','class'])\n",
    "# Make sure you always put the last column name as \"label\" as it is used by the algorithm\n",
    "df = df.rename(columns={\"class\": \"label\"})"
   ]
  },
  {
   "cell_type": "code",
   "execution_count": 6,
   "id": "aa1d8b43",
   "metadata": {},
   "outputs": [],
   "source": [
    "train_df, test_df = data_split(df, 1000)"
   ]
  },
  {
   "cell_type": "code",
   "execution_count": 7,
   "id": "69cdfb64",
   "metadata": {},
   "outputs": [
    {
     "data": {
      "text/html": [
       "<div>\n",
       "<style scoped>\n",
       "    .dataframe tbody tr th:only-of-type {\n",
       "        vertical-align: middle;\n",
       "    }\n",
       "\n",
       "    .dataframe tbody tr th {\n",
       "        vertical-align: top;\n",
       "    }\n",
       "\n",
       "    .dataframe thead th {\n",
       "        text-align: right;\n",
       "    }\n",
       "</style>\n",
       "<table border=\"1\" class=\"dataframe\">\n",
       "  <thead>\n",
       "    <tr style=\"text-align: right;\">\n",
       "      <th></th>\n",
       "      <th>variance</th>\n",
       "      <th>skewness</th>\n",
       "      <th>kurtosis</th>\n",
       "      <th>entropy</th>\n",
       "      <th>label</th>\n",
       "    </tr>\n",
       "  </thead>\n",
       "  <tbody>\n",
       "    <tr>\n",
       "      <th>1180</th>\n",
       "      <td>-2.21830</td>\n",
       "      <td>-1.2540</td>\n",
       "      <td>2.99860</td>\n",
       "      <td>0.36378</td>\n",
       "      <td>1</td>\n",
       "    </tr>\n",
       "    <tr>\n",
       "      <th>231</th>\n",
       "      <td>-2.33610</td>\n",
       "      <td>11.9604</td>\n",
       "      <td>3.08350</td>\n",
       "      <td>-5.44350</td>\n",
       "      <td>0</td>\n",
       "    </tr>\n",
       "    <tr>\n",
       "      <th>314</th>\n",
       "      <td>1.18110</td>\n",
       "      <td>8.3847</td>\n",
       "      <td>-2.05670</td>\n",
       "      <td>-0.90345</td>\n",
       "      <td>0</td>\n",
       "    </tr>\n",
       "    <tr>\n",
       "      <th>4</th>\n",
       "      <td>0.32924</td>\n",
       "      <td>-4.4552</td>\n",
       "      <td>4.57180</td>\n",
       "      <td>-0.98880</td>\n",
       "      <td>0</td>\n",
       "    </tr>\n",
       "    <tr>\n",
       "      <th>1021</th>\n",
       "      <td>-1.27920</td>\n",
       "      <td>2.1376</td>\n",
       "      <td>-0.47584</td>\n",
       "      <td>-1.39740</td>\n",
       "      <td>1</td>\n",
       "    </tr>\n",
       "  </tbody>\n",
       "</table>\n",
       "</div>"
      ],
      "text/plain": [
       "      variance  skewness  kurtosis  entropy  label\n",
       "1180  -2.21830   -1.2540   2.99860  0.36378      1\n",
       "231   -2.33610   11.9604   3.08350 -5.44350      0\n",
       "314    1.18110    8.3847  -2.05670 -0.90345      0\n",
       "4      0.32924   -4.4552   4.57180 -0.98880      0\n",
       "1021  -1.27920    2.1376  -0.47584 -1.39740      1"
      ]
     },
     "execution_count": 7,
     "metadata": {},
     "output_type": "execute_result"
    }
   ],
   "source": [
    "train_df[:5]"
   ]
  },
  {
   "cell_type": "code",
   "execution_count": 9,
   "id": "2af22421",
   "metadata": {},
   "outputs": [],
   "source": [
    "def check_if_unique_class(data):\n",
    "    # This function returns True if data contains only one unique class\n",
    "    label_column = data[:, -1]\n",
    "    unique_classes = np.unique(label_column)\n",
    "\n",
    "    if len(unique_classes) == 1:\n",
    "        return True\n",
    "    else:\n",
    "        return False"
   ]
  },
  {
   "cell_type": "code",
   "execution_count": 10,
   "id": "ba7b4ff8",
   "metadata": {},
   "outputs": [],
   "source": [
    "def unique_classes(data):\n",
    "    # This function does simply return unique classes in the data\n",
    "    label_column = data[:, -1]\n",
    "    unique_classes, counts_unique_classes = np.unique(label_column, return_counts=True)\n",
    "\n",
    "    index = counts_unique_classes.argmax()\n",
    "    classification = unique_classes[index]\n",
    "    \n",
    "    return classification"
   ]
  },
  {
   "cell_type": "code",
   "execution_count": 11,
   "id": "c67680cd",
   "metadata": {},
   "outputs": [],
   "source": [
    "def get_potential_splits(data):\n",
    "    # Get all potential splits for all the columns of the data\n",
    "    potential_splits = {}\n",
    "    _, n_columns = data.shape\n",
    "    for column_index in range(n_columns - 1):        # excluding the last column which is the label\n",
    "        potential_splits[column_index] = []\n",
    "        values = data[:, column_index]\n",
    "        unique_values = np.unique(values)\n",
    "\n",
    "        for index in range(len(unique_values)):\n",
    "            if index != 0:\n",
    "                current_value = unique_values[index]\n",
    "                previous_value = unique_values[index - 1]\n",
    "                potential_split = (current_value + previous_value) / 2\n",
    "                \n",
    "                potential_splits[column_index].append(potential_split)\n",
    "    \n",
    "    return potential_splits"
   ]
  },
  {
   "cell_type": "code",
   "execution_count": 12,
   "id": "b391bc1c",
   "metadata": {},
   "outputs": [],
   "source": [
    "def split_data(data, split_column, split_value):\n",
    "    # This function is useful in the splitting of a node given a feature attribute and the split value\n",
    "    split_column_values = data[:, split_column]\n",
    "\n",
    "    data_below = data[split_column_values <= split_value]\n",
    "    data_above = data[split_column_values >  split_value]\n",
    "    \n",
    "    return data_below, data_above"
   ]
  },
  {
   "cell_type": "code",
   "execution_count": 13,
   "id": "74e782c9",
   "metadata": {},
   "outputs": [],
   "source": [
    "def compute_entropy(data):\n",
    "    # This function computes the entropy of the label column\n",
    "    label_column = data[:, -1]\n",
    "    _, counts = np.unique(label_column, return_counts=True)\n",
    "\n",
    "    probabilities = counts / counts.sum()\n",
    "    entropy = sum(probabilities * -np.log2(probabilities))\n",
    "\n",
    "    return entropy"
   ]
  },
  {
   "cell_type": "code",
   "execution_count": 14,
   "id": "59e376ca",
   "metadata": {},
   "outputs": [],
   "source": [
    "def calculate_split_entropy(data_below, data_above):\n",
    "    # This function computes the split entropy given the data going into the left and the right nodes\n",
    "    n = len(data_below) + len(data_above)\n",
    "    p_data_below = len(data_below) / n\n",
    "    p_data_above = len(data_above) / n\n",
    "\n",
    "    overall_entropy =  (p_data_below * compute_entropy(data_below) \n",
    "                      + p_data_above * compute_entropy(data_above))\n",
    "    \n",
    "    return overall_entropy"
   ]
  },
  {
   "cell_type": "code",
   "execution_count": 15,
   "id": "4b2b93b7",
   "metadata": {},
   "outputs": [],
   "source": [
    "def determine_best_split(data, potential_splits):\n",
    "    IG=float('inf')\n",
    "    for column,splits in potential_splits.items():\n",
    "        for threshold in splits:\n",
    "            leftData,rightData=split_data(data,column,threshold)\n",
    "            currIG=calculate_split_entropy(leftData,rightData)\n",
    "            if currIG<=IG:\n",
    "                bestCol=column\n",
    "                bestVal=threshold\n",
    "                IG=currIG\n",
    "    return bestCol,bestVal"
   ]
  },
  {
   "cell_type": "code",
   "execution_count": 16,
   "id": "418a4d9d",
   "metadata": {},
   "outputs": [],
   "source": [
    "def dtree(df, counter=0):\n",
    "    # This function implements a basic tree algorithm. It returns the learnt tree as a dictionary.\n",
    "    # The keys of the dictionary are of the form X<=Y, where X is the index of the column used for splitting and Y is the split value.\n",
    "    # data preparations\n",
    "    if counter == 0:\n",
    "        data = df.values\n",
    "        global COLUMN_HEADERS, FEATURE_TYPES\n",
    "        COLUMN_HEADERS = df.columns\n",
    "    else:\n",
    "        data = df           \n",
    "    \n",
    "    \n",
    "    # base cases\n",
    "    if check_if_unique_class(data):\n",
    "        classification = unique_classes(data)\n",
    "        return classification\n",
    "\n",
    "    \n",
    "    # recursive part\n",
    "    else:    \n",
    "        counter += 1\n",
    "\n",
    "        # helper functions \n",
    "        potential_splits = get_potential_splits(data)\n",
    "        split_column, split_value = determine_best_split(data, potential_splits)\n",
    "        data_below, data_above = split_data(data, split_column, split_value)\n",
    "        \n",
    "        # instantiate sub-tree\n",
    "        feature_name = COLUMN_HEADERS[split_column]\n",
    "        question = \"{} <= {}\".format(feature_name, split_value)\n",
    "        sub_tree = {question: []}\n",
    "        \n",
    "        # find answers (recursion)\n",
    "        yes_answer = dtree(data_below, counter)\n",
    "        no_answer = dtree(data_above, counter)\n",
    "        \n",
    "        sub_tree[question].append(yes_answer)\n",
    "        sub_tree[question].append(no_answer)\n",
    "        \n",
    "        return sub_tree"
   ]
  },
  {
   "cell_type": "code",
   "execution_count": 21,
   "id": "cd1a2fae",
   "metadata": {},
   "outputs": [],
   "source": [
    "treeBank = dtree(train_df)"
   ]
  },
  {
   "cell_type": "code",
   "execution_count": 22,
   "id": "06d46f04",
   "metadata": {},
   "outputs": [
    {
     "name": "stdout",
     "output_type": "stream",
     "text": [
      "{'variance <= 0.7602949999999999': [{'skewness <= 6.8193': [{'variance <= -0.462635': [{'kurtosis <= 6.21865': [1.0,\n",
      "                                                                                                                {'skewness <= -4.72105': [1.0,\n",
      "                                                                                                                                          0.0]}]},\n",
      "                                                                                       {'kurtosis <= 0.34073': [{'skewness <= 5.73915': [1.0,\n",
      "                                                                                                                                         0.0]},\n",
      "                                                                                                                {'entropy <= 0.72843': [{'kurtosis <= 0.972205': [{'entropy <= -0.073935': [0.0,\n",
      "                                                                                                                                                                                            1.0]},\n",
      "                                                                                                                                                                  0.0]},\n",
      "                                                                                                                                        {'kurtosis <= 6.2508': [1.0,\n",
      "                                                                                                                                                                0.0]}]}]}]},\n",
      "                                                            {'variance <= -4.3819': [1.0,\n",
      "                                                                                     0.0]}]},\n",
      "                                    {'kurtosis <= -1.8648': [{'skewness <= 5.07075': [{'variance <= 3.4798': [1.0,\n",
      "                                                                                                              0.0]},\n",
      "                                                                                      0.0]},\n",
      "                                                             0.0]}]}\n"
     ]
    }
   ],
   "source": [
    "pprint(treeBank)"
   ]
  },
  {
   "cell_type": "code",
   "execution_count": 19,
   "id": "296b04e9",
   "metadata": {},
   "outputs": [],
   "source": [
    "def predict_example(example, tree):\n",
    "    # This function makes predictions for a single row of a pandas dataframe\n",
    "    # tree is just a root node\n",
    "    if not isinstance(tree, dict):\n",
    "        return tree\n",
    "    \n",
    "    question = list(tree.keys())[0]\n",
    "    feature_name, comparison_operator, value = question.split(\" \")\n",
    "\n",
    "    # ask question\n",
    "    if comparison_operator == \"<=\":\n",
    "        if example[feature_name] <= float(value):\n",
    "            answer = tree[question][0]\n",
    "        else:\n",
    "            answer = tree[question][1]\n",
    "    \n",
    "    # feature is categorical\n",
    "    else:\n",
    "        if str(example[feature_name]) == value:\n",
    "            answer = tree[question][0]\n",
    "        else:\n",
    "            answer = tree[question][1]\n",
    "\n",
    "    # base case\n",
    "    if not isinstance(answer, dict):\n",
    "        return answer\n",
    "    \n",
    "    # recursive part\n",
    "    else:\n",
    "        residual_tree = answer\n",
    "        return predict_example(example, residual_tree)"
   ]
  },
  {
   "cell_type": "code",
   "execution_count": 20,
   "id": "aba66d1d",
   "metadata": {},
   "outputs": [],
   "source": [
    "def make_predictions(df, tree):\n",
    "    # This uses pandas apply function to make predictions for the complete dataframe\n",
    "    if len(df) != 0:\n",
    "        predictions = df.apply(predict_example, args=(tree,), axis=1)\n",
    "    else:\n",
    "        # \"df.apply()\"\" with empty dataframe returns an empty dataframe,\n",
    "        # but \"predictions\" should be a series instead\n",
    "        predictions = pd.Series()\n",
    "        \n",
    "    return predictions"
   ]
  },
  {
   "cell_type": "code",
   "execution_count": 23,
   "id": "f412f9e8",
   "metadata": {},
   "outputs": [
    {
     "name": "stdout",
     "output_type": "stream",
     "text": [
      "Accuracy obtained on the bank dataset using given algorithm is: 0.99\n"
     ]
    }
   ],
   "source": [
    "from sklearn import tree\n",
    "model=tree.DecisionTreeClassifier()\n",
    "predict_bank=make_predictions(test_df, treeBank)\n",
    "ytest=test_df['label'].values\n",
    "bank_accuracy=(ytest==predict_bank).mean()\n",
    "print('Accuracy obtained on the bank dataset using given algorithm is: %0.2f'%bank_accuracy)"
   ]
  },
  {
   "cell_type": "code",
   "execution_count": 24,
   "id": "86a7e2be",
   "metadata": {},
   "outputs": [
    {
     "name": "stdout",
     "output_type": "stream",
     "text": [
      "Accuracy obtained on the bank dataset using scitkit learn is: 0.99\n"
     ]
    }
   ],
   "source": [
    "Xtrain=train_df.values[:,:-1]\n",
    "Ytrain=train_df.values[:,-1]\n",
    "Xtest=test_df.values[:,:-1]\n",
    "Ytest=test_df.values[:,-1]\n",
    "bank=model.fit(Xtrain,Ytrain)\n",
    "predSK=model.predict(Xtest)\n",
    "SKaccur=(predSK==Ytest).mean()\n",
    "print('Accuracy obtained on the bank dataset using scitkit learn is: %0.2f'%SKaccur)"
   ]
  },
  {
   "cell_type": "markdown",
   "id": "8c02a9cd",
   "metadata": {},
   "source": [
    "Iris Dataset"
   ]
  },
  {
   "cell_type": "code",
   "execution_count": 25,
   "id": "a2e3709e",
   "metadata": {},
   "outputs": [
    {
     "data": {
      "text/html": [
       "<div>\n",
       "<style scoped>\n",
       "    .dataframe tbody tr th:only-of-type {\n",
       "        vertical-align: middle;\n",
       "    }\n",
       "\n",
       "    .dataframe tbody tr th {\n",
       "        vertical-align: top;\n",
       "    }\n",
       "\n",
       "    .dataframe thead th {\n",
       "        text-align: right;\n",
       "    }\n",
       "</style>\n",
       "<table border=\"1\" class=\"dataframe\">\n",
       "  <thead>\n",
       "    <tr style=\"text-align: right;\">\n",
       "      <th></th>\n",
       "      <th>sepal_length</th>\n",
       "      <th>sepal_width</th>\n",
       "      <th>petal_length</th>\n",
       "      <th>petal_width</th>\n",
       "      <th>label</th>\n",
       "    </tr>\n",
       "  </thead>\n",
       "  <tbody>\n",
       "    <tr>\n",
       "      <th>1</th>\n",
       "      <td>5.1</td>\n",
       "      <td>3.5</td>\n",
       "      <td>1.4</td>\n",
       "      <td>0.2</td>\n",
       "      <td>Iris-setosa</td>\n",
       "    </tr>\n",
       "    <tr>\n",
       "      <th>2</th>\n",
       "      <td>4.9</td>\n",
       "      <td>3.0</td>\n",
       "      <td>1.4</td>\n",
       "      <td>0.2</td>\n",
       "      <td>Iris-setosa</td>\n",
       "    </tr>\n",
       "    <tr>\n",
       "      <th>3</th>\n",
       "      <td>4.7</td>\n",
       "      <td>3.2</td>\n",
       "      <td>1.3</td>\n",
       "      <td>0.2</td>\n",
       "      <td>Iris-setosa</td>\n",
       "    </tr>\n",
       "    <tr>\n",
       "      <th>4</th>\n",
       "      <td>4.6</td>\n",
       "      <td>3.1</td>\n",
       "      <td>1.5</td>\n",
       "      <td>0.2</td>\n",
       "      <td>Iris-setosa</td>\n",
       "    </tr>\n",
       "    <tr>\n",
       "      <th>5</th>\n",
       "      <td>5.0</td>\n",
       "      <td>3.6</td>\n",
       "      <td>1.4</td>\n",
       "      <td>0.2</td>\n",
       "      <td>Iris-setosa</td>\n",
       "    </tr>\n",
       "  </tbody>\n",
       "</table>\n",
       "</div>"
      ],
      "text/plain": [
       "   sepal_length  sepal_width  petal_length  petal_width        label\n",
       "1           5.1          3.5           1.4          0.2  Iris-setosa\n",
       "2           4.9          3.0           1.4          0.2  Iris-setosa\n",
       "3           4.7          3.2           1.3          0.2  Iris-setosa\n",
       "4           4.6          3.1           1.5          0.2  Iris-setosa\n",
       "5           5.0          3.6           1.4          0.2  Iris-setosa"
      ]
     },
     "execution_count": 25,
     "metadata": {},
     "output_type": "execute_result"
    }
   ],
   "source": [
    "col_names = ['sepal_length', 'sepal_width', 'petal_length', 'petal_width', 'type']\n",
    "iris = pd.read_csv(\"iris.csv\", skiprows=1, header=None, names=col_names)\n",
    "iris= iris.rename(columns={\"type\": \"label\"})\n",
    "iris.head()"
   ]
  },
  {
   "cell_type": "code",
   "execution_count": 27,
   "id": "dd6f7a18",
   "metadata": {},
   "outputs": [
    {
     "name": "stdout",
     "output_type": "stream",
     "text": [
      "{'petal_width <= 0.8': ['Iris-setosa',\n",
      "                        {'petal_width <= 1.75': [{'petal_length <= 5.05': ['Iris-versicolor',\n",
      "                                                                           {'sepal_width <= 2.75': ['Iris-versicolor',\n",
      "                                                                                                    'Iris-virginica']}]},\n",
      "                                                 {'petal_length <= 4.85': [{'sepal_width <= 3.0': ['Iris-virginica',\n",
      "                                                                                                   'Iris-versicolor']},\n",
      "                                                                           'Iris-virginica']}]}]}\n"
     ]
    }
   ],
   "source": [
    "train, test = data_split(iris, 105)\n",
    "treeIris = dtree(train)\n",
    "pprint(treeIris)"
   ]
  },
  {
   "cell_type": "code",
   "execution_count": 28,
   "id": "100998fe",
   "metadata": {},
   "outputs": [
    {
     "name": "stdout",
     "output_type": "stream",
     "text": [
      "Accuracy obtained on the iris dataset using given algorithm is: 0.93\n"
     ]
    }
   ],
   "source": [
    "predict_iris=make_predictions(test,treeIris)\n",
    "ytestI=test['label'].values\n",
    "iris_accuracy=(ytestI==predict_iris).mean()\n",
    "print('Accuracy obtained on the iris dataset using given algorithm is: %0.2f'%iris_accuracy)"
   ]
  },
  {
   "cell_type": "code",
   "execution_count": 29,
   "id": "57cb06ad",
   "metadata": {},
   "outputs": [
    {
     "name": "stdout",
     "output_type": "stream",
     "text": [
      "Accuracy obtained on the iris dataset using scitkit learn is: 0.91\n"
     ]
    }
   ],
   "source": [
    "model=tree.DecisionTreeClassifier()\n",
    "XtrainI=train.values[:,:-1]\n",
    "YtrainI=train.values[:,-1]\n",
    "XtestI=test.values[:,:-1]\n",
    "YtestI=test.values[:,-1]\n",
    "iris=model.fit(XtrainI,YtrainI)\n",
    "predISK=model.predict(XtestI)\n",
    "SKaccurI=(predISK==YtestI).mean()\n",
    "print('Accuracy obtained on the iris dataset using scitkit learn is: %0.2f'%SKaccurI)"
   ]
  },
  {
   "cell_type": "markdown",
   "id": "018a70e5",
   "metadata": {},
   "source": [
    "By default scikit learn uses the Gini Index as quality criteria, but here we are using information gain. For the bank dataset, the results were the same, but for the iris dataset, entrophy (which we used here), seems like a better option; cause it gave more accuracy."
   ]
  }
 ],
 "metadata": {
  "kernelspec": {
   "display_name": "Python 3 (ipykernel)",
   "language": "python",
   "name": "python3"
  },
  "language_info": {
   "codemirror_mode": {
    "name": "ipython",
    "version": 3
   },
   "file_extension": ".py",
   "mimetype": "text/x-python",
   "name": "python",
   "nbconvert_exporter": "python",
   "pygments_lexer": "ipython3",
   "version": "3.11.3"
  }
 },
 "nbformat": 4,
 "nbformat_minor": 5
}
