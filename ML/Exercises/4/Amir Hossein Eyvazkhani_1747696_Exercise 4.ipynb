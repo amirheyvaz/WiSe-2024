{
 "cells": [
  {
   "cell_type": "code",
   "execution_count": 3,
   "metadata": {},
   "outputs": [],
   "source": [
    "import numpy as np\n",
    "from sklearn.datasets import fetch_california_housing\n",
    "from sklearn.linear_model import LinearRegression\n",
    "from sklearn.metrics import mean_squared_error\n"
   ]
  },
  {
   "cell_type": "markdown",
   "metadata": {},
   "source": [
    "<h3>Task 1</h3>\n",
    "<h5>Part a)</h5>\n",
    "\n",
    "<p>The formulas are taken from the slides</p>\n",
    "\n",
    "<img src='1a.png' width=\"50%\" height=\"50%\" />\n",
    "<img src='1a_2.png' width=\"50%\" height=\"50%\" />"
   ]
  },
  {
   "cell_type": "code",
   "execution_count": 2,
   "metadata": {},
   "outputs": [
    {
     "name": "stdout",
     "output_type": "stream",
     "text": [
      "n_1: 3\n",
      "n_2: 3\n",
      "pi_1: 0.5\n",
      "pi_2: 0.5\n",
      "Mu_1: [2.66666667 2.33333333]\n",
      "Mu_2: [1.33333333 3.66666667]\n",
      "covariance matrix 1: [[0.22222222 0.11111111]\n",
      " [0.11111111 0.22222222]]\n",
      "covariance matrix 2: [[0.22222222 0.11111111]\n",
      " [0.11111111 0.22222222]]\n"
     ]
    }
   ],
   "source": [
    "x = np.array(\n",
    "    [\n",
    "        [1, 3],\n",
    "        [2, 4],\n",
    "        [1, 4],\n",
    "        [2, 2],\n",
    "        [3, 3],\n",
    "        [3, 2]\n",
    "    ]\n",
    ")\n",
    "y = np.array(\n",
    "    [\n",
    "        [2], [2], [2], [1], [1], [1]\n",
    "    ]\n",
    ")\n",
    "# parameters\n",
    "n_1 = len([value[0] for value in y if value[0] == 1])\n",
    "n_2 = len([value[0] for value in y if value[0] == 2])\n",
    "N = y.shape[0]\n",
    "pi_1 = n_1/N\n",
    "pi_2 = n_2/N\n",
    "Mu_1 = np.mean(\n",
    "    [value for index, value in enumerate(x) if y[index,0] == 1], axis=0\n",
    ")\n",
    "Mu_2 = np.mean(\n",
    "    [value for index, value in enumerate(x) if y[index,0] == 2], axis=0\n",
    ")\n",
    "covar_matrix_1 = np.mean(\n",
    "    [((value - Mu_1).reshape((len(value), 1)))@((value - Mu_1).reshape((len(value), 1))).T for index, value in enumerate(x) if y[index,0] == 1]\n",
    "    , axis=0)\n",
    "covar_matrix_2 = np.mean(\n",
    "    [((value - Mu_2).reshape((len(value), 1)))@((value - Mu_2).reshape((len(value), 1))).T for index, value in enumerate(x) if y[index,0] == 2]\n",
    "    , axis=0)\n",
    "print(f'n_1: {n_1}')\n",
    "print(f'n_2: {n_2}')\n",
    "print(f'pi_1: {pi_1}')\n",
    "print(f'pi_2: {pi_2}')\n",
    "print(f'Mu_1: {Mu_1}')\n",
    "print(f'Mu_2: {Mu_2}')\n",
    "print(f'covariance matrix 1: {covar_matrix_1}')\n",
    "print(f'covariance matrix 2: {covar_matrix_2}')"
   ]
  },
  {
   "cell_type": "markdown",
   "metadata": {},
   "source": [
    "<h4>Part b)</h5>"
   ]
  },
  {
   "cell_type": "code",
   "execution_count": 8,
   "metadata": {},
   "outputs": [
    {
     "name": "stdout",
     "output_type": "stream",
     "text": [
      "The predicted class is: 1\n"
     ]
    }
   ],
   "source": [
    "X = np.array([[1.5, 3]])\n",
    "\n",
    "decision_function_class1 = -0.5 * np.log(np.linalg.det(covar_matrix_1)) - \\\n",
    "                                   0.5 * np.sum(np.dot((X - Mu_1), np.linalg.inv(covar_matrix_1)) * (X - Mu_1), axis=1) + \\\n",
    "                    np.log(pi_1)\n",
    "\n",
    "decision_function_class2 = -0.5 * np.log(np.linalg.det(covar_matrix_2)) - \\\n",
    "                                   0.5 * np.sum(np.dot((X - Mu_2), np.linalg.inv(covar_matrix_2)) * (X - Mu_2), axis=1) + \\\n",
    "                    np.log(pi_2)\n",
    "\n",
    "predictions = (decision_function_class1 > decision_function_class2).astype(int) + 1\n",
    "\n",
    "print(f'The predicted class is: {predictions[0]}')"
   ]
  },
  {
   "cell_type": "markdown",
   "metadata": {},
   "source": [
    "<h3>Task 3</h3>\n",
    "<h5>Part a)</h5>"
   ]
  },
  {
   "cell_type": "code",
   "execution_count": 6,
   "metadata": {},
   "outputs": [
    {
     "name": "stdout",
     "output_type": "stream",
     "text": [
      "Train loss with sklearn: 0.5257192588422376\n",
      "Test loss with sklearn: 0.5308531303306663\n"
     ]
    }
   ],
   "source": [
    "np.random.seed(123)\n",
    "dataset = fetch_california_housing()\n",
    "Xdata = dataset[\"data\"]\n",
    "Ydata = dataset[\"target\"]\n",
    "N, M = Xdata.shape\n",
    "# Split into training and validation sets\n",
    "ridx = np.random.permutation(N)\n",
    "split = int(0.8*N)\n",
    "Xtrain = Xdata[ridx[:split]]\n",
    "Ytrain = Ydata[ridx[:split]]\n",
    "Xvalid = Xdata[ridx[split:]]\n",
    "Yvalid = Ydata[ridx[split:]]\n",
    "reg = LinearRegression().fit(Xtrain, Ytrain) # fit model\n",
    "intcp = reg.intercept_ # get intercept\n",
    "coefs = reg.coef_ # get coefficients\n",
    "# Get Predictions for training and validation sets\n",
    "pred_train = reg.predict(Xtrain)\n",
    "pred_val = reg.predict(Xvalid)\n",
    "# Calculate Loss on training and validation sets\n",
    "train_loss = mean_squared_error(pred_train, Ytrain)\n",
    "val_loss = mean_squared_error(pred_val, Yvalid)\n",
    "print(f'Train loss with sklearn: {train_loss}')\n",
    "print(f'Test loss with sklearn: {val_loss}')"
   ]
  },
  {
   "cell_type": "code",
   "execution_count": 9,
   "metadata": {},
   "outputs": [
    {
     "name": "stdout",
     "output_type": "stream",
     "text": [
      "Train loss with regression: 0.5257192588422377\n",
      "Test loss with regression: 0.530853130330998\n"
     ]
    }
   ],
   "source": [
    "class regression:\n",
    "    def __init__(self, x, y, x_valid, y_valid):\n",
    "        self.x = np.column_stack((x, np.ones(len(x))))\n",
    "        self.y = y\n",
    "        self.x_valid = np.column_stack((x_valid, np.ones(len(x_valid))))\n",
    "        self.y_valid = y_valid\n",
    "        self.theta = None\n",
    "\n",
    "    def fit(self):\n",
    "        A = self.x.T @ self.x\n",
    "        B = self.x.T @ self.y\n",
    "        self.theta = np.linalg.lstsq(A, B, rcond=None)[0]\n",
    "\n",
    "    def predict(self, data):\n",
    "        return data@self.theta\n",
    "    \n",
    "    def validate(self):\n",
    "        self.train_error = mean_squared_error(\n",
    "            self.predict(self.x), self.y\n",
    "        )\n",
    "        self.valid_error = mean_squared_error(\n",
    "            self.predict(self.x_valid), self.y_valid\n",
    "        )\n",
    "\n",
    "    def print_results(self):\n",
    "        print(f'Train loss with regression: {self.train_error}')\n",
    "        print(f'Test loss with regression: {self.valid_error}')\n",
    "        \n",
    "\n",
    "reg = regression(Xtrain, Ytrain, Xvalid, Yvalid)\n",
    "reg.fit()\n",
    "reg.validate()\n",
    "reg.print_results()"
   ]
  },
  {
   "cell_type": "markdown",
   "metadata": {},
   "source": [
    "They match the results from sklearn"
   ]
  },
  {
   "cell_type": "markdown",
   "metadata": {},
   "source": [
    "<h5>Part b)</h5>"
   ]
  },
  {
   "cell_type": "code",
   "execution_count": 10,
   "metadata": {},
   "outputs": [],
   "source": [
    "def forward_search():\n",
    "    selected_variables = []\n",
    "    remaining_variables = list(range(Xtrain.shape[1]))\n",
    "    while remaining_variables:\n",
    "        best_variable = None\n",
    "        best_loss = float('inf')\n",
    "        best_train_loss = None # just for printing as the question wanted\n",
    "        for variable in remaining_variables:\n",
    "            selected_vars = selected_variables + [variable]\n",
    "            model = regression(Xtrain[:, selected_vars], Ytrain, Xvalid[:, selected_vars], Yvalid)\n",
    "            model.fit()\n",
    "            model.validate()\n",
    "            loss_val = model.valid_error\n",
    "            if loss_val < best_loss:\n",
    "                best_loss = loss_val\n",
    "                best_variable = variable\n",
    "                best_train_loss = model.train_error\n",
    "        selected_variables.append(best_variable)\n",
    "        remaining_variables.remove(best_variable)\n",
    "\n",
    "        print(f\"Selected variables: {selected_variables}\")\n",
    "        print(f\"Training loss: {best_train_loss}\")\n",
    "        print(f\"Validation loss: {best_loss}\")\n",
    "        print(\"\\n\")"
   ]
  },
  {
   "cell_type": "code",
   "execution_count": 11,
   "metadata": {},
   "outputs": [
    {
     "name": "stdout",
     "output_type": "stream",
     "text": [
      "Selected variables: [0]\n",
      "Training loss: 0.7057142611240419\n",
      "Validation loss: 0.6828174174305537\n",
      "\n",
      "\n",
      "Selected variables: [0, 1]\n",
      "Training loss: 0.6565408330102636\n",
      "Validation loss: 0.6421602037629112\n",
      "\n",
      "\n",
      "Selected variables: [0, 1, 6]\n",
      "Training loss: 0.6454676255374441\n",
      "Validation loss: 0.6327294459135423\n",
      "\n",
      "\n",
      "Selected variables: [0, 1, 6, 7]\n",
      "Training loss: 0.5412654842398897\n",
      "Validation loss: 0.5379723120836373\n",
      "\n",
      "\n",
      "Selected variables: [0, 1, 6, 7, 3]\n",
      "Training loss: 0.5356213901380866\n",
      "Validation loss: 0.5284987345411443\n",
      "\n",
      "\n",
      "Selected variables: [0, 1, 6, 7, 3, 2]\n",
      "Training loss: 0.5277066774799533\n",
      "Validation loss: 0.5191577098527762\n",
      "\n",
      "\n",
      "Selected variables: [0, 1, 6, 7, 3, 2, 4]\n",
      "Training loss: 0.5275119429508665\n",
      "Validation loss: 0.5198925555672947\n",
      "\n",
      "\n",
      "Selected variables: [0, 1, 6, 7, 3, 2, 4, 5]\n",
      "Training loss: 0.5257192588422377\n",
      "Validation loss: 0.5308531303309508\n",
      "\n",
      "\n"
     ]
    }
   ],
   "source": [
    "forward_search()"
   ]
  },
  {
   "cell_type": "code",
   "execution_count": 19,
   "metadata": {},
   "outputs": [],
   "source": [
    "def backward_search():\n",
    "    selected_variables = list(range(Xtrain.shape[1]))\n",
    "\n",
    "    while len(selected_variables) > 1:\n",
    "        best_variable = None\n",
    "        best_loss = float('inf')\n",
    "        best_train_loss = None # just for printing as the question wanted\n",
    "        for variable in selected_variables:\n",
    "            remaining_vars = selected_variables.copy()\n",
    "            remaining_vars.remove(variable)\n",
    "            model = regression(Xtrain[:, remaining_vars], Ytrain, Xvalid[:, remaining_vars], Yvalid)\n",
    "            model.fit()\n",
    "            model.validate()\n",
    "            loss_val = model.valid_error\n",
    "\n",
    "            if loss_val < best_loss:\n",
    "                best_loss = loss_val\n",
    "                best_variable = variable\n",
    "                best_train_loss = model.train_error\n",
    "\n",
    "        selected_variables.remove(best_variable)\n",
    "\n",
    "        print(f\"Selected variables: {selected_variables}\")\n",
    "        print(f\"Training loss: {best_train_loss}\")\n",
    "        print(f\"Validation loss: {best_loss}\")\n",
    "        print(\"\\n\")"
   ]
  },
  {
   "cell_type": "code",
   "execution_count": 20,
   "metadata": {},
   "outputs": [
    {
     "name": "stdout",
     "output_type": "stream",
     "text": [
      "Selected variables: [0, 1, 2, 3, 4, 6, 7]\n",
      "Training loss: 0.5275119429508663\n",
      "Validation loss: 0.5198925555672468\n",
      "\n",
      "\n",
      "Selected variables: [0, 1, 2, 3, 6, 7]\n",
      "Training loss: 0.5277066774799533\n",
      "Validation loss: 0.5191577098527814\n",
      "\n",
      "\n",
      "Selected variables: [0, 1, 3, 6, 7]\n",
      "Training loss: 0.5356213901380866\n",
      "Validation loss: 0.5284987345411519\n",
      "\n",
      "\n",
      "Selected variables: [0, 1, 6, 7]\n",
      "Training loss: 0.5412654842398897\n",
      "Validation loss: 0.5379723120836373\n",
      "\n",
      "\n",
      "Selected variables: [0, 6, 7]\n",
      "Training loss: 0.5552242366588557\n",
      "Validation loss: 0.5470577783938771\n",
      "\n",
      "\n",
      "Selected variables: [0, 6]\n",
      "Training loss: 0.6948452870930405\n",
      "Validation loss: 0.6729338841159962\n",
      "\n",
      "\n",
      "Selected variables: [0]\n",
      "Training loss: 0.7057142611240419\n",
      "Validation loss: 0.6828174174305537\n",
      "\n",
      "\n"
     ]
    }
   ],
   "source": [
    "backward_search()"
   ]
  },
  {
   "cell_type": "code",
   "execution_count": null,
   "metadata": {},
   "outputs": [],
   "source": []
  }
 ],
 "metadata": {
  "kernelspec": {
   "display_name": "ml_lab_venv",
   "language": "python",
   "name": "python3"
  },
  "language_info": {
   "codemirror_mode": {
    "name": "ipython",
    "version": 3
   },
   "file_extension": ".py",
   "mimetype": "text/x-python",
   "name": "python",
   "nbconvert_exporter": "python",
   "pygments_lexer": "ipython3",
   "version": "3.11.3"
  }
 },
 "nbformat": 4,
 "nbformat_minor": 2
}
