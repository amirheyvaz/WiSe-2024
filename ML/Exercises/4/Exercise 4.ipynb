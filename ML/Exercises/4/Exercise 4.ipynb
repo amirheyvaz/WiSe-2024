{
 "cells": [
  {
   "cell_type": "code",
   "execution_count": 2,
   "metadata": {},
   "outputs": [],
   "source": [
    "import numpy as np\n"
   ]
  },
  {
   "cell_type": "markdown",
   "metadata": {},
   "source": [
    "<h3>Task 1</h3>\n",
    "<h5>Part a</h5>\n",
    "\n",
    "<p>The formulas are taken from the slides</p>\n",
    "\n",
    "<img src='1a.png' width=\"50%\" height=\"50%\" />\n",
    "<img src='1a_2.png' width=\"50%\" height=\"50%\" />"
   ]
  },
  {
   "cell_type": "code",
   "execution_count": 30,
   "metadata": {},
   "outputs": [
    {
     "name": "stdout",
     "output_type": "stream",
     "text": [
      "n_1: 3\n",
      "n_2: 3\n",
      "pi_1: 0.5\n",
      "pi_2: 0.5\n",
      "Mu_1: [2.66666667 2.33333333]\n",
      "Mu_2: [1.33333333 3.66666667]\n",
      "covariance matrix 1: [[0.22222222 0.11111111]\n",
      " [0.11111111 0.22222222]]\n",
      "covariance matrix 2: [[0.22222222 0.11111111]\n",
      " [0.11111111 0.22222222]]\n"
     ]
    }
   ],
   "source": [
    "x = np.array(\n",
    "    [\n",
    "        [1, 3],\n",
    "        [2, 4],\n",
    "        [1, 4],\n",
    "        [2, 2],\n",
    "        [3, 3],\n",
    "        [3, 2]\n",
    "    ]\n",
    ")\n",
    "y = np.array(\n",
    "    [\n",
    "        [2], [2], [2], [1], [1], [1]\n",
    "    ]\n",
    ")\n",
    "# parameters\n",
    "n_1 = len([value[0] for value in y if value[0] == 1])\n",
    "n_2 = len([value[0] for value in y if value[0] == 2])\n",
    "N = y.shape[0]\n",
    "pi_1 = n_1/N\n",
    "pi_2 = n_2/N\n",
    "Mu_1 = np.mean(\n",
    "    [value for index, value in enumerate(x) if y[index,0] == 1], axis=0\n",
    ")\n",
    "Mu_2 = np.mean(\n",
    "    [value for index, value in enumerate(x) if y[index,0] == 2], axis=0\n",
    ")\n",
    "covar_matrix_1 = np.mean(\n",
    "    [((value - Mu_1).reshape((len(value), 1)))@((value - Mu_1).reshape((len(value), 1))).T for index, value in enumerate(x) if y[index,0] == 1]\n",
    "    , axis=0)\n",
    "covar_matrix_2 = np.mean(\n",
    "    [((value - Mu_2).reshape((len(value), 1)))@((value - Mu_2).reshape((len(value), 1))).T for index, value in enumerate(x) if y[index,0] == 2]\n",
    "    , axis=0)\n",
    "print(f'n_1: {n_1}')\n",
    "print(f'n_2: {n_2}')\n",
    "print(f'pi_1: {pi_1}')\n",
    "print(f'pi_2: {pi_2}')\n",
    "print(f'Mu_1: {Mu_1}')\n",
    "print(f'Mu_2: {Mu_2}')\n",
    "print(f'covariance matrix 1: {covar_matrix_1}')\n",
    "print(f'covariance matrix 2: {covar_matrix_2}')"
   ]
  },
  {
   "cell_type": "code",
   "execution_count": null,
   "metadata": {},
   "outputs": [],
   "source": []
  },
  {
   "cell_type": "code",
   "execution_count": null,
   "metadata": {},
   "outputs": [],
   "source": []
  }
 ],
 "metadata": {
  "kernelspec": {
   "display_name": "ml_lab_venv",
   "language": "python",
   "name": "python3"
  },
  "language_info": {
   "codemirror_mode": {
    "name": "ipython",
    "version": 3
   },
   "file_extension": ".py",
   "mimetype": "text/x-python",
   "name": "python",
   "nbconvert_exporter": "python",
   "pygments_lexer": "ipython3",
   "version": "3.11.3"
  }
 },
 "nbformat": 4,
 "nbformat_minor": 2
}
